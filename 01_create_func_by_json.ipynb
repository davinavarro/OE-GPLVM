{
 "cells": [
  {
   "cell_type": "code",
   "execution_count": 1,
   "id": "e09e5814-b8f2-49ce-8796-60a2e5c495e5",
   "metadata": {},
   "outputs": [],
   "source": [
    "import json\n",
    "with open(\"experiments.json\", \"r\") as file:\n",
    "    experiments = json.load(file)"
   ]
  },
  {
   "cell_type": "code",
   "execution_count": 2,
   "id": "4176e7a8-18a8-4ab5-97b2-1f2d7f494359",
   "metadata": {
    "tags": []
   },
   "outputs": [
    {
     "data": {
      "text/plain": [
       "[{'dataset': '01_ALOI',\n",
       "  'kernel': 'rbf',\n",
       "  'batch_size': '128',\n",
       "  'learning_rate': '0.01',\n",
       "  'loss': 'normal',\n",
       "  'activation': 'relu',\n",
       "  'labeled_anomalies': '0.05',\n",
       "  'noise_type': 'global',\n",
       "  'layers': '5,5',\n",
       "  'n_epochs': '5000',\n",
       "  'latent_dim': 13},\n",
       " {'dataset': '01_ALOI',\n",
       "  'kernel': 'rbf',\n",
       "  'batch_size': '128',\n",
       "  'learning_rate': '0.01',\n",
       "  'loss': 'normal',\n",
       "  'activation': 'relu',\n",
       "  'labeled_anomalies': '0.05',\n",
       "  'noise_type': 'global',\n",
       "  'layers': '10,10',\n",
       "  'n_epochs': '5000',\n",
       "  'latent_dim': 13}]"
      ]
     },
     "execution_count": 2,
     "metadata": {},
     "output_type": "execute_result"
    }
   ],
   "source": [
    "experiments[:2]"
   ]
  },
  {
   "cell_type": "code",
   "execution_count": null,
   "id": "dc3a5a9c-ec0c-414a-ae35-edd632acdc5b",
   "metadata": {},
   "outputs": [],
   "source": [
    "def create_func(experiment):\n",
    "    pass"
   ]
  }
 ],
 "metadata": {
  "kernelspec": {
   "display_name": "Python 3 (ipykernel)",
   "language": "python",
   "name": "python3"
  },
  "language_info": {
   "codemirror_mode": {
    "name": "ipython",
    "version": 3
   },
   "file_extension": ".py",
   "mimetype": "text/x-python",
   "name": "python",
   "nbconvert_exporter": "python",
   "pygments_lexer": "ipython3",
   "version": "3.10.10"
  }
 },
 "nbformat": 4,
 "nbformat_minor": 5
}
