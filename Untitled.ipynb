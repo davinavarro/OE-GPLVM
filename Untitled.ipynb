{
 "cells": [
  {
   "cell_type": "code",
   "execution_count": 7,
   "id": "f4110f34-3e7e-4b49-a60f-5f958dce88e6",
   "metadata": {
    "tags": []
   },
   "outputs": [],
   "source": [
    "from baseline.OE_GPLVM.new_aeb_gplvm import *\n",
    "from utils.data_generator import DataGenerator\n",
    "from utils.myutils import Utils\n",
    "\n",
    "datagenerator = DataGenerator()  # data generator\n",
    "utils = Utils()  # utils function\n",
    "from tqdm import trange\n",
    "from sklearn.preprocessing import StandardScaler, MinMaxScaler\n",
    "import matplotlib.pyplot as plt\n",
    "import random\n",
    "\n",
    "random.seed(42)"
   ]
  },
  {
   "cell_type": "code",
   "execution_count": 2,
   "id": "f8ed2ff2-67d0-4deb-b596-bd1bb37c4cbc",
   "metadata": {},
   "outputs": [
    {
     "name": "stdout",
     "output_type": "stream",
     "text": [
      "current noise type: None\n",
      "{'Samples': 7200, 'Features': 6, 'Anomalies': 534, 'Anomalies Ratio(%)': 7.42}\n"
     ]
    }
   ],
   "source": [
    "# dataset and model list / dict\n",
    "dataset_list = [\n",
    "    \"01_ALOI\",\n",
    "    \"02_annthyroid\",\n",
    "    \"03_backdoor\",\n",
    "    \"04_breastw\",\n",
    "    \"05_campaign\",\n",
    "    \"06_cardio\",\n",
    "    \"07_Cardiotocography\",\n",
    "    \"08_celeba\",\n",
    "    \"09_census\",\n",
    "    \"99_linear\",\n",
    "    \"99_circles\",\n",
    "    \"99_moons\",\n",
    "    \"99_clusters\",\n",
    "    \"99_oilflow\",\n",
    "]\n",
    "dataset = dataset_list[1]\n",
    "datagenerator.dataset = dataset\n",
    "\n",
    "data = datagenerator.generator(\n",
    "    la=0.999,\n",
    "    realistic_synthetic_mode=None,\n",
    "    stdscale=True,\n",
    "    minmax=False,\n",
    "    noise_type=None,\n",
    ")\n",
    "\n",
    "Y_train = torch.tensor(data[\"X_train\"], dtype=torch.float32)\n",
    "Y_test = torch.tensor(data[\"X_test\"], dtype=torch.float32)\n",
    "lb_train = torch.tensor(data[\"y_train\"], dtype=torch.float32)\n",
    "lb_test = torch.tensor(data[\"y_test\"], dtype=torch.float32)\n",
    "idx_n = np.where(lb_train == 0)[0]\n",
    "Y_train = Y_train[idx_n]\n",
    "lb_train = lb_train[idx_n]"
   ]
  },
  {
   "cell_type": "code",
   "execution_count": 3,
   "id": "6e469986-2093-41f4-a249-b006ad69794f",
   "metadata": {},
   "outputs": [],
   "source": [
    "n_train = len(Y_train)\n",
    "data_dim = Y_train.shape[1]\n",
    "latent_dim = 3\n",
    "n_inducing = 50\n",
    "n_epochs = 5000\n",
    "nn_layers = 10, 10\n",
    "lr = 0.01\n",
    "batch_size = 128"
   ]
  },
  {
   "cell_type": "code",
   "execution_count": 4,
   "id": "e453cb21-06b6-43f4-a911-2d17d71c32c1",
   "metadata": {},
   "outputs": [
    {
     "name": "stderr",
     "output_type": "stream",
     "text": [
      "Loss: 5.93, iter no: 4999: 100%|██████████| 5000/5000 [01:39<00:00, 50.48it/s] \n"
     ]
    }
   ],
   "source": [
    "loss_list = []\n",
    "\n",
    "X_prior_mean = torch.zeros(n_train, latent_dim)\n",
    "X_prior_covar = torch.eye(X_prior_mean.shape[1])\n",
    "prior_x = MultivariateNormalPrior(X_prior_mean, X_prior_covar)\n",
    "\n",
    "encoder = NN_Encoder(n_train, latent_dim, prior_x, data_dim, nn_layers)\n",
    "\n",
    "model = GP_Decoder(\n",
    "    n_train,\n",
    "    data_dim,\n",
    "    latent_dim,\n",
    "    n_inducing,\n",
    "    encoder,\n",
    "    nn_layers,\n",
    ")\n",
    "\n",
    "likelihood = GaussianLikelihood()\n",
    "\n",
    "optimizer = torch.optim.Adam(\n",
    "    [\n",
    "        {\"params\": model.parameters()},\n",
    "        {\"params\": likelihood.parameters()},\n",
    "    ],\n",
    "    lr,\n",
    ")\n",
    "\n",
    "elbo = VariationalELBO(likelihood, model, num_data=len(Y_train))\n",
    "model.train()\n",
    "\n",
    "iterator = trange(n_epochs, leave=True)\n",
    "\n",
    "for i in iterator:\n",
    "    batch_index = model._get_batch_idx(batch_size)\n",
    "    optimizer.zero_grad()\n",
    "    sample = model.sample_latent_variable(Y_train)\n",
    "    sample_batch = sample[batch_index]\n",
    "    output_batch = model(sample_batch)\n",
    "    loss = -elbo(output_batch, Y_train[batch_index].T).sum()\n",
    "    loss_list.append(loss.item())\n",
    "    iterator.set_description(\n",
    "        \"Loss: \" + str(float(np.round(loss.item(), 2))) + \", iter no: \" + str(i)\n",
    "    )\n",
    "    loss.backward()\n",
    "    optimizer.step()"
   ]
  },
  {
   "cell_type": "code",
   "execution_count": 10,
   "id": "20777b53-f7d5-49ab-8442-4034f3fdcfe0",
   "metadata": {
    "tags": []
   },
   "outputs": [
    {
     "data": {
      "text/plain": [
       "{'aucroc': 0.7253125, 'aucpr': 0.29082790103563444}"
      ]
     },
     "execution_count": 10,
     "metadata": {},
     "output_type": "execute_result"
    }
   ],
   "source": [
    "with torch.no_grad():\n",
    "    model.eval()\n",
    "    likelihood.eval()\n",
    "\n",
    "\n",
    "def create_dist_qx(model, batch_target):\n",
    "    mu = model.predict_latent(batch_target)[0]\n",
    "    sigma = model.predict_latent(batch_target)[1]\n",
    "    local_q_x = MultivariateNormal(mu, sigma)\n",
    "    return mu, sigma, local_q_x\n",
    "\n",
    "\n",
    "def create_dist_px(\n",
    "    batch_target,\n",
    "    mu,\n",
    "):\n",
    "    local_p_x_mean = torch.zeros(batch_target.shape[0], mu.shape[1])\n",
    "    local_p_x_covar = torch.eye(mu.shape[1])\n",
    "    local_p_x = MultivariateNormalPrior(local_p_x_mean, local_p_x_covar)\n",
    "    return local_p_x\n",
    "\n",
    "\n",
    "def kl_divergence_variational(target):\n",
    "    ll_shape = torch.zeros_like(target.T)\n",
    "    klu = model.variational_strategy.kl_divergence().div(batch_size)\n",
    "    klu_expanded = ll_shape.T.add_(klu).sum(-1).T.div((n_train))\n",
    "    return klu_expanded\n",
    "\n",
    "\n",
    "def predict_score(X_test):\n",
    "    n_test = len(X_test)\n",
    "    mu, sigma, local_q_x = create_dist_qx(model, X_test)\n",
    "    local_p_x = create_dist_px(X_test, mu)\n",
    "    X_pred = model(model.sample_latent_variable(X_test))\n",
    "    log_likelihood = likelihood.expected_log_prob(X_test.T, X_pred).sum(0).div(n_test)\n",
    "    kl_x = kl_divergence(local_q_x, local_p_x).div(n_test)\n",
    "    kl_u = kl_divergence_variational(X_test)\n",
    "    score = -(log_likelihood - kl_u - kl_x).detach().numpy()\n",
    "    score = MinMaxScaler().fit_transform(np.reshape(score, (-1, 1)))\n",
    "    return score\n",
    "\n",
    "\n",
    "utils.metric(y_true=lb_test, y_score=predict_score(Y_test))"
   ]
  },
  {
   "cell_type": "code",
   "execution_count": 8,
   "id": "48c213c3-7ac4-41c8-b6d0-809588ff4719",
   "metadata": {},
   "outputs": [
    {
     "data": {
      "text/plain": [
       "[<matplotlib.lines.Line2D at 0x7f1dcd686860>]"
      ]
     },
     "execution_count": 8,
     "metadata": {},
     "output_type": "execute_result"
    },
    {
     "data": {
      "image/png": "[encoded data removed]",
      "text/plain": [
       "<Figure size 640x480 with 1 Axes>"
      ]
     },
     "metadata": {},
     "output_type": "display_data"
    }
   ],
   "source": [
    "plt.plot(loss_list)"
   ]
  },
  {
   "cell_type": "code",
   "execution_count": null,
   "metadata": {},
   "outputs": [],
   "source": []
  }
 ],
 "metadata": {
  "kernelspec": {
   "display_name": "Python 3 (ipykernel)",
   "language": "python",
   "name": "python3"
  },
  "language_info": {
   "codemirror_mode": {
    "name": "ipython",
    "version": 3
   },
   "file_extension": ".py",
   "mimetype": "text/x-python",
   "name": "python",
   "nbconvert_exporter": "python",
   "pygments_lexer": "ipython3",
   "version": "3.10.10"
  }
 },
 "nbformat": 4,
 "nbformat_minor": 5
}
