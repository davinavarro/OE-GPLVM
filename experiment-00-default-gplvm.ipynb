{
 "cells": [
  {
   "cell_type": "code",
   "execution_count": 1,
   "metadata": {},
   "outputs": [
    {
     "name": "stdout",
     "output_type": "stream",
     "text": [
      "Requirement already satisfied: prettytable in /opt/conda/lib/python3.10/site-packages (3.9.0)\n",
      "Requirement already satisfied: wcwidth in /opt/conda/lib/python3.10/site-packages (from prettytable) (0.2.6)\n",
      "Note: you may need to restart the kernel to use updated packages.\n"
     ]
    },
    {
     "name": "stderr",
     "output_type": "stream",
     "text": [
      "2023-09-19 20:02:05.734866: I tensorflow/core/platform/cpu_feature_guard.cc:193] This TensorFlow binary is optimized with oneAPI Deep Neural Network Library (oneDNN) to use the following CPU instructions in performance-critical operations:  SSE4.1 SSE4.2 AVX AVX2 AVX_VNNI FMA\n",
      "To enable them in other operations, rebuild TensorFlow with the appropriate compiler flags.\n",
      "2023-09-19 20:02:05.776003: I tensorflow/core/util/port.cc:104] oneDNN custom operations are on. You may see slightly different numerical results due to floating-point round-off errors from different computation orders. To turn them off, set the environment variable `TF_ENABLE_ONEDNN_OPTS=0`.\n"
     ]
    },
    {
     "name": "stdout",
     "output_type": "stream",
     "text": [
      "generating duplicate samples for dataset 99_clusters...\n",
      "current noise type: None\n",
      "{'Samples': 1000, 'Features': 2, 'Anomalies': 64, 'Anomalies Ratio(%)': 6.4}\n"
     ]
    }
   ],
   "source": [
    "%load_ext autoreload\n",
    "%autoreload 2\n",
    "%pip install prettytable\n",
    "import warnings\n",
    "import json\n",
    "\n",
    "warnings.filterwarnings(\"ignore\")\n",
    "# import the necessary package\n",
    "from baseline.OE_GPLVM.aeb_gplvm import AEB_GPLVM, NNEncoder, DataInput, DataOutput, Metrics, Parameters\n",
    "from baseline.OE_GPLVM.train import *\n",
    "from baseline.OE_GPLVM.utils import *\n",
    "from gpytorch.likelihoods import GaussianLikelihood\n",
    "from torch.distributions import kl_divergence\n",
    "from gpytorch.priors import MultivariateNormalPrior\n",
    "from utils.data_generator import DataGenerator\n",
    "from utils.myutils import Utils\n",
    "import matplotlib.pyplot as plt\n",
    "import numpy as np\n",
    "import torch\n",
    "from tqdm import trange\n",
    "plt.style.use(\"ggplot\")\n",
    "datagenerator = DataGenerator()  # data generator\n",
    "utils = Utils()  # utils function\n",
    "\n",
    "# dataset and model list / dict\n",
    "dataset_list = [\n",
    "    \"01_ALOI\",\n",
    "    \"02_annthyroid\",\n",
    "    \"03_backdoor\",\n",
    "    \"04_breastw\",\n",
    "    \"05_campaign\",\n",
    "    \"06_cardio\",\n",
    "    \"07_Cardiotocography\",\n",
    "    \"08_celeba\",\n",
    "    \"09_census\",\n",
    "    \"99_linear\",\n",
    "    \"99_circles\",\n",
    "    \"99_moons\",\n",
    "    \"99_clusters\",\n",
    "]\n",
    "dataset = dataset_list[-1]\n",
    "datagenerator.dataset = dataset\n",
    "labeled_anomalies = .1\n",
    "data = datagenerator.generator(la=labeled_anomalies, realistic_synthetic_mode=None, noise_type=None)\n",
    "\n",
    "Y_train = torch.tensor(data[\"X_train\"], dtype=torch.float32)\n",
    "Y_test = torch.tensor(data[\"X_test\"], dtype=torch.float32)\n",
    "lb_train = torch.tensor(data[\"y_train\"], dtype=torch.float32)\n",
    "lb_test = torch.tensor(data[\"y_test\"], dtype=torch.float32)\n",
    "ratio = data[\"y_test\"].sum() / data[\"y_test\"].shape[0]\n",
    "\n",
    "experiment = Experiment(\n",
    "    dataset,\n",
    "    Y_train,\n",
    "    Y_test,\n",
    "    lb_train,\n",
    "    lb_test,\n",
    "    len(Y_train),\n",
    "    Y_train.shape[-2],\n",
    "    100,\n",
    "    3,\n",
    "    50,\n",
    "    100,\n",
    "    (5, 5),\n",
    "    0.005,\n",
    "    \"loe\",\n",
    "    \"hard\",\n",
    ")\n",
    "\n",
    "N = experiment.N\n",
    "data_dim = experiment.data_dim\n",
    "latent_dim = experiment.latent_dim\n",
    "n_inducing = experiment.n_inducing\n",
    "n_epochs = experiment.n_epochs\n",
    "nn_layers = experiment.nn_layers\n",
    "lr = experiment.lr\n",
    "method = experiment.method\n",
    "elbo_type = experiment.elbo\n",
    "batch_size = experiment.batch_size\n",
    "\n",
    "#fig = plt.figure(figsize=(5, 5))\n",
    "#plt.subplot(111)\n",
    "#plt.scatter(\n",
    "#    data[\"X_train\"][:, 0][np.where(lb_train == 1)[0]],\n",
    "#    data[\"X_train\"][:, 1][np.where(lb_train == 1)[0]],\n",
    "#    label=\"Anomaly\",\n",
    "#)\n",
    "#plt.scatter(\n",
    "#    data[\"X_train\"][:, 0][np.where(lb_train == 0)[0]],\n",
    "#    data[\"X_train\"][:, 1][np.where(lb_train == 0)[0]],\n",
    "#    label=\"Normal\",\n",
    "#    alpha=0.2,\n",
    "#)\n",
    "#plt.legend()\n",
    "\n",
    "\n",
    "n_train = len(Y_train)\n",
    "data_dim = Y_train.shape[1]\n",
    "nn_layers = (5, 5)\n",
    "n_inducing = 50\n",
    "latent_dim = 2\n",
    "lr = 0.01\n",
    "X_prior_mean = torch.zeros(n_train, latent_dim)\n",
    "X_prior_covar = torch.eye(X_prior_mean.shape[1])\n",
    "prior_x = MultivariateNormalPrior(X_prior_mean, X_prior_covar)\n",
    "encoder = NNEncoder(n_train, latent_dim, prior_x, data_dim, nn_layers)\n",
    "\n",
    "model = AEB_GPLVM(\n",
    "    n_train,\n",
    "    data_dim,\n",
    "    latent_dim,\n",
    "    n_inducing,\n",
    "    encoder,\n",
    "    nn_layers,\n",
    ")\n",
    "\n",
    "likelihood = GaussianLikelihood()\n",
    "optimizer = torch.optim.Adam(\n",
    "    [\n",
    "        {\"params\": model.parameters()},\n",
    "        {\"params\": likelihood.parameters()},\n",
    "    ],\n",
    "    lr,\n",
    ")\n"
   ]
  },
  {
   "cell_type": "code",
   "execution_count": 2,
   "metadata": {},
   "outputs": [],
   "source": [
    "data_input = DataInput(\n",
    "    X_train=data[\"X_train\"].tolist(),\n",
    "    X_test=data[\"X_test\"].tolist(),\n",
    "    lb_train=data[\"y_train\"].tolist(),\n",
    "    lb_test=data[\"y_test\"].tolist(),\n",
    "    ratio=ratio,\n",
    "    labeled_anomalies=labeled_anomalies,\n",
    ")\n",
    "\n",
    "parameters = Parameters(\n",
    "    nn_layers=nn_layers,\n",
    "    nn_architeture=\"default\",\n",
    "    kernel=\"rbf\",\n",
    "    lr=0.01,\n",
    "    epoch=1000,\n",
    "    batch_size=128,\n",
    ")\n",
    "\n",
    "metrics = Metrics()\n",
    "data_output = DataOutput()"
   ]
  },
  {
   "cell_type": "code",
   "execution_count": 3,
   "metadata": {},
   "outputs": [],
   "source": [
    "def get_indices(y_train):\n",
    "    idx_a = np.where(y_train == 1)[0]\n",
    "    idx_n = np.where(y_train == 0)[0]\n",
    "    ratio = len(idx_a) / (len(idx_a) + len(idx_n))\n",
    "    qtd_anomaly = int(ratio * batch_size)\n",
    "    qtd_normal = batch_size - qtd_anomaly\n",
    "    idx_n = torch.tensor(np.random.choice(idx_n, qtd_normal, replace=True))\n",
    "\n",
    "    if qtd_anomaly == 0:\n",
    "        idx_a = torch.tensor(np.random.choice(idx_n, qtd_anomaly, replace=True))\n",
    "    else:\n",
    "        idx_a = torch.tensor(np.random.choice(idx_a, qtd_anomaly, replace=True))\n",
    "\n",
    "    batch_index = torch.cat([idx_n, idx_a])\n",
    "\n",
    "    return idx_n, idx_a, batch_index, ratio\n",
    "\n",
    "\n",
    "def get_loe_index(X, indices):\n",
    "    ll_0, klu_0, kl_0, _ = calculate_terms(X, indices)\n",
    "    score = ll_0 - kl_0\n",
    "\n",
    "    qtd_normal = int(score.shape[0] * (1 - ratio))\n",
    "    qtd_anormal = batch_size - int(score.shape[0] * (1 - ratio))\n",
    "\n",
    "    _, loe_idx_n = torch.topk(score, qtd_normal, largest=True, sorted=False)\n",
    "    _, loe_idx_a = torch.topk(score, qtd_anormal, largest=False, sorted=False)\n",
    "    return indices[loe_idx_n], indices[loe_idx_a]\n",
    "\n",
    "\n",
    "def create_dist_qx(model, batch_target):\n",
    "    mu = model.predict_latent(batch_target)[0]\n",
    "    sigma = model.predict_latent(batch_target)[1]\n",
    "    local_q_x = MultivariateNormal(mu, sigma)\n",
    "    return mu, sigma, local_q_x\n",
    "\n",
    "\n",
    "def create_dist_prior(\n",
    "    batch_target,\n",
    "    mu,\n",
    "):\n",
    "    local_p_x_mean = torch.zeros(batch_target.shape[0], mu.shape[1])\n",
    "    local_p_x_covar = torch.eye(mu.shape[1])\n",
    "    local_p_x = MultivariateNormalPrior(local_p_x_mean, local_p_x_covar)\n",
    "    return local_p_x\n",
    "\n",
    "\n",
    "def kl_divergence_variational(target):\n",
    "    ll_shape = torch.zeros_like(target.T)\n",
    "    klu = (\n",
    "        ll_shape.T.add_(model.variational_strategy.kl_divergence().div(batch_size))\n",
    "        .sum(-1)\n",
    "        .T.div((n_train))\n",
    "    )\n",
    "    return klu\n",
    "\n",
    "\n",
    "def calculate_terms(X, indices):\n",
    "    batch_target = X[indices]\n",
    "    mu, sigma, local_q_x = create_dist_qx(model, batch_target)\n",
    "    local_p_x = create_dist_prior(batch_target, mu)\n",
    "    batch_output = model(model.sample_latent_variable(batch_target))\n",
    "    log_likelihood = (\n",
    "        likelihood.expected_log_prob(batch_target.T, batch_output)\n",
    "        .sum(0)\n",
    "        .div(batch_size)\n",
    "    )\n",
    "    kl_x = kl_divergence(local_q_x, local_p_x).div(n_train)\n",
    "    kl_u = kl_divergence_variational(batch_target)\n",
    "    log_marginal = (\n",
    "        likelihood.log_marginal(batch_target.T, batch_output).sum(0).div(batch_size)\n",
    "    )\n",
    "    return log_likelihood, kl_u, kl_x, log_marginal\n",
    "\n",
    "\n",
    "def predict_score(X_test):\n",
    "    n_test = len(X_test)\n",
    "    mu, sigma, local_q_x = create_dist_qx(model, X_test)\n",
    "    local_p_x = create_dist_prior(X_test, mu)\n",
    "    X_pred = model(model.sample_latent_variable(X_test))\n",
    "    exp_log_prob = likelihood.expected_log_prob(X_test.T, X_pred)\n",
    "    log_likelihood = exp_log_prob.sum(0).div(n_test)\n",
    "    kl_x = kl_divergence(local_q_x, local_p_x).div(n_test)\n",
    "    kl_u = kl_divergence_variational(X_test)\n",
    "    score = -(log_likelihood - kl_u - kl_x).detach().numpy()\n",
    "    score = MinMaxScaler().fit_transform(np.reshape(score, (-1, 1)))\n",
    "    return score"
   ]
  },
  {
   "cell_type": "code",
   "execution_count": 4,
   "metadata": {},
   "outputs": [
    {
     "name": "stderr",
     "output_type": "stream",
     "text": [
      "Loss: -4.82, iter no: :  16%|█▌        | 1581/10000 [00:33<02:57, 47.34it/s]\n"
     ]
    },
    {
     "ename": "KeyboardInterrupt",
     "evalue": "",
     "output_type": "error",
     "traceback": [
      "\u001b[0;31m---------------------------------------------------------------------------\u001b[0m",
      "\u001b[0;31mKeyboardInterrupt\u001b[0m                         Traceback (most recent call last)",
      "\u001b[1;32m/home/jovyan/work/OE-GPLVM/experiment-00-default-gplvm.ipynb Cell 4\u001b[0m line \u001b[0;36m6\n\u001b[1;32m      <a href='vscode-notebook-cell://attached-container%2B7b22636f6e7461696e65724e616d65223a222f616666656374696f6e6174655f636c61726b65222c22637764223a22633a5c5c55736572735c5c446176695c5c446f63756d656e74735c5c4d6573747261646f2d57696e5c5c5265706f73227d/home/jovyan/work/OE-GPLVM/experiment-00-default-gplvm.ipynb#X10sdnNjb2RlLXJlbW90ZQ%3D%3D?line=3'>4</a>\u001b[0m optimizer\u001b[39m.\u001b[39mzero_grad()\n\u001b[1;32m      <a href='vscode-notebook-cell://attached-container%2B7b22636f6e7461696e65724e616d65223a222f616666656374696f6e6174655f636c61726b65222c22637764223a22633a5c5c55736572735c5c446176695c5c446f63756d656e74735c5c4d6573747261646f2d57696e5c5c5265706f73227d/home/jovyan/work/OE-GPLVM/experiment-00-default-gplvm.ipynb#X10sdnNjb2RlLXJlbW90ZQ%3D%3D?line=4'>5</a>\u001b[0m _, _, batch_index, ratio \u001b[39m=\u001b[39m get_indices(lb_train)\n\u001b[0;32m----> <a href='vscode-notebook-cell://attached-container%2B7b22636f6e7461696e65724e616d65223a222f616666656374696f6e6174655f636c61726b65222c22637764223a22633a5c5c55736572735c5c446176695c5c446f63756d656e74735c5c4d6573747261646f2d57696e5c5c5265706f73227d/home/jovyan/work/OE-GPLVM/experiment-00-default-gplvm.ipynb#X10sdnNjb2RlLXJlbW90ZQ%3D%3D?line=5'>6</a>\u001b[0m idx_n, idx_a \u001b[39m=\u001b[39m get_loe_index(Y_train, batch_index)\n\u001b[1;32m      <a href='vscode-notebook-cell://attached-container%2B7b22636f6e7461696e65724e616d65223a222f616666656374696f6e6174655f636c61726b65222c22637764223a22633a5c5c55736572735c5c446176695c5c446f63756d656e74735c5c4d6573747261646f2d57696e5c5c5265706f73227d/home/jovyan/work/OE-GPLVM/experiment-00-default-gplvm.ipynb#X10sdnNjb2RlLXJlbW90ZQ%3D%3D?line=7'>8</a>\u001b[0m ll_n, klu_n, kl_n, lm_n \u001b[39m=\u001b[39m calculate_terms(Y_train, idx_n)\n\u001b[1;32m      <a href='vscode-notebook-cell://attached-container%2B7b22636f6e7461696e65724e616d65223a222f616666656374696f6e6174655f636c61726b65222c22637764223a22633a5c5c55736572735c5c446176695c5c446f63756d656e74735c5c4d6573747261646f2d57696e5c5c5265706f73227d/home/jovyan/work/OE-GPLVM/experiment-00-default-gplvm.ipynb#X10sdnNjb2RlLXJlbW90ZQ%3D%3D?line=8'>9</a>\u001b[0m ll_a, klu_a, kl_a, lm_a \u001b[39m=\u001b[39m calculate_terms(Y_train, idx_a)\n",
      "\u001b[1;32m/home/jovyan/work/OE-GPLVM/experiment-00-default-gplvm.ipynb Cell 4\u001b[0m line \u001b[0;36m2\n\u001b[1;32m     <a href='vscode-notebook-cell://attached-container%2B7b22636f6e7461696e65724e616d65223a222f616666656374696f6e6174655f636c61726b65222c22637764223a22633a5c5c55736572735c5c446176695c5c446f63756d656e74735c5c4d6573747261646f2d57696e5c5c5265706f73227d/home/jovyan/work/OE-GPLVM/experiment-00-default-gplvm.ipynb#X10sdnNjb2RlLXJlbW90ZQ%3D%3D?line=18'>19</a>\u001b[0m \u001b[39mdef\u001b[39;00m \u001b[39mget_loe_index\u001b[39m(X, indices):\n\u001b[0;32m---> <a href='vscode-notebook-cell://attached-container%2B7b22636f6e7461696e65724e616d65223a222f616666656374696f6e6174655f636c61726b65222c22637764223a22633a5c5c55736572735c5c446176695c5c446f63756d656e74735c5c4d6573747261646f2d57696e5c5c5265706f73227d/home/jovyan/work/OE-GPLVM/experiment-00-default-gplvm.ipynb#X10sdnNjb2RlLXJlbW90ZQ%3D%3D?line=19'>20</a>\u001b[0m     ll_0, klu_0, kl_0, _ \u001b[39m=\u001b[39m calculate_terms(X, indices)\n\u001b[1;32m     <a href='vscode-notebook-cell://attached-container%2B7b22636f6e7461696e65724e616d65223a222f616666656374696f6e6174655f636c61726b65222c22637764223a22633a5c5c55736572735c5c446176695c5c446f63756d656e74735c5c4d6573747261646f2d57696e5c5c5265706f73227d/home/jovyan/work/OE-GPLVM/experiment-00-default-gplvm.ipynb#X10sdnNjb2RlLXJlbW90ZQ%3D%3D?line=20'>21</a>\u001b[0m     score \u001b[39m=\u001b[39m ll_0 \u001b[39m-\u001b[39m kl_0\n\u001b[1;32m     <a href='vscode-notebook-cell://attached-container%2B7b22636f6e7461696e65724e616d65223a222f616666656374696f6e6174655f636c61726b65222c22637764223a22633a5c5c55736572735c5c446176695c5c446f63756d656e74735c5c4d6573747261646f2d57696e5c5c5265706f73227d/home/jovyan/work/OE-GPLVM/experiment-00-default-gplvm.ipynb#X10sdnNjb2RlLXJlbW90ZQ%3D%3D?line=22'>23</a>\u001b[0m     qtd_normal \u001b[39m=\u001b[39m \u001b[39mint\u001b[39m(score\u001b[39m.\u001b[39mshape[\u001b[39m0\u001b[39m] \u001b[39m*\u001b[39m (\u001b[39m1\u001b[39m \u001b[39m-\u001b[39m ratio))\n",
      "\u001b[1;32m/home/jovyan/work/OE-GPLVM/experiment-00-default-gplvm.ipynb Cell 4\u001b[0m line \u001b[0;36m6\n\u001b[1;32m     <a href='vscode-notebook-cell://attached-container%2B7b22636f6e7461696e65724e616d65223a222f616666656374696f6e6174655f636c61726b65222c22637764223a22633a5c5c55736572735c5c446176695c5c446f63756d656e74735c5c4d6573747261646f2d57696e5c5c5265706f73227d/home/jovyan/work/OE-GPLVM/experiment-00-default-gplvm.ipynb#X10sdnNjb2RlLXJlbW90ZQ%3D%3D?line=59'>60</a>\u001b[0m mu, sigma, local_q_x \u001b[39m=\u001b[39m create_dist_qx(model, batch_target)\n\u001b[1;32m     <a href='vscode-notebook-cell://attached-container%2B7b22636f6e7461696e65724e616d65223a222f616666656374696f6e6174655f636c61726b65222c22637764223a22633a5c5c55736572735c5c446176695c5c446f63756d656e74735c5c4d6573747261646f2d57696e5c5c5265706f73227d/home/jovyan/work/OE-GPLVM/experiment-00-default-gplvm.ipynb#X10sdnNjb2RlLXJlbW90ZQ%3D%3D?line=60'>61</a>\u001b[0m local_p_x \u001b[39m=\u001b[39m create_dist_prior(batch_target, mu)\n\u001b[0;32m---> <a href='vscode-notebook-cell://attached-container%2B7b22636f6e7461696e65724e616d65223a222f616666656374696f6e6174655f636c61726b65222c22637764223a22633a5c5c55736572735c5c446176695c5c446f63756d656e74735c5c4d6573747261646f2d57696e5c5c5265706f73227d/home/jovyan/work/OE-GPLVM/experiment-00-default-gplvm.ipynb#X10sdnNjb2RlLXJlbW90ZQ%3D%3D?line=61'>62</a>\u001b[0m batch_output \u001b[39m=\u001b[39m model(model\u001b[39m.\u001b[39;49msample_latent_variable(batch_target))\n\u001b[1;32m     <a href='vscode-notebook-cell://attached-container%2B7b22636f6e7461696e65724e616d65223a222f616666656374696f6e6174655f636c61726b65222c22637764223a22633a5c5c55736572735c5c446176695c5c446f63756d656e74735c5c4d6573747261646f2d57696e5c5c5265706f73227d/home/jovyan/work/OE-GPLVM/experiment-00-default-gplvm.ipynb#X10sdnNjb2RlLXJlbW90ZQ%3D%3D?line=62'>63</a>\u001b[0m log_likelihood \u001b[39m=\u001b[39m (\n\u001b[1;32m     <a href='vscode-notebook-cell://attached-container%2B7b22636f6e7461696e65724e616d65223a222f616666656374696f6e6174655f636c61726b65222c22637764223a22633a5c5c55736572735c5c446176695c5c446f63756d656e74735c5c4d6573747261646f2d57696e5c5c5265706f73227d/home/jovyan/work/OE-GPLVM/experiment-00-default-gplvm.ipynb#X10sdnNjb2RlLXJlbW90ZQ%3D%3D?line=63'>64</a>\u001b[0m     likelihood\u001b[39m.\u001b[39mexpected_log_prob(batch_target\u001b[39m.\u001b[39mT, batch_output)\n\u001b[1;32m     <a href='vscode-notebook-cell://attached-container%2B7b22636f6e7461696e65724e616d65223a222f616666656374696f6e6174655f636c61726b65222c22637764223a22633a5c5c55736572735c5c446176695c5c446f63756d656e74735c5c4d6573747261646f2d57696e5c5c5265706f73227d/home/jovyan/work/OE-GPLVM/experiment-00-default-gplvm.ipynb#X10sdnNjb2RlLXJlbW90ZQ%3D%3D?line=64'>65</a>\u001b[0m     \u001b[39m.\u001b[39msum(\u001b[39m0\u001b[39m)\n\u001b[1;32m     <a href='vscode-notebook-cell://attached-container%2B7b22636f6e7461696e65724e616d65223a222f616666656374696f6e6174655f636c61726b65222c22637764223a22633a5c5c55736572735c5c446176695c5c446f63756d656e74735c5c4d6573747261646f2d57696e5c5c5265706f73227d/home/jovyan/work/OE-GPLVM/experiment-00-default-gplvm.ipynb#X10sdnNjb2RlLXJlbW90ZQ%3D%3D?line=65'>66</a>\u001b[0m     \u001b[39m.\u001b[39mdiv(batch_size)\n\u001b[1;32m     <a href='vscode-notebook-cell://attached-container%2B7b22636f6e7461696e65724e616d65223a222f616666656374696f6e6174655f636c61726b65222c22637764223a22633a5c5c55736572735c5c446176695c5c446f63756d656e74735c5c4d6573747261646f2d57696e5c5c5265706f73227d/home/jovyan/work/OE-GPLVM/experiment-00-default-gplvm.ipynb#X10sdnNjb2RlLXJlbW90ZQ%3D%3D?line=66'>67</a>\u001b[0m )\n\u001b[1;32m     <a href='vscode-notebook-cell://attached-container%2B7b22636f6e7461696e65724e616d65223a222f616666656374696f6e6174655f636c61726b65222c22637764223a22633a5c5c55736572735c5c446176695c5c446f63756d656e74735c5c4d6573747261646f2d57696e5c5c5265706f73227d/home/jovyan/work/OE-GPLVM/experiment-00-default-gplvm.ipynb#X10sdnNjb2RlLXJlbW90ZQ%3D%3D?line=67'>68</a>\u001b[0m kl_x \u001b[39m=\u001b[39m kl_divergence(local_q_x, local_p_x)\u001b[39m.\u001b[39mdiv(n_train)\n",
      "File \u001b[0;32m/opt/conda/lib/python3.10/site-packages/gpytorch/models/approximate_gp.py:108\u001b[0m, in \u001b[0;36mApproximateGP.__call__\u001b[0;34m(self, inputs, prior, **kwargs)\u001b[0m\n\u001b[1;32m    106\u001b[0m \u001b[39mif\u001b[39;00m inputs\u001b[39m.\u001b[39mdim() \u001b[39m==\u001b[39m \u001b[39m1\u001b[39m:\n\u001b[1;32m    107\u001b[0m     inputs \u001b[39m=\u001b[39m inputs\u001b[39m.\u001b[39munsqueeze(\u001b[39m-\u001b[39m\u001b[39m1\u001b[39m)\n\u001b[0;32m--> 108\u001b[0m \u001b[39mreturn\u001b[39;00m \u001b[39mself\u001b[39;49m\u001b[39m.\u001b[39;49mvariational_strategy(inputs, prior\u001b[39m=\u001b[39;49mprior, \u001b[39m*\u001b[39;49m\u001b[39m*\u001b[39;49mkwargs)\n",
      "File \u001b[0;32m/opt/conda/lib/python3.10/site-packages/gpytorch/variational/variational_strategy.py:246\u001b[0m, in \u001b[0;36mVariationalStrategy.__call__\u001b[0;34m(self, x, prior, **kwargs)\u001b[0m\n\u001b[1;32m    243\u001b[0m         \u001b[39m# Mark that we have updated the variational strategy\u001b[39;00m\n\u001b[1;32m    244\u001b[0m         \u001b[39mself\u001b[39m\u001b[39m.\u001b[39mupdated_strategy\u001b[39m.\u001b[39mfill_(\u001b[39mTrue\u001b[39;00m)\n\u001b[0;32m--> 246\u001b[0m \u001b[39mreturn\u001b[39;00m \u001b[39msuper\u001b[39;49m()\u001b[39m.\u001b[39;49m\u001b[39m__call__\u001b[39;49m(x, prior\u001b[39m=\u001b[39;49mprior, \u001b[39m*\u001b[39;49m\u001b[39m*\u001b[39;49mkwargs)\n",
      "File \u001b[0;32m/opt/conda/lib/python3.10/site-packages/gpytorch/variational/_variational_strategy.py:309\u001b[0m, in \u001b[0;36m_VariationalStrategy.__call__\u001b[0;34m(self, x, prior, **kwargs)\u001b[0m\n\u001b[1;32m    307\u001b[0m \u001b[39m# Get q(f)\u001b[39;00m\n\u001b[1;32m    308\u001b[0m \u001b[39mif\u001b[39;00m \u001b[39misinstance\u001b[39m(variational_dist_u, MultivariateNormal):\n\u001b[0;32m--> 309\u001b[0m     \u001b[39mreturn\u001b[39;00m \u001b[39msuper\u001b[39;49m()\u001b[39m.\u001b[39;49m\u001b[39m__call__\u001b[39;49m(\n\u001b[1;32m    310\u001b[0m         x,\n\u001b[1;32m    311\u001b[0m         inducing_points,\n\u001b[1;32m    312\u001b[0m         inducing_values\u001b[39m=\u001b[39;49mvariational_dist_u\u001b[39m.\u001b[39;49mmean,\n\u001b[1;32m    313\u001b[0m         variational_inducing_covar\u001b[39m=\u001b[39;49mvariational_dist_u\u001b[39m.\u001b[39;49mlazy_covariance_matrix,\n\u001b[1;32m    314\u001b[0m         \u001b[39m*\u001b[39;49m\u001b[39m*\u001b[39;49mkwargs,\n\u001b[1;32m    315\u001b[0m     )\n\u001b[1;32m    316\u001b[0m \u001b[39melif\u001b[39;00m \u001b[39misinstance\u001b[39m(variational_dist_u, Delta):\n\u001b[1;32m    317\u001b[0m     \u001b[39mreturn\u001b[39;00m \u001b[39msuper\u001b[39m()\u001b[39m.\u001b[39m\u001b[39m__call__\u001b[39m(\n\u001b[1;32m    318\u001b[0m         x, inducing_points, inducing_values\u001b[39m=\u001b[39mvariational_dist_u\u001b[39m.\u001b[39mmean, variational_inducing_covar\u001b[39m=\u001b[39m\u001b[39mNone\u001b[39;00m, \u001b[39m*\u001b[39m\u001b[39m*\u001b[39mkwargs\n\u001b[1;32m    319\u001b[0m     )\n",
      "File \u001b[0;32m/opt/conda/lib/python3.10/site-packages/gpytorch/module.py:30\u001b[0m, in \u001b[0;36mModule.__call__\u001b[0;34m(self, *inputs, **kwargs)\u001b[0m\n\u001b[1;32m     29\u001b[0m \u001b[39mdef\u001b[39;00m \u001b[39m__call__\u001b[39m(\u001b[39mself\u001b[39m, \u001b[39m*\u001b[39minputs, \u001b[39m*\u001b[39m\u001b[39m*\u001b[39mkwargs):\n\u001b[0;32m---> 30\u001b[0m     outputs \u001b[39m=\u001b[39m \u001b[39mself\u001b[39;49m\u001b[39m.\u001b[39;49mforward(\u001b[39m*\u001b[39;49minputs, \u001b[39m*\u001b[39;49m\u001b[39m*\u001b[39;49mkwargs)\n\u001b[1;32m     31\u001b[0m     \u001b[39mif\u001b[39;00m \u001b[39misinstance\u001b[39m(outputs, \u001b[39mlist\u001b[39m):\n\u001b[1;32m     32\u001b[0m         \u001b[39mreturn\u001b[39;00m [_validate_module_outputs(output) \u001b[39mfor\u001b[39;00m output \u001b[39min\u001b[39;00m outputs]\n",
      "File \u001b[0;32m/opt/conda/lib/python3.10/site-packages/gpytorch/variational/variational_strategy.py:199\u001b[0m, in \u001b[0;36mVariationalStrategy.forward\u001b[0;34m(self, x, inducing_points, inducing_values, variational_inducing_covar, **kwargs)\u001b[0m\n\u001b[1;32m    197\u001b[0m middle_term \u001b[39m=\u001b[39m \u001b[39mself\u001b[39m\u001b[39m.\u001b[39mprior_distribution\u001b[39m.\u001b[39mlazy_covariance_matrix\u001b[39m.\u001b[39mmul(\u001b[39m-\u001b[39m\u001b[39m1\u001b[39m)\n\u001b[1;32m    198\u001b[0m \u001b[39mif\u001b[39;00m variational_inducing_covar \u001b[39mis\u001b[39;00m \u001b[39mnot\u001b[39;00m \u001b[39mNone\u001b[39;00m:\n\u001b[0;32m--> 199\u001b[0m     middle_term \u001b[39m=\u001b[39m SumLinearOperator(variational_inducing_covar, middle_term)\n\u001b[1;32m    201\u001b[0m \u001b[39mif\u001b[39;00m trace_mode\u001b[39m.\u001b[39mon():\n\u001b[1;32m    202\u001b[0m     predictive_covar \u001b[39m=\u001b[39m (\n\u001b[1;32m    203\u001b[0m         data_data_covar\u001b[39m.\u001b[39madd_jitter(\u001b[39mself\u001b[39m\u001b[39m.\u001b[39mjitter_val)\u001b[39m.\u001b[39mto_dense()\n\u001b[1;32m    204\u001b[0m         \u001b[39m+\u001b[39m interp_term\u001b[39m.\u001b[39mtranspose(\u001b[39m-\u001b[39m\u001b[39m1\u001b[39m, \u001b[39m-\u001b[39m\u001b[39m2\u001b[39m) \u001b[39m@\u001b[39m middle_term\u001b[39m.\u001b[39mto_dense() \u001b[39m@\u001b[39m interp_term\n\u001b[1;32m    205\u001b[0m     )\n",
      "File \u001b[0;32m/opt/conda/lib/python3.10/site-packages/gpytorch/lazy/lazy_tensor.py:46\u001b[0m, in \u001b[0;36mdeprecated_lazy_tensor.<locals>.__init__\u001b[0;34m(self, *args, **kwargs)\u001b[0m\n\u001b[1;32m     43\u001b[0m     \u001b[39melse\u001b[39;00m:\n\u001b[1;32m     44\u001b[0m         new_kwargs[name] \u001b[39m=\u001b[39m val\n\u001b[0;32m---> 46\u001b[0m \u001b[39mreturn\u001b[39;00m __orig_init__(\u001b[39mself\u001b[39;49m, \u001b[39m*\u001b[39;49margs, \u001b[39m*\u001b[39;49m\u001b[39m*\u001b[39;49mnew_kwargs)\n",
      "File \u001b[0;32m/opt/conda/lib/python3.10/site-packages/linear_operator/operators/sum_linear_operator.py:17\u001b[0m, in \u001b[0;36mSumLinearOperator.__init__\u001b[0;34m(self, *linear_ops, **kwargs)\u001b[0m\n\u001b[1;32m     15\u001b[0m \u001b[39mdef\u001b[39;00m \u001b[39m__init__\u001b[39m(\u001b[39mself\u001b[39m, \u001b[39m*\u001b[39mlinear_ops, \u001b[39m*\u001b[39m\u001b[39m*\u001b[39mkwargs):\n\u001b[1;32m     16\u001b[0m     \u001b[39mtry\u001b[39;00m:\n\u001b[0;32m---> 17\u001b[0m         linear_ops \u001b[39m=\u001b[39m \u001b[39mtuple\u001b[39m(to_linear_operator(lt) \u001b[39mfor\u001b[39;00m lt \u001b[39min\u001b[39;00m linear_ops)\n\u001b[1;32m     18\u001b[0m     \u001b[39mexcept\u001b[39;00m \u001b[39mTypeError\u001b[39;00m:\n\u001b[1;32m     19\u001b[0m         \u001b[39mraise\u001b[39;00m \u001b[39mTypeError\u001b[39;00m(\u001b[39m\"\u001b[39m\u001b[39mAll arguments of a SumLinearOperator should be LinearOperators or Tensors\u001b[39m\u001b[39m\"\u001b[39m)\n",
      "\u001b[0;31mKeyboardInterrupt\u001b[0m: "
     ]
    }
   ],
   "source": [
    "model.train()\n",
    "iterator = trange(10000, leave=True)\n",
    "for i in iterator:\n",
    "    optimizer.zero_grad()\n",
    "    _, _, batch_index, ratio = get_indices(lb_train)\n",
    "    idx_n, idx_a = get_loe_index(Y_train, batch_index)\n",
    "\n",
    "    ll_n, klu_n, kl_n, lm_n = calculate_terms(Y_train, idx_n)\n",
    "    ll_a, klu_a, kl_a, lm_a = calculate_terms(Y_train, idx_a)\n",
    "    loss_normal, loss_anomaly = (ll_n - klu_n - kl_n).sum(), (ll_a - klu_a - kl_a).sum()\n",
    "    loss = -(loss_normal + loss_anomaly).sum()\n",
    "    metrics.loss_normal.append(loss_normal.detach().tolist())\n",
    "    metrics.loss_anomaly.append(loss_anomaly.detach().tolist())\n",
    "\n",
    "    loss.backward()\n",
    "    optimizer.step()\n",
    "    iterator.set_description(\n",
    "        \"Loss: \" + str(float(np.round(loss.item(), 2))) + \", iter no: \"\n",
    "    )"
   ]
  },
  {
   "cell_type": "code",
   "execution_count": 5,
   "metadata": {},
   "outputs": [],
   "source": [
    "with torch.no_grad():\n",
    "    model.eval()\n",
    "    likelihood.eval()\n",
    "\n",
    "Y_pred_mean, Y_pred_covar = model.reconstruct_y(Y_test)\n",
    "X_pred_mean, X_pred_covar = model.predict_latent(Y_test)\n",
    "\n",
    "model.get_X_mean(Y_test)\n",
    "\n",
    "\n",
    "score = predict_score(Y_test)\n",
    "lengthscale = model.covar_module.base_kernel.lengthscale"
   ]
  },
  {
   "cell_type": "code",
   "execution_count": 6,
   "metadata": {},
   "outputs": [
    {
     "data": {
      "text/plain": [
       "[0.4668159484863281, -0.6784493327140808]"
      ]
     },
     "execution_count": 6,
     "metadata": {},
     "output_type": "execute_result"
    }
   ],
   "source": [
    "model.get_X_mean(Y_test).detach().tolist()[0]"
   ]
  },
  {
   "cell_type": "code",
   "execution_count": 7,
   "metadata": {},
   "outputs": [],
   "source": [
    "data_output = DataOutput(\n",
    "    X_mean_pred= X_pred_mean.detach().tolist(),\n",
    "    X_cov_pred= X_pred_covar.detach().tolist(),\n",
    "    Y_mean_pred= Y_pred_mean.detach().tolist(),\n",
    "    Y_cov_pred= Y_pred_covar.detach().tolist(),\n",
    "    score= score.flatten().tolist(),\n",
    "    lenghtscale= lengthscale.detach().tolist()[0],\n",
    ")"
   ]
  },
  {
   "cell_type": "code",
   "execution_count": 8,
   "metadata": {},
   "outputs": [
    {
     "data": {
      "text/plain": [
       "(300, 2, 2)"
      ]
     },
     "execution_count": 8,
     "metadata": {},
     "output_type": "execute_result"
    }
   ],
   "source": [
    "np.shape(data_output.X_cov_pred)"
   ]
  },
  {
   "cell_type": "code",
   "execution_count": 9,
   "metadata": {},
   "outputs": [
    {
     "name": "stdout",
     "output_type": "stream",
     "text": [
      "tensor([[0.2672, 0.2681]], grad_fn=<MulBackward0>)\n"
     ]
    }
   ],
   "source": [
    "import matplotlib.pyplot as plt\n",
    "import torch\n",
    "\n",
    "inv_lengthscale = 1 / model.covar_module.base_kernel.lengthscale\n",
    "print(inv_lengthscale)\n",
    "\n",
    "latent_dim = model.X.latent_dim\n",
    "\n",
    "values, indices = torch.topk(\n",
    "    model.covar_module.base_kernel.lengthscale, k=2, largest=False\n",
    ")\n",
    "\n",
    "l1 = indices.numpy().flatten()[0]\n",
    "l2 = indices.numpy().flatten()[1]"
   ]
  },
  {
   "cell_type": "code",
   "execution_count": 10,
   "metadata": {},
   "outputs": [],
   "source": [
    "X_train_mean = model.get_X_mean(Y_train)\n",
    "X_train_scales = model.get_X_scales(Y_train)\n",
    "X_scales = []\n",
    "for torch_tensor in model.get_X_scales(Y_train):\n",
    "    X_scales.append(torch_tensor.tolist())\n",
    "X_scales = np.array(X_scales)"
   ]
  },
  {
   "cell_type": "code",
   "execution_count": 11,
   "metadata": {},
   "outputs": [
    {
     "data": {
      "image/png": "[encoded data removed]",
      "text/plain": [
       "<Figure size 1800x600 with 2 Axes>"
      ]
     },
     "metadata": {},
     "output_type": "display_data"
    }
   ],
   "source": [
    "colors = plt.get_cmap(\"tab10\").colors[::-1]\n",
    "plt.figure(figsize=(18, 6))\n",
    "plt.subplot(131)\n",
    "plt.title(f\"2d latent subspace [GPLVM]\", fontsize=\"small\")\n",
    "plt.xlabel(\"Latent dim 1\", fontsize=\"small\")\n",
    "plt.ylabel(\"Latent dim 2\", fontsize=\"small\")\n",
    "# Select index of the smallest lengthscales by examining model.covar_module.base_kernel.lengthscales\n",
    "for i, label in enumerate([0, 1]):\n",
    "    X_i = X_train_mean[lb_train.numpy() == label]\n",
    "    plt.scatter(X_i[:, l1], X_i[:, l2], c=[colors[i]], label=label, s=25)\n",
    "    if X_train_scales is not None:\n",
    "        scale_i = X_scales[lb_train.numpy() == label]\n",
    "        plt.errorbar(\n",
    "            X_i[:, l1],\n",
    "            X_i[:, l2],\n",
    "            xerr=scale_i[:, l1],\n",
    "            yerr=scale_i[:, l2],\n",
    "            label=label,\n",
    "            c=\"black\",\n",
    "            fmt=\"none\",\n",
    "        )\n",
    "\n",
    "plt.subplot(132)\n",
    "plt.bar(\n",
    "    np.arange(latent_dim),\n",
    "    height=inv_lengthscale.detach().numpy().flatten(),\n",
    "    color=\"teal\",\n",
    ")\n",
    "plt.title(\"Inverse Lengthscale with SE-ARD kernel\", fontsize=\"small\")\n",
    "plt.xlabel(\"Latent dims\", fontsize=\"small\")\n",
    "\n",
    "# plt.subplot(133)\n",
    "# plt.plot(losses,label='batch_size=100', color='orange')\n",
    "# plt.xlabel('Steps', fontsize='small')\n",
    "# plt.title('Neg. ELBO Loss', fontsize='small')\n",
    "\n",
    "plt.tight_layout()"
   ]
  },
  {
   "cell_type": "code",
   "execution_count": null,
   "metadata": {},
   "outputs": [],
   "source": [
    "model.save_output(Y_test)"
   ]
  },
  {
   "cell_type": "code",
   "execution_count": null,
   "metadata": {},
   "outputs": [],
   "source": [
    "model.data_output"
   ]
  },
  {
   "cell_type": "code",
   "execution_count": null,
   "metadata": {},
   "outputs": [],
   "source": []
  }
 ],
 "metadata": {
  "kernelspec": {
   "display_name": "Python 3 (ipykernel)",
   "language": "python",
   "name": "python3"
  },
  "language_info": {
   "codemirror_mode": {
    "name": "ipython",
    "version": 3
   },
   "file_extension": ".py",
   "mimetype": "text/x-python",
   "name": "python",
   "nbconvert_exporter": "python",
   "pygments_lexer": "ipython3",
   "version": "3.10.10"
  }
 },
 "nbformat": 4,
 "nbformat_minor": 4
}
