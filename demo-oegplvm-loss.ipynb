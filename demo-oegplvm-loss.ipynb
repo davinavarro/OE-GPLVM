{
 "cells": [
  {
   "cell_type": "code",
   "execution_count": null,
   "metadata": {
    "tags": []
   },
   "outputs": [],
   "source": [
    "%load_ext autoreload\n",
    "%autoreload 2\n",
    "#%pip install prettytable\n",
    "import warnings\n",
    "import json\n",
    "\n",
    "warnings.filterwarnings(\"ignore\")\n",
    "# import the necessary package\n",
    "from baseline.OE_GPLVM.aeb_gplvm import AEB_GPLVM, NNEncoder, kl_gaussian_loss_term\n",
    "#from baseline.OE_GPLVM.composed_elbo import ComposedVariationalELBO\n",
    "from baseline.OE_GPLVM.train import *\n",
    "from baseline.OE_GPLVM.utils import *\n",
    "from baseline.PyOD import PYOD\n",
    "from gpytorch.mlls import KLGaussianAddedLossTerm\n",
    "from gpytorch.distributions import MultivariateNormal\n",
    "from gpytorch.likelihoods import GaussianLikelihood\n",
    "from gpytorch.mlls import VariationalELBO, KLGaussianAddedLossTerm\n",
    "from torch.distributions import kl_divergence\n",
    "from gpytorch.priors import MultivariateNormalPrior\n",
    "from tqdm import trange\n",
    "from utils.data_generator import DataGenerator\n",
    "from utils.myutils import Utils\n",
    "import matplotlib.pyplot as plt\n",
    "import numpy as np\n",
    "import torch\n"
   ]
  },
  {
   "cell_type": "code",
   "execution_count": null,
   "metadata": {},
   "outputs": [],
   "source": [
    "plt.style.use(\"ggplot\")\n",
    "datagenerator = DataGenerator()  # data generator\n",
    "utils = Utils()  # utils function"
   ]
  },
  {
   "cell_type": "code",
   "execution_count": null,
   "metadata": {
    "tags": []
   },
   "outputs": [],
   "source": [
    "# dataset and model list / dict\n",
    "dataset_list = [\n",
    "    \"01_ALOI\",\n",
    "    \"02_annthyroid\",\n",
    "    \"03_backdoor\",\n",
    "    \"04_breastw\",\n",
    "    \"05_campaign\",\n",
    "    \"06_cardio\",\n",
    "    \"07_Cardiotocography\",\n",
    "    \"08_celeba\",\n",
    "    \"09_census\",\n",
    "    \"99_linear\",\n",
    "    \"99_circles\",\n",
    "    \"99_moons\",\n",
    "]"
   ]
  },
  {
   "cell_type": "code",
   "execution_count": null,
   "metadata": {
    "tags": []
   },
   "outputs": [],
   "source": [
    "dataset = dataset_list[-1]\n",
    "datagenerator.dataset = dataset\n",
    "data = datagenerator.generator(la=1.0, realistic_synthetic_mode=None, noise_type=None)"
   ]
  },
  {
   "cell_type": "code",
   "execution_count": null,
   "metadata": {
    "tags": []
   },
   "outputs": [],
   "source": [
    "Y_train = torch.tensor(data[\"X_train\"], dtype=torch.float32)\n",
    "Y_test = torch.tensor(data[\"X_test\"], dtype=torch.float32)\n",
    "lb_train = torch.tensor(data[\"y_train\"], dtype=torch.float32)\n",
    "lb_test = torch.tensor(data[\"y_test\"], dtype=torch.float32)"
   ]
  },
  {
   "cell_type": "code",
   "execution_count": null,
   "metadata": {},
   "outputs": [],
   "source": [
    "fig = plt.figure(figsize=(5, 5))\n",
    "plt.subplot(111)\n",
    "plt.scatter(\n",
    "    data[\"X_train\"][:, 0][np.where(lb_train == 1)[0]],\n",
    "    data[\"X_train\"][:, 1][np.where(lb_train == 1)[0]],\n",
    "    label=\"Anomaly\",\n",
    ")\n",
    "plt.scatter(\n",
    "    data[\"X_train\"][:, 0][np.where(lb_train == 0)[0]],\n",
    "    data[\"X_train\"][:, 1][np.where(lb_train == 0)[0]],\n",
    "    label=\"Normal\",\n",
    "    alpha=0.2,\n",
    ")\n",
    "plt.legend()"
   ]
  },
  {
   "cell_type": "code",
   "execution_count": null,
   "metadata": {},
   "outputs": [],
   "source": [
    "experiment = Experiment(\n",
    "    Y_train,\n",
    "    Y_test,\n",
    "    lb_train,\n",
    "    lb_test,\n",
    "    len(Y_train),\n",
    "    Y_train.shape[1],\n",
    "    200,\n",
    "    2,\n",
    "    75,\n",
    "    1600,\n",
    "    (10, 10),\n",
    "    0.001,\n",
    "    \"loe\",\n",
    "    \"hard\",\n",
    ")"
   ]
  },
  {
   "cell_type": "code",
   "execution_count": null,
   "metadata": {},
   "outputs": [],
   "source": [
    "N = experiment.N\n",
    "data_dim = experiment.data_dim\n",
    "latent_dim = experiment.latent_dim\n",
    "n_inducing = experiment.n_inducing\n",
    "n_epochs = experiment.n_epochs\n",
    "nn_layers = experiment.nn_layers\n",
    "lr = experiment.lr\n",
    "method = experiment.method\n",
    "elbo_type = experiment.elbo\n",
    "batch_size = experiment.batch_size"
   ]
  },
  {
   "cell_type": "code",
   "execution_count": null,
   "metadata": {
    "tags": []
   },
   "outputs": [],
   "source": [
    "model_dict = {}\n",
    "noise_trace_dict = {}\n",
    "loss_list = []\n",
    "noise_trace = []\n",
    "report = Reporter(experiment)\n",
    "lln_list = []\n",
    "kln_list = []\n",
    "lla_list = []\n",
    "kla_list = []\n",
    "\n",
    "X_prior_mean = torch.zeros(experiment.N, latent_dim)  # shape: N x Q\n",
    "X_prior_covar = torch.eye(X_prior_mean.shape[1])\n",
    "prior_x = MultivariateNormalPrior(X_prior_mean, X_prior_covar)\n",
    "encoder = NNEncoder(experiment.N, latent_dim, prior_x, data_dim, nn_layers)\n",
    "model = AEB_GPLVM(experiment.N, data_dim, latent_dim, n_inducing, encoder, nn_layers)\n",
    "likelihood = GaussianLikelihood()\n",
    "optimizer = torch.optim.Adam(\n",
    "    [{\"params\": model.parameters()}, {\"params\": likelihood.parameters()}], lr\n",
    ")\n",
    "elbo = VariationalELBO(likelihood, model, num_data=len(Y_train), combine_terms=False)\n",
    "\n",
    "model.train()\n",
    "iterator = trange(n_epochs, leave=True)\n",
    "for i in iterator:\n",
    "    optimizer.zero_grad()\n",
    "    idx_n, idx_a, batch_index, ratio = model._get_batch_indices(\n",
    "        batch_size, lb_train, method=method\n",
    "    )\n",
    "\n",
    "    idx_n, idx_a = get_loe_idx(\n",
    "        model, likelihood, Y_train, batch_index, train_data=experiment.N, ratio=ratio\n",
    "    )\n",
    "    target_n, target_a = Y_train[idx_n], Y_train[idx_a]\n",
    "    ll_n, kl_n = calculate_elbo(\n",
    "        model,\n",
    "        likelihood,\n",
    "        target_n,\n",
    "        num_data=experiment.N,\n",
    "        batch_size=batch_size,\n",
    "        elbo_shape=elbo_type,\n",
    "    )\n",
    "    ll_a, kl_a = calculate_elbo(\n",
    "        model,\n",
    "        likelihood,\n",
    "        target_a,\n",
    "        num_data=experiment.N,\n",
    "        batch_size=batch_size,\n",
    "        elbo_shape=elbo_type,\n",
    "    )\n",
    "    loss_normal, loss_anomaly = (ll_n - kl_n).sum(), (ll_a - kl_a).sum()\n",
    "    loss = -loss_loe(method, loss_normal, loss_anomaly).sum()\n",
    "\n",
    "    # sample = model.sample_latent_variable(Y_train)\n",
    "    # sample_batch = sample[batch_index]\n",
    "    # output_batch = model(sample_batch)\n",
    "    # ll, klu, _, klx = elbo(output_batch, Y_train[batch_index].T)\n",
    "    # loss = -(ll - klu - klx).sum()\n",
    "\n",
    "    loss_list.append(loss.item())\n",
    "    noise_trace.append(np.round(likelihood.noise_covar.noise.item(), 3))\n",
    "    if i in [0, 10, 50, 250,500,1000]:\n",
    "        report.save_elbo_terms(ll_n.sum(), kl_n.sum(), ll_a.sum(), kl_a.sum())\n",
    "        report.save_batch_info(i, idx_n, idx_a, loss.item())\n",
    "        iterator.set_description(\n",
    "            \"Loss: \" + str(float(np.round(loss.item(), 2))) + \", iter no: \"\n",
    "        )\n",
    "    loss.backward()\n",
    "    optimizer.step()\n",
    "    # if loss < -10:\n",
    "    #    break\n",
    "model.store(loss_list, likelihood)"
   ]
  },
  {
   "cell_type": "code",
   "execution_count": null,
   "metadata": {},
   "outputs": [],
   "source": [
    "report.plot_train_evolution()"
   ]
  },
  {
   "cell_type": "code",
   "execution_count": null,
   "metadata": {},
   "outputs": [],
   "source": [
    "with torch.no_grad():\n",
    "    model.eval()\n",
    "    likelihood.eval()"
   ]
  },
  {
   "cell_type": "code",
   "execution_count": null,
   "metadata": {},
   "outputs": [],
   "source": [
    "report.plot_test(model, likelihood)"
   ]
  },
  {
   "cell_type": "code",
   "execution_count": null,
   "metadata": {},
   "outputs": [],
   "source": [
    "Y_pred_mean, Y_pred_covar = model.reconstruct_y(Y_test)\n",
    "X_pred_mean, X_pred_covar = model.predict_latent(Y_test)"
   ]
  },
  {
   "cell_type": "code",
   "execution_count": null,
   "metadata": {},
   "outputs": [],
   "source": [
    "from sklearn.preprocessing import MinMaxScaler\n",
    "lln, kln = calculate_elbo(\n",
    "    model,\n",
    "    likelihood,\n",
    "    Y_test,\n",
    "    num_data=len(Y_test),\n",
    "    batch_size=len(Y_test),\n",
    "    elbo_shape=elbo_type,\n",
    ")\n",
    "score = -(lln - kln).detach().numpy()\n",
    "score = MinMaxScaler().fit_transform(np.reshape(score, (-1, 1)))\n",
    "print(utils.metric(y_true=lb_test, y_score=score))"
   ]
  },
  {
   "cell_type": "code",
   "execution_count": null,
   "metadata": {},
   "outputs": [],
   "source": []
  },
  {
   "cell_type": "code",
   "execution_count": null,
   "metadata": {},
   "outputs": [],
   "source": []
  }
 ],
 "metadata": {
  "kernelspec": {
   "display_name": "Python 3 (ipykernel)",
   "language": "python",
   "name": "python3"
  },
  "language_info": {
   "codemirror_mode": {
    "name": "ipython",
    "version": 3
   },
   "file_extension": ".py",
   "mimetype": "text/x-python",
   "name": "python",
   "nbconvert_exporter": "python",
   "pygments_lexer": "ipython3",
   "version": "3.10.10"
  }
 },
 "nbformat": 4,
 "nbformat_minor": 4
}
