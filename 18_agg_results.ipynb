{
 "cells": [
  {
   "cell_type": "code",
   "execution_count": null,
   "id": "c2d854ed-dd82-433e-8782-0690c8bb0794",
   "metadata": {
    "tags": []
   },
   "outputs": [],
   "source": [
    "import pandas as pd\n",
    "from utils.myutils import Utils\n",
    "\n",
    "%load_ext autoreload\n",
    "%autoreload 2\n",
    "utils = Utils()\n",
    "import json\n",
    "import seaborn as sns\n",
    "import matplotlib.pyplot as plt"
   ]
  },
  {
   "cell_type": "code",
   "execution_count": null,
   "id": "848f8fb6-4204-4dd9-8add-c4ddacba228b",
   "metadata": {
    "tags": []
   },
   "outputs": [],
   "source": [
    "df_base_normal = pd.read_json(\n",
    "    \"experiments/complete/gplvm/000_gplvm_normal_03_best.json\"\n",
    ")"
   ]
  },
  {
   "cell_type": "code",
   "execution_count": null,
   "id": "83c5b692-e0de-4e54-b5ed-3643a955d084",
   "metadata": {
    "tags": []
   },
   "outputs": [],
   "source": [
    "df_base_contaminated = pd.read_json(\n",
    "    \"experiments/complete/gplvm/001_gplvm_contaminated.json\"\n",
    ")"
   ]
  },
  {
   "cell_type": "code",
   "execution_count": null,
   "id": "5053a0e6-bd07-4fee-a61f-44040f7e7112",
   "metadata": {
    "tags": []
   },
   "outputs": [],
   "source": [
    "df_base_normal[[\"training_time\"]].sort_values(\"training_time\")"
   ]
  },
  {
   "cell_type": "code",
   "execution_count": null,
   "id": "d805e481-8a6b-4df3-8c43-c6726d2fd1ad",
   "metadata": {
    "tags": []
   },
   "outputs": [],
   "source": [
    "df_base_normal[[\"test_ratio\"]] = df_base_normal[[\"pct_anomaly\"]] / 100\n",
    "df_base_normal[[\"train_ratio\"]] = df_base_normal[[\"pct_anomaly\"]] / 100\n",
    "df_base_normal[[\"labeled_anomalies\"]] = 1.0\n",
    "df_base_normal[[\"method\"]] = \"ground_truth\""
   ]
  },
  {
   "cell_type": "code",
   "execution_count": null,
   "id": "75acda52-3194-4b24-9235-f1552d5cb4f1",
   "metadata": {
    "tags": []
   },
   "outputs": [],
   "source": [
    "df_base_contaminated[[\"test_ratio\"]] = df_base_contaminated[[\"pct_anomaly\"]] / 100\n",
    "df_base_contaminated[[\"train_ratio\"]] = df_base_contaminated[[\"pct_anomaly\"]] / 100\n",
    "df_base_contaminated[[\"labeled_anomalies\"]] = 0\n",
    "df_base_contaminated[[\"method\"]] = \"blind\""
   ]
  },
  {
   "cell_type": "markdown",
   "id": "2e7a3109-9d88-4930-b190-f20f861effa6",
   "metadata": {
    "tags": []
   },
   "source": [
    "# Epochs"
   ]
  },
  {
   "cell_type": "code",
   "execution_count": null,
   "id": "737ddfba-b2c0-4fcf-93b3-b5bd0ca6a157",
   "metadata": {
    "tags": []
   },
   "outputs": [],
   "source": [
    "df_epochs_0100 = pd.read_json(\n",
    "    \"experiments/complete/gplvm/002_gplvm_aucroc_normal_epoch_100.json\"\n",
    ")\n",
    "df_epochs_1000 = pd.read_json(\n",
    "    \"experiments/complete/gplvm/002_gplvm_aucroc_normal_epoch_1000.json\"\n",
    ")\n",
    "df_epochs_5000 = pd.read_json(\n",
    "    \"experiments/complete/gplvm/002_gplvm_aucroc_normal_epoch_5000.json\"\n",
    ")\n",
    "df_epochs_0100_c = pd.read_json(\n",
    "    \"experiments/complete/gplvm/002_gplvm_aucroc_contaminated_epoch_100.json\"\n",
    ")\n",
    "df_epochs_1000_c = pd.read_json(\n",
    "    \"experiments/complete/gplvm/002_gplvm_aucroc_contaminated_epoch_1000.json\"\n",
    ")\n",
    "df_epochs_5000_c = pd.read_json(\n",
    "    \"experiments/complete/gplvm/002_gplvm_aucroc_contaminated_epoch_5000.json\"\n",
    ")"
   ]
  },
  {
   "cell_type": "code",
   "execution_count": null,
   "id": "dd016dd5-7ab8-463f-975b-831f6ea17373",
   "metadata": {
    "tags": []
   },
   "outputs": [],
   "source": [
    "df_loe = utils.read_json_from_folder(\"experiments/complete/loe/\")"
   ]
  },
  {
   "cell_type": "code",
   "execution_count": null,
   "id": "25ebe8f2-806c-4a15-a0cc-f4e80baf6aa7",
   "metadata": {
    "tags": []
   },
   "outputs": [],
   "source": [
    "df_loe"
   ]
  },
  {
   "cell_type": "code",
   "execution_count": null,
   "id": "959daa20-eaa3-48cb-9a93-99d2810f634d",
   "metadata": {
    "tags": []
   },
   "outputs": [],
   "source": [
    "df_soft_100 = df_loe[(df_loe.method == \"soft\") & (df_loe.labeled_anomalies == 1.00)]\n",
    "df_refine_100 = df_loe[(df_loe.method == \"refine\") & (df_loe.labeled_anomalies == 1.00)]"
   ]
  },
  {
   "cell_type": "code",
   "execution_count": null,
   "id": "b5b976ac-6f20-4f4a-9e1c-6cb2b8e7f3b8",
   "metadata": {
    "tags": []
   },
   "outputs": [],
   "source": [
    "comparative = pd.concat(\n",
    "    [df_epochs_1000, df_soft_100[[\"dataset\", \"aucroc\"]].reset_index()], axis=1\n",
    ")\n",
    "comparative.head(5)"
   ]
  },
  {
   "cell_type": "code",
   "execution_count": null,
   "id": "536acdb3-150e-41f0-9820-510e1248a4ed",
   "metadata": {
    "tags": []
   },
   "outputs": [],
   "source": [
    "sns.set(rc={\"figure.figsize\": (10, 6)})\n",
    "\n",
    "s = sns.boxplot(\n",
    "    pd.concat(\n",
    "        [\n",
    "            # df_epochs_0100.rename(columns={\"GPLVM\": \"100_N\"}),\n",
    "            # df_epochs_0100_c.rename(columns={\"GPLVM\": \"100_C\"}),\n",
    "            df_soft_100[[\"aucroc\"]].rename(columns={\"aucroc\": \"100_C_SOFT_100\"}),\n",
    "            df_refine_100[[\"aucroc\"]].rename(columns={\"aucroc\": \"100_C_REFINE_100\"}),\n",
    "            df_epochs_1000.rename(columns={\"GPLVM\": \"1000_N\"}),\n",
    "            # df_base_normal[[\"test_auc_roc\"]].rename(columns={\"test_auc_roc\": \"1000_N0\"}),\n",
    "            df_epochs_1000_c.rename(columns={\"GPLVM\": \"1000_C\"}),\n",
    "            # df_base_contaminated[[\"test_auc_roc\"]].rename(columns={\"test_auc_roc\": \"1000_C0\"}),\n",
    "            # df_epochs_5000.rename(columns={\"GPLVM\": \"5000_N\"}),\n",
    "            # df_epochs_5000_c.rename(columns={\"GPLVM\": \"5000_C\"}),\n",
    "        ],\n",
    "        axis=1,\n",
    "    )\n",
    ")\n",
    "plt.xticks(rotation=-45)\n",
    "None"
   ]
  },
  {
   "cell_type": "code",
   "execution_count": null,
   "id": "954efb30-8088-475a-81c7-0b78214346a5",
   "metadata": {},
   "outputs": [],
   "source": [
    "# ALT VS START"
   ]
  },
  {
   "cell_type": "code",
   "execution_count": null,
   "id": "f71999d6-e3e3-4d9e-8292-f887f27c2e1c",
   "metadata": {},
   "outputs": [],
   "source": [
    "# loe_x = utils.read_json_from_folder(\"experiments/complete/loe_x/\")"
   ]
  },
  {
   "cell_type": "code",
   "execution_count": 67,
   "id": "b4032c1c-ab03-4d79-8571-6eb6c7777e4b",
   "metadata": {},
   "outputs": [],
   "source": [
    "df_soft_alt = pd.read_json(\"experiments/complete/loe_x/00_all_soft_alt_la_100.json\")\n",
    "df_hard_alt = pd.read_json(\"experiments/complete/loe_x/00_all_hard_alt_la_100.json\")\n",
    "df_soft_start = pd.read_json(\"experiments/complete/loe_x/00_all_soft_start_la_100.json\")\n",
    "df_hard_start = pd.read_json(\"experiments/complete/loe_x/00_all_hard_start_la_100.json\")\n",
    "df_soft_padrao = pd.read_json(\n",
    "    \"experiments/complete/loe_x/00_all_soft_padrao_la_100.json\"\n",
    ")\n",
    "df_hard_padrao = pd.read_json(\n",
    "    \"experiments/complete/loe_x/00_all_hard_padrao_la_100.json\"\n",
    ")\n",
    "df_refine_padrao = pd.read_json(\n",
    "    \"experiments/complete/loe_x/00_all_refine_padrao_la_100.json\"\n",
    ")\n",
    "df_blind_padrao = pd.read_json(\n",
    "    \"experiments/complete/loe_x/00_all_blind_padrao_la_100.json\"\n",
    ")"
   ]
  },
  {
   "cell_type": "code",
   "execution_count": null,
   "id": "8e5fb6e4-b3fe-44e4-bdab-5653fb68003c",
   "metadata": {},
   "outputs": [],
   "source": [
    "compare_1000 = pd.concat(\n",
    "    [df_epochs_1000_c[[\"GPLVM\"]], df_soft_alt[[\"aucroc\", \"dataset\", \"n_epochs\"]]],\n",
    "    axis=1,\n",
    ")\n",
    "compare_1000.query(\"aucroc < 0.2\")"
   ]
  },
  {
   "cell_type": "code",
   "execution_count": 80,
   "id": "4bdffcc9-82cd-4700-aaa7-57f763feb4a5",
   "metadata": {},
   "outputs": [
    {
     "data": {
      "image/png": "[encoded data removed]",
      "text/plain": [
       "<Figure size 1000x600 with 1 Axes>"
      ]
     },
     "metadata": {},
     "output_type": "display_data"
    }
   ],
   "source": [
    "sns.set(rc={\"figure.figsize\": (10, 6)})\n",
    "\n",
    "s = sns.boxplot(\n",
    "    pd.concat(\n",
    "        [\n",
    "            # df_epochs_0100.rename(columns={\"GPLVM\": \"100_N\"}),\n",
    "            # df_epochs_0100_c.rename(columns={\"GPLVM\": \"100_C\"}),\n",
    "            df_epochs_1000.rename(columns={\"GPLVM\": \"ground_truth\"}),\n",
    "            # df_epochs_1000_c.rename(columns={\"GPLVM\": \"blind\"}),\n",
    "            df_blind_padrao[[\"aucroc\"]].rename(columns={\"aucroc\": \"blind\"}),\n",
    "            # df_refine_100[[\"aucroc\"]].rename(columns={\"aucroc\": \"refine\"}),\n",
    "            # df_refine_padrao[[\"aucroc\"]].rename(columns={\"aucroc\": \"refine_1000\"}),\n",
    "            # df_soft_alt[[\"aucroc\"]].rename(columns={\"aucroc\": \"soft_alt\"}),\n",
    "            # df_refine_50[[\"aucroc\"]].rename(columns={\"aucroc\": \"refine\"}),\n",
    "            # df_hard_alt[[\"aucroc\"]].rename(columns={\"aucroc\": \"hard_alt\"}),\n",
    "            # df_soft_padrao[[\"aucroc\"]].rename(columns={\"aucroc\": \"soft_padrao\"}),\n",
    "            # df_soft_start[[\"aucroc\"]].rename(columns={\"aucroc\": \"soft_start\"}),\n",
    "            # df_hard_padrao[[\"aucroc\"]].rename(columns={\"aucroc\": \"hard_padrao\"}),\n",
    "            df_hard_start[[\"aucroc\"]].rename(columns={\"aucroc\": \"hard_start\"}),\n",
    "            # df_base_normal[[\"test_auc_roc\"]].rename(columns={\"test_auc_roc\": \"1000_N0\"}),\n",
    "            # df_base_contaminated[[\"test_auc_roc\"]].rename(columns={\"test_auc_roc\": \"1000_C0\"}),\n",
    "            # df_epochs_5000.rename(columns={\"GPLVM\": \"5000_N\"}),\n",
    "            # df_epochs_5000_c.rename(columns={\"GPLVM\": \"5000_C\"}),\n",
    "        ],\n",
    "        axis=1,\n",
    "    )\n",
    ")\n",
    "s.set_title(\"Comparação AUCROC\")\n",
    "plt.xticks(rotation=-45)\n",
    "None"
   ]
  },
  {
   "cell_type": "code",
   "execution_count": 94,
   "id": "070a024c-0470-4e43-a33b-7d9eba2ee46c",
   "metadata": {},
   "outputs": [
    {
     "data": {
      "text/plain": [
       "0.25    0.718505\n",
       "0.50    0.882748\n",
       "0.75    0.981058\n",
       "Name: GPLVM, dtype: float64"
      ]
     },
     "execution_count": 94,
     "metadata": {},
     "output_type": "execute_result"
    }
   ],
   "source": [
    "df_epochs_1000.GPLVM.quantile(q=[0.25, 0.5, 0.75])"
   ]
  },
  {
   "cell_type": "code",
   "execution_count": 96,
   "id": "e4bb92b5-2db0-4ca0-872e-eeb78c03fb26",
   "metadata": {},
   "outputs": [
    {
     "data": {
      "text/plain": [
       "0.25    0.581590\n",
       "0.50    0.711116\n",
       "0.75    0.900144\n",
       "Name: aucroc, dtype: float64"
      ]
     },
     "execution_count": 96,
     "metadata": {},
     "output_type": "execute_result"
    }
   ],
   "source": [
    "df_blind_padrao.aucroc.quantile(q=[0.25, 0.5, 0.75])"
   ]
  },
  {
   "cell_type": "code",
   "execution_count": 97,
   "id": "d103037f-1af6-4c01-a1d7-861c190f911f",
   "metadata": {},
   "outputs": [
    {
     "data": {
      "text/plain": [
       "0.25    0.621996\n",
       "0.50    0.780982\n",
       "0.75    0.899988\n",
       "Name: aucroc, dtype: float64"
      ]
     },
     "execution_count": 97,
     "metadata": {},
     "output_type": "execute_result"
    }
   ],
   "source": [
    "df_hard_start.aucroc.quantile(q=[0.25, 0.5, 0.75])"
   ]
  },
  {
   "cell_type": "code",
   "execution_count": null,
   "id": "8cb25a10-a66c-4b84-b5f7-8fd266573cf9",
   "metadata": {},
   "outputs": [],
   "source": [
    "df_epochs_1000_c_joined = pd.concat(\n",
    "    [\n",
    "        df_epochs_1000_c,\n",
    "        df_soft_100[[\"dataset\", \"train_ratio\"]].reset_index(),\n",
    "    ],\n",
    "    axis=1,\n",
    ")"
   ]
  },
  {
   "cell_type": "code",
   "execution_count": null,
   "id": "698f4f53-fc76-4872-9d6d-dabf999fe4be",
   "metadata": {},
   "outputs": [],
   "source": [
    "(\n",
    "    df_hard_start[df_hard_start.train_ratio > 0.3][[\"aucroc\"]].median(),\n",
    "    df_soft_start[df_soft_start.train_ratio > 0.3][[\"aucroc\"]].median(),\n",
    "    df_hard_alt[df_hard_start.train_ratio > 0.3][[\"aucroc\"]].median(),\n",
    "    df_soft_alt[df_soft_start.train_ratio > 0.3][[\"aucroc\"]].median(),\n",
    "    df_refine_100[df_refine_100.train_ratio > 0.3][[\"aucroc\"]].median(),\n",
    "    df_epochs_1000_c_joined[df_epochs_1000_c_joined.train_ratio > 0.3][\n",
    "        [\"GPLVM\"]\n",
    "    ].median(),\n",
    ")"
   ]
  },
  {
   "cell_type": "code",
   "execution_count": null,
   "id": "935614a2-b149-4b1d-a724-dbefec3464ed",
   "metadata": {},
   "outputs": [],
   "source": [
    "sns.set(rc={\"figure.figsize\": (10, 6)})\n",
    "\n",
    "s = sns.boxplot(\n",
    "    pd.concat(\n",
    "        [\n",
    "            # df_epochs_0100.rename(columns={\"GPLVM\": \"100_N\"}),\n",
    "            # df_epochs_0100_c.rename(columns={\"GPLVM\": \"100_C\"}),\n",
    "            # df_epochs_1000.rename(columns={\"GPLVM\": \"ground\"}),\n",
    "            # df_epochs_1000_c.rename(columns={\"GPLVM\": \"blind\"}),\n",
    "            df_soft_alt[[\"aucpr\"]].rename(columns={\"aucpr\": \"soft_alt\"}),\n",
    "            df_hard_alt[[\"aucpr\"]].rename(columns={\"aucpr\": \"hard_alt\"}),\n",
    "            df_soft_start[[\"aucpr\"]].rename(columns={\"aucpr\": \"soft_start\"}),\n",
    "            df_hard_start[[\"aucpr\"]].rename(columns={\"aucpr\": \"hard_start\"}),\n",
    "            # df_base_normal[[\"test_auc_roc\"]].rename(columns={\"test_auc_roc\": \"1000_N0\"}),\n",
    "            # df_base_contaminated[[\"test_auc_roc\"]].rename(columns={\"test_auc_roc\": \"1000_C0\"}),\n",
    "            # df_epochs_5000.rename(columns={\"GPLVM\": \"5000_N\"}),\n",
    "            # df_epochs_5000_c.rename(columns={\"GPLVM\": \"5000_C\"}),\n",
    "        ],\n",
    "        axis=1,\n",
    "    )\n",
    ")\n",
    "plt.xticks(rotation=-45)\n",
    "None"
   ]
  },
  {
   "cell_type": "code",
   "execution_count": null,
   "id": "b13a0de4-3876-4320-ad9c-818ccf43839f",
   "metadata": {},
   "outputs": [],
   "source": []
  }
 ],
 "metadata": {
  "kernelspec": {
   "display_name": "Python 3 (ipykernel)",
   "language": "python",
   "name": "python3"
  },
  "language_info": {
   "codemirror_mode": {
    "name": "ipython",
    "version": 3
   },
   "file_extension": ".py",
   "mimetype": "text/x-python",
   "name": "python",
   "nbconvert_exporter": "python",
   "pygments_lexer": "ipython3",
   "version": "3.10.10"
  }
 },
 "nbformat": 4,
 "nbformat_minor": 5
}
