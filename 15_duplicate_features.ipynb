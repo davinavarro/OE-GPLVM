{
 "cells": [
  {
   "cell_type": "code",
   "execution_count": 1,
   "metadata": {
    "ExecuteTime": {
     "end_time": "2022-07-08T07:41:53.643140Z",
     "start_time": "2022-07-08T07:41:41.552946Z"
    },
    "pycharm": {
     "name": "#%%\n"
    },
    "tags": []
   },
   "outputs": [
    {
     "name": "stderr",
     "output_type": "stream",
     "text": [
      "2023-12-05 20:33:04.415558: I tensorflow/core/platform/cpu_feature_guard.cc:193] This TensorFlow binary is optimized with oneAPI Deep Neural Network Library (oneDNN) to use the following CPU instructions in performance-critical operations:  SSE4.1 SSE4.2 AVX AVX2 AVX_VNNI FMA\n",
      "To enable them in other operations, rebuild TensorFlow with the appropriate compiler flags.\n",
      "2023-12-05 20:33:04.483995: I tensorflow/core/util/port.cc:104] oneDNN custom operations are on. You may see slightly different numerical results due to floating-point round-off errors from different computation orders. To turn them off, set the environment variable `TF_ENABLE_ONEDNN_OPTS=0`.\n"
     ]
    }
   ],
   "source": [
    "%load_ext autoreload\n",
    "%autoreload 2\n",
    "from new_aeb_gplvm import *\n",
    "import warnings\n",
    "import json\n",
    "import random\n",
    "import os\n",
    "import pandas as pd\n",
    "from sklearn.model_selection import train_test_split\n",
    "\n",
    "warnings.filterwarnings(\"ignore\")\n",
    "# import the necessary package\n",
    "from tqdm import trange\n",
    "from utils.data_generator import DataGenerator\n",
    "from utils.myutils import Utils\n",
    "import matplotlib.pyplot as plt\n",
    "import numpy as np\n",
    "import torch\n",
    "from tqdm import trange\n",
    "\n",
    "datagenerator = DataGenerator()  # data generator\n",
    "utils = Utils()  # utils function"
   ]
  },
  {
   "cell_type": "code",
   "execution_count": 2,
   "metadata": {
    "tags": []
   },
   "outputs": [],
   "source": [
    "dataset_list = os.listdir(\"datasets/Classical\")\n",
    "\n",
    "\n",
    "def fix_name(name):\n",
    "    fixed = name.replace(\".npz\", \"\")\n",
    "    return fixed\n",
    "\n",
    "\n",
    "datasets = list(map(fix_name, dataset_list))"
   ]
  },
  {
   "cell_type": "code",
   "execution_count": 3,
   "metadata": {
    "tags": []
   },
   "outputs": [],
   "source": [
    "df_hyper = pd.read_json(\"experiments/complete/gplvm/000_gplvm_normal_03_best.json\")"
   ]
  },
  {
   "cell_type": "code",
   "execution_count": 4,
   "metadata": {
    "ExecuteTime": {
     "end_time": "2022-07-08T07:41:55.627834Z",
     "start_time": "2022-07-08T07:41:53.682035Z"
    },
    "pycharm": {
     "name": "#%%\n"
    },
    "tags": []
   },
   "outputs": [],
   "source": [
    "def get_hypers(dataset):\n",
    "    hypers = df_hyper[df_hyper.dataset == dataset]\n",
    "    hp = hypers[\n",
    "        [\n",
    "            \"kernel\",\n",
    "            \"batch_size\",\n",
    "            \"learning_rate\",\n",
    "            \"latent_dim\",\n",
    "            \"layers\",\n",
    "            \"n_inducing\",\n",
    "            \"n_epochs\",\n",
    "        ]\n",
    "    ].to_dict(orient=\"records\")\n",
    "    return hp[0]"
   ]
  },
  {
   "cell_type": "code",
   "execution_count": 5,
   "metadata": {
    "ExecuteTime": {
     "end_time": "2022-07-08T07:41:55.627834Z",
     "start_time": "2022-07-08T07:41:53.682035Z"
    },
    "pycharm": {
     "name": "#%%\n"
    },
    "tags": []
   },
   "outputs": [],
   "source": [
    "from baseline.PyOD import PYOD\n",
    "\n",
    "model_dict = {\n",
    "    \"IForest\": PYOD,\n",
    "    \"KNN\": PYOD,\n",
    "    \"CBLOF\": PYOD,\n",
    "    \"PCA\": PYOD,\n",
    "    \"ECOD\": PYOD,\n",
    "    \"GPLVM\": AD_GPLVM,\n",
    "}"
   ]
  },
  {
   "cell_type": "code",
   "execution_count": null,
   "metadata": {
    "ExecuteTime": {
     "end_time": "2022-07-08T07:50:14.507244Z",
     "start_time": "2022-07-08T07:41:55.631823Z"
    },
    "pycharm": {
     "name": "#%%\n"
    },
    "tags": []
   },
   "outputs": [
    {
     "name": "stdout",
     "output_type": "stream",
     "text": [
      "subsampling for dataset 01_ALOI...\n",
      "subsampling for dataset 03_backdoor...\n",
      "generating duplicate samples for dataset 04_breastw...\n",
      "subsampling for dataset 05_campaign...\n",
      "subsampling for dataset 08_celeba...\n"
     ]
    }
   ],
   "source": [
    "# seed for reproducible results\n",
    "seed = 42\n",
    "df_AUCROC = pd.DataFrame(data=None, index=datasets, columns=model_dict.keys())\n",
    "df_AUCPR = pd.DataFrame(data=None, index=datasets, columns=model_dict.keys())\n",
    "for mode in [\"normal\", \"contaminated\"]:\n",
    "    for noise_ratio in [1, 5, 10, 25, 50]:\n",
    "        for dataset in datasets:\n",
    "            # import the dataset\n",
    "            datagenerator.dataset = dataset  # specify the dataset name\n",
    "            data = datagenerator.generator(\n",
    "                la=1.0,\n",
    "                realistic_synthetic_mode=None,\n",
    "                noise_type=\"irrelevant_features\",\n",
    "                noise_ratio=noise_ratio/100,\n",
    "                stdscale=True,\n",
    "                minmax=False,\n",
    "            )\n",
    "            ratio = data[\"y_train\"].sum() / len(data[\"y_train\"])\n",
    "            Y_train, Y_test, lb_train, lb_test = (\n",
    "                data[\"X_train\"],\n",
    "                data[\"X_test\"],\n",
    "                data[\"y_train\"],\n",
    "                data[\"y_test\"],\n",
    "            )\n",
    "\n",
    "            if mode == \"normal\":\n",
    "                idx_n = np.where(lb_train == 0)[0]\n",
    "                Y_train = Y_train[idx_n]\n",
    "                lb_train = lb_train[idx_n]\n",
    "\n",
    "            for name, clf in model_dict.items():\n",
    "                try:\n",
    "                    if name != \"GPLVM\":\n",
    "                        clf = clf(seed=seed, model_name=name)\n",
    "                        clf = clf.fit(X_train=Y_train, y_train=lb_train)\n",
    "                        score = clf.predict_score(Y_test)\n",
    "                    else:\n",
    "                        hp = get_hypers(dataset)\n",
    "                        clf = AD_GPLVM(\n",
    "                            latent_dim=hp[\"latent_dim\"],\n",
    "                            n_inducing=hp[\"n_inducing\"],\n",
    "                            n_epochs=hp[\"n_epochs\"],\n",
    "                            nn_layers=tuple(map(int, hp[\"layers\"].split(\",\"))),\n",
    "                            lr=hp[\"learning_rate\"],\n",
    "                            batch_size=hp[\"batch_size\"],\n",
    "                            kernel=hp[\"kernel\"],\n",
    "                        )\n",
    "                        clf.fit(torch.tensor(Y_train, dtype=torch.float32))\n",
    "                        score = clf.predict_score(\n",
    "                            torch.tensor(Y_test, dtype=torch.float32)\n",
    "                        )\n",
    "\n",
    "                    result = utils.metric(y_true=lb_test, y_score=score)\n",
    "\n",
    "                    # save results\n",
    "                    df_AUCROC.loc[dataset, name] = result[\"aucroc\"]\n",
    "                    df_AUCPR.loc[dataset, name] = result[\"aucpr\"]\n",
    "\n",
    "                except Exception as error:\n",
    "                    print(\"An exception occurred:\", error)\n",
    "                    df_AUCROC.loc[dataset, name] = 0.0\n",
    "                    df_AUCPR.loc[dataset, name] = 0.0\n",
    "        df_AUCROC.to_json(\n",
    "            f\"experiments/complete/adbench/irrelevant_features/ad_vs_gp_aucroc_{mode}_{noise_ratio}.json\",\n",
    "            orient=\"records\",\n",
    "        )\n",
    "        df_AUCPR.to_json(\n",
    "            f\"experiments/complete/adbench/irrelevant_features/ad_vs_gp_aucpr_{mode}_{noise_ratio}.json\",\n",
    "            orient=\"records\",\n",
    "        )"
   ]
  },
  {
   "cell_type": "code",
   "execution_count": null,
   "metadata": {
    "tags": []
   },
   "outputs": [],
   "source": [
    "# df_AUCROC.to_json(\"experiments/complete/002_adbench_vs_gplvm_aucroc_contaminated.json\", orient = \"records\")\n",
    "# df_AUCROC.to_csv(\"experiments/complete/002_adbench_vs_gplvm_aucroc_contaminated.csv\")\n",
    "# df_AUCPR.to_json(\"experiments/complete/002_adbench_vs_gplvm_aucpr_contaminated.json\", orient = \"records\")\n",
    "# df_AUCPR.to_csv(\"experiments/complete/002_adbench_vs_gplvm_aucpr_contaminated.csv\")"
   ]
  },
  {
   "cell_type": "code",
   "execution_count": null,
   "metadata": {
    "tags": []
   },
   "outputs": [],
   "source": [
    "import seaborn as sns\n",
    "\n",
    "sns.boxplot(data=df_AUCROC)\n",
    "None"
   ]
  },
  {
   "cell_type": "code",
   "execution_count": null,
   "metadata": {
    "tags": []
   },
   "outputs": [],
   "source": [
    "sns.boxplot(data=df_AUCPR)\n",
    "None"
   ]
  },
  {
   "cell_type": "code",
   "execution_count": null,
   "metadata": {
    "tags": []
   },
   "outputs": [],
   "source": [
    "df_AUCROC"
   ]
  },
  {
   "cell_type": "code",
   "execution_count": null,
   "metadata": {
    "tags": []
   },
   "outputs": [],
   "source": [
    "# df_AUCROC.reset_index().rename(columns={\"index\": \"dataset\"}).to_json(\n",
    "#    \"experiments/complete/002_adbench_auc_roc_normal_results.json\", orient=\"records\"\n",
    "# )"
   ]
  },
  {
   "cell_type": "code",
   "execution_count": null,
   "metadata": {
    "tags": []
   },
   "outputs": [],
   "source": [
    "# df_AUCPR.reset_index().rename(columns={\"index\": \"dataset\"}).to_json(\n",
    "#    \"experiments/complete/002_adbench_auc_pr_normal_results.json\", orient=\"records\"\n",
    "# )"
   ]
  }
 ],
 "metadata": {
  "kernelspec": {
   "display_name": "Python 3 (ipykernel)",
   "language": "python",
   "name": "python3"
  },
  "language_info": {
   "codemirror_mode": {
    "name": "ipython",
    "version": 3
   },
   "file_extension": ".py",
   "mimetype": "text/x-python",
   "name": "python",
   "nbconvert_exporter": "python",
   "pygments_lexer": "ipython3",
   "version": "3.10.10"
  },
  "toc": {
   "base_numbering": 1,
   "nav_menu": {},
   "number_sections": true,
   "sideBar": true,
   "skip_h1_title": false,
   "title_cell": "Table of Contents",
   "title_sidebar": "Contents",
   "toc_cell": false,
   "toc_position": {},
   "toc_section_display": true,
   "toc_window_display": false
  },
  "varInspector": {
   "cols": {
    "lenName": 16,
    "lenType": 16,
    "lenVar": 40
   },
   "kernels_config": {
    "python": {
     "delete_cmd_postfix": "",
     "delete_cmd_prefix": "del ",
     "library": "var_list.py",
     "varRefreshCmd": "print(var_dic_list())"
    },
    "r": {
     "delete_cmd_postfix": ") ",
     "delete_cmd_prefix": "rm(",
     "library": "var_list.r",
     "varRefreshCmd": "cat(var_dic_list()) "
    }
   },
   "types_to_exclude": [
    "module",
    "function",
    "builtin_function_or_method",
    "instance",
    "_Feature"
   ],
   "window_display": false
  }
 },
 "nbformat": 4,
 "nbformat_minor": 4
}
