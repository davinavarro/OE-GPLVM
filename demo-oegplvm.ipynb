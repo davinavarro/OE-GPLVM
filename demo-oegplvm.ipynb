{
 "cells": [
  {
   "cell_type": "code",
   "execution_count": 8,
   "metadata": {},
   "outputs": [
    {
     "name": "stdout",
     "output_type": "stream",
     "text": [
      "The autoreload extension is already loaded. To reload it, use:\n",
      "  %reload_ext autoreload\n",
      "Requirement already satisfied: prettytable in /opt/conda/lib/python3.10/site-packages (3.8.0)\n",
      "Requirement already satisfied: wcwidth in /opt/conda/lib/python3.10/site-packages (from prettytable) (0.2.6)\n",
      "Note: you may need to restart the kernel to use updated packages.\n"
     ]
    }
   ],
   "source": [
    "%load_ext autoreload\n",
    "%autoreload 2\n",
    "%pip install prettytable\n",
    "# import basic package\n",
    "import os\n",
    "import pandas as pd\n",
    "import warnings\n",
    "warnings.filterwarnings(\"ignore\")\n",
    "# import the necessary package\n",
    "from baseline.PyOD import PYOD\n",
    "from baseline.OE_GPLVM.aeb_gplvm import AEB_GPLVM, NNEncoder\n",
    "from gpytorch.likelihoods import GaussianLikelihood\n",
    "from gpytorch.mlls import VariationalELBO\n",
    "from gpytorch.priors import NormalPrior, MultivariateNormalPrior\n",
    "from utils.data_generator import DataGenerator\n",
    "from utils.myutils import Utils\n",
    "import torch\n",
    "import numpy as np\n",
    "from tqdm import trange\n",
    "datagenerator = DataGenerator()  # data generator\n",
    "utils = Utils()  # utils function"
   ]
  },
  {
   "cell_type": "code",
   "execution_count": 9,
   "metadata": {},
   "outputs": [],
   "source": [
    "# dataset and model list / dict\n",
    "dataset_list = [\n",
    "    \"01_ALOI\",\n",
    "    \"02_annthyroid\",\n",
    "    \"03_backdoor\",\n",
    "    \"04_breastw\",\n",
    "    \"05_campaign\",\n",
    "    \"06_cardio\",\n",
    "    \"07_Cardiotocography\",\n",
    "    \"08_celeba\",\n",
    "    \"09_census\",\n",
    "    \"99_linear\",\n",
    "]"
   ]
  },
  {
   "cell_type": "code",
   "execution_count": 10,
   "metadata": {},
   "outputs": [
    {
     "name": "stdout",
     "output_type": "stream",
     "text": [
      "current noise type: None\n",
      "{'Samples': 1831, 'Features': 21, 'Anomalies': 176, 'Anomalies Ratio(%)': 9.61}\n"
     ]
    }
   ],
   "source": [
    "dataset = dataset_list[5]\n",
    "datagenerator.dataset = dataset\n",
    "data = datagenerator.generator(la=0.1, realistic_synthetic_mode=None, noise_type=None)"
   ]
  },
  {
   "cell_type": "code",
   "execution_count": 11,
   "metadata": {},
   "outputs": [],
   "source": [
    "Y_train = torch.tensor(data[\"X_train\"], dtype=torch.float32)\n",
    "Y_test = torch.tensor(data[\"X_test\"], dtype=torch.float32)\n",
    "lb_train = torch.tensor(data[\"y_train\"], dtype=torch.float32)\n",
    "lb_test = torch.tensor(data[\"y_test\"], dtype=torch.float32)"
   ]
  },
  {
   "cell_type": "code",
   "execution_count": 13,
   "metadata": {},
   "outputs": [
    {
     "name": "stdout",
     "output_type": "stream",
     "text": [
      "Training model params for model GPLVM\n",
      "+-----------------------------------------------------------------------+------------+\n",
      "|                                Modules                                | Parameters |\n",
      "+-----------------------------------------------------------------------+------------+\n",
      "|                  variational_strategy.inducing_points                 |    300     |\n",
      "|    variational_strategy._variational_distribution.variational_mean    |    525     |\n",
      "| variational_strategy._variational_distribution.chol_variational_covar |   13125    |\n",
      "|                          X.mu_layers.0.weight                         |    210     |\n",
      "|                           X.mu_layers.0.bias                          |     10     |\n",
      "|                          X.mu_layers.1.weight                         |     50     |\n",
      "|                           X.mu_layers.1.bias                          |     5      |\n",
      "|                          X.mu_layers.2.weight                         |     60     |\n",
      "|                           X.mu_layers.2.bias                          |     12     |\n",
      "|                          X.sg_layers.0.weight                         |    1722    |\n",
      "|                           X.sg_layers.0.bias                          |     82     |\n",
      "|                          X.sg_layers.1.weight                         |    6724    |\n",
      "|                           X.sg_layers.1.bias                          |     82     |\n",
      "|                          X.sg_layers.2.weight                         |   11808    |\n",
      "|                           X.sg_layers.2.bias                          |    144     |\n",
      "|                      covar_module.raw_outputscale                     |     1      |\n",
      "|                covar_module.base_kernel.raw_lengthscale               |     12     |\n",
      "+-----------------------------------------------------------------------+------------+\n",
      "Total Trainable Params: 34872\n"
     ]
    },
    {
     "name": "stderr",
     "output_type": "stream",
     "text": [
      "Loss: -10.97, iter no: 999: 100%|██████████| 1000/1000 [00:20<00:00, 49.00it/s]\n"
     ]
    },
    {
     "name": "stdout",
     "output_type": "stream",
     "text": [
      "tensor([[6.0292, 6.3327, 5.0857, 6.7409, 6.3645, 6.6146, 6.7276, 6.6456, 6.5102,\n",
      "         6.3207, 6.6795, 6.2869]], grad_fn=<SoftplusBackward0>)\n"
     ]
    }
   ],
   "source": [
    "model_dict = {}\n",
    "noise_trace_dict = {}\n",
    "N = len(Y_train)\n",
    "data_dim = Y_train.shape[1]\n",
    "latent_dim = 12\n",
    "n_inducing = 25\n",
    "batch_size = 100\n",
    "n_epochs = 1000\n",
    "nn_layers = (10, 5)\n",
    "lr = 0.01\n",
    "\n",
    "# Define prior for X\n",
    "X_prior_mean = torch.zeros(N, latent_dim)  # shape: N x Q\n",
    "X_prior_mean_test = X_prior_mean[0 : len(Y_test), :]\n",
    "prior_x = MultivariateNormalPrior(X_prior_mean, torch.eye(X_prior_mean.shape[1]))\n",
    "\n",
    "# Initialise model, likelihood, elbo and optimizer and latent variable encoder\n",
    "\n",
    "X = NNEncoder(N, latent_dim, prior_x, data_dim, layers=nn_layers)\n",
    "model = AEB_GPLVM(N, data_dim, latent_dim, n_inducing, X, nn_layers=nn_layers)\n",
    "likelihood = GaussianLikelihood()\n",
    "optimizer = torch.optim.Adam(\n",
    "    [{\"params\": model.parameters()}, {\"params\": likelihood.parameters()}], lr\n",
    ")\n",
    "elbo = VariationalELBO(likelihood, model, num_data=len(Y_train))\n",
    "\n",
    "# Model params\n",
    "print(f'Training model params for model {\"GPLVM\"}')\n",
    "model.get_trainable_param_names()\n",
    "\n",
    "# Training loop - optimises the objective wrt kernel hypers, variational params and inducing inputs\n",
    "# using the optimizer provided.\n",
    "\n",
    "loss_list = []\n",
    "noise_trace = []\n",
    "\n",
    "iterator = trange(n_epochs, leave=True)\n",
    "for i in iterator:\n",
    "    batch_index = model._get_batch_idx(batch_size)\n",
    "    optimizer.zero_grad()\n",
    "    sample = model.sample_latent_variable(Y_train)\n",
    "    sample_batch = sample[batch_index]\n",
    "    output_batch = model(sample_batch)\n",
    "    loss = -elbo(output_batch, Y_train[batch_index].T).sum()\n",
    "    loss_list.append(loss.item())\n",
    "    noise_trace.append(np.round(likelihood.noise_covar.noise.item(), 3))\n",
    "    iterator.set_description(\n",
    "        \"Loss: \" + str(float(np.round(loss.item(), 2))) + \", iter no: \" + str(i)\n",
    "    )\n",
    "    loss.backward()\n",
    "    optimizer.step()\n",
    "model.store(loss_list, likelihood)\n",
    "\n",
    "# Save models & training info\n",
    "\n",
    "print(model.covar_module.base_kernel.lengthscale)\n",
    "model_dict[\"GPLVM\"] = model\n",
    "noise_trace_dict[\"GPLVM\"] = noise_trace\n",
    "X_train_mean = model.get_X_mean(Y_train)\n",
    "X_train_scales = model.get_X_scales(Y_train)\n",
    "\n",
    "with torch.no_grad():\n",
    "    model.eval()\n",
    "    likelihood.eval()\n",
    "\n",
    "X_test_mean, X_test_covar = model.predict_latent(Y_test)"
   ]
  },
  {
   "cell_type": "code",
   "execution_count": null,
   "metadata": {},
   "outputs": [],
   "source": [
    "# seed for reproducible results\n",
    "seed = 42\n",
    "\n",
    "# clf = clf(seed=seed, model_name=name)\n",
    "# clf = clf.fit(X_train=data[\"X_train\"], y_train=data[\"y_train\"])\n",
    "# score = clf.predict_score(data[\"X_test\"])\n",
    "# result = utils.metric(y_true=data[\"y_test\"], y_score=score)\n",
    "# df_AUCROC.loc[dataset, name] = result[\"aucroc\"]\n",
    "# df_AUCPR.loc[dataset, name] = result[\"aucpr\"]"
   ]
  }
 ],
 "metadata": {
  "kernelspec": {
   "display_name": "base",
   "language": "python",
   "name": "python3"
  },
  "language_info": {
   "codemirror_mode": {
    "name": "ipython",
    "version": 3
   },
   "file_extension": ".py",
   "mimetype": "text/x-python",
   "name": "python",
   "nbconvert_exporter": "python",
   "pygments_lexer": "ipython3",
   "version": "3.10.10"
  },
  "orig_nbformat": 4
 },
 "nbformat": 4,
 "nbformat_minor": 2
}
