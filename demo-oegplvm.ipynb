{
 "cells": [
  {
   "cell_type": "code",
   "execution_count": 1,
   "metadata": {
    "tags": []
   },
   "outputs": [
    {
     "name": "stdout",
     "output_type": "stream",
     "text": [
      "Requirement already satisfied: prettytable in /opt/conda/lib/python3.10/site-packages (3.8.0)\n",
      "Requirement already satisfied: wcwidth in /opt/conda/lib/python3.10/site-packages (from prettytable) (0.2.6)\n",
      "Note: you may need to restart the kernel to use updated packages.\n"
     ]
    }
   ],
   "source": [
    "%load_ext autoreload\n",
    "%autoreload 2\n",
    "%pip install prettytable"
   ]
  },
  {
   "cell_type": "code",
   "execution_count": 2,
   "metadata": {
    "tags": []
   },
   "outputs": [
    {
     "name": "stderr",
     "output_type": "stream",
     "text": [
      "2023-07-10 05:50:25.072876: I tensorflow/core/platform/cpu_feature_guard.cc:193] This TensorFlow binary is optimized with oneAPI Deep Neural Network Library (oneDNN) to use the following CPU instructions in performance-critical operations:  SSE4.1 SSE4.2 AVX AVX2 AVX_VNNI FMA\n",
      "To enable them in other operations, rebuild TensorFlow with the appropriate compiler flags.\n",
      "2023-07-10 05:50:25.116906: I tensorflow/core/util/port.cc:104] oneDNN custom operations are on. You may see slightly different numerical results due to floating-point round-off errors from different computation orders. To turn them off, set the environment variable `TF_ENABLE_ONEDNN_OPTS=0`.\n"
     ]
    }
   ],
   "source": [
    "# import basic package\n",
    "import os\n",
    "import pandas as pd\n",
    "import warnings\n",
    "import json\n",
    "\n",
    "warnings.filterwarnings(\"ignore\")\n",
    "# import the necessary package\n",
    "from baseline.PyOD import PYOD\n",
    "from baseline.OE_GPLVM.aeb_gplvm import AEB_GPLVM, NNEncoder\n",
    "from gpytorch.likelihoods import GaussianLikelihood\n",
    "from gpytorch.mlls import VariationalELBO\n",
    "from gpytorch.priors import NormalPrior, MultivariateNormalPrior\n",
    "from utils.data_generator import DataGenerator\n",
    "from utils.myutils import Utils\n",
    "import matplotlib.pyplot as plt\n",
    "\n",
    "plt.style.use(\"ggplot\")\n",
    "import torch\n",
    "import numpy as np\n",
    "from tqdm import trange\n",
    "\n",
    "datagenerator = DataGenerator()  # data generator\n",
    "utils = Utils()  # utils function"
   ]
  },
  {
   "cell_type": "code",
   "execution_count": 3,
   "metadata": {
    "tags": []
   },
   "outputs": [],
   "source": [
    "# dataset and model list / dict\n",
    "dataset_list = [\n",
    "    \"01_ALOI\",\n",
    "    \"02_annthyroid\",\n",
    "    \"03_backdoor\",\n",
    "    \"04_breastw\",\n",
    "    \"05_campaign\",\n",
    "    \"06_cardio\",\n",
    "    \"07_Cardiotocography\",\n",
    "    \"08_celeba\",\n",
    "    \"09_census\",\n",
    "    \"99_linear\",\n",
    "]"
   ]
  },
  {
   "cell_type": "code",
   "execution_count": 4,
   "metadata": {
    "tags": []
   },
   "outputs": [
    {
     "name": "stdout",
     "output_type": "stream",
     "text": [
      "current noise type: None\n",
      "{'Samples': 1831, 'Features': 21, 'Anomalies': 176, 'Anomalies Ratio(%)': 9.61}\n"
     ]
    }
   ],
   "source": [
    "dataset = dataset_list[5]\n",
    "datagenerator.dataset = dataset\n",
    "data = datagenerator.generator(la=1.0, realistic_synthetic_mode=None, noise_type=None)"
   ]
  },
  {
   "cell_type": "code",
   "execution_count": 5,
   "metadata": {
    "tags": []
   },
   "outputs": [],
   "source": [
    "Y_train = torch.tensor(data[\"X_train\"], dtype=torch.float32)\n",
    "Y_test = torch.tensor(data[\"X_test\"], dtype=torch.float32)\n",
    "lb_train = torch.tensor(data[\"y_train\"], dtype=torch.float32)\n",
    "lb_test = torch.tensor(data[\"y_test\"], dtype=torch.float32)"
   ]
  },
  {
   "cell_type": "code",
   "execution_count": 6,
   "metadata": {
    "tags": []
   },
   "outputs": [],
   "source": [
    "model_dict = {}\n",
    "noise_trace_dict = {}\n",
    "N = len(Y_train)\n",
    "data_dim = Y_train.shape[1]\n",
    "latent_dim = 2\n",
    "n_inducing = 25\n",
    "batch_size = 100\n",
    "n_epochs = 1000\n",
    "nn_layers = (10, 5)\n",
    "lr = 0.01\n",
    "\n",
    "# Define prior for X, Initialise model, likelihood, elbo and optimizer and latent variable encoder\n",
    "X_prior_mean = torch.zeros(N, latent_dim)  # shape: N x Q\n",
    "prior_x = MultivariateNormalPrior(X_prior_mean, torch.eye(X_prior_mean.shape[1]))\n",
    "encoder = NNEncoder(N, latent_dim, prior_x, data_dim, layers=nn_layers)\n",
    "model = AEB_GPLVM(N, data_dim, latent_dim, n_inducing, encoder, nn_layers=nn_layers)\n",
    "likelihood = GaussianLikelihood()\n",
    "optimizer = torch.optim.Adam(\n",
    "    [{\"params\": model.parameters()}, {\"params\": likelihood.parameters()}], lr\n",
    ")\n",
    "elbo = VariationalELBO(likelihood, model, num_data=len(Y_train), combine_terms=False)"
   ]
  },
  {
   "cell_type": "code",
   "execution_count": 7,
   "metadata": {
    "tags": []
   },
   "outputs": [
    {
     "name": "stdout",
     "output_type": "stream",
     "text": [
      "Training model params for model GPLVM\n",
      "+-----------------------------------------------------------------------+------------+\n",
      "|                                Modules                                | Parameters |\n",
      "+-----------------------------------------------------------------------+------------+\n",
      "|                  variational_strategy.inducing_points                 |     50     |\n",
      "|    variational_strategy._variational_distribution.variational_mean    |    525     |\n",
      "| variational_strategy._variational_distribution.chol_variational_covar |   13125    |\n",
      "|                          X.mu_layers.0.weight                         |    210     |\n",
      "|                           X.mu_layers.0.bias                          |     10     |\n",
      "|                          X.mu_layers.1.weight                         |     50     |\n",
      "|                           X.mu_layers.1.bias                          |     5      |\n",
      "|                          X.mu_layers.2.weight                         |     10     |\n",
      "|                           X.mu_layers.2.bias                          |     2      |\n",
      "|                          X.sg_layers.0.weight                         |    252     |\n",
      "|                           X.sg_layers.0.bias                          |     12     |\n",
      "|                          X.sg_layers.1.weight                         |    144     |\n",
      "|                           X.sg_layers.1.bias                          |     12     |\n",
      "|                          X.sg_layers.2.weight                         |     48     |\n",
      "|                           X.sg_layers.2.bias                          |     4      |\n",
      "|                      covar_module.raw_outputscale                     |     1      |\n",
      "|                covar_module.base_kernel.raw_lengthscale               |     2      |\n",
      "+-----------------------------------------------------------------------+------------+\n",
      "Total Trainable Params: 14462\n"
     ]
    }
   ],
   "source": [
    "# Model params\n",
    "print(f'Training model params for model {\"GPLVM\"}')\n",
    "model.get_trainable_param_names()\n",
    "loss_list = []\n",
    "noise_trace = []"
   ]
  },
  {
   "cell_type": "code",
   "execution_count": 21,
   "metadata": {
    "tags": []
   },
   "outputs": [],
   "source": [
    "# Provando o conceito\n",
    "batch_idx_a = np.arange(1, 30)\n",
    "batch_idx_n = np.arange(32, 100)\n",
    "batch_index = np.hstack([batch_idx_a, batch_idx_n])"
   ]
  },
  {
   "cell_type": "code",
   "execution_count": 22,
   "metadata": {
    "tags": []
   },
   "outputs": [],
   "source": [
    "ratio = len(batch_idx_a) / len(batch_index)"
   ]
  },
  {
   "cell_type": "code",
   "execution_count": 23,
   "metadata": {
    "tags": []
   },
   "outputs": [],
   "source": [
    "output_batch_a = model(model.sample_latent_variable(Y_train)[batch_idx_a])\n",
    "output_batch_n = model(model.sample_latent_variable(Y_train)[batch_idx_n])\n",
    "output_batch_full = model(model.sample_latent_variable(Y_train)[batch_index])"
   ]
  },
  {
   "cell_type": "code",
   "execution_count": 24,
   "metadata": {
    "tags": []
   },
   "outputs": [
    {
     "data": {
      "text/plain": [
       "{'log_likelihood': tensor([-1.4255, -1.2941, -1.2543, -1.3340, -1.2730, -1.2358, -1.2503, -1.4080,\n",
       "         -1.2733, -1.2635, -1.2828, -1.4098, -1.3577, -1.3551, -1.3047, -1.2548,\n",
       "         -1.5054, -1.4636, -1.4630, -1.2519, -1.6503], grad_fn=<DivBackward0>),\n",
       " 'kl_divergence': tensor([8.9337e-09, 7.4448e-09, 7.4448e-09, 9.6782e-09, 5.2113e-09, 1.0423e-08,\n",
       "         9.6782e-09, 1.1912e-08, 8.9337e-09, 1.1167e-08, 5.9558e-09, 5.9558e-09,\n",
       "         1.0423e-08, 1.1167e-08, 6.7003e-09, 1.2656e-08, 8.1892e-09, 8.9337e-09,\n",
       "         9.6782e-09, 9.6782e-09, 8.1892e-09], grad_fn=<DivBackward0>),\n",
       " 'log_prior': tensor([0., 0., 0., 0., 0., 0., 0., 0., 0., 0., 0., 0., 0., 0., 0., 0., 0., 0., 0., 0., 0.]),\n",
       " 'added_loss': tensor([0.1748, 0.1748, 0.1748, 0.1748, 0.1748, 0.1748, 0.1748, 0.1748, 0.1748,\n",
       "         0.1748, 0.1748, 0.1748, 0.1748, 0.1748, 0.1748, 0.1748, 0.1748, 0.1748,\n",
       "         0.1748, 0.1748, 0.1748], grad_fn=<AddBackward0>)}"
      ]
     },
     "execution_count": 24,
     "metadata": {},
     "output_type": "execute_result"
    }
   ],
   "source": [
    "# O método forward da classe VariationalELBO, chama a superclasse _ApproximateMarginalLogLikelihood\n",
    "# que retorna log_likelihood - kl_divergence + log_prior - added_loss, quando você pede pra combinar os termos\n",
    "# que  é o PADRÃO. Se você passar combine_terms = False, ele te retorna uma tupla com cada um deles\n",
    "log_likelihood, kl_divergence, log_prior, added_loss = elbo(\n",
    "    output_batch_full, Y_train[batch_index].T\n",
    ")\n",
    "terms = dict(\n",
    "    log_likelihood=log_likelihood,\n",
    "    kl_divergence=kl_divergence,\n",
    "    log_prior=log_prior,\n",
    "    added_loss=added_loss,\n",
    ")\n",
    "terms"
   ]
  },
  {
   "cell_type": "code",
   "execution_count": 25,
   "metadata": {
    "tags": []
   },
   "outputs": [
    {
     "data": {
      "text/plain": [
       "{'log_likelihood': tensor([-1.4240, -1.2976, -1.2471, -1.3269, -1.2807, -1.2358, -1.2509, -1.4011,\n",
       "         -1.2753, -1.2597, -1.2855, -1.4197, -1.3407, -1.3540, -1.3071, -1.2590,\n",
       "         -1.5090, -1.4674, -1.4669, -1.2476, -1.6921], grad_fn=<DivBackward0>),\n",
       " 'kl_divergence': tensor([8.9337e-09, 7.4448e-09, 7.4448e-09, 9.6782e-09, 5.2113e-09, 1.0423e-08,\n",
       "         9.6782e-09, 1.1912e-08, 8.9337e-09, 1.1167e-08, 5.9558e-09, 5.9558e-09,\n",
       "         1.0423e-08, 1.1167e-08, 6.7003e-09, 1.2656e-08, 8.1892e-09, 8.9337e-09,\n",
       "         9.6782e-09, 9.6782e-09, 8.1892e-09], grad_fn=<DivBackward0>),\n",
       " 'log_prior': tensor([0., 0., 0., 0., 0., 0., 0., 0., 0., 0., 0., 0., 0., 0., 0., 0., 0., 0., 0., 0., 0.]),\n",
       " 'added_loss': tensor([0.1748, 0.1748, 0.1748, 0.1748, 0.1748, 0.1748, 0.1748, 0.1748, 0.1748,\n",
       "         0.1748, 0.1748, 0.1748, 0.1748, 0.1748, 0.1748, 0.1748, 0.1748, 0.1748,\n",
       "         0.1748, 0.1748, 0.1748], grad_fn=<AddBackward0>)}"
      ]
     },
     "execution_count": 25,
     "metadata": {},
     "output_type": "execute_result"
    }
   ],
   "source": [
    "# Minha duvida era se eu conseguia separar as likelihoods e voltar para o resultado original\n",
    "# por conta dos termos KL não era trivial, a principio fazer isso\n",
    "log_likelihood, kl_divergence, log_prior, added_loss = elbo(\n",
    "    output_batch_n, Y_train[batch_idx_n].T\n",
    ")\n",
    "terms = dict(\n",
    "    log_likelihood=log_likelihood,\n",
    "    kl_divergence=kl_divergence,\n",
    "    log_prior=log_prior,\n",
    "    added_loss=added_loss,\n",
    ")\n",
    "terms"
   ]
  },
  {
   "cell_type": "code",
   "execution_count": 26,
   "metadata": {
    "tags": []
   },
   "outputs": [
    {
     "data": {
      "text/plain": [
       "{'log_likelihood': tensor([-1.4240, -1.2976, -1.2471, -1.3269, -1.2807, -1.2358, -1.2509, -1.4011,\n",
       "         -1.2753, -1.2597, -1.2855, -1.4197, -1.3407, -1.3540, -1.3071, -1.2590,\n",
       "         -1.5090, -1.4674, -1.4669, -1.2476, -1.6921], grad_fn=<DivBackward0>),\n",
       " 'kl_divergence': tensor([8.9337e-09, 7.4448e-09, 7.4448e-09, 9.6782e-09, 5.2113e-09, 1.0423e-08,\n",
       "         9.6782e-09, 1.1912e-08, 8.9337e-09, 1.1167e-08, 5.9558e-09, 5.9558e-09,\n",
       "         1.0423e-08, 1.1167e-08, 6.7003e-09, 1.2656e-08, 8.1892e-09, 8.9337e-09,\n",
       "         9.6782e-09, 9.6782e-09, 8.1892e-09], grad_fn=<DivBackward0>),\n",
       " 'log_prior': tensor([0., 0., 0., 0., 0., 0., 0., 0., 0., 0., 0., 0., 0., 0., 0., 0., 0., 0., 0., 0., 0.]),\n",
       " 'added_loss': tensor([0.1748, 0.1748, 0.1748, 0.1748, 0.1748, 0.1748, 0.1748, 0.1748, 0.1748,\n",
       "         0.1748, 0.1748, 0.1748, 0.1748, 0.1748, 0.1748, 0.1748, 0.1748, 0.1748,\n",
       "         0.1748, 0.1748, 0.1748], grad_fn=<AddBackward0>)}"
      ]
     },
     "execution_count": 26,
     "metadata": {},
     "output_type": "execute_result"
    }
   ],
   "source": [
    "# Aparentemente os termos KL e Added Loss que também é um KL, são constantes nas chamadas do elbo\n",
    "# então posso somente armazena-los e focar na log_likelihood\n",
    "log_likelihood, kl_divergence, log_prior, added_loss = elbo(\n",
    "    output_batch_n, Y_train[batch_idx_n].T\n",
    ")\n",
    "terms = dict(\n",
    "    log_likelihood=log_likelihood,\n",
    "    kl_divergence=kl_divergence,\n",
    "    log_prior=log_prior,\n",
    "    added_loss=added_loss,\n",
    ")\n",
    "terms"
   ]
  },
  {
   "cell_type": "code",
   "execution_count": 27,
   "metadata": {
    "tags": []
   },
   "outputs": [
    {
     "data": {
      "text/plain": [
       "{'_log_likelihood_term': tensor([-138.2719, -125.5316, -121.6715, -129.4010, -123.4836, -119.8682,\n",
       "         -121.2772, -136.5764, -123.5119, -122.5549, -124.4319, -136.7476,\n",
       "         -131.6989, -131.4469, -126.5548, -121.7119, -146.0234, -141.9696,\n",
       "         -141.9101, -121.4336, -160.0825], grad_fn=<SumBackward1>)}"
      ]
     },
     "execution_count": 27,
     "metadata": {},
     "output_type": "execute_result"
    }
   ],
   "source": [
    "# Essa é o método principal da classe VariationalELBO, o problem é que ele já vem somado no shape 1xDIM_DADOS\n",
    "# mas preciso saber esse termo por cada ponto do batch/teste\n",
    "terms = {\n",
    "    \"_log_likelihood_term\": elbo._log_likelihood_term(\n",
    "        output_batch_full, Y_train[batch_index].T\n",
    "    )\n",
    "}\n",
    "terms"
   ]
  },
  {
   "cell_type": "code",
   "execution_count": 28,
   "metadata": {
    "tags": []
   },
   "outputs": [
    {
     "name": "stdout",
     "output_type": "stream",
     "text": [
      "tensor([[-1.5744, -1.5385, -1.4896,  ..., -1.3072, -1.4575, -1.5563],\n",
      "        [-1.2460, -1.2695, -1.6928,  ..., -1.2373, -1.2393, -1.3712],\n",
      "        [-1.2442, -1.2358, -1.2358,  ..., -1.2358, -1.2358, -1.2358],\n",
      "        ...,\n",
      "        [-1.5505, -1.5773, -1.5512,  ..., -1.4005, -1.4849, -1.5683],\n",
      "        [-1.2626, -1.2363, -1.2360,  ..., -1.2358, -1.2358, -1.2359],\n",
      "        [-1.4161, -1.9567, -1.4163,  ..., -1.4162, -1.4167, -1.9572]],\n",
      "       grad_fn=<MulBackward0>) torch.Size([21, 97])\n"
     ]
    }
   ],
   "source": [
    "# Eu posso pegar toda a matriz, utilizando a chamada da likelihood\n",
    "exp_log_prob = elbo.likelihood.expected_log_prob(\n",
    "    Y_train[batch_index].T, output_batch_full\n",
    ")\n",
    "print(exp_log_prob, exp_log_prob.shape)"
   ]
  },
  {
   "cell_type": "code",
   "execution_count": 29,
   "metadata": {
    "tags": []
   },
   "outputs": [
    {
     "data": {
      "text/plain": [
       "tensor([-1.4255, -1.2941, -1.2543, -1.3340, -1.2730, -1.2358, -1.2503, -1.4080,\n",
       "        -1.2733, -1.2635, -1.2828, -1.4098, -1.3577, -1.3551, -1.3047, -1.2548,\n",
       "        -1.5054, -1.4636, -1.4630, -1.2519, -1.6503], grad_fn=<DivBackward0>)"
      ]
     },
     "execution_count": 29,
     "metadata": {},
     "output_type": "execute_result"
    }
   ],
   "source": [
    "# LEMBRANDO QUE ---> exp_log_prob.sum(-1).div(batch_size) == elbo(target = Y_train[batch_index].T, variational_dist_f= output_batch_full)[0]\n",
    "## IMPORTANTE!!! Se atentar aos gradienets, basta multiplicar exp_log_prob.sum(-1).div(batch_size) por *1 para ver o B.O.\n",
    "batch_size = len(batch_index)\n",
    "exp_log_prob.sum(-1).div(batch_size)"
   ]
  },
  {
   "cell_type": "code",
   "execution_count": 30,
   "metadata": {
    "tags": []
   },
   "outputs": [],
   "source": [
    "# LL TOTAL\n",
    "log_likelihood_total = elbo(\n",
    "    target=Y_train[batch_index].T, variational_dist_f=output_batch_full\n",
    ")[0]\n",
    "\n",
    "# Depois de muito sofrer pensando isso, percebi que posso fazer passar chamar o elbo\n",
    "# pra cada conjunto, anomalo e normal, e depois recuperar o log_likelihood total\n",
    "# se eu fizer uma soma ponderada dos log_likelihoods\n",
    "# Minha preocupacao aqui era por que na instaciação da classe você precisa\n",
    "# passar o num_data, só que esse termo se não diz respeito ao tamanno do batch\n",
    "# e sim ao tamanho do treino total. Em todos os experimentos do GPLVM\n",
    "# ele é instanciado utilizado num_data = len(Y_train), logo isso não interfere\n",
    "# no calculo do elbo. Também é legal ressaltar que os termos KL não mudam\n",
    "# mesmo que os batchs mudem.\n",
    "\n",
    "output_batch_a = model(model.sample_latent_variable(Y_train)[batch_idx_a])\n",
    "output_batch_n = model(model.sample_latent_variable(Y_train)[batch_idx_n])\n",
    "target_a = Y_train[batch_idx_a].T\n",
    "target_n = Y_train[batch_idx_n].T\n",
    "ll_normal = elbo(output_batch_n, target_n)[0] * (\n",
    "    1 - ratio\n",
    ")  # <- Isso não é o elbo. É a log_likelihood --> Se atentar ao [0]\n",
    "ll_anomaly = elbo(output_batch_a, target_a)[0] * ratio"
   ]
  },
  {
   "cell_type": "code",
   "execution_count": 33,
   "metadata": {
    "tags": []
   },
   "outputs": [
    {
     "data": {
      "text/plain": [
       "tensor([-1.4255, -1.2941, -1.2543, -1.3340, -1.2730, -1.2358, -1.2503, -1.4080,\n",
       "        -1.2733, -1.2635, -1.2828, -1.4098, -1.3577, -1.3551, -1.3047, -1.2548,\n",
       "        -1.5054, -1.4636, -1.4630, -1.2519, -1.6503], grad_fn=<DivBackward0>)"
      ]
     },
     "execution_count": 33,
     "metadata": {},
     "output_type": "execute_result"
    }
   ],
   "source": [
    "log_likelihood_total"
   ]
  },
  {
   "cell_type": "code",
   "execution_count": 34,
   "metadata": {
    "tags": []
   },
   "outputs": [
    {
     "data": {
      "text/plain": [
       "tensor([-1.4254, -1.2942, -1.2543, -1.3340, -1.2730, -1.2358, -1.2503, -1.4080,\n",
       "        -1.2733, -1.2634, -1.2828, -1.4098, -1.3577, -1.3551, -1.3047, -1.2548,\n",
       "        -1.5054, -1.4637, -1.4630, -1.2519, -1.6504], grad_fn=<AddBackward0>)"
      ]
     },
     "execution_count": 34,
     "metadata": {},
     "output_type": "execute_result"
    }
   ],
   "source": [
    "ll_normal + ll_anomaly"
   ]
  },
  {
   "cell_type": "code",
   "execution_count": null,
   "metadata": {
    "tags": []
   },
   "outputs": [],
   "source": [
    "def get_loe_index(score, ratio, batch_index):\n",
    "    _, idx_n = torch.topk(\n",
    "        score, int(score.shape[0] * (1 - ratio)), largest=False, sorted=False\n",
    "    )\n",
    "    _, idx_a = torch.topk(\n",
    "        score, int(score.shape[0] * (ratio)), largest=True, sorted=False\n",
    "    )\n",
    "    return batch_index[idx_n], batch_index[idx_a]"
   ]
  },
  {
   "cell_type": "code",
   "execution_count": null,
   "metadata": {
    "tags": []
   },
   "outputs": [],
   "source": [
    "def get_log_likelihood_LOE(Y_train, lb_train, idx_n, idx_a, ratio, method=\"blind\"):\n",
    "    output_batch_a = model(model.sample_latent_variable(Y_train)[idx_a])\n",
    "    output_batch_n = model(model.sample_latent_variable(Y_train)[idx_n])\n",
    "    target_a = Y_train[idx_a].T\n",
    "    target_n = Y_train[idx_n].T\n",
    "\n",
    "    ll_normal = elbo(output_batch_n, target_n)[0] * (1 - ratio)\n",
    "    ll_anomaly = elbo(output_batch_a, target_a)[0] * ratio\n",
    "\n",
    "    if method == \"blind\":\n",
    "        log_likelihood = (ll_normal + ll_anomaly).div(1)\n",
    "    elif method == \"hard\":\n",
    "        log_likelihood = (ll_normal - ll_anomaly).div(1)\n",
    "    elif method == \"soft\":\n",
    "        log_likelihood = (ll_normal - 0.5 * (ll_anomaly + ll_normal)).div(1)\n",
    "    else:\n",
    "        raise NotImplementedError\n",
    "\n",
    "    return log_likelihood"
   ]
  },
  {
   "cell_type": "code",
   "execution_count": null,
   "metadata": {
    "tags": []
   },
   "outputs": [],
   "source": [
    "def train(model, batch_size, Y_train, y_train, method=\"refine\"):\n",
    "    \"\"\"\n",
    "    No caso blind, nos treinamos tudo como se fosse normal, inclusive as anomalias\n",
    "    \"\"\"\n",
    "    \"\"\"\n",
    "    Preciso avaliar se o ratio é > 0, caso não seja, preciso selecionar apenas indices de elementos normais\n",
    "    esse é o método do refine. \n",
    "    Segundo  avalio o score de cada ponto normalmente e retorno a log-likelihood de cada termo\n",
    "    \"\"\"\n",
    "    if method == \"refine\":\n",
    "        batch_index = model._get_normal_batch_idx(batch_size, y_train)\n",
    "        output_batch = model(model.sample_latent_variable(Y_train)[batch_index])\n",
    "\n",
    "        log_likelihood, kl_divergence, log_prior, added_loss = elbo(\n",
    "            output_batch, Y_train[batch_index].T\n",
    "        )\n",
    "\n",
    "    elif method in [\"hard\", \"soft\", \"blind\"]:\n",
    "        batch_index, ratio = model._get_individual_batch_idx(batch_size, y_train)\n",
    "        output_batch = model(model.sample_latent_variable(Y_train)[batch_index])\n",
    "\n",
    "        _, kl_divergence, log_prior, added_loss = elbo(\n",
    "            output_batch, Y_train[batch_index].T\n",
    "        )\n",
    "\n",
    "        likelihood_per_point = elbo.likelihood.expected_log_prob(\n",
    "            Y_train[batch_index].T, output_batch\n",
    "        ).sum(0)\n",
    "        loe_idx_n, loe_idx_a = get_loe_index(likelihood_per_point, ratio, batch_index)\n",
    "        log_likelihood = get_log_likelihood_LOE(\n",
    "            Y_train, y_train, loe_idx_n, loe_idx_a, ratio\n",
    "        )\n",
    "\n",
    "    loss = -(log_likelihood - kl_divergence + log_prior - added_loss).sum()\n",
    "\n",
    "    return loss"
   ]
  },
  {
   "cell_type": "code",
   "execution_count": null,
   "metadata": {
    "tags": []
   },
   "outputs": [],
   "source": [
    "train(model, batch_size, Y_train, lb_train, method=\"refine\")"
   ]
  },
  {
   "cell_type": "code",
   "execution_count": null,
   "metadata": {
    "tags": []
   },
   "outputs": [],
   "source": [
    "get_log_likelihood_term(Y_train, lb_train, loe_idx_n, loe_idx_a)"
   ]
  },
  {
   "cell_type": "code",
   "execution_count": null,
   "metadata": {
    "tags": []
   },
   "outputs": [],
   "source": [
    "get_log_likelihood_term(Y_train, lb_train, idx_n, idx_a)"
   ]
  },
  {
   "cell_type": "code",
   "execution_count": null,
   "metadata": {
    "tags": []
   },
   "outputs": [],
   "source": [
    "batch_index = np.append(idx_n, idx_a)\n",
    "output_batch = model(model.sample_latent_variable(Y_train)[idx_n])\n",
    "log_likelihood, kl_divergence, log_prior, added_loss = elbo(\n",
    "    output_batch, Y_train[idx_n].T\n",
    ")\n",
    "-(log_likelihood - kl_divergence + log_prior - added_loss).sum()"
   ]
  },
  {
   "cell_type": "code",
   "execution_count": null,
   "metadata": {
    "tags": []
   },
   "outputs": [],
   "source": [
    "elbo(output_batch, Y_train[batch_index].T)"
   ]
  },
  {
   "cell_type": "code",
   "execution_count": null,
   "metadata": {
    "tags": []
   },
   "outputs": [],
   "source": [
    "ll, kl_divergence, log_prior, added_loss = elbo(\n",
    "    output_batch_full, Y_train[batch_index].T\n",
    ")"
   ]
  },
  {
   "cell_type": "code",
   "execution_count": null,
   "metadata": {
    "tags": []
   },
   "outputs": [],
   "source": [
    "get_log_likelihood_term(Y_train, lb_train, batch_index)"
   ]
  },
  {
   "cell_type": "code",
   "execution_count": null,
   "metadata": {
    "tags": []
   },
   "outputs": [],
   "source": [
    "iterator = trange(1000, leave=True)\n",
    "batch_size = 100\n",
    "for i in iterator:\n",
    "    optimizer.zero_grad()\n",
    "    loss = train(model, batch_size, Y_train, lb_train, method=\"hard\")\n",
    "    loss_list.append(loss.item())\n",
    "    noise_trace.append(np.round(likelihood.noise_covar.noise.item(), 3))\n",
    "    if i % 100 == 0:\n",
    "        iterator.set_description(\n",
    "            \"Loss: \" + str(float(np.round(loss.item(), 2))) + \", iter no: \" + str(i)\n",
    "        )\n",
    "    loss.backward()\n",
    "    optimizer.step()\n",
    "\n",
    "model.store(loss_list, likelihood)\n",
    "noise_trace_dict[\"GPLVM\"] = noise_trace\n",
    "X_train_mean = model.get_X_mean(Y_train)"
   ]
  },
  {
   "cell_type": "code",
   "execution_count": null,
   "metadata": {},
   "outputs": [],
   "source": [
    "with torch.no_grad():\n",
    "    model.eval()\n",
    "    likelihood.eval()\n",
    "\n",
    "X_test_mean, X_test_covar = model.predict_latent(Y_test)\n",
    "Y_test_mean, Y_test_covar = model.reconstruct_y(Y_test)\n",
    "\n",
    "## amostra -> nn_ecoder --> model.decoder --> amostra_reconstruida\n",
    "## ou seja, vira uma variavel latente, depois passa pelo modelo\n",
    "## para se tornar de novo algo no espaço dos dados"
   ]
  },
  {
   "cell_type": "code",
   "execution_count": null,
   "metadata": {},
   "outputs": [],
   "source": [
    "def scatter_Y_test(Y_test, lb_test):\n",
    "    idx_n = np.where(lb_test == 0)\n",
    "    idx_a = np.where(lb_test == 1)\n",
    "    plt.scatter(Y_test_mean[0, idx_a], Y_test_mean[1, idx_a])\n",
    "    plt.scatter(Y_test_mean[0, idx_n], Y_test_mean[1, idx_n])"
   ]
  },
  {
   "cell_type": "code",
   "execution_count": null,
   "metadata": {},
   "outputs": [],
   "source": [
    "scatter_Y_test(Y_test, lb_test)"
   ]
  },
  {
   "cell_type": "code",
   "execution_count": null,
   "metadata": {},
   "outputs": [],
   "source": [
    "# seed for reproducible results\n",
    "seed = 42\n",
    "\n",
    "# clf = clf(seed=seed, model_name=name)\n",
    "# clf = clf.fit(X_train=data[\"X_train\"], y_train=data[\"y_train\"])\n",
    "# score = clf.predict_score(data[\"X_test\"])\n",
    "# result = utils.metric(y_true=data[\"y_test\"], y_score=score)\n",
    "# df_AUCROC.loc[dataset, name] = result[\"aucroc\"]\n",
    "# df_AUCPR.loc[dataset, name] = result[\"aucpr\"]"
   ]
  }
 ],
 "metadata": {
  "kernelspec": {
   "display_name": "Python 3 (ipykernel)",
   "language": "python",
   "name": "python3"
  },
  "language_info": {
   "codemirror_mode": {
    "name": "ipython",
    "version": 3
   },
   "file_extension": ".py",
   "mimetype": "text/x-python",
   "name": "python",
   "nbconvert_exporter": "python",
   "pygments_lexer": "ipython3",
   "version": "3.10.10"
  }
 },
 "nbformat": 4,
 "nbformat_minor": 4
}
