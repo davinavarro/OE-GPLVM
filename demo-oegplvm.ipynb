{
 "cells": [
  {
   "cell_type": "code",
   "execution_count": 1,
   "metadata": {},
   "outputs": [],
   "source": [
    "%load_ext autoreload\n",
    "%autoreload 2\n",
    "# import basic package\n",
    "import os\n",
    "import pandas as pd\n",
    "import warnings\n",
    "warnings.filterwarnings(\"ignore\")\n",
    "# import the necessary package\n",
    "from baseline.PyOD import PYOD\n",
    "from baseline.OE_GPLVM.aeb_gplvm import AEB_GPLVM, NNEncoder\n",
    "from gpytorch.likelihoods import GaussianLikelihood\n",
    "from gpytorch.mlls import VariationalELBO\n",
    "from gpytorch.priors import NormalPrior, MultivariateNormalPrior\n",
    "from utils.data_generator import DataGenerator\n",
    "from utils.myutils import Utils\n",
    "import matplotlib.pyplot as plt\n",
    "plt.style.use('ggplot')\n",
    "import torch\n",
    "import numpy as np\n",
    "from tqdm import trange\n",
    "datagenerator = DataGenerator()  # data generator\n",
    "utils = Utils()  # utils function"
   ]
  },
  {
   "cell_type": "code",
   "execution_count": 2,
   "metadata": {},
   "outputs": [],
   "source": [
    "# dataset and model list / dict\n",
    "dataset_list = [\n",
    "    \"01_ALOI\",\n",
    "    \"02_annthyroid\",\n",
    "    \"03_backdoor\",\n",
    "    \"04_breastw\",\n",
    "    \"05_campaign\",\n",
    "    \"06_cardio\",\n",
    "    \"07_Cardiotocography\",\n",
    "    \"08_celeba\",\n",
    "    \"09_census\",\n",
    "    \"99_linear\",\n",
    "]"
   ]
  },
  {
   "cell_type": "code",
   "execution_count": 3,
   "metadata": {},
   "outputs": [
    {
     "name": "stdout",
     "output_type": "stream",
     "text": [
      "current noise type: None\n",
      "{'Samples': 1831, 'Features': 21, 'Anomalies': 176, 'Anomalies Ratio(%)': 9.61}\n"
     ]
    }
   ],
   "source": [
    "dataset = dataset_list[5]\n",
    "datagenerator.dataset = dataset\n",
    "data = datagenerator.generator(la=1.0, realistic_synthetic_mode=None, noise_type=None)"
   ]
  },
  {
   "cell_type": "code",
   "execution_count": 4,
   "metadata": {},
   "outputs": [],
   "source": [
    "Y_train = torch.tensor(data[\"X_train\"], dtype=torch.float32)\n",
    "Y_test = torch.tensor(data[\"X_test\"], dtype=torch.float32)\n",
    "lb_train = torch.tensor(data[\"y_train\"], dtype=torch.float32)\n",
    "lb_test = torch.tensor(data[\"y_test\"], dtype=torch.float32)"
   ]
  },
  {
   "cell_type": "code",
   "execution_count": 5,
   "metadata": {},
   "outputs": [],
   "source": [
    "idx_a = np.where(lb_train==1)[0]\n",
    "idx_n = np.where(lb_train==0)[0]"
   ]
  },
  {
   "cell_type": "code",
   "execution_count": 6,
   "metadata": {},
   "outputs": [],
   "source": [
    "Y_train = Y_train[idx_n, :]"
   ]
  },
  {
   "cell_type": "code",
   "execution_count": 13,
   "metadata": {},
   "outputs": [
    {
     "name": "stdout",
     "output_type": "stream",
     "text": [
      "Training model params for model GPLVM\n",
      "+-----------------------------------------------------------------------+------------+\n",
      "|                                Modules                                | Parameters |\n",
      "+-----------------------------------------------------------------------+------------+\n",
      "|                  variational_strategy.inducing_points                 |     50     |\n",
      "|    variational_strategy._variational_distribution.variational_mean    |    525     |\n",
      "| variational_strategy._variational_distribution.chol_variational_covar |   13125    |\n",
      "|                          X.mu_layers.0.weight                         |    210     |\n",
      "|                           X.mu_layers.0.bias                          |     10     |\n",
      "|                          X.mu_layers.1.weight                         |     50     |\n",
      "|                           X.mu_layers.1.bias                          |     5      |\n",
      "|                          X.mu_layers.2.weight                         |     10     |\n",
      "|                           X.mu_layers.2.bias                          |     2      |\n",
      "|                          X.sg_layers.0.weight                         |    252     |\n",
      "|                           X.sg_layers.0.bias                          |     12     |\n",
      "|                          X.sg_layers.1.weight                         |    144     |\n",
      "|                           X.sg_layers.1.bias                          |     12     |\n",
      "|                          X.sg_layers.2.weight                         |     48     |\n",
      "|                           X.sg_layers.2.bias                          |     4      |\n",
      "|                      covar_module.raw_outputscale                     |     1      |\n",
      "|                covar_module.base_kernel.raw_lengthscale               |     2      |\n",
      "+-----------------------------------------------------------------------+------------+\n",
      "Total Trainable Params: 14462\n"
     ]
    },
    {
     "name": "stderr",
     "output_type": "stream",
     "text": [
      "Loss: -12.38, iter no: 950: 100%|██████████| 1000/1000 [00:09<00:00, 100.07it/s]\n"
     ]
    }
   ],
   "source": [
    "model_dict = {}\n",
    "noise_trace_dict = {}\n",
    "N = len(Y_train)\n",
    "data_dim = Y_train.shape[1]\n",
    "latent_dim = 2\n",
    "n_inducing = 25\n",
    "batch_size = 100\n",
    "n_epochs = 1000\n",
    "nn_layers = (10,5)\n",
    "lr = 0.01\n",
    "\n",
    "# Define prior for X\n",
    "X_prior_mean = torch.zeros(N, latent_dim)  # shape: N x Q\n",
    "prior_x = MultivariateNormalPrior(X_prior_mean, torch.eye(X_prior_mean.shape[1]))\n",
    "\n",
    "# Initialise model, likelihood, elbo and optimizer and latent variable encoder\n",
    "\n",
    "encoder = NNEncoder(N, latent_dim, prior_x, data_dim, layers=nn_layers)\n",
    "model = AEB_GPLVM(N, data_dim, latent_dim, n_inducing, encoder, nn_layers=nn_layers)\n",
    "likelihood = GaussianLikelihood()\n",
    "optimizer = torch.optim.Adam(\n",
    "    [{\"params\": model.parameters()}, {\"params\": likelihood.parameters()}], lr\n",
    ")\n",
    "elbo = VariationalELBO(likelihood, model, num_data=len(Y_train))\n",
    "\n",
    "# Model params\n",
    "print(f'Training model params for model {\"GPLVM\"}')\n",
    "model.get_trainable_param_names()\n",
    "\n",
    "# Training loop - optimises the objective wrt kernel hypers, variational params and inducing inputs\n",
    "# using the optimizer provided.\n",
    "\n",
    "loss_list = []\n",
    "noise_trace = []\n",
    "\n",
    "iterator = trange(n_epochs, leave=True)\n",
    "for i in iterator:\n",
    "    batch_index = model._get_batch_idx(batch_size)\n",
    "    optimizer.zero_grad()\n",
    "    sample_batch = model.sample_latent_variable(Y_train)[batch_index] # batch de variaveis latentes\n",
    "    output_batch = model(sample_batch) # isso aqui decoda as variaveis latentes \n",
    "    loss = -elbo(output_batch, Y_train[batch_index].T).sum() # aqui eu pego a diferença\n",
    "    loss_list.append(loss.item())\n",
    "    noise_trace.append(np.round(likelihood.noise_covar.noise.item(), 3))\n",
    "    if i % 50 == 0:\n",
    "        iterator.set_description(\n",
    "            \"Loss: \" + str(float(np.round(loss.item(), 2))) + \", iter no: \" + str(i)\n",
    "        )\n",
    "    loss.backward()\n",
    "    optimizer.step()\n",
    "model.store(loss_list, likelihood)\n",
    "\n",
    "# Save models & training info\n",
    "\n",
    "#print(model.covar_module.base_kernel.lengthscale)\n",
    "noise_trace_dict[\"GPLVM\"] = noise_trace\n",
    "X_train_mean = model.get_X_mean(Y_train)\n",
    "#X_train_scales = model.get_X_scales(Y_train)\n"
   ]
  },
  {
   "cell_type": "code",
   "execution_count": null,
   "metadata": {},
   "outputs": [],
   "source": [
    "\n",
    "with torch.no_grad():\n",
    "    model.eval()\n",
    "    likelihood.eval()\n",
    "\n",
    "X_test_mean, X_test_covar = model.predict_latent(Y_test)\n",
    "Y_test_mean, Y_test_covar = model.reconstruct_y(Y_test) \n",
    "\n",
    "## amostra -> nn_ecoder --> model.decoder --> amostra_reconstruida\n",
    "## ou seja, vira uma variavel latente, depois passa pelo modelo\n",
    "## para se tornar de novo algo no espaço dos dados"
   ]
  },
  {
   "cell_type": "code",
   "execution_count": 8,
   "metadata": {},
   "outputs": [],
   "source": [
    "def scatter_Y_test(Y_test, lb_test):\n",
    "    idx_n = np.where(lb_test == 0) \n",
    "    idx_a = np.where(lb_test == 1)\n",
    "    plt.scatter(Y_test_mean[0,idx_a],Y_test_mean[1,idx_a])\n",
    "    plt.scatter(Y_test_mean[0,idx_n],Y_test_mean[1,idx_n])"
   ]
  },
  {
   "cell_type": "code",
   "execution_count": 10,
   "metadata": {},
   "outputs": [
    {
     "data": {
      "image/png": "[encoded data removed]",
      "text/plain": [
       "<Figure size 640x480 with 1 Axes>"
      ]
     },
     "metadata": {},
     "output_type": "display_data"
    }
   ],
   "source": [
    "scatter_Y_test(Y_test, lb_test)"
   ]
  },
  {
   "cell_type": "code",
   "execution_count": null,
   "metadata": {},
   "outputs": [],
   "source": [
    "# seed for reproducible results\n",
    "seed = 42\n",
    "\n",
    "# clf = clf(seed=seed, model_name=name)\n",
    "# clf = clf.fit(X_train=data[\"X_train\"], y_train=data[\"y_train\"])\n",
    "# score = clf.predict_score(data[\"X_test\"])\n",
    "# result = utils.metric(y_true=data[\"y_test\"], y_score=score)\n",
    "# df_AUCROC.loc[dataset, name] = result[\"aucroc\"]\n",
    "# df_AUCPR.loc[dataset, name] = result[\"aucpr\"]"
   ]
  }
 ],
 "metadata": {
  "kernelspec": {
   "display_name": "Python 3 (ipykernel)",
   "language": "python",
   "name": "python3"
  },
  "language_info": {
   "codemirror_mode": {
    "name": "ipython",
    "version": 3
   },
   "file_extension": ".py",
   "mimetype": "text/x-python",
   "name": "python",
   "nbconvert_exporter": "python",
   "pygments_lexer": "ipython3",
   "version": "3.11.4"
  }
 },
 "nbformat": 4,
 "nbformat_minor": 4
}
