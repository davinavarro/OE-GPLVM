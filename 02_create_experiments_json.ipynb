{
 "cells": [
  {
   "cell_type": "code",
   "execution_count": 20,
   "id": "eb6c99cc-3f7e-49a2-80bc-10524cdf11f0",
   "metadata": {
    "tags": []
   },
   "outputs": [],
   "source": [
    "import numpy as np\n",
    "import json"
   ]
  },
  {
   "cell_type": "code",
   "execution_count": 60,
   "id": "c9a38cf9-72e5-4790-93d1-8ff46db4afdb",
   "metadata": {
    "tags": []
   },
   "outputs": [],
   "source": [
    "with open(\"dataset_infos.json\", \"r\") as json_file:\n",
    "    datasets = json.load(json_file)"
   ]
  },
  {
   "cell_type": "code",
   "execution_count": 58,
   "id": "6660003a-9e75-4041-80e3-f9896c1fe2d5",
   "metadata": {
    "tags": []
   },
   "outputs": [],
   "source": [
    "#data_list = datasets\n",
    "## Create a new dictionary with the desired structure\n",
    "#dataset_dict = {}\n",
    "#for data_dict in data_list:\n",
    "#    if 'dataset' in data_dict:\n",
    "#        dataset_name = data_dict['dataset']\n",
    "#        del data_dict['dataset']\n",
    "#        dataset_dict[dataset_name] = data_dict"
   ]
  },
  {
   "cell_type": "code",
   "execution_count": 59,
   "id": "84afed24-783f-4d03-b5df-2a4d80f58db8",
   "metadata": {
    "tags": []
   },
   "outputs": [],
   "source": [
    "#with open(\"dataset_infos.json\", \"w\") as json_file:\n",
    "#    json.dump(dataset_dict, json_file)"
   ]
  },
  {
   "cell_type": "code",
   "execution_count": 74,
   "id": "a584dc85-5519-4653-afd9-b7f73f764040",
   "metadata": {
    "tags": []
   },
   "outputs": [],
   "source": [
    "def generate_dictionaries_with_dependency(input_dict, dependency_rule):\n",
    "    import itertools\n",
    "\n",
    "    # Separate the keys and values, and prepare for combinations excluding the dependent key\n",
    "    keys, values = zip(*((k, v) for k, v in input_dict.items() if k != \"latent_dim\"))\n",
    "    combinations = list(itertools.product(*values))\n",
    "\n",
    "    # Create dictionaries with combinations of values and add the dependent key-value pair\n",
    "    result_dicts = []\n",
    "    for combination in combinations:\n",
    "        new_dict = dict(zip(keys, combination))\n",
    "        # Apply the dependency rule to determine the value of the dependent key\n",
    "        new_dict[\"latent_dim\"] = dependency_rule(new_dict[\"dataset\"])\n",
    "        result_dicts.append(new_dict)\n",
    "\n",
    "    return result_dicts\n",
    "\n",
    "# Define a rule for the dependency of 'key4' on the value of 'key1'\n",
    "def dependency_rule(value_of_key1: str):\n",
    "    dataset = value_of_key1.split('_')[1]\n",
    "    n_features = datasets[dataset]['n_features']\n",
    "    if  n_features > 128:\n",
    "        latent_dim = 64\n",
    "    else:\n",
    "        latent_dim = n_features/2\n",
    "    return int(latent_dim)"
   ]
  },
  {
   "cell_type": "code",
   "execution_count": 89,
   "id": "6fe45a9e-013a-4af9-ac70-2c0045cf05a6",
   "metadata": {
    "tags": []
   },
   "outputs": [],
   "source": [
    "predefined_lists_with_dependency = {\n",
    "    \"dataset\": [\"01_ALOI\", \"02_annthyroid\", \"03_backdoor\"],\n",
    "    \"kernel\": [\"rbf\", \"matern\"],\n",
    "    \"batch_size\": [\"128\"],\n",
    "    \"learning_rate\": [\"0.01\", \"0.001\"],\n",
    "    \"latent_dim\": [],\n",
    "    \"loss\": [\"normal\", \"loe_hard\", \"loe_soft\"],\n",
    "    \"activation\": [\"relu\", \"tanh\"],\n",
    "    \"labeled_anomalies\": [\"0.05\", \"0.1\", \"0.3\", \"0.9\", \"1.0\"],\n",
    "    \"noise_type\": [\"global\", \"local\"],\n",
    "    \"layers\": [\"5,5\", \"10,10\" , \"5,5,5\"],\n",
    "    \"n_epochs\": [\"5000\"]  \n",
    "}\n",
    "generated_dictionaries_with_dependency = generate_dictionaries_with_dependency(predefined_lists_with_dependency, dependency_rule)"
   ]
  },
  {
   "cell_type": "code",
   "execution_count": 90,
   "id": "3ed53e76-9153-4a50-9e39-425616b05810",
   "metadata": {
    "tags": []
   },
   "outputs": [
    {
     "data": {
      "text/plain": [
       "2160"
      ]
     },
     "execution_count": 90,
     "metadata": {},
     "output_type": "execute_result"
    }
   ],
   "source": [
    "len(generated_dictionaries_with_dependency)"
   ]
  },
  {
   "cell_type": "code",
   "execution_count": 92,
   "id": "7c0985ef-c9d9-4087-a88a-59aa2c8b87ae",
   "metadata": {
    "tags": []
   },
   "outputs": [],
   "source": [
    "with open(\"experiments.json\", \"w\") as json_file:\n",
    "    json.dump(generated_dictionaries_with_dependency, json_file)"
   ]
  },
  {
   "cell_type": "code",
   "execution_count": 9,
   "id": "16bbceb0-11b6-410a-8099-440950af25f4",
   "metadata": {
    "tags": []
   },
   "outputs": [],
   "source": [
    "import pandas as pd\n",
    "\n",
    "df = pd.read_csv(\n",
    "    \"/home/jovyan/work/OE-GPLVM/dataset_mapping.csv\",\n",
    "    names=[\"dataset\", \"n_samples\", \"n_features\", \"n_anomaly\", \"pct_anomaly\", \"domain\"],\n",
    ")"
   ]
  },
  {
   "cell_type": "code",
   "execution_count": 12,
   "id": "ca3e1dae-8b2a-40cd-b45c-7d1fef55a02c",
   "metadata": {
    "tags": []
   },
   "outputs": [],
   "source": [
    "import json\n",
    "datasets = json.loads(df.to_json(orient=\"records\"))"
   ]
  },
  {
   "cell_type": "code",
   "execution_count": 15,
   "id": "99e64e95-9c46-46fa-8f4d-bcc0d78705c7",
   "metadata": {
    "tags": []
   },
   "outputs": [],
   "source": [
    "with open(file_name, \"w\") as json_file:\n",
    "    json.dump(data, json_file)"
   ]
  },
  {
   "cell_type": "code",
   "execution_count": 16,
   "id": "50e47575-25e8-447f-938d-303278fb13f0",
   "metadata": {
    "tags": []
   },
   "outputs": [],
   "source": [
    "file_name = \"dataset_infos.json\"\n",
    "\n",
    "# Use json.dump() with the 'indent' parameter set to 4\n",
    "with open(file_name, \"w\") as json_file:\n",
    "    json.dump(datasets, json_file, indent=4)"
   ]
  },
  {
   "cell_type": "code",
   "execution_count": null,
   "id": "8ff32401-5d24-4b1e-a061-abeb501a52af",
   "metadata": {},
   "outputs": [],
   "source": []
  }
 ],
 "metadata": {
  "kernelspec": {
   "display_name": "Python 3 (ipykernel)",
   "language": "python",
   "name": "python3"
  },
  "language_info": {
   "codemirror_mode": {
    "name": "ipython",
    "version": 3
   },
   "file_extension": ".py",
   "mimetype": "text/x-python",
   "name": "python",
   "nbconvert_exporter": "python",
   "pygments_lexer": "ipython3",
   "version": "3.10.10"
  }
 },
 "nbformat": 4,
 "nbformat_minor": 5
}
