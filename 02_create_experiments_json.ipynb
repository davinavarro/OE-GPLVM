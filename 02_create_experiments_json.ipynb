{
 "cells": [
  {
   "cell_type": "code",
   "execution_count": 45,
   "id": "eb6c99cc-3f7e-49a2-80bc-10524cdf11f0",
   "metadata": {
    "tags": []
   },
   "outputs": [],
   "source": [
    "import numpy as np\n",
    "import json"
   ]
  },
  {
   "cell_type": "code",
   "execution_count": 46,
   "id": "c9a38cf9-72e5-4790-93d1-8ff46db4afdb",
   "metadata": {
    "tags": []
   },
   "outputs": [],
   "source": [
    "with open(\"dataset_infos.json\", \"r\") as json_file:\n",
    "    datasets = json.load(json_file)"
   ]
  },
  {
   "cell_type": "code",
   "execution_count": 47,
   "id": "6660003a-9e75-4041-80e3-f9896c1fe2d5",
   "metadata": {
    "tags": []
   },
   "outputs": [],
   "source": [
    "# data_list = datasets\n",
    "## Create a new dictionary with the desired structure\n",
    "# dataset_dict = {}\n",
    "# for data_dict in data_list:\n",
    "#    if 'dataset' in data_dict:\n",
    "#        dataset_name = data_dict['dataset']\n",
    "#        del data_dict['dataset']\n",
    "#        dataset_dict[dataset_name] = data_dict"
   ]
  },
  {
   "cell_type": "code",
   "execution_count": 48,
   "id": "30ec620a-5160-4f07-8490-d93b642dd196",
   "metadata": {
    "tags": []
   },
   "outputs": [],
   "source": [
    "# with open(\"dataset_infos.json\", \"w\") as json_file:\n",
    "#    json.dump(dataset_dict, json_file)"
   ]
  },
  {
   "cell_type": "code",
   "execution_count": 49,
   "id": "59cc1ab1-1f10-45e1-842a-424f2863e526",
   "metadata": {
    "tags": []
   },
   "outputs": [],
   "source": [
    "import os\n",
    "list_datasets = []\n",
    "for dataset in os.listdir('datasets/Classical'):\n",
    "    list_datasets.append(dataset.replace(\".npz\",\"\"))"
   ]
  },
  {
   "cell_type": "code",
   "execution_count": 50,
   "id": "94605f02-9535-4d6a-9874-d654a7bcbff3",
   "metadata": {
    "tags": []
   },
   "outputs": [
    {
     "data": {
      "text/plain": [
       "['01_ALOI',\n",
       " '02_annthyroid',\n",
       " '03_backdoor',\n",
       " '04_breastw',\n",
       " '05_campaign',\n",
       " '06_cardio',\n",
       " '07_Cardiotocography',\n",
       " '08_celeba',\n",
       " '09_census',\n",
       " '10_cover',\n",
       " '11_donors',\n",
       " '12_fault',\n",
       " '13_fraud',\n",
       " '14_glass',\n",
       " '15_Hepatitis',\n",
       " '16_http',\n",
       " '17_InternetAds',\n",
       " '18_Ionosphere',\n",
       " '19_landsat',\n",
       " '20_letter',\n",
       " '21_Lymphography',\n",
       " '22_magic.gamma',\n",
       " '23_mammography',\n",
       " '24_mnist',\n",
       " '25_musk',\n",
       " '26_optdigits',\n",
       " '27_PageBlocks',\n",
       " '28_pendigits',\n",
       " '29_Pima',\n",
       " '30_satellite',\n",
       " '31_satimage-2',\n",
       " '32_shuttle',\n",
       " '33_skin',\n",
       " '34_smtp',\n",
       " '35_SpamBase',\n",
       " '36_speech',\n",
       " '37_Stamps',\n",
       " '38_thyroid',\n",
       " '39_vertebral',\n",
       " '40_vowels',\n",
       " '41_Waveform',\n",
       " '42_WBC',\n",
       " '43_WDBC',\n",
       " '44_Wilt',\n",
       " '45_wine',\n",
       " '46_WPBC',\n",
       " '47_yeast']"
      ]
     },
     "execution_count": 50,
     "metadata": {},
     "output_type": "execute_result"
    }
   ],
   "source": [
    "list_datasets = list_datasets[:47]\n",
    "list_datasets"
   ]
  },
  {
   "cell_type": "code",
   "execution_count": 51,
   "id": "a584dc85-5519-4653-afd9-b7f73f764040",
   "metadata": {
    "tags": []
   },
   "outputs": [],
   "source": [
    "def generate_dictionaries_with_dependency(input_dict, dependency_rule):\n",
    "    import itertools\n",
    "\n",
    "    # Separate the keys and values, and prepare for combinations excluding the dependent key\n",
    "    keys, values = zip(*((k, v) for k, v in input_dict.items() if k != \"latent_dim\"))\n",
    "    combinations = list(itertools.product(*values))\n",
    "\n",
    "    # Create dictionaries with combinations of values and add the dependent key-value pair\n",
    "    result_dicts = []\n",
    "    for combination in combinations:\n",
    "        new_dict = dict(zip(keys, combination))\n",
    "        # Apply the dependency rule to determine the value of the dependent key\n",
    "        new_dict[\"latent_dim\"] = dependency_rule(new_dict[\"dataset\"])\n",
    "        result_dicts.append(new_dict)\n",
    "\n",
    "    return result_dicts\n",
    "\n",
    "# Define a rule for the dependency of 'key4' on the value of 'key1'\n",
    "def dependency_rule(value_of_key1: str):\n",
    "    dataset = value_of_key1.split(\"_\")[1]\n",
    "    n_features = datasets[dataset][\"n_features\"]\n",
    "    if n_features > 128:\n",
    "        latent_dim = 64\n",
    "    else:\n",
    "        latent_dim = n_features / 2\n",
    "    return int(latent_dim)"
   ]
  },
  {
   "cell_type": "code",
   "execution_count": 55,
   "id": "91e1d492-9c6c-4a40-8572-c95b7a8d1a37",
   "metadata": {
    "tags": []
   },
   "outputs": [],
   "source": [
    "predefined_lists_with_dependency = {\n",
    "    \"dataset\": list_datasets,\n",
    "    \"kernel\": [\"rbf\", \"matern_5_2\"],\n",
    "    #\"batch_size\": [\"128\"],\n",
    "    #\"learning_rate\": [\"0.01\"],\n",
    "    \"latent_dim\": [],\n",
    "    # \"loss\": [\"normal\", \"loe_hard\", \"loe_soft\"],\n",
    "    #\"loss\": [\"normal\"],\n",
    "    #\"activation\": [\"relu\", \"tanh\"],\n",
    "    #\"anomaly_type\": [\"normal\",\"global\", \"local\", \"dependency\", \"clustered\"],\n",
    "    #\"noise_type\": [\"normal\",\"irrelevant_features\", \"duplicated_anomalies\", \"annotation_error\"],\n",
    "    \"layers\": [\"5,5\", \"10,10\", \"5,5,5\"],\n",
    "    #\"n_epochs\": [\"5000\"],\n",
    "}"
   ]
  },
  {
   "cell_type": "code",
   "execution_count": 56,
   "id": "a7cc1446-a68a-4e44-a0ec-b1154d953a04",
   "metadata": {
    "tags": []
   },
   "outputs": [],
   "source": [
    "generated_dictionaries_with_dependency = generate_dictionaries_with_dependency(\n",
    "    predefined_lists_with_dependency, dependency_rule\n",
    ")"
   ]
  },
  {
   "cell_type": "code",
   "execution_count": 57,
   "id": "0786f3f2-28a2-409d-b311-f9d91eb9c7c2",
   "metadata": {
    "tags": []
   },
   "outputs": [
    {
     "data": {
      "text/plain": [
       "282"
      ]
     },
     "execution_count": 57,
     "metadata": {},
     "output_type": "execute_result"
    }
   ],
   "source": [
    "len(generated_dictionaries_with_dependency)"
   ]
  },
  {
   "cell_type": "code",
   "execution_count": 58,
   "id": "58c94b8c-1a10-4a49-9774-4a4997cc6400",
   "metadata": {
    "tags": []
   },
   "outputs": [],
   "source": [
    "with open(\"experiment_set_normal_gplvm.json\", \"w\") as json_file:\n",
    "    json.dump(generated_dictionaries_with_dependency, json_file)"
   ]
  },
  {
   "cell_type": "code",
   "execution_count": 40,
   "id": "69666d14-8ca9-41fc-a2a6-4c829fa9d543",
   "metadata": {
    "tags": []
   },
   "outputs": [],
   "source": []
  },
  {
   "cell_type": "code",
   "execution_count": 9,
   "id": "16bbceb0-11b6-410a-8099-440950af25f4",
   "metadata": {
    "tags": []
   },
   "outputs": [],
   "source": [
    "import pandas as pd\n",
    "\n",
    "df = pd.read_csv(\n",
    "    \"/home/jovyan/work/OE-GPLVM/dataset_mapping.csv\",\n",
    "    names=[\"dataset\", \"n_samples\", \"n_features\", \"n_anomaly\", \"pct_anomaly\", \"domain\"],\n",
    ")"
   ]
  },
  {
   "cell_type": "code",
   "execution_count": 12,
   "id": "ca3e1dae-8b2a-40cd-b45c-7d1fef55a02c",
   "metadata": {
    "tags": []
   },
   "outputs": [],
   "source": [
    "import json\n",
    "\n",
    "datasets = json.loads(df.to_json(orient=\"records\"))"
   ]
  },
  {
   "cell_type": "code",
   "execution_count": 15,
   "id": "99e64e95-9c46-46fa-8f4d-bcc0d78705c7",
   "metadata": {
    "tags": []
   },
   "outputs": [],
   "source": [
    "with open(file_name, \"w\") as json_file:\n",
    "    json.dump(data, json_file)"
   ]
  },
  {
   "cell_type": "code",
   "execution_count": 16,
   "id": "50e47575-25e8-447f-938d-303278fb13f0",
   "metadata": {
    "tags": []
   },
   "outputs": [],
   "source": [
    "file_name = \"dataset_infos.json\"\n",
    "\n",
    "# Use json.dump() with the 'indent' parameter set to 4\n",
    "with open(file_name, \"w\") as json_file:\n",
    "    json.dump(datasets, json_file, indent=4)"
   ]
  },
  {
   "cell_type": "code",
   "execution_count": null,
   "id": "8ff32401-5d24-4b1e-a061-abeb501a52af",
   "metadata": {},
   "outputs": [],
   "source": []
  }
 ],
 "metadata": {
  "kernelspec": {
   "display_name": "Python 3 (ipykernel)",
   "language": "python",
   "name": "python3"
  },
  "language_info": {
   "codemirror_mode": {
    "name": "ipython",
    "version": 3
   },
   "file_extension": ".py",
   "mimetype": "text/x-python",
   "name": "python",
   "nbconvert_exporter": "python",
   "pygments_lexer": "ipython3",
   "version": "3.10.10"
  }
 },
 "nbformat": 4,
 "nbformat_minor": 5
}
