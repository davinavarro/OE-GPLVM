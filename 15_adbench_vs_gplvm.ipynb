{
 "cells": [
  {
   "cell_type": "code",
   "execution_count": 1,
   "metadata": {
    "ExecuteTime": {
     "end_time": "2022-07-08T07:41:53.643140Z",
     "start_time": "2022-07-08T07:41:41.552946Z"
    },
    "pycharm": {
     "name": "#%%\n"
    },
    "tags": []
   },
   "outputs": [
    {
     "name": "stderr",
     "output_type": "stream",
     "text": [
      "2023-12-05 16:45:42.557793: I tensorflow/core/platform/cpu_feature_guard.cc:193] This TensorFlow binary is optimized with oneAPI Deep Neural Network Library (oneDNN) to use the following CPU instructions in performance-critical operations:  SSE4.1 SSE4.2 AVX AVX2 AVX_VNNI FMA\n",
      "To enable them in other operations, rebuild TensorFlow with the appropriate compiler flags.\n",
      "2023-12-05 16:45:42.593540: I tensorflow/core/util/port.cc:104] oneDNN custom operations are on. You may see slightly different numerical results due to floating-point round-off errors from different computation orders. To turn them off, set the environment variable `TF_ENABLE_ONEDNN_OPTS=0`.\n"
     ]
    }
   ],
   "source": [
    "%load_ext autoreload\n",
    "%autoreload 2\n",
    "from new_aeb_gplvm import *\n",
    "import warnings\n",
    "import json\n",
    "import random\n",
    "import os\n",
    "import pandas as pd\n",
    "from sklearn.model_selection import train_test_split\n",
    "\n",
    "warnings.filterwarnings(\"ignore\")\n",
    "# import the necessary package\n",
    "from tqdm import trange\n",
    "from utils.data_generator import DataGenerator\n",
    "from utils.myutils import Utils\n",
    "import matplotlib.pyplot as plt\n",
    "import numpy as np\n",
    "import torch\n",
    "from tqdm import trange\n",
    "\n",
    "datagenerator = DataGenerator()  # data generator\n",
    "utils = Utils()  # utils function"
   ]
  },
  {
   "cell_type": "code",
   "execution_count": 2,
   "metadata": {
    "tags": []
   },
   "outputs": [],
   "source": [
    "dataset_list = os.listdir(\"datasets/Classical\")\n",
    "def fix_name(name):\n",
    "    fixed = name.replace(\".npz\", \"\")\n",
    "    return fixed\n",
    "datasets = list(map(fix_name, dataset_list))"
   ]
  },
  {
   "cell_type": "code",
   "execution_count": 3,
   "metadata": {
    "tags": []
   },
   "outputs": [],
   "source": [
    "df_hyper = pd.read_json(\"experiments/complete/gplvm/000_gplvm_normal_03_best.json\")"
   ]
  },
  {
   "cell_type": "code",
   "execution_count": 4,
   "metadata": {
    "ExecuteTime": {
     "end_time": "2022-07-08T07:41:55.627834Z",
     "start_time": "2022-07-08T07:41:53.682035Z"
    },
    "pycharm": {
     "name": "#%%\n"
    },
    "tags": []
   },
   "outputs": [],
   "source": [
    "def get_hypers(dataset):\n",
    "    hypers = df_hyper[df_hyper.dataset == dataset]\n",
    "    hp = hypers[\n",
    "        [\n",
    "            \"kernel\",\n",
    "            \"batch_size\",\n",
    "            \"learning_rate\",\n",
    "            \"latent_dim\",\n",
    "            \"layers\",\n",
    "            \"n_inducing\",\n",
    "            \"n_epochs\",\n",
    "        ]\n",
    "    ].to_dict(orient=\"records\")\n",
    "    return hp[0]"
   ]
  },
  {
   "cell_type": "code",
   "execution_count": 5,
   "metadata": {
    "ExecuteTime": {
     "end_time": "2022-07-08T07:41:55.627834Z",
     "start_time": "2022-07-08T07:41:53.682035Z"
    },
    "pycharm": {
     "name": "#%%\n"
    },
    "tags": []
   },
   "outputs": [],
   "source": [
    "from baseline.PyOD import PYOD\n",
    "model_dict = {\n",
    "    \"IForest\": PYOD,\n",
    "    \"KNN\": PYOD,\n",
    "    \"CBLOF\": PYOD,\n",
    "    \"PCA\": PYOD,\n",
    "    \"ECOD\": PYOD,\n",
    "    \"GPLVM\": AD_GPLVM,\n",
    "}"
   ]
  },
  {
   "cell_type": "code",
   "execution_count": null,
   "metadata": {
    "ExecuteTime": {
     "end_time": "2022-07-08T07:50:14.507244Z",
     "start_time": "2022-07-08T07:41:55.631823Z"
    },
    "pycharm": {
     "name": "#%%\n"
    },
    "tags": []
   },
   "outputs": [
    {
     "name": "stdout",
     "output_type": "stream",
     "text": [
      "subsampling for dataset 01_ALOI...\n",
      "subsampling for dataset 03_backdoor...\n",
      "generating duplicate samples for dataset 04_breastw...\n",
      "subsampling for dataset 05_campaign...\n",
      "subsampling for dataset 08_celeba...\n",
      "subsampling for dataset 09_census...\n",
      "subsampling for dataset 10_cover...\n",
      "subsampling for dataset 11_donors...\n",
      "subsampling for dataset 13_fraud...\n",
      "generating duplicate samples for dataset 14_glass...\n",
      "generating duplicate samples for dataset 15_Hepatitis...\n",
      "subsampling for dataset 16_http...\n",
      "generating duplicate samples for dataset 18_Ionosphere...\n",
      "generating duplicate samples for dataset 21_Lymphography...\n",
      "subsampling for dataset 22_magic.gamma...\n",
      "subsampling for dataset 23_mammography...\n",
      "An exception occurred: Expected parameter covariance_matrix (Tensor of shape (2075, 15, 15)) of distribution MultivariateNormal(loc: torch.Size([2075, 15]), covariance_matrix: torch.Size([2075, 15, 15])) to satisfy the constraint PositiveDefinite(), but found invalid values:\n",
      "tensor([[[10.2992, -2.0823,  2.1149,  ..., -3.0006, -3.6259, -2.7677],\n",
      "         [-2.0823, 11.0313,  2.0093,  ...,  1.6486, -1.2371,  1.9174],\n",
      "         [ 2.1149,  2.0093, 11.4331,  ..., -1.5180, -2.7600,  5.1689],\n",
      "         ...,\n",
      "         [-3.0006,  1.6486, -1.5180,  ..., 10.4996,  4.8290, -0.8837],\n",
      "         [-3.6259, -1.2371, -2.7600,  ...,  4.8290, 12.5394, -2.2803],\n",
      "         [-2.7677,  1.9174,  5.1689,  ..., -0.8837, -2.2803, 13.7366]],\n",
      "\n",
      "        [[10.2990, -2.0824,  2.1150,  ..., -3.0006, -3.6255, -2.7677],\n",
      "         [-2.0824, 11.0313,  2.0094,  ...,  1.6484, -1.2374,  1.9178],\n",
      "         [ 2.1150,  2.0094, 11.4331,  ..., -1.5178, -2.7599,  5.1689],\n",
      "         ...,\n",
      "         [-3.0006,  1.6484, -1.5178,  ..., 10.4998,  4.8292, -0.8838],\n",
      "         [-3.6255, -1.2374, -2.7599,  ...,  4.8292, 12.5394, -2.2799],\n",
      "         [-2.7677,  1.9178,  5.1689,  ..., -0.8838, -2.2799, 13.7365]],\n",
      "\n",
      "        [[10.1872, -1.7680,  2.1222,  ..., -2.8559, -3.5688, -2.6576],\n",
      "         [-1.7680, 11.0303,  1.8977,  ...,  1.6520, -1.2635,  2.0476],\n",
      "         [ 2.1222,  1.8977, 11.5297,  ..., -1.4106, -2.9667,  5.0030],\n",
      "         ...,\n",
      "         [-2.8559,  1.6520, -1.4106,  ..., 10.4745,  4.5582, -0.7530],\n",
      "         [-3.5688, -1.2635, -2.9667,  ...,  4.5582, 12.6567, -2.2821],\n",
      "         [-2.6576,  2.0476,  5.0030,  ..., -0.7530, -2.2821, 13.6130]],\n",
      "\n",
      "        ...,\n",
      "\n",
      "        [[10.2992, -2.0816,  2.1130,  ..., -2.9996, -3.6268, -2.7685],\n",
      "         [-2.0816, 11.0317,  2.0099,  ...,  1.6494, -1.2357,  1.9156],\n",
      "         [ 2.1130,  2.0099, 11.4332,  ..., -1.5184, -2.7589,  5.1691],\n",
      "         ...,\n",
      "         [-2.9996,  1.6494, -1.5184,  ..., 10.4990,  4.8282, -0.8833],\n",
      "         [-3.6268, -1.2357, -2.7589,  ...,  4.8282, 12.5402, -2.2809],\n",
      "         [-2.7685,  1.9156,  5.1691,  ..., -0.8833, -2.2809, 13.7366]],\n",
      "\n",
      "        [[10.2975, -2.0833,  2.1135,  ..., -3.0003, -3.6250, -2.7679],\n",
      "         [-2.0833, 11.0312,  2.0090,  ...,  1.6477, -1.2375,  1.9181],\n",
      "         [ 2.1135,  2.0090, 11.4331,  ..., -1.5180, -2.7591,  5.1698],\n",
      "         ...,\n",
      "         [-3.0003,  1.6477, -1.5180,  ..., 10.4992,  4.8297, -0.8818],\n",
      "         [-3.6250, -1.2375, -2.7591,  ...,  4.8297, 12.5401, -2.2798],\n",
      "         [-2.7679,  1.9181,  5.1698,  ..., -0.8818, -2.2798, 13.7361]],\n",
      "\n",
      "        [[10.1876, -1.7675,  2.1227,  ..., -2.8559, -3.5695, -2.6574],\n",
      "         [-1.7675, 11.0303,  1.8974,  ...,  1.6524, -1.2630,  2.0472],\n",
      "         [ 2.1227,  1.8974, 11.5299,  ..., -1.4104, -2.9670,  5.0025],\n",
      "         ...,\n",
      "         [-2.8559,  1.6524, -1.4104,  ..., 10.4744,  4.5575, -0.7531],\n",
      "         [-3.5695, -1.2630, -2.9670,  ...,  4.5575, 12.6564, -2.2828],\n",
      "         [-2.6574,  2.0472,  5.0025,  ..., -0.7531, -2.2828, 13.6131]]],\n",
      "       grad_fn=<ExpandBackward0>)\n",
      "generating duplicate samples for dataset 29_Pima...\n",
      "subsampling for dataset 32_shuttle...\n",
      "subsampling for dataset 33_skin...\n",
      "subsampling for dataset 34_smtp...\n",
      "An exception occurred: list index out of range\n",
      "generating duplicate samples for dataset 37_Stamps...\n",
      "generating duplicate samples for dataset 39_vertebral...\n",
      "generating duplicate samples for dataset 42_WBC...\n",
      "generating duplicate samples for dataset 43_WDBC...\n",
      "generating duplicate samples for dataset 45_wine...\n",
      "generating duplicate samples for dataset 46_WPBC...\n",
      "subsampling for dataset 01_ALOI...\n",
      "subsampling for dataset 03_backdoor...\n",
      "generating duplicate samples for dataset 04_breastw...\n",
      "subsampling for dataset 05_campaign...\n",
      "subsampling for dataset 08_celeba...\n",
      "subsampling for dataset 09_census...\n",
      "subsampling for dataset 10_cover...\n",
      "subsampling for dataset 11_donors...\n",
      "subsampling for dataset 13_fraud...\n",
      "generating duplicate samples for dataset 14_glass...\n",
      "generating duplicate samples for dataset 15_Hepatitis...\n",
      "subsampling for dataset 16_http...\n",
      "generating duplicate samples for dataset 18_Ionosphere...\n",
      "generating duplicate samples for dataset 21_Lymphography...\n",
      "subsampling for dataset 22_magic.gamma...\n",
      "subsampling for dataset 23_mammography...\n",
      "generating duplicate samples for dataset 29_Pima...\n",
      "subsampling for dataset 32_shuttle...\n",
      "subsampling for dataset 33_skin...\n",
      "subsampling for dataset 34_smtp...\n",
      "An exception occurred: list index out of range\n",
      "generating duplicate samples for dataset 37_Stamps...\n",
      "generating duplicate samples for dataset 39_vertebral...\n",
      "generating duplicate samples for dataset 42_WBC...\n",
      "generating duplicate samples for dataset 43_WDBC...\n",
      "generating duplicate samples for dataset 45_wine...\n",
      "generating duplicate samples for dataset 46_WPBC...\n",
      "subsampling for dataset 01_ALOI...\n",
      "subsampling for dataset 03_backdoor...\n",
      "generating duplicate samples for dataset 04_breastw...\n",
      "subsampling for dataset 05_campaign...\n",
      "subsampling for dataset 08_celeba...\n",
      "subsampling for dataset 09_census...\n",
      "subsampling for dataset 10_cover...\n",
      "subsampling for dataset 11_donors...\n",
      "subsampling for dataset 13_fraud...\n",
      "generating duplicate samples for dataset 14_glass...\n",
      "generating duplicate samples for dataset 15_Hepatitis...\n",
      "subsampling for dataset 16_http...\n",
      "generating duplicate samples for dataset 18_Ionosphere...\n",
      "generating duplicate samples for dataset 21_Lymphography...\n",
      "subsampling for dataset 22_magic.gamma...\n",
      "subsampling for dataset 23_mammography...\n",
      "generating duplicate samples for dataset 29_Pima...\n",
      "subsampling for dataset 32_shuttle...\n",
      "subsampling for dataset 33_skin...\n",
      "subsampling for dataset 34_smtp...\n",
      "An exception occurred: list index out of range\n",
      "generating duplicate samples for dataset 37_Stamps...\n",
      "generating duplicate samples for dataset 39_vertebral...\n",
      "generating duplicate samples for dataset 42_WBC...\n",
      "generating duplicate samples for dataset 43_WDBC...\n",
      "generating duplicate samples for dataset 45_wine...\n",
      "generating duplicate samples for dataset 46_WPBC...\n",
      "subsampling for dataset 01_ALOI...\n",
      "subsampling for dataset 03_backdoor...\n",
      "generating duplicate samples for dataset 04_breastw...\n",
      "subsampling for dataset 05_campaign...\n",
      "subsampling for dataset 08_celeba...\n",
      "subsampling for dataset 09_census...\n",
      "subsampling for dataset 10_cover...\n",
      "subsampling for dataset 11_donors...\n",
      "subsampling for dataset 13_fraud...\n",
      "generating duplicate samples for dataset 14_glass...\n",
      "generating duplicate samples for dataset 15_Hepatitis...\n",
      "subsampling for dataset 16_http...\n",
      "generating duplicate samples for dataset 18_Ionosphere...\n",
      "generating duplicate samples for dataset 21_Lymphography...\n",
      "subsampling for dataset 22_magic.gamma...\n",
      "subsampling for dataset 23_mammography...\n",
      "generating duplicate samples for dataset 29_Pima...\n",
      "subsampling for dataset 32_shuttle...\n",
      "subsampling for dataset 33_skin...\n",
      "subsampling for dataset 34_smtp...\n",
      "An exception occurred: list index out of range\n",
      "generating duplicate samples for dataset 37_Stamps...\n",
      "generating duplicate samples for dataset 39_vertebral...\n",
      "generating duplicate samples for dataset 42_WBC...\n",
      "generating duplicate samples for dataset 43_WDBC...\n",
      "generating duplicate samples for dataset 45_wine...\n",
      "generating duplicate samples for dataset 46_WPBC...\n",
      "subsampling for dataset 01_ALOI...\n",
      "subsampling for dataset 03_backdoor...\n",
      "generating duplicate samples for dataset 04_breastw...\n",
      "subsampling for dataset 05_campaign...\n",
      "subsampling for dataset 08_celeba...\n",
      "subsampling for dataset 09_census...\n",
      "subsampling for dataset 10_cover...\n"
     ]
    }
   ],
   "source": [
    "# seed for reproducible results\n",
    "seed = 42\n",
    "df_AUCROC = pd.DataFrame(data=None, index=datasets, columns=model_dict.keys())\n",
    "df_AUCPR = pd.DataFrame(data=None, index=datasets, columns=model_dict.keys())\n",
    "for mode in [\"normal\", \"contaminated\"]:\n",
    "    for duplicates in [2,3,4,5,6]:\n",
    "        for dataset in datasets:\n",
    "            # import the dataset\n",
    "            datagenerator.dataset = dataset  # specify the dataset name\n",
    "            data = datagenerator.generator(\n",
    "                la=1.0,\n",
    "                realistic_synthetic_mode=None,\n",
    "                noise_type=\"duplicated_anomalies\",\n",
    "                duplicate_times= duplicates,\n",
    "                stdscale=True,\n",
    "                minmax=False,\n",
    "            )\n",
    "            ratio = data[\"y_train\"].sum() / len(data[\"y_train\"])\n",
    "            Y_train, Y_test, lb_train, lb_test = (\n",
    "                data[\"X_train\"],\n",
    "                data[\"X_test\"],\n",
    "                data[\"y_train\"],\n",
    "                data[\"y_test\"],\n",
    "            )\n",
    "            \n",
    "            if mode == \"normal\":\n",
    "                idx_n = np.where(lb_train == 0)[0]\n",
    "                Y_train = Y_train[idx_n]\n",
    "                lb_train = lb_train[idx_n]\n",
    "        \n",
    "            for name, clf in model_dict.items():\n",
    "                try:\n",
    "                    if name != \"GPLVM\":\n",
    "                        clf = clf(seed=seed, model_name=name)\n",
    "                        clf = clf.fit(X_train=Y_train, y_train=lb_train)\n",
    "                        score = clf.predict_score(Y_test)\n",
    "                    else:\n",
    "                        hp = get_hypers(dataset)\n",
    "                        clf = AD_GPLVM(\n",
    "                            latent_dim=hp[\"latent_dim\"],\n",
    "                            n_inducing=hp[\"n_inducing\"],\n",
    "                            n_epochs=hp[\"n_epochs\"],\n",
    "                            nn_layers=tuple(map(int, hp[\"layers\"].split(\",\"))),\n",
    "                            lr=hp[\"learning_rate\"],\n",
    "                            batch_size=hp[\"batch_size\"],\n",
    "                            kernel=hp[\"kernel\"],\n",
    "                        )\n",
    "                        clf.fit(torch.tensor(Y_train, dtype=torch.float32))\n",
    "                        score = clf.predict_score(torch.tensor(Y_test, dtype=torch.float32))\n",
    "        \n",
    "                    result = utils.metric(y_true=lb_test, y_score=score)\n",
    "        \n",
    "                    # save results\n",
    "                    df_AUCROC.loc[dataset, name] = result[\"aucroc\"]\n",
    "                    df_AUCPR.loc[dataset, name] = result[\"aucpr\"]\n",
    "        \n",
    "                except Exception as error:\n",
    "                    print(\"An exception occurred:\", error)\n",
    "                    df_AUCROC.loc[dataset, name] = 0.0\n",
    "                    df_AUCPR.loc[dataset, name] = 0.0\n",
    "        df_AUCROC.to_json(f\"experiments/complete/adbench/duplicate_anomalies/ad_vs_gp_aucroc_{mode}_{duplicates}.json\", orient = \"records\")\n",
    "        df_AUCPR.to_json( f\"experiments/complete/adbench/duplicate_anomalies/ad_vs_gp_aucpr_{mode}_{duplicates}.json\", orient = \"records\")"
   ]
  },
  {
   "cell_type": "code",
   "execution_count": null,
   "metadata": {
    "tags": []
   },
   "outputs": [],
   "source": [
    "#df_AUCROC.to_json(\"experiments/complete/002_adbench_vs_gplvm_aucroc_contaminated.json\", orient = \"records\")\n",
    "#df_AUCROC.to_csv(\"experiments/complete/002_adbench_vs_gplvm_aucroc_contaminated.csv\")\n",
    "#df_AUCPR.to_json(\"experiments/complete/002_adbench_vs_gplvm_aucpr_contaminated.json\", orient = \"records\")\n",
    "#df_AUCPR.to_csv(\"experiments/complete/002_adbench_vs_gplvm_aucpr_contaminated.csv\")"
   ]
  },
  {
   "cell_type": "code",
   "execution_count": null,
   "metadata": {
    "tags": []
   },
   "outputs": [],
   "source": [
    "import seaborn as sns\n",
    "sns.boxplot(data = df_AUCROC)\n",
    "None"
   ]
  },
  {
   "cell_type": "code",
   "execution_count": null,
   "metadata": {
    "tags": []
   },
   "outputs": [],
   "source": [
    "sns.boxplot(data = df_AUCPR)\n",
    "None"
   ]
  },
  {
   "cell_type": "code",
   "execution_count": null,
   "metadata": {
    "tags": []
   },
   "outputs": [],
   "source": [
    "df_AUCROC"
   ]
  },
  {
   "cell_type": "code",
   "execution_count": null,
   "metadata": {
    "tags": []
   },
   "outputs": [],
   "source": [
    "# df_AUCROC.reset_index().rename(columns={\"index\": \"dataset\"}).to_json(\n",
    "#    \"experiments/complete/002_adbench_auc_roc_normal_results.json\", orient=\"records\"\n",
    "# )"
   ]
  },
  {
   "cell_type": "code",
   "execution_count": null,
   "metadata": {
    "tags": []
   },
   "outputs": [],
   "source": [
    "# df_AUCPR.reset_index().rename(columns={\"index\": \"dataset\"}).to_json(\n",
    "#    \"experiments/complete/002_adbench_auc_pr_normal_results.json\", orient=\"records\"\n",
    "# )"
   ]
  }
 ],
 "metadata": {
  "kernelspec": {
   "display_name": "Python 3 (ipykernel)",
   "language": "python",
   "name": "python3"
  },
  "language_info": {
   "codemirror_mode": {
    "name": "ipython",
    "version": 3
   },
   "file_extension": ".py",
   "mimetype": "text/x-python",
   "name": "python",
   "nbconvert_exporter": "python",
   "pygments_lexer": "ipython3",
   "version": "3.10.10"
  },
  "toc": {
   "base_numbering": 1,
   "nav_menu": {},
   "number_sections": true,
   "sideBar": true,
   "skip_h1_title": false,
   "title_cell": "Table of Contents",
   "title_sidebar": "Contents",
   "toc_cell": false,
   "toc_position": {},
   "toc_section_display": true,
   "toc_window_display": false
  },
  "varInspector": {
   "cols": {
    "lenName": 16,
    "lenType": 16,
    "lenVar": 40
   },
   "kernels_config": {
    "python": {
     "delete_cmd_postfix": "",
     "delete_cmd_prefix": "del ",
     "library": "var_list.py",
     "varRefreshCmd": "print(var_dic_list())"
    },
    "r": {
     "delete_cmd_postfix": ") ",
     "delete_cmd_prefix": "rm(",
     "library": "var_list.r",
     "varRefreshCmd": "cat(var_dic_list()) "
    }
   },
   "types_to_exclude": [
    "module",
    "function",
    "builtin_function_or_method",
    "instance",
    "_Feature"
   ],
   "window_display": false
  }
 },
 "nbformat": 4,
 "nbformat_minor": 4
}
