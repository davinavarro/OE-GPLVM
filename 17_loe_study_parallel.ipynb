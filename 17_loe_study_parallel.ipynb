{
 "cells": [
  {
   "cell_type": "code",
   "execution_count": 1,
   "metadata": {
    "ExecuteTime": {
     "end_time": "2023-12-08T21:22:25.088126800Z",
     "start_time": "2023-12-08T21:22:25.061869600Z"
    },
    "pycharm": {
     "name": "#%%\n"
    },
    "tags": []
   },
   "outputs": [
    {
     "name": "stderr",
     "output_type": "stream",
     "text": [
      "2023-12-09 05:18:38.670203: I tensorflow/core/platform/cpu_feature_guard.cc:193] This TensorFlow binary is optimized with oneAPI Deep Neural Network Library (oneDNN) to use the following CPU instructions in performance-critical operations:  SSE4.1 SSE4.2 AVX AVX2 AVX_VNNI FMA\n",
      "To enable them in other operations, rebuild TensorFlow with the appropriate compiler flags.\n",
      "2023-12-09 05:18:38.707603: I tensorflow/core/util/port.cc:104] oneDNN custom operations are on. You may see slightly different numerical results due to floating-point round-off errors from different computation orders. To turn them off, set the environment variable `TF_ENABLE_ONEDNN_OPTS=0`.\n"
     ]
    }
   ],
   "source": [
    "%load_ext autoreload\n",
    "%autoreload 2\n",
    "from new_aeb_gplvm import *\n",
    "import warnings\n",
    "import json\n",
    "import random\n",
    "import os\n",
    "import pandas as pd\n",
    "from sklearn.model_selection import train_test_split\n",
    "from torch.distributions import kl_divergence\n",
    "\n",
    "warnings.filterwarnings(\"ignore\")\n",
    "# import the necessary package\n",
    "from tqdm import trange\n",
    "from utils.data_generator import DataGenerator\n",
    "from utils.myutils import Utils\n",
    "import matplotlib.pyplot as plt\n",
    "import numpy as np\n",
    "import torch\n",
    "from tqdm import trange\n",
    "\n",
    "datagenerator = DataGenerator()  # data generator\n",
    "utils = Utils()  # utils function"
   ]
  },
  {
   "cell_type": "code",
   "execution_count": 2,
   "metadata": {
    "tags": []
   },
   "outputs": [],
   "source": [
    "dataset_list = os.listdir(\"datasets/Classical\")\n",
    "\n",
    "\n",
    "def fix_name(name):\n",
    "    fixed = name.replace(\".npz\", \"\")\n",
    "    return fixed\n",
    "\n",
    "\n",
    "datasets = list(map(fix_name, dataset_list))"
   ]
  },
  {
   "cell_type": "code",
   "execution_count": 3,
   "metadata": {
    "tags": []
   },
   "outputs": [],
   "source": [
    "df_hyper = pd.read_json(\"experiments/complete/gplvm/000_gplvm_normal_03_best.json\")"
   ]
  },
  {
   "cell_type": "code",
   "execution_count": 4,
   "metadata": {
    "ExecuteTime": {
     "end_time": "2022-07-08T07:41:55.627834Z",
     "start_time": "2022-07-08T07:41:53.682035Z"
    },
    "pycharm": {
     "name": "#%%\n"
    },
    "tags": []
   },
   "outputs": [],
   "source": [
    "def get_hypers(dataset):\n",
    "    hypers = df_hyper[df_hyper.dataset == dataset]\n",
    "    hp = hypers[\n",
    "        [\n",
    "            \"kernel\",\n",
    "            \"batch_size\",\n",
    "            \"learning_rate\",\n",
    "            \"latent_dim\",\n",
    "            \"layers\",\n",
    "            \"n_inducing\",\n",
    "            \"n_epochs\",\n",
    "        ]\n",
    "    ].to_dict(orient=\"records\")\n",
    "    return hp[0]"
   ]
  },
  {
   "cell_type": "code",
   "execution_count": 5,
   "metadata": {
    "ExecuteTime": {
     "end_time": "2022-07-08T07:41:55.627834Z",
     "start_time": "2022-07-08T07:41:53.682035Z"
    },
    "pycharm": {
     "name": "#%%\n"
    },
    "tags": []
   },
   "outputs": [],
   "source": [
    "from baseline.PyOD import PYOD\n",
    "\n",
    "model_dict = {\"GPLVM\": AD_GPLVM}"
   ]
  },
  {
   "cell_type": "code",
   "execution_count": 6,
   "metadata": {
    "ExecuteTime": {
     "end_time": "2022-07-08T07:41:55.627834Z",
     "start_time": "2022-07-08T07:41:53.682035Z"
    },
    "pycharm": {
     "name": "#%%\n"
    },
    "tags": []
   },
   "outputs": [],
   "source": [
    "#datasets_ruins = [\n",
    "#    \"22_magic.gamma\",\n",
    "#    \"33_skin\",\n",
    "#]\n",
    "#datasets_medianos = [\n",
    "#    \"41_Waveform\",\n",
    "#    \"36_speech\",\n",
    "#]\n",
    "#datasets_bons = [\n",
    "#    \"16_http\",\n",
    "#    \"21_Lymphography\",\n",
    "#]\n",
    "#datasets = datasets_ruins + datasets_medianos + datasets_bons"
   ]
  },
  {
   "cell_type": "code",
   "execution_count": 8,
   "metadata": {
    "ExecuteTime": {
     "end_time": "2022-07-08T07:41:55.627834Z",
     "start_time": "2022-07-08T07:41:53.682035Z"
    },
    "pycharm": {
     "name": "#%%\n"
    },
    "tags": []
   },
   "outputs": [],
   "source": [
    "methods = [\"soft\", \"hard\"]\n",
    "# labeled_anomalies = [0.01, 0.2, 0.4, 0.6, 0.8, 0.99]\n",
    "tune_list = [\"alt\", \"start\", \"padrao\"]"
   ]
  },
  {
   "cell_type": "code",
   "execution_count": null,
   "metadata": {
    "ExecuteTime": {
     "end_time": "2022-07-08T07:41:55.627834Z",
     "start_time": "2022-07-08T07:41:53.682035Z"
    },
    "pycharm": {
     "name": "#%%\n"
    },
    "tags": []
   },
   "outputs": [
    {
     "name": "stdout",
     "output_type": "stream",
     "text": [
      "subsampling for dataset 01_ALOI...\n"
     ]
    }
   ],
   "source": [
    "for dataset in datasets:\n",
    "    # for la in labeled_anomalies:\n",
    "    for tune_type in tune_list:\n",
    "        seed = 42\n",
    "        # df_AUCROC = pd.DataFrame(data=None, index=datasets, columns=model_dict.keys())\n",
    "        # df_AUCPR = pd.DataFrame(data=None, index=datasets, columns=model_dict.keys())\n",
    "\n",
    "        datagenerator.dataset = dataset  # specify the dataset name\n",
    "        data = datagenerator.generator(\n",
    "            la=0.5,\n",
    "            realistic_synthetic_mode=None,\n",
    "            noise_type=None,\n",
    "            stdscale=True,\n",
    "            minmax=False,\n",
    "        )\n",
    "        true_ratio = data[\"y_test\"].sum() / len(data[\"y_test\"])\n",
    "        Y_train, Y_test, lb_train, lb_test = (\n",
    "            data[\"X_train\"],\n",
    "            data[\"X_test\"],\n",
    "            data[\"y_train\"],\n",
    "            data[\"y_test\"],\n",
    "        )\n",
    "        for method in methods:\n",
    "            try:\n",
    "                hp = get_hypers(dataset)\n",
    "                aucroc = []\n",
    "                aucpr = []\n",
    "                for i in range(3):\n",
    "                    clf = AD_GPLVM(\n",
    "                        latent_dim=hp[\"latent_dim\"],\n",
    "                        n_inducing=hp[\"n_inducing\"],\n",
    "                        n_epochs=1000,  # hp[\"n_epochs\"],\n",
    "                        nn_layers=tuple(map(int, hp[\"layers\"].split(\",\"))),\n",
    "                        lr=hp[\"learning_rate\"],\n",
    "                        batch_size=hp[\"batch_size\"],\n",
    "                        kernel=hp[\"kernel\"],\n",
    "                    )\n",
    "                    clf.fit(Y_train, lb_train, loss_type=method, tune=tune_type)\n",
    "                    score = clf.predict_score(Y_test)\n",
    "                    result = utils.metric(y_true=lb_test, y_score=score)\n",
    "                    aucroc.append(result[\"aucroc\"])\n",
    "                    aucpr.append(result[\"aucpr\"])\n",
    "\n",
    "                result[\"aucroc\"] = np.mean(aucroc)\n",
    "                result[\"aucpr\"] = np.mean(aucpr)\n",
    "            except Exception as e:\n",
    "                print(f\"problema no {dataset}\")\n",
    "                result[\"aucroc\"] = 0.0\n",
    "                result[\"aucpr\"] = 0.0\n",
    "            result[\"dataset\"] = dataset\n",
    "            result[\"method\"] = method\n",
    "            result[\"test_ratio\"] = true_ratio\n",
    "            result[\"train_ratio\"] = true_ratio\n",
    "            result[\"labeled_anomalies\"] = 1.00\n",
    "            result[\"loe_loss\"] = clf.loe_list\n",
    "            result[\"n_epochs\"] = clf.i\n",
    "\n",
    "            with open(\n",
    "                f\"experiments/complete/loe_x/{dataset}_{method}_{tune_type}_la_050.json\",\n",
    "                \"w\",\n",
    "            ) as file:\n",
    "                json.dump(result, file)"
   ]
  },
  {
   "cell_type": "code",
   "execution_count": 401,
   "metadata": {
    "ExecuteTime": {
     "end_time": "2022-07-08T07:50:14.507244Z",
     "start_time": "2022-07-08T07:41:55.631823Z"
    },
    "pycharm": {
     "name": "#%%\n"
    },
    "tags": []
   },
   "outputs": [
    {
     "name": "stdout",
     "output_type": "stream",
     "text": [
      "subsampling for dataset 16_http...\n"
     ]
    },
    {
     "data": {
      "text/plain": [
       "'16_http'"
      ]
     },
     "execution_count": 401,
     "metadata": {},
     "output_type": "execute_result"
    }
   ],
   "source": [
    "# seed for reproducible results\n",
    "dataset = datasets[6]\n",
    "seed = 42\n",
    "df_AUCROC = pd.DataFrame(data=None, index=datasets, columns=model_dict.keys())\n",
    "df_AUCPR = pd.DataFrame(data=None, index=datasets, columns=model_dict.keys())\n",
    "# import the dataset\n",
    "datagenerator.dataset = dataset  # specify the dataset name\n",
    "data = datagenerator.generator(\n",
    "    la=1.00,\n",
    "    realistic_synthetic_mode=None,\n",
    "    noise_type=None,\n",
    "    stdscale=True,\n",
    "    minmax=False,\n",
    ")\n",
    "ratio = data[\"y_train\"].sum() / len(data[\"y_train\"])\n",
    "Y_train, Y_test, lb_train, lb_test = (\n",
    "    data[\"X_train\"],\n",
    "    data[\"X_test\"],\n",
    "    data[\"y_train\"],\n",
    "    data[\"y_test\"],\n",
    ")\n",
    "hp = get_hypers(dataset)\n",
    "dataset"
   ]
  },
  {
   "cell_type": "code",
   "execution_count": 402,
   "metadata": {
    "ExecuteTime": {
     "end_time": "2022-07-08T07:50:14.507244Z",
     "start_time": "2022-07-08T07:41:55.631823Z"
    },
    "pycharm": {
     "name": "#%%\n"
    },
    "tags": []
   },
   "outputs": [],
   "source": [
    "# 15_Hepatitis, 18_Ionosphere, 20_letter"
   ]
  },
  {
   "cell_type": "code",
   "execution_count": 403,
   "metadata": {
    "ExecuteTime": {
     "end_time": "2022-07-08T07:50:14.507244Z",
     "start_time": "2022-07-08T07:41:55.631823Z"
    },
    "pycharm": {
     "name": "#%%\n"
    },
    "tags": []
   },
   "outputs": [],
   "source": [
    "# skin fica bom para alternado/2, soft, 1000 epochs, 81%\n",
    "#"
   ]
  },
  {
   "cell_type": "code",
   "execution_count": 413,
   "metadata": {
    "ExecuteTime": {
     "end_time": "2022-07-08T07:50:14.507244Z",
     "start_time": "2022-07-08T07:41:55.631823Z"
    },
    "pycharm": {
     "name": "#%%\n"
    },
    "tags": []
   },
   "outputs": [],
   "source": [
    "clf = AD_GPLVM(\n",
    "    latent_dim=hp[\"latent_dim\"],\n",
    "    n_inducing=hp[\"n_inducing\"],\n",
    "    n_epochs=10,  # hp[\"n_epochs\"],\n",
    "    nn_layers=tuple(map(int, hp[\"layers\"].split(\",\"))),\n",
    "    lr=hp[\"learning_rate\"],\n",
    "    batch_size=hp[\"batch_size\"],\n",
    "    kernel=hp[\"kernel\"],\n",
    ")"
   ]
  },
  {
   "cell_type": "code",
   "execution_count": 424,
   "metadata": {
    "ExecuteTime": {
     "end_time": "2022-07-08T07:50:14.507244Z",
     "start_time": "2022-07-08T07:41:55.631823Z"
    },
    "pycharm": {
     "name": "#%%\n"
    },
    "tags": []
   },
   "outputs": [
    {
     "name": "stdout",
     "output_type": "stream",
     "text": [
      "0.9969839142091153\n"
     ]
    }
   ],
   "source": [
    "aucroc = []\n",
    "for i in range(1):\n",
    "    clf.fit(Y_train, lb_train, loss_type=\"blind\", tune=\"start\")\n",
    "    score = clf.predict_score(Y_test)\n",
    "    result = utils.metric(y_true=lb_test, y_score=score)\n",
    "    aucroc.append(result[\"aucroc\"])\n",
    "print(np.mean(aucroc))"
   ]
  },
  {
   "cell_type": "code",
   "execution_count": 425,
   "metadata": {
    "ExecuteTime": {
     "end_time": "2022-07-08T07:50:14.507244Z",
     "start_time": "2022-07-08T07:41:55.631823Z"
    },
    "pycharm": {
     "name": "#%%\n"
    },
    "tags": []
   },
   "outputs": [
    {
     "data": {
      "text/plain": [
       "{'aucroc': 0.9969839142091153, 'aucpr': 0.4448181678707952}"
      ]
     },
     "execution_count": 425,
     "metadata": {},
     "output_type": "execute_result"
    }
   ],
   "source": [
    "result"
   ]
  },
  {
   "cell_type": "code",
   "execution_count": 426,
   "metadata": {
    "ExecuteTime": {
     "end_time": "2022-07-08T07:50:14.507244Z",
     "start_time": "2022-07-08T07:41:55.631823Z"
    },
    "pycharm": {
     "name": "#%%\n"
    },
    "tags": []
   },
   "outputs": [
    {
     "data": {
      "text/plain": [
       "9"
      ]
     },
     "execution_count": 426,
     "metadata": {},
     "output_type": "execute_result"
    }
   ],
   "source": [
    "clf.i"
   ]
  },
  {
   "cell_type": "code",
   "execution_count": 417,
   "metadata": {
    "ExecuteTime": {
     "end_time": "2022-07-08T07:50:14.507244Z",
     "start_time": "2022-07-08T07:41:55.631823Z"
    },
    "pycharm": {
     "name": "#%%\n"
    },
    "tags": []
   },
   "outputs": [],
   "source": [
    "# clf.lll.sum(), clf.klu.sum(), clf.klx.sum()"
   ]
  },
  {
   "cell_type": "code",
   "execution_count": 418,
   "metadata": {
    "ExecuteTime": {
     "end_time": "2022-07-08T07:50:14.507244Z",
     "start_time": "2022-07-08T07:41:55.631823Z"
    },
    "pycharm": {
     "name": "#%%\n"
    },
    "tags": []
   },
   "outputs": [],
   "source": [
    "# elbo = VariationalELBO(clf.likelihood, clf.model, len(Y_train), combine_terms=False)"
   ]
  },
  {
   "cell_type": "code",
   "execution_count": 419,
   "metadata": {
    "ExecuteTime": {
     "end_time": "2022-07-08T07:50:14.507244Z",
     "start_time": "2022-07-08T07:41:55.631823Z"
    },
    "pycharm": {
     "name": "#%%\n"
    },
    "tags": []
   },
   "outputs": [],
   "source": [
    "# elbo(clf.pred, clf.batch)[0].sum(),elbo(clf.pred, clf.batch)[1].sum(), elbo(clf.pred, clf.batch)[3].sum()"
   ]
  },
  {
   "cell_type": "code",
   "execution_count": 420,
   "metadata": {
    "ExecuteTime": {
     "end_time": "2022-07-08T07:50:14.507244Z",
     "start_time": "2022-07-08T07:41:55.631823Z"
    },
    "pycharm": {
     "name": "#%%\n"
    },
    "tags": []
   },
   "outputs": [
    {
     "data": {
      "image/png": "[encoded data removed]",
      "text/plain": [
       "<Figure size 640x480 with 1 Axes>"
      ]
     },
     "metadata": {},
     "output_type": "display_data"
    }
   ],
   "source": [
    "plt.plot(\n",
    "    clf.lll_loe,\n",
    "    label=\"LL_Loe\",\n",
    ")\n",
    "plt.plot(\n",
    "    clf.lll_elbo,\n",
    "    label=\"LL_Elbo\",\n",
    ")\n",
    "# plt.plot(\n",
    "#    clf.klx_loe,\n",
    "#    label=\"KLX_Loe\",\n",
    "# )\n",
    "# plt.plot(\n",
    "#    clf.klx_elbo,\n",
    "#    label=\"KLX_Elbo\",\n",
    "# )\n",
    "# plt.plot(\n",
    "#    clf.klu_loe,\n",
    "#    label=\"KLU_Loe\",\n",
    "# )\n",
    "# plt.plot(\n",
    "#    clf.klu_elbo,\n",
    "#    label=\"KLU_Elbo\",\n",
    "# )\n",
    "plt.plot(\n",
    "    clf.loe_list,\n",
    "    label=\"elbo_loe\",\n",
    ")\n",
    "plt.plot(\n",
    "    clf.loss_list,\n",
    "    label=\"elbo_normal\",\n",
    ")\n",
    "plt.legend()\n",
    "None"
   ]
  },
  {
   "cell_type": "code",
   "execution_count": 277,
   "metadata": {
    "ExecuteTime": {
     "end_time": "2022-07-08T07:50:14.507244Z",
     "start_time": "2022-07-08T07:41:55.631823Z"
    },
    "pycharm": {
     "name": "#%%\n"
    },
    "tags": []
   },
   "outputs": [
    {
     "data": {
      "text/plain": [
       "[217.48704528808594,\n",
       " 178.286865234375,\n",
       " 251.48683166503906,\n",
       " 209.7429962158203,\n",
       " 247.68797302246094,\n",
       " 253.1437530517578,\n",
       " 207.59375,\n",
       " 229.3931427001953,\n",
       " 196.337646484375,\n",
       " 208.3699951171875,\n",
       " 234.20660400390625,\n",
       " 238.94125366210938,\n",
       " 160.27969360351562,\n",
       " 164.610107421875,\n",
       " 196.4988250732422,\n",
       " 224.17886352539062,\n",
       " 200.18826293945312,\n",
       " 201.68524169921875,\n",
       " 176.7822723388672,\n",
       " 200.29718017578125,\n",
       " 230.74412536621094,\n",
       " 228.36068725585938,\n",
       " 194.8242645263672,\n",
       " 163.9984130859375,\n",
       " 187.7565155029297,\n",
       " 180.28094482421875,\n",
       " 178.4506378173828,\n",
       " 187.83975219726562,\n",
       " 226.58099365234375,\n",
       " 221.0401611328125,\n",
       " 141.94384765625,\n",
       " 218.39849853515625,\n",
       " 178.01614379882812,\n",
       " 204.8416290283203,\n",
       " 172.39259338378906,\n",
       " 140.0137176513672,\n",
       " 174.796875,\n",
       " 161.7910919189453,\n",
       " 159.6748504638672,\n",
       " 198.30332946777344,\n",
       " 156.98211669921875,\n",
       " 160.05381774902344,\n",
       " 154.96266174316406,\n",
       " 150.73109436035156,\n",
       " 194.3462677001953,\n",
       " 190.3853759765625,\n",
       " 148.4295654296875,\n",
       " 182.27392578125,\n",
       " 94.23429107666016,\n",
       " 144.63021850585938,\n",
       " 163.31881713867188,\n",
       " 171.33987426757812,\n",
       " 95.68800354003906,\n",
       " 182.19351196289062,\n",
       " 152.78758239746094,\n",
       " 93.00599670410156,\n",
       " 94.5789566040039,\n",
       " 182.61383056640625,\n",
       " 131.29884338378906,\n",
       " 112.88837432861328,\n",
       " 125.3571548461914,\n",
       " 154.8265838623047,\n",
       " 105.2017593383789,\n",
       " 123.88063049316406,\n",
       " 164.44508361816406,\n",
       " 119.26820373535156,\n",
       " 59.875755310058594,\n",
       " 161.93394470214844,\n",
       " 130.04910278320312,\n",
       " 129.1204071044922,\n",
       " 141.92372131347656,\n",
       " 150.55108642578125,\n",
       " 149.71543884277344,\n",
       " 86.69325256347656,\n",
       " 150.27871704101562,\n",
       " 127.84085845947266,\n",
       " 148.11605834960938,\n",
       " 70.6231460571289,\n",
       " 150.73641967773438,\n",
       " 121.71503448486328,\n",
       " 140.83953857421875,\n",
       " 70.7140884399414,\n",
       " 103.43388366699219,\n",
       " 93.9797134399414,\n",
       " 144.15036010742188,\n",
       " 86.67790985107422,\n",
       " 138.56048583984375,\n",
       " 124.65118408203125,\n",
       " -3.3726139068603516]"
      ]
     },
     "execution_count": 277,
     "metadata": {},
     "output_type": "execute_result"
    }
   ],
   "source": [
    "clf.loe_list"
   ]
  },
  {
   "cell_type": "code",
   "execution_count": 88,
   "metadata": {
    "ExecuteTime": {
     "end_time": "2022-07-08T07:50:14.507244Z",
     "start_time": "2022-07-08T07:41:55.631823Z"
    },
    "pycharm": {
     "name": "#%%\n"
    },
    "tags": []
   },
   "outputs": [
    {
     "data": {
      "text/plain": [
       "tensor(-91.6781, grad_fn=<SumBackward0>)"
      ]
     },
     "execution_count": 88,
     "metadata": {},
     "output_type": "execute_result"
    }
   ],
   "source": [
    "clf.elbo(clf.pred, clf.batch).sum()"
   ]
  },
  {
   "cell_type": "code",
   "execution_count": 132,
   "metadata": {
    "ExecuteTime": {
     "end_time": "2022-07-08T07:50:14.507244Z",
     "start_time": "2022-07-08T07:41:55.631823Z"
    },
    "pycharm": {
     "name": "#%%\n"
    },
    "tags": []
   },
   "outputs": [
    {
     "data": {
      "text/plain": [
       "tensor(0.1080, grad_fn=<DivBackward0>)"
      ]
     },
     "execution_count": 132,
     "metadata": {},
     "output_type": "execute_result"
    }
   ],
   "source": [
    "kl_divergence(clf.encoder.kl_latent.q_x, clf.encoder.kl_latent.p_x).sum(axis=0) / (\n",
    "    clf.encoder.kl_latent.n\n",
    ")"
   ]
  },
  {
   "cell_type": "code",
   "execution_count": 122,
   "metadata": {
    "ExecuteTime": {
     "end_time": "2022-07-08T07:50:14.507244Z",
     "start_time": "2022-07-08T07:41:55.631823Z"
    },
    "pycharm": {
     "name": "#%%\n"
    },
    "tags": []
   },
   "outputs": [],
   "source": [
    "Y_train = torch.tensor(Y_train, dtype=torch.float32)\n",
    "sample = clf.model.sample_latent_variable(Y_train)\n",
    "output = clf.model(sample)"
   ]
  },
  {
   "cell_type": "code",
   "execution_count": 123,
   "metadata": {
    "ExecuteTime": {
     "end_time": "2022-07-08T07:50:14.507244Z",
     "start_time": "2022-07-08T07:41:55.631823Z"
    },
    "pycharm": {
     "name": "#%%\n"
    },
    "tags": []
   },
   "outputs": [
    {
     "data": {
      "text/plain": [
       "tensor(-42.5673, grad_fn=<SumBackward0>)"
      ]
     },
     "execution_count": 123,
     "metadata": {},
     "output_type": "execute_result"
    }
   ],
   "source": [
    "clf.elbo(output, Y_train.T).sum()"
   ]
  },
  {
   "cell_type": "code",
   "execution_count": 124,
   "metadata": {
    "tags": []
   },
   "outputs": [],
   "source": [
    "elbo_x = VariationalELBO(clf.likelihood, clf.model, len(Y_train), combine_terms=False)"
   ]
  },
  {
   "cell_type": "code",
   "execution_count": 125,
   "metadata": {
    "tags": []
   },
   "outputs": [
    {
     "data": {
      "text/plain": [
       "{'log_likelihood': tensor([-1.5695, -1.5708, -1.5703, -1.5700, -1.5688, -1.5696, -1.5694, -1.5694,\n",
       "         -1.5697, -1.5705, -1.5697, -1.5696, -1.5700, -1.5695, -1.5694, -1.5696,\n",
       "         -1.5691, -1.5698, -1.5701, -1.5699, -1.5698, -1.5706, -1.5703, -1.5698,\n",
       "         -1.5695, -1.5698, -1.5698], grad_fn=<DivBackward0>),\n",
       " 'll_sum': tensor(-42.3843, grad_fn=<SumBackward0>),\n",
       " 'klx': tensor([0.0040, 0.0040, 0.0040, 0.0040, 0.0040, 0.0040, 0.0040, 0.0040, 0.0040,\n",
       "         0.0040, 0.0040, 0.0040, 0.0040, 0.0040, 0.0040, 0.0040, 0.0040, 0.0040,\n",
       "         0.0040, 0.0040, 0.0040, 0.0040, 0.0040, 0.0040, 0.0040, 0.0040, 0.0040],\n",
       "        grad_fn=<AddBackward0>),\n",
       " 'klx_sum': tensor(0.1080, grad_fn=<SumBackward0>),\n",
       " 'klu': tensor([0.0028, 0.0028, 0.0028, 0.0028, 0.0028, 0.0028, 0.0027, 0.0028, 0.0028,\n",
       "         0.0028, 0.0028, 0.0028, 0.0028, 0.0028, 0.0028, 0.0028, 0.0028, 0.0028,\n",
       "         0.0028, 0.0028, 0.0028, 0.0028, 0.0028, 0.0028, 0.0028, 0.0028, 0.0028],\n",
       "        grad_fn=<DivBackward0>),\n",
       " 'klu_sum': tensor(0.0750, grad_fn=<SumBackward0>),\n",
       " 'total_sum': tensor(-42.5673, grad_fn=<SubBackward0>)}"
      ]
     },
     "execution_count": 125,
     "metadata": {},
     "output_type": "execute_result"
    }
   ],
   "source": [
    "ll, klu, _, klx = elbo_x(output, Y_train.T)\n",
    "{\n",
    "    \"log_likelihood\": ll,\n",
    "    \"ll_sum\": ll.sum(),\n",
    "    \"klx\": klx,\n",
    "    \"klx_sum\": klx.sum(),\n",
    "    \"klu\": klu,\n",
    "    \"klu_sum\": klu.sum(),\n",
    "    \"total_sum\": ll.sum() - klx.sum() - klu.sum(),\n",
    "}"
   ]
  },
  {
   "cell_type": "code",
   "execution_count": 127,
   "metadata": {
    "tags": []
   },
   "outputs": [
    {
     "data": {
      "text/plain": [
       "{'log_likelihood': tensor([-0.0045, -0.0045, -0.0048,  ..., -0.0044, -0.0042, -0.0050],\n",
       "        grad_fn=<DivBackward0>),\n",
       " 'log_likelihood_sum': tensor(-42.3843, grad_fn=<SumBackward0>)}"
      ]
     },
     "execution_count": 127,
     "metadata": {},
     "output_type": "execute_result"
    }
   ],
   "source": [
    "log_likelihood = (\n",
    "    clf.likelihood.expected_log_prob(Y_train.T, output).sum(0).div(len(Y_train))\n",
    ")\n",
    "{\n",
    "    \"log_likelihood\": log_likelihood,\n",
    "    \"log_likelihood_sum\": log_likelihood.sum(),\n",
    "}"
   ]
  },
  {
   "cell_type": "code",
   "execution_count": 128,
   "metadata": {
    "tags": []
   },
   "outputs": [
    {
     "data": {
      "text/plain": [
       "{'klu_expanded': tensor([0.0028, 0.0028, 0.0028, 0.0028, 0.0028, 0.0028, 0.0027, 0.0028, 0.0028,\n",
       "         0.0028, 0.0028, 0.0028, 0.0028, 0.0028, 0.0028, 0.0028, 0.0028, 0.0028,\n",
       "         0.0028, 0.0028, 0.0028, 0.0028, 0.0028, 0.0028, 0.0028, 0.0028, 0.0028],\n",
       "        grad_fn=<DivBackward0>),\n",
       " 'klu_expanded_sum': tensor(0.0750, grad_fn=<SumBackward0>)}"
      ]
     },
     "execution_count": 128,
     "metadata": {},
     "output_type": "execute_result"
    }
   ],
   "source": [
    "klu_expanded = clf.model.variational_strategy.kl_divergence().div(len(Y_train))\n",
    "{\n",
    "    \"klu_expanded\": klu_expanded,\n",
    "    \"klu_expanded_sum\": klu_expanded.sum(),\n",
    "}"
   ]
  },
  {
   "cell_type": "code",
   "execution_count": 45,
   "metadata": {
    "tags": []
   },
   "outputs": [
    {
     "data": {
      "text/plain": [
       "tensor([[0., 0., 0.,  ..., 0., 0., 0.],\n",
       "        [0., 0., 0.,  ..., 0., 0., 0.],\n",
       "        [0., 0., 0.,  ..., 0., 0., 0.],\n",
       "        ...,\n",
       "        [0., 0., 0.,  ..., 0., 0., 0.],\n",
       "        [0., 0., 0.,  ..., 0., 0., 0.],\n",
       "        [0., 0., 0.,  ..., 0., 0., 0.]])"
      ]
     },
     "execution_count": 45,
     "metadata": {},
     "output_type": "execute_result"
    }
   ],
   "source": [
    "klu_zero = torch.zeros_like(Y_train)\n",
    "klu_zero"
   ]
  },
  {
   "cell_type": "code",
   "execution_count": 54,
   "metadata": {
    "tags": []
   },
   "outputs": [
    {
     "data": {
      "text/plain": [
       "tensor(26.7473, grad_fn=<SumBackward0>)"
      ]
     },
     "execution_count": 54,
     "metadata": {},
     "output_type": "execute_result"
    }
   ],
   "source": [
    "added_loss = torch.zeros_like(log_likelihood)\n",
    "for added_loss_term in clf.model.added_loss_terms():\n",
    "    added_loss.add_(added_loss_term.loss())\n",
    "added_loss.sum()"
   ]
  },
  {
   "cell_type": "code",
   "execution_count": 24,
   "metadata": {
    "tags": []
   },
   "outputs": [],
   "source": [
    "contamination = lb_train.sum() / len(lb_train)"
   ]
  },
  {
   "cell_type": "code",
   "execution_count": 39,
   "metadata": {
    "tags": []
   },
   "outputs": [],
   "source": [
    "loss_n, _ = torch.topk(\n",
    "    torch.tensor(score),\n",
    "    int(score.shape[0] * (1 - contamination)),\n",
    "    largest=False,\n",
    "    sorted=False,\n",
    ")\n",
    "loss_a, _ = torch.topk(\n",
    "    torch.tensor(score),\n",
    "    int(score.shape[0] * (contamination)),\n",
    "    largest=True,\n",
    "    sorted=False,\n",
    ")"
   ]
  },
  {
   "cell_type": "code",
   "execution_count": null,
   "metadata": {},
   "outputs": [],
   "source": []
  }
 ],
 "metadata": {
  "kernelspec": {
   "display_name": "Python 3 (ipykernel)",
   "language": "python",
   "name": "python3"
  },
  "language_info": {
   "codemirror_mode": {
    "name": "ipython",
    "version": 3
   },
   "file_extension": ".py",
   "mimetype": "text/x-python",
   "name": "python",
   "nbconvert_exporter": "python",
   "pygments_lexer": "ipython3",
   "version": "3.10.10"
  },
  "toc": {
   "base_numbering": 1,
   "nav_menu": {},
   "number_sections": true,
   "sideBar": true,
   "skip_h1_title": false,
   "title_cell": "Table of Contents",
   "title_sidebar": "Contents",
   "toc_cell": false,
   "toc_position": {},
   "toc_section_display": true,
   "toc_window_display": false
  },
  "varInspector": {
   "cols": {
    "lenName": 16,
    "lenType": 16,
    "lenVar": 40
   },
   "kernels_config": {
    "python": {
     "delete_cmd_postfix": "",
     "delete_cmd_prefix": "del ",
     "library": "var_list.py",
     "varRefreshCmd": "print(var_dic_list())"
    },
    "r": {
     "delete_cmd_postfix": ") ",
     "delete_cmd_prefix": "rm(",
     "library": "var_list.r",
     "varRefreshCmd": "cat(var_dic_list()) "
    }
   },
   "types_to_exclude": [
    "module",
    "function",
    "builtin_function_or_method",
    "instance",
    "_Feature"
   ],
   "window_display": false
  }
 },
 "nbformat": 4,
 "nbformat_minor": 4
}
