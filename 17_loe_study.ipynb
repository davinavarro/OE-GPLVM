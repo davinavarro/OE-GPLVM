{
 "cells": [
  {
   "cell_type": "code",
   "execution_count": 1,
   "metadata": {
    "ExecuteTime": {
     "end_time": "2023-12-08T21:22:25.088126800Z",
     "start_time": "2023-12-08T21:22:25.061869600Z"
    },
    "pycharm": {
     "name": "#%%\n"
    },
    "tags": []
   },
   "outputs": [
    {
     "name": "stderr",
     "output_type": "stream",
     "text": [
      "2023-12-10 22:11:47.800342: I tensorflow/core/platform/cpu_feature_guard.cc:193] This TensorFlow binary is optimized with oneAPI Deep Neural Network Library (oneDNN) to use the following CPU instructions in performance-critical operations:  SSE4.1 SSE4.2 AVX AVX2 AVX_VNNI FMA\n",
      "To enable them in other operations, rebuild TensorFlow with the appropriate compiler flags.\n",
      "2023-12-10 22:11:47.837061: I tensorflow/core/util/port.cc:104] oneDNN custom operations are on. You may see slightly different numerical results due to floating-point round-off errors from different computation orders. To turn them off, set the environment variable `TF_ENABLE_ONEDNN_OPTS=0`.\n"
     ]
    }
   ],
   "source": [
    "%load_ext autoreload\n",
    "%autoreload 2\n",
    "from new_aeb_gplvm import *\n",
    "import warnings\n",
    "import json\n",
    "import random\n",
    "import os\n",
    "import pandas as pd\n",
    "from sklearn.model_selection import train_test_split\n",
    "from torch.distributions import kl_divergence\n",
    "\n",
    "warnings.filterwarnings(\"ignore\")\n",
    "# import the necessary package\n",
    "from tqdm import trange\n",
    "from utils.data_generator import DataGenerator\n",
    "from utils.myutils import Utils\n",
    "import matplotlib.pyplot as plt\n",
    "import numpy as np\n",
    "import torch\n",
    "from tqdm import trange\n",
    "\n",
    "datagenerator = DataGenerator()  # data generator\n",
    "utils = Utils()  # utils function"
   ]
  },
  {
   "cell_type": "code",
   "execution_count": 2,
   "metadata": {
    "tags": []
   },
   "outputs": [],
   "source": [
    "dataset_list = os.listdir(\"datasets/Classical\")\n",
    "\n",
    "\n",
    "def fix_name(name):\n",
    "    fixed = name.replace(\".npz\", \"\")\n",
    "    return fixed\n",
    "\n",
    "\n",
    "datasets = list(map(fix_name, dataset_list))"
   ]
  },
  {
   "cell_type": "code",
   "execution_count": 3,
   "metadata": {
    "tags": []
   },
   "outputs": [],
   "source": [
    "df_hyper = pd.read_json(\"experiments/complete/gplvm/000_gplvm_normal_03_best.json\")"
   ]
  },
  {
   "cell_type": "code",
   "execution_count": 4,
   "metadata": {
    "ExecuteTime": {
     "end_time": "2022-07-08T07:41:55.627834Z",
     "start_time": "2022-07-08T07:41:53.682035Z"
    },
    "pycharm": {
     "name": "#%%\n"
    },
    "tags": []
   },
   "outputs": [],
   "source": [
    "def get_hypers(dataset):\n",
    "    hypers = df_hyper[df_hyper.dataset == dataset]\n",
    "    hp = hypers[\n",
    "        [\n",
    "            \"kernel\",\n",
    "            \"batch_size\",\n",
    "            \"learning_rate\",\n",
    "            \"latent_dim\",\n",
    "            \"layers\",\n",
    "            \"n_inducing\",\n",
    "            \"n_epochs\",\n",
    "        ]\n",
    "    ].to_dict(orient=\"records\")\n",
    "    return hp[0]"
   ]
  },
  {
   "cell_type": "code",
   "execution_count": 5,
   "metadata": {
    "ExecuteTime": {
     "end_time": "2022-07-08T07:41:55.627834Z",
     "start_time": "2022-07-08T07:41:53.682035Z"
    },
    "pycharm": {
     "name": "#%%\n"
    },
    "tags": []
   },
   "outputs": [],
   "source": [
    "from baseline.PyOD import PYOD\n",
    "\n",
    "model_dict = {\"GPLVM\": AD_GPLVM}"
   ]
  },
  {
   "cell_type": "code",
   "execution_count": 6,
   "metadata": {
    "ExecuteTime": {
     "end_time": "2022-07-08T07:41:55.627834Z",
     "start_time": "2022-07-08T07:41:53.682035Z"
    },
    "pycharm": {
     "name": "#%%\n"
    },
    "tags": []
   },
   "outputs": [],
   "source": [
    "# datasets_ruins = [\n",
    "#    \"22_magic.gamma\",\n",
    "#    \"33_skin\",\n",
    "# ]\n",
    "# datasets_medianos = [\n",
    "#    \"41_Waveform\",\n",
    "#    \"36_speech\",\n",
    "# ]\n",
    "# datasets_bons = [\n",
    "#    \"16_http\",\n",
    "#    \"21_Lymphography\",\n",
    "# ]\n",
    "# datasets = datasets_ruins + datasets_medianos + datasets_bons"
   ]
  },
  {
   "cell_type": "code",
   "execution_count": 11,
   "metadata": {
    "ExecuteTime": {
     "end_time": "2022-07-08T07:41:55.627834Z",
     "start_time": "2022-07-08T07:41:53.682035Z"
    },
    "pycharm": {
     "name": "#%%\n"
    },
    "tags": []
   },
   "outputs": [],
   "source": [
    "methods = [\"blind\"]\n",
    "# labeled_anomalies = [0.01, 0.2, 0.4, 0.6, 0.8, 0.99]\n",
    "tune_list = [\"padrao\"]"
   ]
  },
  {
   "cell_type": "code",
   "execution_count": 12,
   "metadata": {
    "ExecuteTime": {
     "end_time": "2022-07-08T07:41:55.627834Z",
     "start_time": "2022-07-08T07:41:53.682035Z"
    },
    "pycharm": {
     "name": "#%%\n"
    },
    "tags": []
   },
   "outputs": [
    {
     "name": "stdout",
     "output_type": "stream",
     "text": [
      "problema no 25_musk\n",
      "0.0\n",
      "25_musk None\n",
      "subsampling for dataset 34_smtp...\n",
      "0.043014338112704276\n",
      "34_smtp None\n"
     ]
    }
   ],
   "source": [
    "for dataset in [datasets[24],datasets[33]]:#datasets[24:25]:\n",
    "    # for la in labeled_anomalies:\n",
    "    for tune_type in tune_list:\n",
    "        seed = 42\n",
    "        # df_AUCROC = pd.DataFrame(data=None, index=datasets, columns=model_dict.keys())\n",
    "        # df_AUCPR = pd.DataFrame(data=None, index=datasets, columns=model_dict.keys())\n",
    "\n",
    "        datagenerator.dataset = dataset  # specify the dataset name\n",
    "        data = datagenerator.generator(\n",
    "            la=1.00,\n",
    "            realistic_synthetic_mode=None,\n",
    "            noise_type=None,\n",
    "            stdscale=True,\n",
    "            minmax=False,\n",
    "        )\n",
    "        true_ratio = data[\"y_test\"].sum() / len(data[\"y_test\"])\n",
    "        Y_train, Y_test, lb_train, lb_test = (\n",
    "            data[\"X_train\"],\n",
    "            data[\"X_test\"],\n",
    "            data[\"y_train\"],\n",
    "            data[\"y_test\"],\n",
    "        )\n",
    "        for method in methods:\n",
    "            try:\n",
    "                hp = get_hypers(dataset)\n",
    "                aucroc = []\n",
    "                aucpr = []\n",
    "                for i in range(3):\n",
    "                    clf = AD_GPLVM(\n",
    "                        latent_dim=hp[\"latent_dim\"],\n",
    "                        n_inducing=hp[\"n_inducing\"],\n",
    "                        n_epochs=1000,  # hp[\"n_epochs\"],\n",
    "                        nn_layers=tuple(map(int, hp[\"layers\"].split(\",\"))),\n",
    "                        lr=hp[\"learning_rate\"],\n",
    "                        batch_size=hp[\"batch_size\"],\n",
    "                        kernel=hp[\"kernel\"],\n",
    "                    )\n",
    "                    clf.fit(Y_train, lb_train, loss_type=method, tune=tune_type)\n",
    "                    score = clf.predict_score(Y_test)\n",
    "                    result = utils.metric(y_true=lb_test, y_score=score)\n",
    "                    aucroc.append(result[\"aucroc\"])\n",
    "                    aucpr.append(result[\"aucpr\"])\n",
    "\n",
    "                result[\"aucroc\"] = np.mean(aucroc)\n",
    "                result[\"aucpr\"] = np.mean(aucpr)\n",
    "            except Exception as e:\n",
    "                print(f\"problema no {dataset}\")\n",
    "                result[\"aucroc\"] = 0.0\n",
    "                result[\"aucpr\"] = 0.0\n",
    "            result[\"dataset\"] = dataset\n",
    "            result[\"method\"] = method\n",
    "            result[\"test_ratio\"] = true_ratio\n",
    "            result[\"train_ratio\"] = true_ratio\n",
    "            result[\"labeled_anomalies\"] = 1.00\n",
    "            result[\"loe_loss\"] = clf.loe_list\n",
    "            result[\"n_epochs\"] = clf.i\n",
    "            print(result[\"dataset\"], print(result[\"aucroc\"]))\n",
    "\n",
    "            with open(\n",
    "                f\"experiments/complete/loe_x/{dataset}_{method}_{tune_type}_la_100.json\",\n",
    "                \"w\",\n",
    "            ) as file:\n",
    "                json.dump(result, file)"
   ]
  },
  {
   "cell_type": "code",
   "execution_count": 38,
   "metadata": {
    "ExecuteTime": {
     "end_time": "2022-07-08T07:50:14.507244Z",
     "start_time": "2022-07-08T07:41:55.631823Z"
    },
    "pycharm": {
     "name": "#%%\n"
    },
    "tags": []
   },
   "outputs": [
    {
     "data": {
      "text/plain": [
       "'25_musk'"
      ]
     },
     "execution_count": 38,
     "metadata": {},
     "output_type": "execute_result"
    }
   ],
   "source": [
    "# seed for reproducible results\n",
    "dataset = datasets[24]\n",
    "seed = 42\n",
    "df_AUCROC = pd.DataFrame(data=None, index=datasets, columns=model_dict.keys())\n",
    "df_AUCPR = pd.DataFrame(data=None, index=datasets, columns=model_dict.keys())\n",
    "# import the dataset\n",
    "datagenerator.dataset = dataset  # specify the dataset name\n",
    "data = datagenerator.generator(\n",
    "    la=1.00,\n",
    "    realistic_synthetic_mode=None,\n",
    "    noise_type=None,\n",
    "    stdscale=True,\n",
    "    minmax=False,\n",
    ")\n",
    "ratio = data[\"y_train\"].sum() / len(data[\"y_train\"])\n",
    "Y_train, Y_test, lb_train, lb_test = (\n",
    "    data[\"X_train\"],\n",
    "    data[\"X_test\"],\n",
    "    data[\"y_train\"],\n",
    "    data[\"y_test\"],\n",
    ")\n",
    "hp = get_hypers(dataset)\n",
    "dataset"
   ]
  },
  {
   "cell_type": "code",
   "execution_count": 39,
   "metadata": {
    "ExecuteTime": {
     "end_time": "2022-07-08T07:50:14.507244Z",
     "start_time": "2022-07-08T07:41:55.631823Z"
    },
    "pycharm": {
     "name": "#%%\n"
    },
    "tags": []
   },
   "outputs": [],
   "source": [
    "# 15_Hepatitis, 18_Ionosphere, 20_letter"
   ]
  },
  {
   "cell_type": "code",
   "execution_count": 40,
   "metadata": {
    "ExecuteTime": {
     "end_time": "2022-07-08T07:50:14.507244Z",
     "start_time": "2022-07-08T07:41:55.631823Z"
    },
    "pycharm": {
     "name": "#%%\n"
    },
    "tags": []
   },
   "outputs": [],
   "source": [
    "# skin fica bom para alternado/2, soft, 1000 epochs, 81%\n",
    "#"
   ]
  },
  {
   "cell_type": "code",
   "execution_count": 41,
   "metadata": {
    "ExecuteTime": {
     "end_time": "2022-07-08T07:50:14.507244Z",
     "start_time": "2022-07-08T07:41:55.631823Z"
    },
    "pycharm": {
     "name": "#%%\n"
    },
    "tags": []
   },
   "outputs": [],
   "source": [
    "clf = AD_GPLVM(\n",
    "    latent_dim=hp[\"latent_dim\"],\n",
    "    n_inducing=hp[\"n_inducing\"],\n",
    "    n_epochs=1000,  # hp[\"n_epochs\"],\n",
    "    nn_layers=tuple(map(int, hp[\"layers\"].split(\",\"))),\n",
    "    lr=hp[\"learning_rate\"],\n",
    "    batch_size=hp[\"batch_size\"],\n",
    "    kernel=hp[\"kernel\"],\n",
    ")"
   ]
  },
  {
   "cell_type": "code",
   "execution_count": 42,
   "metadata": {
    "ExecuteTime": {
     "end_time": "2022-07-08T07:50:14.507244Z",
     "start_time": "2022-07-08T07:41:55.631823Z"
    },
    "pycharm": {
     "name": "#%%\n"
    },
    "tags": []
   },
   "outputs": [
    {
     "name": "stdout",
     "output_type": "stream",
     "text": [
      "0.9996900426191399\n"
     ]
    }
   ],
   "source": [
    "aucroc = []\n",
    "for i in range(1):\n",
    "    clf.fit(Y_train, lb_train, loss_type=\"hard\", tune=\"start\")\n",
    "    score = clf.predict_score(Y_test)\n",
    "    result = utils.metric(y_true=lb_test, y_score=score)\n",
    "    aucroc.append(result[\"aucroc\"])\n",
    "print(np.mean(aucroc))"
   ]
  },
  {
   "cell_type": "code",
   "execution_count": 43,
   "metadata": {
    "ExecuteTime": {
     "end_time": "2022-07-08T07:50:14.507244Z",
     "start_time": "2022-07-08T07:41:55.631823Z"
    },
    "pycharm": {
     "name": "#%%\n"
    },
    "tags": []
   },
   "outputs": [
    {
     "data": {
      "text/plain": [
       "{'aucroc': 0.9996900426191399, 'aucpr': 0.9895112454929957}"
      ]
     },
     "execution_count": 43,
     "metadata": {},
     "output_type": "execute_result"
    }
   ],
   "source": [
    "result"
   ]
  },
  {
   "cell_type": "code",
   "execution_count": 33,
   "metadata": {
    "ExecuteTime": {
     "end_time": "2022-07-08T07:50:14.507244Z",
     "start_time": "2022-07-08T07:41:55.631823Z"
    },
    "pycharm": {
     "name": "#%%\n"
    },
    "tags": []
   },
   "outputs": [
    {
     "data": {
      "text/plain": [
       "999"
      ]
     },
     "execution_count": 33,
     "metadata": {},
     "output_type": "execute_result"
    }
   ],
   "source": [
    "clf.i"
   ]
  },
  {
   "cell_type": "code",
   "execution_count": 34,
   "metadata": {
    "ExecuteTime": {
     "end_time": "2022-07-08T07:50:14.507244Z",
     "start_time": "2022-07-08T07:41:55.631823Z"
    },
    "pycharm": {
     "name": "#%%\n"
    },
    "tags": []
   },
   "outputs": [],
   "source": [
    "# clf.lll.sum(), clf.klu.sum(), clf.klx.sum()"
   ]
  },
  {
   "cell_type": "code",
   "execution_count": 35,
   "metadata": {
    "ExecuteTime": {
     "end_time": "2022-07-08T07:50:14.507244Z",
     "start_time": "2022-07-08T07:41:55.631823Z"
    },
    "pycharm": {
     "name": "#%%\n"
    },
    "tags": []
   },
   "outputs": [],
   "source": [
    "# elbo = VariationalELBO(clf.likelihood, clf.model, len(Y_train), combine_terms=False)"
   ]
  },
  {
   "cell_type": "code",
   "execution_count": 36,
   "metadata": {
    "ExecuteTime": {
     "end_time": "2022-07-08T07:50:14.507244Z",
     "start_time": "2022-07-08T07:41:55.631823Z"
    },
    "pycharm": {
     "name": "#%%\n"
    },
    "tags": []
   },
   "outputs": [],
   "source": [
    "# elbo(clf.pred, clf.batch)[0].sum(),elbo(clf.pred, clf.batch)[1].sum(), elbo(clf.pred, clf.batch)[3].sum()"
   ]
  },
  {
   "cell_type": "code",
   "execution_count": 37,
   "metadata": {
    "ExecuteTime": {
     "end_time": "2022-07-08T07:50:14.507244Z",
     "start_time": "2022-07-08T07:41:55.631823Z"
    },
    "pycharm": {
     "name": "#%%\n"
    },
    "tags": []
   },
   "outputs": [
    {
     "data": {
      "image/png": "[encoded data removed]",
      "text/plain": [
       "<Figure size 640x480 with 1 Axes>"
      ]
     },
     "metadata": {},
     "output_type": "display_data"
    }
   ],
   "source": [
    "plt.plot(\n",
    "    clf.lll_loe,\n",
    "    label=\"LL_Loe\",\n",
    ")\n",
    "plt.plot(\n",
    "    clf.lll_elbo,\n",
    "    label=\"LL_Elbo\",\n",
    ")\n",
    "# plt.plot(\n",
    "#    clf.klx_loe,\n",
    "#    label=\"KLX_Loe\",\n",
    "# )\n",
    "# plt.plot(\n",
    "#    clf.klx_elbo,\n",
    "#    label=\"KLX_Elbo\",\n",
    "# )\n",
    "# plt.plot(\n",
    "#    clf.klu_loe,\n",
    "#    label=\"KLU_Loe\",\n",
    "# )\n",
    "# plt.plot(\n",
    "#    clf.klu_elbo,\n",
    "#    label=\"KLU_Elbo\",\n",
    "# )\n",
    "plt.plot(\n",
    "    clf.loe_list,\n",
    "    label=\"elbo_loe\",\n",
    ")\n",
    "plt.plot(\n",
    "    clf.loss_list,\n",
    "    label=\"elbo_normal\",\n",
    ")\n",
    "plt.legend()\n",
    "None"
   ]
  },
  {
   "cell_type": "code",
   "execution_count": 20,
   "metadata": {
    "ExecuteTime": {
     "end_time": "2022-07-08T07:50:14.507244Z",
     "start_time": "2022-07-08T07:41:55.631823Z"
    },
    "pycharm": {
     "name": "#%%\n"
    },
    "tags": []
   },
   "outputs": [
    {
     "data": {
      "text/plain": [
       "[5.917835712432861,\n",
       " 5.161812782287598,\n",
       " 4.977456092834473,\n",
       " 5.387106418609619,\n",
       " 5.423708915710449,\n",
       " 4.72867488861084,\n",
       " 5.085492134094238,\n",
       " 4.714599132537842,\n",
       " 5.855776309967041,\n",
       " 4.971911907196045,\n",
       " 5.510462284088135,\n",
       " 5.807730197906494,\n",
       " 4.761587619781494,\n",
       " 4.5644850730896,\n",
       " 4.585537433624268,\n",
       " 5.16880464553833,\n",
       " 4.363542079925537,\n",
       " 5.735939979553223,\n",
       " 4.092412948608398,\n",
       " 4.124083995819092,\n",
       " 4.264488697052002,\n",
       " 5.165974140167236,\n",
       " 4.641584396362305,\n",
       " 4.119235515594482,\n",
       " 4.165712833404541,\n",
       " 4.652310371398926,\n",
       " 4.6877360343933105,\n",
       " 4.911736488342285,\n",
       " 3.8182737827301025,\n",
       " 3.858912944793701,\n",
       " 4.793105125427246,\n",
       " 3.5873589515686035,\n",
       " 4.2535719871521,\n",
       " 4.2566914558410645,\n",
       " 3.9845569133758545,\n",
       " 4.108405590057373,\n",
       " 3.9400930404663086,\n",
       " 4.179274082183838,\n",
       " 3.8598384857177734,\n",
       " 4.488563537597656,\n",
       " 5.364782810211182,\n",
       " 4.172231674194336,\n",
       " 4.5677971839904785,\n",
       " 3.7288503646850586,\n",
       " 4.150757312774658,\n",
       " 3.9434032440185547,\n",
       " 4.045762538909912,\n",
       " 4.214837551116943,\n",
       " 4.523081302642822,\n",
       " 3.8020179271698,\n",
       " 4.231569766998291,\n",
       " 4.115830421447754,\n",
       " 3.9891226291656494,\n",
       " 4.386690139770508,\n",
       " 4.15747594833374,\n",
       " 3.915687322616577,\n",
       " 4.020532608032227,\n",
       " 4.219230651855469,\n",
       " 3.64851450920105,\n",
       " 3.739255666732788,\n",
       " 4.292050838470459,\n",
       " 3.5466434955596924,\n",
       " 4.292055606842041,\n",
       " 4.099824905395508,\n",
       " 4.075206279754639,\n",
       " 3.8482422828674316,\n",
       " 4.7119317054748535,\n",
       " 3.72415828704834,\n",
       " 4.019057750701904,\n",
       " 4.172336101531982,\n",
       " 4.104674816131592,\n",
       " 3.8807308673858643,\n",
       " 3.794099807739258,\n",
       " 4.65675163269043,\n",
       " 3.640071392059326,\n",
       " 5.00108528137207,\n",
       " 4.36930513381958,\n",
       " 4.264203071594238,\n",
       " 3.7042276859283447,\n",
       " 3.871508836746216,\n",
       " 4.280531406402588,\n",
       " 4.127684116363525,\n",
       " 3.6078174114227295,\n",
       " 4.244822025299072,\n",
       " 4.058559417724609,\n",
       " 4.1937408447265625,\n",
       " 3.82039213180542,\n",
       " 4.489738941192627,\n",
       " 3.797353744506836,\n",
       " 4.034799575805664,\n",
       " 3.688904285430908,\n",
       " 3.6101760864257812,\n",
       " 4.329833507537842,\n",
       " 3.718886137008667,\n",
       " 4.7903923988342285,\n",
       " 3.9764928817749023,\n",
       " 4.538825511932373,\n",
       " 3.9667916297912598,\n",
       " 3.831190824508667,\n",
       " 4.20772647857666,\n",
       " 3.928525924682617,\n",
       " 3.7329037189483643,\n",
       " 4.091902732849121,\n",
       " 3.6849076747894287,\n",
       " 4.139803886413574,\n",
       " 3.7266733646392822,\n",
       " 3.6771607398986816,\n",
       " 3.6209588050842285,\n",
       " 4.080114364624023,\n",
       " 4.194973945617676,\n",
       " 3.7590343952178955,\n",
       " 3.9631948471069336,\n",
       " 3.5313663482666016,\n",
       " 3.748197078704834,\n",
       " 3.773513078689575,\n",
       " 4.213955879211426,\n",
       " 4.1154375076293945,\n",
       " 4.119215488433838,\n",
       " 4.203266143798828,\n",
       " 4.040064811706543,\n",
       " 4.109025478363037,\n",
       " 3.6483190059661865,\n",
       " 4.445125579833984,\n",
       " 4.190707683563232,\n",
       " 3.8594417572021484,\n",
       " 3.5774590969085693,\n",
       " 4.458019256591797,\n",
       " 4.319646835327148,\n",
       " 4.658013343811035,\n",
       " 4.568711757659912,\n",
       " 4.274386882781982,\n",
       " 3.8860976696014404,\n",
       " 4.202302932739258,\n",
       " 4.418615818023682,\n",
       " 4.9308953285217285,\n",
       " 4.497398376464844,\n",
       " 4.555088043212891,\n",
       " 3.704676866531372,\n",
       " 4.2252278327941895,\n",
       " 4.1341423988342285,\n",
       " 3.631653308868408,\n",
       " 3.748126268386841,\n",
       " 4.6211137771606445,\n",
       " 4.039419651031494,\n",
       " 4.679491996765137,\n",
       " 3.7077865600585938,\n",
       " 4.084793567657471,\n",
       " 3.8609890937805176,\n",
       " 3.833070755004883,\n",
       " 3.865088939666748,\n",
       " 4.268577575683594,\n",
       " 4.423388957977295,\n",
       " 3.8632707595825195,\n",
       " 3.683410167694092,\n",
       " 3.9542362689971924,\n",
       " 4.479428768157959,\n",
       " 3.9405486583709717,\n",
       " 3.7789857387542725,\n",
       " 4.012609004974365,\n",
       " 4.115969657897949,\n",
       " 4.492478370666504,\n",
       " 4.121887683868408,\n",
       " 3.8972907066345215,\n",
       " 4.429354190826416,\n",
       " 4.326537609100342,\n",
       " 3.979149103164673,\n",
       " 3.9097728729248047,\n",
       " 4.072242259979248,\n",
       " 3.950385093688965,\n",
       " 4.082740306854248,\n",
       " 4.172269821166992,\n",
       " 4.048220157623291,\n",
       " 4.355556488037109,\n",
       " 4.316563129425049,\n",
       " 3.961454391479492,\n",
       " 3.92681884765625,\n",
       " 3.716519355773926,\n",
       " 4.048575401306152,\n",
       " 4.011194705963135,\n",
       " 3.956554889678955,\n",
       " 4.169421195983887,\n",
       " 3.5857038497924805,\n",
       " 4.0306077003479,\n",
       " 4.337252140045166,\n",
       " 4.314292907714844,\n",
       " 4.0768256187438965,\n",
       " 4.231170177459717,\n",
       " 3.8439600467681885,\n",
       " 3.6113946437835693,\n",
       " 4.1353230476379395,\n",
       " 3.839519500732422,\n",
       " 3.715198516845703,\n",
       " 3.6864192485809326,\n",
       " 4.297755718231201,\n",
       " 3.811007022857666,\n",
       " 4.479516506195068,\n",
       " 3.957352638244629,\n",
       " 4.099823474884033,\n",
       " 4.2968902587890625,\n",
       " 3.9275965690612793,\n",
       " 3.6087024211883545,\n",
       " 3.6637377738952637,\n",
       " 4.25605583190918,\n",
       " 4.101284980773926,\n",
       " 4.351755142211914,\n",
       " 4.060235977172852,\n",
       " 3.9285478591918945,\n",
       " 3.783247232437134,\n",
       " 4.529143333435059,\n",
       " 4.2514448165893555,\n",
       " 3.889573097229004,\n",
       " 4.317575931549072,\n",
       " 4.985113620758057,\n",
       " 5.014307975769043,\n",
       " 4.125319957733154,\n",
       " 3.571356773376465,\n",
       " 4.083266258239746,\n",
       " 4.39024543762207,\n",
       " 5.462989807128906,\n",
       " 4.566563606262207,\n",
       " 3.8667705059051514,\n",
       " 4.1261515617370605,\n",
       " 3.5812549591064453,\n",
       " 4.3975138664245605,\n",
       " 3.64269757270813,\n",
       " 4.247897148132324,\n",
       " 3.962841749191284,\n",
       " 4.035717487335205,\n",
       " 4.107778549194336,\n",
       " 3.753349781036377,\n",
       " 4.5269904136657715,\n",
       " 3.693366527557373,\n",
       " 4.60029935836792,\n",
       " 4.593541622161865,\n",
       " 4.081592559814453,\n",
       " 4.529423713684082,\n",
       " 3.8277313709259033,\n",
       " 4.0422210693359375,\n",
       " 3.8178019523620605,\n",
       " 4.229433536529541,\n",
       " 4.057579040527344,\n",
       " 4.612193584442139,\n",
       " 4.0741047859191895,\n",
       " 4.346207618713379,\n",
       " 4.486094951629639,\n",
       " 3.977339267730713,\n",
       " 4.02874231338501,\n",
       " 3.9598989486694336,\n",
       " 4.1255950927734375,\n",
       " 3.9102184772491455,\n",
       " 3.7254409790039062,\n",
       " 4.124659061431885,\n",
       " 3.9312686920166016,\n",
       " 4.012790203094482,\n",
       " 4.43126106262207,\n",
       " 4.2084126472473145,\n",
       " 4.336157321929932,\n",
       " 4.065522193908691,\n",
       " 3.6553456783294678,\n",
       " 4.361509323120117,\n",
       " 3.6929357051849365,\n",
       " 4.176671504974365,\n",
       " 3.9137678146362305,\n",
       " 4.350615501403809,\n",
       " 4.328914642333984,\n",
       " 4.442001819610596,\n",
       " 3.832947015762329,\n",
       " 4.291774272918701,\n",
       " 4.067232131958008,\n",
       " 3.707313060760498,\n",
       " 4.288430690765381,\n",
       " 3.9592370986938477,\n",
       " 3.646867275238037,\n",
       " 3.884878396987915,\n",
       " 3.6042356491088867,\n",
       " 4.278909206390381,\n",
       " 4.108262062072754,\n",
       " 3.8687362670898438,\n",
       " 3.834765911102295,\n",
       " 5.003889560699463,\n",
       " 3.812232255935669,\n",
       " 4.239995002746582,\n",
       " 3.990614175796509,\n",
       " 4.391205787658691,\n",
       " 3.803175687789917,\n",
       " 3.87978458404541,\n",
       " 4.027909755706787,\n",
       " 4.833996772766113,\n",
       " 3.9815049171447754,\n",
       " 4.105221271514893,\n",
       " 4.243595123291016,\n",
       " 3.602031707763672,\n",
       " 4.311996936798096,\n",
       " 4.327239513397217,\n",
       " 4.306467056274414,\n",
       " 3.8614742755889893,\n",
       " 4.37215518951416,\n",
       " 4.018191814422607,\n",
       " 3.642782688140869,\n",
       " 4.460378170013428,\n",
       " 4.130044460296631,\n",
       " 4.496899604797363,\n",
       " 3.9148242473602295,\n",
       " 4.364621639251709,\n",
       " 4.1556549072265625,\n",
       " 4.091483116149902,\n",
       " 3.775123119354248,\n",
       " 4.807358741760254,\n",
       " 4.122788429260254,\n",
       " 3.9544272422790527,\n",
       " 4.15302848815918,\n",
       " 3.99457049369812,\n",
       " 3.915565013885498,\n",
       " 4.178693771362305,\n",
       " 4.513307571411133,\n",
       " 3.851321220397949,\n",
       " 4.428818702697754,\n",
       " 4.039843559265137,\n",
       " 4.069841384887695,\n",
       " 4.379881381988525,\n",
       " 4.387877941131592,\n",
       " 3.9839048385620117,\n",
       " 4.164566993713379,\n",
       " 4.0025224685668945,\n",
       " 4.025030136108398,\n",
       " 3.925370216369629,\n",
       " 4.039865016937256,\n",
       " 4.411413192749023,\n",
       " 3.676727294921875,\n",
       " 3.950066328048706,\n",
       " 4.03607702255249,\n",
       " 3.9522244930267334,\n",
       " 4.031946182250977,\n",
       " 4.207695960998535,\n",
       " 3.696259021759033,\n",
       " 4.065614700317383,\n",
       " 4.1773529052734375,\n",
       " 4.338561534881592,\n",
       " 3.8092477321624756,\n",
       " 4.15543794631958,\n",
       " 3.735826015472412,\n",
       " 3.807157516479492,\n",
       " 4.232326507568359,\n",
       " 4.7344255447387695,\n",
       " 4.334883213043213,\n",
       " 3.805558204650879,\n",
       " 3.9820456504821777,\n",
       " 4.194114685058594,\n",
       " 3.6064820289611816,\n",
       " 4.154529571533203,\n",
       " 3.8256630897521973,\n",
       " 3.6369776725769043,\n",
       " 4.130462646484375,\n",
       " 3.696073293685913,\n",
       " 4.321779727935791,\n",
       " 3.541832447052002,\n",
       " 3.7479066848754883,\n",
       " 3.8233516216278076,\n",
       " 3.8530519008636475,\n",
       " 4.084504127502441,\n",
       " 4.329240798950195,\n",
       " 5.500926494598389,\n",
       " 4.460909843444824,\n",
       " 4.033116340637207,\n",
       " 3.997361183166504,\n",
       " 4.20721960067749,\n",
       " 4.533700942993164,\n",
       " 4.4264116287231445,\n",
       " 3.9474878311157227,\n",
       " 4.000357627868652,\n",
       " 4.785591125488281,\n",
       " 3.850922107696533,\n",
       " 3.7058422565460205,\n",
       " 4.321129322052002,\n",
       " 3.935021162033081,\n",
       " 4.1663079261779785,\n",
       " 4.063810348510742,\n",
       " 4.0089802742004395,\n",
       " 4.129986763000488,\n",
       " 4.289511203765869,\n",
       " 4.502223968505859,\n",
       " 4.721932888031006,\n",
       " 4.109060764312744,\n",
       " 3.8647425174713135,\n",
       " 4.073562145233154,\n",
       " 4.334270477294922,\n",
       " 3.852573871612549,\n",
       " 4.511803150177002,\n",
       " 3.893822193145752,\n",
       " 3.782076835632324,\n",
       " 3.7204232215881348,\n",
       " 3.6577491760253906,\n",
       " 4.458453178405762,\n",
       " 3.9976866245269775,\n",
       " 3.96591854095459,\n",
       " 4.2028679847717285,\n",
       " 3.705272674560547,\n",
       " 4.246638298034668,\n",
       " 3.6714727878570557,\n",
       " 3.884848117828369,\n",
       " 4.850980281829834,\n",
       " 3.903965711593628,\n",
       " 4.145663738250732,\n",
       " 3.9947152137756348,\n",
       " 3.6253693103790283,\n",
       " 3.6581530570983887,\n",
       " 4.285174369812012,\n",
       " 3.7995100021362305,\n",
       " 3.632974147796631,\n",
       " 3.6445834636688232,\n",
       " 4.501137733459473,\n",
       " 4.296084403991699,\n",
       " 3.747480630874634,\n",
       " 4.337262153625488,\n",
       " 4.0743727684021,\n",
       " 3.9561407566070557,\n",
       " 4.3351240158081055,\n",
       " 4.113377571105957,\n",
       " 3.672309398651123,\n",
       " 4.497757911682129,\n",
       " 4.168875217437744,\n",
       " 4.607062816619873,\n",
       " 3.7866413593292236,\n",
       " 3.505343198776245,\n",
       " 3.618579149246216,\n",
       " 3.7012252807617188,\n",
       " 3.6460511684417725,\n",
       " 4.319132328033447,\n",
       " 4.245314121246338,\n",
       " 3.6816253662109375,\n",
       " 4.866673469543457,\n",
       " 4.14479398727417,\n",
       " 3.814225196838379,\n",
       " 3.8356587886810303,\n",
       " 4.382586479187012,\n",
       " 4.07771635055542,\n",
       " 4.146060466766357,\n",
       " 3.952805995941162,\n",
       " 4.22109842300415,\n",
       " 3.9482083320617676,\n",
       " 4.066647052764893,\n",
       " 4.119039535522461,\n",
       " 4.163120746612549,\n",
       " 4.233799934387207,\n",
       " 3.837799310684204,\n",
       " 4.458548069000244,\n",
       " 4.181144714355469,\n",
       " 4.239943981170654,\n",
       " 3.8384602069854736,\n",
       " 4.421640396118164,\n",
       " 3.74343204498291,\n",
       " 3.9633679389953613,\n",
       " 3.739628791809082,\n",
       " 4.251752853393555,\n",
       " 3.948686361312866,\n",
       " 3.9126293659210205,\n",
       " 4.138099193572998,\n",
       " 3.9650766849517822,\n",
       " 4.118332862854004,\n",
       " 4.111316680908203,\n",
       " 4.338485240936279,\n",
       " 4.154986381530762,\n",
       " 4.580029487609863,\n",
       " 3.694347858428955,\n",
       " 3.958648920059204,\n",
       " 4.031204700469971,\n",
       " 4.010645866394043,\n",
       " 4.103990077972412,\n",
       " 4.148093223571777,\n",
       " 3.876627206802368,\n",
       " 3.9446277618408203,\n",
       " 3.894120931625366,\n",
       " 4.754422664642334,\n",
       " 4.196977138519287,\n",
       " 4.405155658721924,\n",
       " 4.609252452850342,\n",
       " 3.9147427082061768,\n",
       " 3.8156661987304688,\n",
       " 4.469215393066406,\n",
       " 4.203995227813721,\n",
       " 3.6625418663024902,\n",
       " 3.828824520111084,\n",
       " 3.7951178550720215,\n",
       " 4.375586986541748,\n",
       " 4.498248100280762,\n",
       " 3.9760046005249023,\n",
       " 3.5956382751464844,\n",
       " 4.101141452789307,\n",
       " 3.9777867794036865,\n",
       " 3.6232287883758545,\n",
       " 4.143649101257324,\n",
       " 4.052338600158691,\n",
       " 3.876430034637451,\n",
       " 3.893543004989624,\n",
       " 4.509927749633789,\n",
       " 4.03477144241333,\n",
       " 3.9418258666992188,\n",
       " 4.084760665893555,\n",
       " 3.8515524864196777,\n",
       " 3.908672332763672,\n",
       " 4.46783447265625,\n",
       " 3.7234435081481934,\n",
       " 3.6441662311553955,\n",
       " 4.55083703994751,\n",
       " 4.54041862487793,\n",
       " 3.690480947494507,\n",
       " 4.030233860015869,\n",
       " 4.413027763366699,\n",
       " 4.163089752197266,\n",
       " 4.079024314880371,\n",
       " 4.227308750152588,\n",
       " 3.9538722038269043,\n",
       " 3.784487009048462,\n",
       " 4.931034088134766,\n",
       " 4.392800807952881,\n",
       " 3.577876567840576,\n",
       " 4.432926654815674,\n",
       " 3.9353585243225098,\n",
       " 4.398779392242432,\n",
       " 4.358384132385254,\n",
       " 3.851590394973755,\n",
       " 4.032651901245117,\n",
       " 3.8848650455474854,\n",
       " 3.8680145740509033,\n",
       " 4.28720235824585,\n",
       " 4.071110248565674,\n",
       " 4.044949531555176,\n",
       " 4.585601329803467,\n",
       " 3.827394962310791,\n",
       " 4.69734001159668,\n",
       " 3.5390617847442627,\n",
       " 4.082088947296143,\n",
       " 4.395931720733643,\n",
       " 3.717134714126587,\n",
       " 3.9222679138183594,\n",
       " 4.215344429016113,\n",
       " 4.269592761993408,\n",
       " 4.177921772003174,\n",
       " 3.828305721282959,\n",
       " 4.750333786010742,\n",
       " 4.357952117919922,\n",
       " 4.8890700340271,\n",
       " 3.980665683746338,\n",
       " 3.6339035034179688,\n",
       " 4.375736713409424,\n",
       " 4.6452836990356445,\n",
       " 3.540449380874634,\n",
       " 4.165181636810303,\n",
       " 3.597817897796631,\n",
       " 4.28143310546875,\n",
       " 4.262460708618164,\n",
       " 5.096063613891602,\n",
       " 4.019453525543213,\n",
       " 4.450368881225586,\n",
       " 4.275057792663574,\n",
       " 4.072393417358398,\n",
       " 4.198522567749023,\n",
       " 3.733991861343384,\n",
       " 3.931645631790161,\n",
       " 3.7568211555480957,\n",
       " 4.01044225692749,\n",
       " 4.642618179321289,\n",
       " 4.406915187835693,\n",
       " 4.480831146240234,\n",
       " 4.76706075668335,\n",
       " 3.6684491634368896,\n",
       " 4.3555803298950195,\n",
       " 4.046178817749023,\n",
       " 3.679152488708496,\n",
       " 3.8309099674224854,\n",
       " 4.251047134399414,\n",
       " 3.8074421882629395,\n",
       " 3.7212557792663574,\n",
       " 4.368923187255859,\n",
       " 3.718770980834961,\n",
       " 4.037577152252197,\n",
       " 3.74318790435791,\n",
       " 3.7645325660705566,\n",
       " 4.17711067199707,\n",
       " 3.8583462238311768,\n",
       " 3.9305505752563477,\n",
       " 3.7771384716033936,\n",
       " 4.043272495269775,\n",
       " 4.019320011138916,\n",
       " 4.214770317077637,\n",
       " 4.374882698059082,\n",
       " 3.7888565063476562,\n",
       " 3.889239549636841,\n",
       " 3.6458206176757812,\n",
       " 3.73695969581604,\n",
       " 4.025416374206543,\n",
       " 4.012299537658691,\n",
       " 4.3010993003845215,\n",
       " 3.9902515411376953,\n",
       " 3.9662091732025146,\n",
       " 4.20631217956543,\n",
       " 4.177212715148926,\n",
       " 4.029186725616455,\n",
       " 4.348118305206299,\n",
       " 3.970677137374878,\n",
       " 4.136623859405518,\n",
       " 3.72528076171875,\n",
       " 3.7841572761535645,\n",
       " 4.146198272705078,\n",
       " 4.135075569152832,\n",
       " 3.62144136428833,\n",
       " 4.061659336090088,\n",
       " 3.6701292991638184,\n",
       " 4.008397102355957,\n",
       " 3.772265911102295,\n",
       " 3.7719886302948,\n",
       " 4.013261318206787,\n",
       " 3.8105037212371826,\n",
       " 3.5995845794677734,\n",
       " 3.8811514377593994,\n",
       " 4.2099833488464355,\n",
       " 3.6517152786254883,\n",
       " 3.9740138053894043,\n",
       " 3.8692522048950195,\n",
       " 4.538389205932617,\n",
       " 3.619685173034668,\n",
       " 3.811652421951294,\n",
       " 4.373073101043701,\n",
       " 3.676769256591797,\n",
       " 4.686872959136963,\n",
       " 4.500363349914551,\n",
       " 3.7422597408294678,\n",
       " 4.497427463531494,\n",
       " 4.192025661468506,\n",
       " 4.489434242248535,\n",
       " 3.674713373184204,\n",
       " 3.7107813358306885,\n",
       " 4.084753513336182,\n",
       " 3.8433997631073,\n",
       " 3.6317059993743896,\n",
       " 4.221302509307861,\n",
       " 4.868464946746826,\n",
       " 4.397644996643066,\n",
       " 4.258225917816162,\n",
       " 4.734292984008789,\n",
       " 3.9462149143218994,\n",
       " 4.029236793518066,\n",
       " 4.100322246551514,\n",
       " 4.59964656829834,\n",
       " 4.207152843475342,\n",
       " 3.6844353675842285,\n",
       " 3.8352389335632324,\n",
       " 3.8921334743499756,\n",
       " 4.150179386138916,\n",
       " 3.629024028778076,\n",
       " 4.091815948486328,\n",
       " 3.5866310596466064,\n",
       " 4.476766109466553,\n",
       " 3.9413795471191406,\n",
       " 3.7948360443115234,\n",
       " 4.404862403869629,\n",
       " 3.758134365081787,\n",
       " 3.8073830604553223,\n",
       " 4.917972087860107,\n",
       " 4.256479740142822,\n",
       " 3.8394556045532227,\n",
       " 3.5276193618774414,\n",
       " 4.220325946807861,\n",
       " 4.366388320922852,\n",
       " 3.8640825748443604,\n",
       " 3.991334915161133,\n",
       " 4.256366729736328,\n",
       " 3.681135654449463,\n",
       " 4.165613651275635,\n",
       " 4.346048831939697,\n",
       " 4.097374439239502,\n",
       " 3.938939332962036,\n",
       " 3.7597858905792236,\n",
       " 4.017576694488525,\n",
       " 3.9995665550231934,\n",
       " 4.24920654296875,\n",
       " 4.057710647583008,\n",
       " 3.973189115524292,\n",
       " 3.86340594291687,\n",
       " 4.124354839324951,\n",
       " 3.7725441455841064,\n",
       " 3.451847791671753,\n",
       " 3.983851671218872,\n",
       " 4.152186393737793,\n",
       " 3.865976095199585,\n",
       " 4.26299524307251,\n",
       " 4.025050163269043,\n",
       " 3.8936033248901367,\n",
       " 4.390087127685547,\n",
       " 3.6525022983551025,\n",
       " 4.096218585968018,\n",
       " 3.9320297241210938,\n",
       " 3.5790047645568848,\n",
       " 4.070657730102539,\n",
       " 4.299160003662109,\n",
       " 3.54311203956604,\n",
       " 4.750608444213867,\n",
       " 4.182556629180908,\n",
       " 4.456957817077637,\n",
       " 4.320566177368164,\n",
       " 4.017808437347412,\n",
       " 3.5452098846435547,\n",
       " 3.6252195835113525,\n",
       " 4.246870517730713,\n",
       " 3.973938226699829,\n",
       " 4.394584655761719,\n",
       " 3.940173625946045,\n",
       " 3.8035271167755127,\n",
       " 3.622744560241699,\n",
       " 4.050891399383545,\n",
       " 3.7151288986206055,\n",
       " 3.7508957386016846,\n",
       " 4.292994499206543,\n",
       " 3.803039312362671,\n",
       " 3.551318883895874,\n",
       " 4.1176042556762695,\n",
       " 4.029638290405273,\n",
       " 3.7604708671569824,\n",
       " 4.322504997253418,\n",
       " 3.8407793045043945,\n",
       " 4.24403715133667,\n",
       " 4.166357517242432,\n",
       " 4.041493892669678,\n",
       " 4.064021110534668,\n",
       " 4.072319030761719,\n",
       " 4.2003679275512695,\n",
       " 4.303750514984131,\n",
       " 4.489251136779785,\n",
       " 3.463064432144165,\n",
       " 3.9721601009368896,\n",
       " 3.5462594032287598,\n",
       " 3.866412878036499,\n",
       " 4.396812915802002,\n",
       " 4.015192031860352,\n",
       " 3.972261905670166,\n",
       " 4.017240047454834,\n",
       " 4.07368278503418,\n",
       " 4.61423921585083,\n",
       " 4.29498291015625,\n",
       " 4.429473400115967,\n",
       " 4.666897773742676,\n",
       " 3.6664845943450928,\n",
       " 4.318076133728027,\n",
       " 3.9059622287750244,\n",
       " 3.9716694355010986,\n",
       " 3.9410057067871094,\n",
       " 3.900411605834961,\n",
       " 3.632704257965088,\n",
       " 4.620125770568848,\n",
       " 3.8144640922546387,\n",
       " 3.809540271759033,\n",
       " 3.851959466934204,\n",
       " 4.112113952636719,\n",
       " 3.59856915473938,\n",
       " 4.6276116371154785,\n",
       " 4.853245258331299,\n",
       " 3.5272185802459717,\n",
       " 3.7430384159088135,\n",
       " 3.606069564819336,\n",
       " 4.175759315490723,\n",
       " 3.493764638900757,\n",
       " 3.670654773712158,\n",
       " 3.9931445121765137,\n",
       " 3.574329137802124,\n",
       " 4.286320686340332,\n",
       " 3.9469542503356934,\n",
       " 3.9758782386779785,\n",
       " 3.817070960998535,\n",
       " 3.534566640853882,\n",
       " 4.733987331390381,\n",
       " 4.472027778625488,\n",
       " 4.100521087646484,\n",
       " 4.333874702453613,\n",
       " 3.911228895187378,\n",
       " 3.893507957458496,\n",
       " 4.435210227966309,\n",
       " 3.6194539070129395,\n",
       " 3.9133427143096924,\n",
       " 3.716904401779175,\n",
       " 4.38330078125,\n",
       " 3.8411471843719482,\n",
       " 3.5632712841033936,\n",
       " 4.008132457733154,\n",
       " 3.9579222202301025,\n",
       " 4.264705657958984,\n",
       " 4.176647186279297,\n",
       " 4.099283218383789,\n",
       " 4.038034915924072,\n",
       " 3.8307394981384277,\n",
       " 3.7196388244628906,\n",
       " 4.156659126281738,\n",
       " 4.227358818054199,\n",
       " 4.224740028381348,\n",
       " 3.8381175994873047,\n",
       " 4.093573570251465,\n",
       " 3.8998184204101562,\n",
       " 3.5534260272979736,\n",
       " 3.8868608474731445,\n",
       " 4.123740196228027,\n",
       " 4.124220848083496,\n",
       " 4.419547080993652,\n",
       " 4.4882378578186035,\n",
       " 3.8590495586395264,\n",
       " 3.7317187786102295,\n",
       " 3.937272310256958,\n",
       " 3.894686222076416,\n",
       " 4.312023162841797,\n",
       " 4.0433735847473145,\n",
       " 3.9889261722564697,\n",
       " 3.6052114963531494,\n",
       " 4.559815406799316,\n",
       " 3.5250182151794434,\n",
       " 3.8384790420532227,\n",
       " 4.2437310218811035,\n",
       " 3.815025806427002,\n",
       " 4.092193603515625,\n",
       " 3.688225269317627,\n",
       " 4.386354923248291,\n",
       " 3.8511340618133545,\n",
       " 3.8557839393615723,\n",
       " 4.058327674865723,\n",
       " 4.537022590637207,\n",
       " 4.297492980957031,\n",
       " 4.076039791107178,\n",
       " 4.068716526031494,\n",
       " 3.9356629848480225,\n",
       " 4.352118968963623,\n",
       " 3.514647960662842,\n",
       " 4.275872707366943,\n",
       " 3.5317611694335938,\n",
       " 3.6898815631866455,\n",
       " 3.620285987854004,\n",
       " 3.528632402420044,\n",
       " 4.2575602531433105,\n",
       " 3.958124876022339,\n",
       " 4.719697952270508,\n",
       " 4.340057849884033,\n",
       " 3.782303810119629,\n",
       " 4.51475191116333,\n",
       " 3.6814327239990234,\n",
       " 3.626486301422119,\n",
       " 3.6537458896636963,\n",
       " 4.466943264007568,\n",
       " 4.672607421875,\n",
       " 3.886789083480835,\n",
       " 3.633551836013794,\n",
       " 3.729429006576538,\n",
       " 3.8629813194274902,\n",
       " 4.391852378845215,\n",
       " 4.3007354736328125,\n",
       " 3.5586652755737305,\n",
       " 3.547697067260742,\n",
       " 4.835582733154297,\n",
       " 4.268414497375488,\n",
       " 4.071702003479004,\n",
       " 4.75786018371582,\n",
       " 4.0792927742004395,\n",
       " 4.600503921508789,\n",
       " 3.4642274379730225,\n",
       " 4.268154144287109,\n",
       " 4.648253917694092,\n",
       " 4.100913047790527,\n",
       " 3.507514238357544,\n",
       " 4.00151252746582,\n",
       " 3.8728764057159424,\n",
       " 4.601221561431885,\n",
       " 4.425891399383545,\n",
       " 4.312613010406494,\n",
       " 3.8484270572662354,\n",
       " 3.8703055381774902,\n",
       " 4.094252586364746,\n",
       " 3.9513654708862305,\n",
       " 4.270649433135986,\n",
       " 3.6834869384765625,\n",
       " 4.011561393737793,\n",
       " 4.48366117477417,\n",
       " 4.426756858825684,\n",
       " 3.987889528274536,\n",
       " 4.018255233764648,\n",
       " 3.7780208587646484,\n",
       " 4.486815452575684,\n",
       " 4.352017402648926,\n",
       " 3.847438335418701,\n",
       " 3.6219143867492676,\n",
       " 4.501768112182617,\n",
       " 3.5597329139709473,\n",
       " 4.001369953155518,\n",
       " 4.007282733917236,\n",
       " 4.1560492515563965,\n",
       " 3.8441195487976074,\n",
       " 4.194608211517334,\n",
       " 3.8216538429260254,\n",
       " 3.750412940979004,\n",
       " 3.9619393348693848,\n",
       " 3.646303415298462,\n",
       " 3.6842336654663086,\n",
       " 3.8814005851745605,\n",
       " 3.7105863094329834,\n",
       " 4.116871356964111,\n",
       " 3.6588077545166016,\n",
       " 3.9444031715393066,\n",
       " 3.9682977199554443,\n",
       " 3.8191328048706055,\n",
       " 4.22364616394043,\n",
       " 4.413116455078125,\n",
       " 3.705286741256714,\n",
       " 4.203136444091797,\n",
       " 3.805007219314575,\n",
       " 3.921018123626709,\n",
       " 3.91943621635437,\n",
       " 3.681837320327759,\n",
       " 3.6421871185302734,\n",
       " 4.453198432922363,\n",
       " 4.168193340301514,\n",
       " 3.8681817054748535,\n",
       " 4.463872909545898,\n",
       " 4.875874996185303,\n",
       " 3.70596981048584,\n",
       " 3.7133705615997314,\n",
       " 4.0723700523376465,\n",
       " 4.232435703277588,\n",
       " 4.245954513549805,\n",
       " 3.8802897930145264,\n",
       " 4.876837730407715,\n",
       " 3.8306164741516113,\n",
       " 3.5721778869628906,\n",
       " 3.7646396160125732,\n",
       " 4.025324821472168,\n",
       " 3.8087399005889893,\n",
       " 3.6448349952697754,\n",
       " 3.9824228286743164,\n",
       " 4.593061447143555,\n",
       " 3.757073163986206,\n",
       " 3.8210127353668213,\n",
       " 3.823946475982666,\n",
       " 3.903806686401367,\n",
       " 4.155553817749023,\n",
       " 4.353368759155273,\n",
       " 3.49772310256958,\n",
       " 3.76829195022583,\n",
       " 3.6889445781707764,\n",
       " 3.7807629108428955,\n",
       " 3.6247358322143555,\n",
       " 4.243381023406982,\n",
       " 3.8216044902801514,\n",
       " 4.45247220993042,\n",
       " 4.412459850311279,\n",
       " 4.110644340515137,\n",
       " 3.7590150833129883,\n",
       " 4.5229949951171875,\n",
       " 4.3955488204956055,\n",
       " 4.192097187042236,\n",
       " 4.348842620849609,\n",
       " 3.7179994583129883,\n",
       " 3.757737874984741,\n",
       " 4.171832084655762,\n",
       " 4.584266185760498,\n",
       " 4.034913539886475,\n",
       " 3.6010944843292236,\n",
       " 4.350670337677002,\n",
       " 4.516902923583984,\n",
       " 3.826343059539795,\n",
       " 3.9511475563049316,\n",
       " 4.011137008666992,\n",
       " 3.974235773086548,\n",
       " 3.7392232418060303,\n",
       " 4.012336730957031,\n",
       " 3.706879138946533,\n",
       " 4.051331520080566,\n",
       " 3.8429625034332275,\n",
       " 3.664531707763672,\n",
       " 3.8091671466827393,\n",
       " 4.006775856018066,\n",
       " 3.94694185256958,\n",
       " 3.7625200748443604,\n",
       " 4.222245693206787,\n",
       " 4.214552879333496,\n",
       " 4.679553985595703,\n",
       " 3.900892734527588,\n",
       " 3.538092613220215,\n",
       " 3.572763681411743,\n",
       " 3.956951141357422,\n",
       " 3.6913394927978516,\n",
       " 3.8537445068359375,\n",
       " 3.903907060623169,\n",
       " 3.9402318000793457,\n",
       " 3.723846912384033,\n",
       " 3.8124659061431885,\n",
       " 3.763458013534546,\n",
       " 4.288629055023193,\n",
       " 4.1050496101379395,\n",
       " 3.650339126586914,\n",
       " 3.774994373321533,\n",
       " 3.533698558807373,\n",
       " 4.6608500480651855,\n",
       " 3.9784936904907227,\n",
       " 3.9894826412200928,\n",
       " 4.0148606300354,\n",
       " 3.75284743309021,\n",
       " 3.7557895183563232]"
      ]
     },
     "execution_count": 20,
     "metadata": {},
     "output_type": "execute_result"
    }
   ],
   "source": [
    "clf.loe_list"
   ]
  },
  {
   "cell_type": "code",
   "execution_count": 88,
   "metadata": {
    "ExecuteTime": {
     "end_time": "2022-07-08T07:50:14.507244Z",
     "start_time": "2022-07-08T07:41:55.631823Z"
    },
    "pycharm": {
     "name": "#%%\n"
    },
    "tags": []
   },
   "outputs": [
    {
     "data": {
      "text/plain": [
       "tensor(-91.6781, grad_fn=<SumBackward0>)"
      ]
     },
     "execution_count": 88,
     "metadata": {},
     "output_type": "execute_result"
    }
   ],
   "source": [
    "clf.elbo(clf.pred, clf.batch).sum()"
   ]
  },
  {
   "cell_type": "code",
   "execution_count": 132,
   "metadata": {
    "ExecuteTime": {
     "end_time": "2022-07-08T07:50:14.507244Z",
     "start_time": "2022-07-08T07:41:55.631823Z"
    },
    "pycharm": {
     "name": "#%%\n"
    },
    "tags": []
   },
   "outputs": [
    {
     "data": {
      "text/plain": [
       "tensor(0.1080, grad_fn=<DivBackward0>)"
      ]
     },
     "execution_count": 132,
     "metadata": {},
     "output_type": "execute_result"
    }
   ],
   "source": [
    "kl_divergence(clf.encoder.kl_latent.q_x, clf.encoder.kl_latent.p_x).sum(axis=0) / (\n",
    "    clf.encoder.kl_latent.n\n",
    ")"
   ]
  },
  {
   "cell_type": "code",
   "execution_count": 122,
   "metadata": {
    "ExecuteTime": {
     "end_time": "2022-07-08T07:50:14.507244Z",
     "start_time": "2022-07-08T07:41:55.631823Z"
    },
    "pycharm": {
     "name": "#%%\n"
    },
    "tags": []
   },
   "outputs": [],
   "source": [
    "Y_train = torch.tensor(Y_train, dtype=torch.float32)\n",
    "sample = clf.model.sample_latent_variable(Y_train)\n",
    "output = clf.model(sample)"
   ]
  },
  {
   "cell_type": "code",
   "execution_count": 123,
   "metadata": {
    "ExecuteTime": {
     "end_time": "2022-07-08T07:50:14.507244Z",
     "start_time": "2022-07-08T07:41:55.631823Z"
    },
    "pycharm": {
     "name": "#%%\n"
    },
    "tags": []
   },
   "outputs": [
    {
     "data": {
      "text/plain": [
       "tensor(-42.5673, grad_fn=<SumBackward0>)"
      ]
     },
     "execution_count": 123,
     "metadata": {},
     "output_type": "execute_result"
    }
   ],
   "source": [
    "clf.elbo(output, Y_train.T).sum()"
   ]
  },
  {
   "cell_type": "code",
   "execution_count": 124,
   "metadata": {
    "tags": []
   },
   "outputs": [],
   "source": [
    "elbo_x = VariationalELBO(clf.likelihood, clf.model, len(Y_train), combine_terms=False)"
   ]
  },
  {
   "cell_type": "code",
   "execution_count": 125,
   "metadata": {
    "tags": []
   },
   "outputs": [
    {
     "data": {
      "text/plain": [
       "{'log_likelihood': tensor([-1.5695, -1.5708, -1.5703, -1.5700, -1.5688, -1.5696, -1.5694, -1.5694,\n",
       "         -1.5697, -1.5705, -1.5697, -1.5696, -1.5700, -1.5695, -1.5694, -1.5696,\n",
       "         -1.5691, -1.5698, -1.5701, -1.5699, -1.5698, -1.5706, -1.5703, -1.5698,\n",
       "         -1.5695, -1.5698, -1.5698], grad_fn=<DivBackward0>),\n",
       " 'll_sum': tensor(-42.3843, grad_fn=<SumBackward0>),\n",
       " 'klx': tensor([0.0040, 0.0040, 0.0040, 0.0040, 0.0040, 0.0040, 0.0040, 0.0040, 0.0040,\n",
       "         0.0040, 0.0040, 0.0040, 0.0040, 0.0040, 0.0040, 0.0040, 0.0040, 0.0040,\n",
       "         0.0040, 0.0040, 0.0040, 0.0040, 0.0040, 0.0040, 0.0040, 0.0040, 0.0040],\n",
       "        grad_fn=<AddBackward0>),\n",
       " 'klx_sum': tensor(0.1080, grad_fn=<SumBackward0>),\n",
       " 'klu': tensor([0.0028, 0.0028, 0.0028, 0.0028, 0.0028, 0.0028, 0.0027, 0.0028, 0.0028,\n",
       "         0.0028, 0.0028, 0.0028, 0.0028, 0.0028, 0.0028, 0.0028, 0.0028, 0.0028,\n",
       "         0.0028, 0.0028, 0.0028, 0.0028, 0.0028, 0.0028, 0.0028, 0.0028, 0.0028],\n",
       "        grad_fn=<DivBackward0>),\n",
       " 'klu_sum': tensor(0.0750, grad_fn=<SumBackward0>),\n",
       " 'total_sum': tensor(-42.5673, grad_fn=<SubBackward0>)}"
      ]
     },
     "execution_count": 125,
     "metadata": {},
     "output_type": "execute_result"
    }
   ],
   "source": [
    "ll, klu, _, klx = elbo_x(output, Y_train.T)\n",
    "{\n",
    "    \"log_likelihood\": ll,\n",
    "    \"ll_sum\": ll.sum(),\n",
    "    \"klx\": klx,\n",
    "    \"klx_sum\": klx.sum(),\n",
    "    \"klu\": klu,\n",
    "    \"klu_sum\": klu.sum(),\n",
    "    \"total_sum\": ll.sum() - klx.sum() - klu.sum(),\n",
    "}"
   ]
  },
  {
   "cell_type": "code",
   "execution_count": 127,
   "metadata": {
    "tags": []
   },
   "outputs": [
    {
     "data": {
      "text/plain": [
       "{'log_likelihood': tensor([-0.0045, -0.0045, -0.0048,  ..., -0.0044, -0.0042, -0.0050],\n",
       "        grad_fn=<DivBackward0>),\n",
       " 'log_likelihood_sum': tensor(-42.3843, grad_fn=<SumBackward0>)}"
      ]
     },
     "execution_count": 127,
     "metadata": {},
     "output_type": "execute_result"
    }
   ],
   "source": [
    "log_likelihood = (\n",
    "    clf.likelihood.expected_log_prob(Y_train.T, output).sum(0).div(len(Y_train))\n",
    ")\n",
    "{\n",
    "    \"log_likelihood\": log_likelihood,\n",
    "    \"log_likelihood_sum\": log_likelihood.sum(),\n",
    "}"
   ]
  },
  {
   "cell_type": "code",
   "execution_count": 128,
   "metadata": {
    "tags": []
   },
   "outputs": [
    {
     "data": {
      "text/plain": [
       "{'klu_expanded': tensor([0.0028, 0.0028, 0.0028, 0.0028, 0.0028, 0.0028, 0.0027, 0.0028, 0.0028,\n",
       "         0.0028, 0.0028, 0.0028, 0.0028, 0.0028, 0.0028, 0.0028, 0.0028, 0.0028,\n",
       "         0.0028, 0.0028, 0.0028, 0.0028, 0.0028, 0.0028, 0.0028, 0.0028, 0.0028],\n",
       "        grad_fn=<DivBackward0>),\n",
       " 'klu_expanded_sum': tensor(0.0750, grad_fn=<SumBackward0>)}"
      ]
     },
     "execution_count": 128,
     "metadata": {},
     "output_type": "execute_result"
    }
   ],
   "source": [
    "klu_expanded = clf.model.variational_strategy.kl_divergence().div(len(Y_train))\n",
    "{\n",
    "    \"klu_expanded\": klu_expanded,\n",
    "    \"klu_expanded_sum\": klu_expanded.sum(),\n",
    "}"
   ]
  },
  {
   "cell_type": "code",
   "execution_count": 45,
   "metadata": {
    "tags": []
   },
   "outputs": [
    {
     "data": {
      "text/plain": [
       "tensor([[0., 0., 0.,  ..., 0., 0., 0.],\n",
       "        [0., 0., 0.,  ..., 0., 0., 0.],\n",
       "        [0., 0., 0.,  ..., 0., 0., 0.],\n",
       "        ...,\n",
       "        [0., 0., 0.,  ..., 0., 0., 0.],\n",
       "        [0., 0., 0.,  ..., 0., 0., 0.],\n",
       "        [0., 0., 0.,  ..., 0., 0., 0.]])"
      ]
     },
     "execution_count": 45,
     "metadata": {},
     "output_type": "execute_result"
    }
   ],
   "source": [
    "klu_zero = torch.zeros_like(Y_train)\n",
    "klu_zero"
   ]
  },
  {
   "cell_type": "code",
   "execution_count": null,
   "metadata": {
    "tags": []
   },
   "outputs": [
    {
     "data": {
      "text/plain": [
       "tensor(26.7473, grad_fn=<SumBackward0>)"
      ]
     },
     "execution_count": 54,
     "metadata": {},
     "output_type": "execute_result"
    }
   ],
   "source": [
    "added_loss = torch.zeros_like(log_likelihood)\n",
    "for added_loss_term in clf.model.added_loss_terms():\n",
    "    added_loss.add_(added_loss_term.loss())\n",
    "added_loss.sum()"
   ]
  },
  {
   "cell_type": "code",
   "execution_count": null,
   "metadata": {
    "tags": []
   },
   "outputs": [],
   "source": [
    "contamination = lb_train.sum() / len(lb_train)"
   ]
  },
  {
   "cell_type": "code",
   "execution_count": null,
   "metadata": {},
   "outputs": [],
   "source": []
  }
 ],
 "metadata": {
  "kernelspec": {
   "display_name": "Python 3 (ipykernel)",
   "language": "python",
   "name": "python3"
  },
  "language_info": {
   "codemirror_mode": {
    "name": "ipython",
    "version": 3
   },
   "file_extension": ".py",
   "mimetype": "text/x-python",
   "name": "python",
   "nbconvert_exporter": "python",
   "pygments_lexer": "ipython3",
   "version": "3.10.10"
  },
  "toc": {
   "base_numbering": 1,
   "nav_menu": {},
   "number_sections": true,
   "sideBar": true,
   "skip_h1_title": false,
   "title_cell": "Table of Contents",
   "title_sidebar": "Contents",
   "toc_cell": false,
   "toc_position": {},
   "toc_section_display": true,
   "toc_window_display": false
  },
  "varInspector": {
   "cols": {
    "lenName": 16,
    "lenType": 16,
    "lenVar": 40
   },
   "kernels_config": {
    "python": {
     "delete_cmd_postfix": "",
     "delete_cmd_prefix": "del ",
     "library": "var_list.py",
     "varRefreshCmd": "print(var_dic_list())"
    },
    "r": {
     "delete_cmd_postfix": ") ",
     "delete_cmd_prefix": "rm(",
     "library": "var_list.r",
     "varRefreshCmd": "cat(var_dic_list()) "
    }
   },
   "types_to_exclude": [
    "module",
    "function",
    "builtin_function_or_method",
    "instance",
    "_Feature"
   ],
   "window_display": false
  }
 },
 "nbformat": 4,
 "nbformat_minor": 4
}
