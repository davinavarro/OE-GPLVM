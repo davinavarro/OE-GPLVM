{
 "cells": [
  {
   "cell_type": "code",
   "execution_count": 10,
   "metadata": {
    "ExecuteTime": {
     "end_time": "2022-07-08T07:41:53.643140Z",
     "start_time": "2022-07-08T07:41:41.552946Z"
    },
    "pycharm": {
     "name": "#%%\n"
    },
    "tags": []
   },
   "outputs": [
    {
     "name": "stdout",
     "output_type": "stream",
     "text": [
      "The autoreload extension is already loaded. To reload it, use:\n",
      "  %reload_ext autoreload\n"
     ]
    }
   ],
   "source": [
    "%load_ext autoreload\n",
    "%autoreload 2\n",
    "from new_aeb_gplvm import *\n",
    "import warnings\n",
    "import json\n",
    "import random\n",
    "import os\n",
    "import pandas as pd\n",
    "from sklearn.model_selection import train_test_split\n",
    "from torch.distributions import kl_divergence\n",
    "\n",
    "warnings.filterwarnings(\"ignore\")\n",
    "# import the necessary package\n",
    "from tqdm import trange\n",
    "from utils.data_generator import DataGenerator\n",
    "from utils.myutils import Utils\n",
    "import matplotlib.pyplot as plt\n",
    "import numpy as np\n",
    "import torch\n",
    "from tqdm import trange\n",
    "\n",
    "datagenerator = DataGenerator()  # data generator\n",
    "utils = Utils()  # utils function"
   ]
  },
  {
   "cell_type": "code",
   "execution_count": 11,
   "metadata": {
    "tags": []
   },
   "outputs": [],
   "source": [
    "dataset_list = os.listdir(\"datasets/Classical\")\n",
    "\n",
    "\n",
    "def fix_name(name):\n",
    "    fixed = name.replace(\".npz\", \"\")\n",
    "    return fixed\n",
    "\n",
    "\n",
    "datasets = list(map(fix_name, dataset_list))"
   ]
  },
  {
   "cell_type": "code",
   "execution_count": 12,
   "metadata": {
    "tags": []
   },
   "outputs": [],
   "source": [
    "df_hyper = pd.read_json(\"experiments/complete/gplvm/000_gplvm_normal_03_best.json\")"
   ]
  },
  {
   "cell_type": "code",
   "execution_count": 13,
   "metadata": {
    "ExecuteTime": {
     "end_time": "2022-07-08T07:41:55.627834Z",
     "start_time": "2022-07-08T07:41:53.682035Z"
    },
    "pycharm": {
     "name": "#%%\n"
    },
    "tags": []
   },
   "outputs": [],
   "source": [
    "def get_hypers(dataset):\n",
    "    hypers = df_hyper[df_hyper.dataset == dataset]\n",
    "    hp = hypers[\n",
    "        [\n",
    "            \"kernel\",\n",
    "            \"batch_size\",\n",
    "            \"learning_rate\",\n",
    "            \"latent_dim\",\n",
    "            \"layers\",\n",
    "            \"n_inducing\",\n",
    "            \"n_epochs\",\n",
    "        ]\n",
    "    ].to_dict(orient=\"records\")\n",
    "    return hp[0]"
   ]
  },
  {
   "cell_type": "code",
   "execution_count": 14,
   "metadata": {
    "ExecuteTime": {
     "end_time": "2022-07-08T07:41:55.627834Z",
     "start_time": "2022-07-08T07:41:53.682035Z"
    },
    "pycharm": {
     "name": "#%%\n"
    },
    "tags": []
   },
   "outputs": [
    {
     "data": {
      "text/plain": [
       "'30_satellite'"
      ]
     },
     "execution_count": 14,
     "metadata": {},
     "output_type": "execute_result"
    }
   ],
   "source": [
    "from baseline.PyOD import PYOD\n",
    "\n",
    "model_dict = {\"GPLVM\": AD_GPLVM}\n",
    "dataset = datasets[29]\n",
    "dataset"
   ]
  },
  {
   "cell_type": "code",
   "execution_count": 15,
   "metadata": {
    "ExecuteTime": {
     "end_time": "2022-07-08T07:41:55.627834Z",
     "start_time": "2022-07-08T07:41:53.682035Z"
    },
    "pycharm": {
     "name": "#%%\n"
    },
    "tags": []
   },
   "outputs": [],
   "source": [
    "methods = [\"refine\", \"soft\"]\n",
    "labeled_anomalies = [0.15, 0.75]"
   ]
  },
  {
   "cell_type": "code",
   "execution_count": null,
   "metadata": {
    "ExecuteTime": {
     "end_time": "2022-07-08T07:41:55.627834Z",
     "start_time": "2022-07-08T07:41:53.682035Z"
    },
    "pycharm": {
     "name": "#%%\n"
    },
    "tags": []
   },
   "outputs": [
    {
     "name": "stdout",
     "output_type": "stream",
     "text": [
      "subsampling for dataset 01_ALOI...\n",
      "subsampling for dataset 01_ALOI...\n",
      "subsampling for dataset 03_backdoor...\n",
      "subsampling for dataset 03_backdoor...\n",
      "generating duplicate samples for dataset 04_breastw...\n",
      "generating duplicate samples for dataset 04_breastw...\n",
      "subsampling for dataset 05_campaign...\n"
     ]
    }
   ],
   "source": [
    "for dataset in datasets:\n",
    "    for la in labeled_anomalies:\n",
    "        seed = 42\n",
    "        # df_AUCROC = pd.DataFrame(data=None, index=datasets, columns=model_dict.keys())\n",
    "        # df_AUCPR = pd.DataFrame(data=None, index=datasets, columns=model_dict.keys())\n",
    "\n",
    "        datagenerator.dataset = dataset  # specify the dataset name\n",
    "        data = datagenerator.generator(\n",
    "            la=la,\n",
    "            realistic_synthetic_mode=None,\n",
    "            noise_type=None,\n",
    "            stdscale=True,\n",
    "            minmax=False,\n",
    "        )\n",
    "        true_ratio = data[\"y_test\"].sum() / len(data[\"y_test\"])\n",
    "        Y_train, Y_test, lb_train, lb_test = (\n",
    "            data[\"X_train\"],\n",
    "            data[\"X_test\"],\n",
    "            data[\"y_train\"],\n",
    "            data[\"y_test\"],\n",
    "        )\n",
    "        for method in methods:\n",
    "            try:\n",
    "                hp = get_hypers(dataset)\n",
    "                aucroc = []\n",
    "                aucpr = []\n",
    "                for i in range(5):\n",
    "                    clf = AD_GPLVM(\n",
    "                        latent_dim=hp[\"latent_dim\"],\n",
    "                        n_inducing=hp[\"n_inducing\"],\n",
    "                        n_epochs=120,  # hp[\"n_epochs\"],\n",
    "                        nn_layers=tuple(map(int, hp[\"layers\"].split(\",\"))),\n",
    "                        lr=hp[\"learning_rate\"],\n",
    "                        batch_size=hp[\"batch_size\"],\n",
    "                        kernel=hp[\"kernel\"],\n",
    "                    )\n",
    "                    clf.fit(Y_train, lb_train, loss_type=method)\n",
    "                    score = clf.predict_score(Y_test)\n",
    "                    result = utils.metric(y_true=lb_test, y_score=score)\n",
    "                    aucroc.append(result[\"aucroc\"])\n",
    "                    aucpr.append(result[\"aucpr\"])\n",
    "    \n",
    "                result[\"aucroc\"] = np.mean(aucroc)\n",
    "                result[\"aucpr\"] = np.mean(aucpr)\n",
    "            except Exception as e:\n",
    "                print(f\"problema no {dataset}\")\n",
    "                result[\"aucroc\"] = 0.0\n",
    "                result[\"aucpr\"] = 0.0\n",
    "            result[\"dataset\"] = dataset\n",
    "            result[\"method\"] = method\n",
    "            result[\"test_ratio\"] = true_ratio\n",
    "            result[\"train_ratio\"] = la * true_ratio\n",
    "            result[\"labeled_anomalies\"] = la\n",
    "            result[\"loe_loss\"] = clf.loe_list\n",
    "\n",
    "            with open(\n",
    "                f\"experiments/complete/loe/{dataset}_{str(int(la*100))}_{method}.json\",\n",
    "                \"w\",\n",
    "            ) as file:\n",
    "                json.dump(result, file)"
   ]
  },
  {
   "cell_type": "code",
   "execution_count": 6,
   "metadata": {
    "ExecuteTime": {
     "end_time": "2022-07-08T07:50:14.507244Z",
     "start_time": "2022-07-08T07:41:55.631823Z"
    },
    "pycharm": {
     "name": "#%%\n"
    },
    "tags": []
   },
   "outputs": [],
   "source": [
    "# seed for reproducible results\n",
    "seed = 42\n",
    "df_AUCROC = pd.DataFrame(data=None, index=datasets, columns=model_dict.keys())\n",
    "df_AUCPR = pd.DataFrame(data=None, index=datasets, columns=model_dict.keys())\n",
    "# import the dataset\n",
    "datagenerator.dataset = dataset  # specify the dataset name\n",
    "data = datagenerator.generator(\n",
    "    la=1.00,\n",
    "    realistic_synthetic_mode=None,\n",
    "    noise_type=None,\n",
    "    stdscale=True,\n",
    "    minmax=False,\n",
    ")\n",
    "ratio = data[\"y_train\"].sum() / len(data[\"y_train\"])\n",
    "Y_train, Y_test, lb_train, lb_test = (\n",
    "    data[\"X_train\"],\n",
    "    data[\"X_test\"],\n",
    "    data[\"y_train\"],\n",
    "    data[\"y_test\"],\n",
    ")"
   ]
  },
  {
   "cell_type": "code",
   "execution_count": 52,
   "metadata": {
    "ExecuteTime": {
     "end_time": "2022-07-08T07:50:14.507244Z",
     "start_time": "2022-07-08T07:41:55.631823Z"
    },
    "pycharm": {
     "name": "#%%\n"
    },
    "tags": []
   },
   "outputs": [
    {
     "data": {
      "text/plain": [
       "{'kernel': 'rbf',\n",
       " 'batch_size': 128,\n",
       " 'learning_rate': 0.01,\n",
       " 'latent_dim': 7,\n",
       " 'layers': '15,15',\n",
       " 'n_inducing': 25,\n",
       " 'n_epochs': 1000}"
      ]
     },
     "execution_count": 52,
     "metadata": {},
     "output_type": "execute_result"
    }
   ],
   "source": [
    "hp = get_hypers(dataset)\n",
    "hp"
   ]
  },
  {
   "cell_type": "code",
   "execution_count": 219,
   "metadata": {
    "ExecuteTime": {
     "end_time": "2022-07-08T07:50:14.507244Z",
     "start_time": "2022-07-08T07:41:55.631823Z"
    },
    "pycharm": {
     "name": "#%%\n"
    },
    "tags": []
   },
   "outputs": [],
   "source": [
    "clf = AD_GPLVM(\n",
    "    latent_dim=hp[\"latent_dim\"],\n",
    "    n_inducing=hp[\"n_inducing\"],\n",
    "    n_epochs=130,  # hp[\"n_epochs\"],\n",
    "    nn_layers=tuple(map(int, hp[\"layers\"].split(\",\"))),\n",
    "    lr=hp[\"learning_rate\"],\n",
    "    batch_size=hp[\"batch_size\"],\n",
    "    kernel=hp[\"kernel\"],\n",
    ")"
   ]
  },
  {
   "cell_type": "code",
   "execution_count": 220,
   "metadata": {
    "ExecuteTime": {
     "end_time": "2022-07-08T07:50:14.507244Z",
     "start_time": "2022-07-08T07:41:55.631823Z"
    },
    "pycharm": {
     "name": "#%%\n"
    },
    "tags": []
   },
   "outputs": [
    {
     "data": {
      "text/plain": [
       "'30_satellite'"
      ]
     },
     "execution_count": 220,
     "metadata": {},
     "output_type": "execute_result"
    }
   ],
   "source": [
    "dataset"
   ]
  },
  {
   "cell_type": "code",
   "execution_count": 221,
   "metadata": {
    "ExecuteTime": {
     "end_time": "2022-07-08T07:50:14.507244Z",
     "start_time": "2022-07-08T07:41:55.631823Z"
    },
    "pycharm": {
     "name": "#%%\n"
    },
    "tags": []
   },
   "outputs": [],
   "source": [
    "clf.fit(Y_train, lb_train, loss_type=\"soft\")\n",
    "score = clf.predict_score(Y_test)\n",
    "result = utils.metric(y_true=lb_test, y_score=score)"
   ]
  },
  {
   "cell_type": "code",
   "execution_count": 250,
   "metadata": {
    "ExecuteTime": {
     "end_time": "2022-07-08T07:50:14.507244Z",
     "start_time": "2022-07-08T07:41:55.631823Z"
    },
    "pycharm": {
     "name": "#%%\n"
    },
    "tags": []
   },
   "outputs": [
    {
     "data": {
      "text/plain": [
       "[60.68409729003906,\n",
       " 47.58724594116211,\n",
       " 49.152469635009766,\n",
       " 43.922943115234375,\n",
       " 51.829891204833984,\n",
       " 46.37474822998047,\n",
       " 44.01054382324219,\n",
       " 49.823001861572266,\n",
       " 40.24319076538086,\n",
       " 37.57999801635742,\n",
       " 47.003395080566406,\n",
       " 47.1353874206543,\n",
       " 45.51139831542969,\n",
       " 43.372886657714844,\n",
       " 46.51393508911133,\n",
       " 43.97848129272461,\n",
       " 40.49623107910156,\n",
       " 40.78010940551758,\n",
       " 40.69686508178711,\n",
       " 36.373779296875,\n",
       " 42.91020584106445,\n",
       " 41.11009216308594,\n",
       " 44.85222625732422,\n",
       " 39.920005798339844,\n",
       " 32.912086486816406,\n",
       " 41.098716735839844,\n",
       " 39.71147155761719,\n",
       " 39.92133331298828,\n",
       " 40.02978515625,\n",
       " 41.41733932495117,\n",
       " 43.27721405029297,\n",
       " 40.49818420410156,\n",
       " 38.867897033691406,\n",
       " 37.93471145629883,\n",
       " 37.9348258972168,\n",
       " 39.03712463378906,\n",
       " 40.581729888916016,\n",
       " 46.51536560058594,\n",
       " 38.31963348388672,\n",
       " 42.80100631713867,\n",
       " 37.85041809082031,\n",
       " 37.99958038330078,\n",
       " 35.93479537963867]"
      ]
     },
     "execution_count": 250,
     "metadata": {},
     "output_type": "execute_result"
    }
   ],
   "source": [
    "clf.loe_list"
   ]
  },
  {
   "cell_type": "code",
   "execution_count": 223,
   "metadata": {
    "ExecuteTime": {
     "end_time": "2022-07-08T07:50:14.507244Z",
     "start_time": "2022-07-08T07:41:55.631823Z"
    },
    "pycharm": {
     "name": "#%%\n"
    },
    "tags": []
   },
   "outputs": [
    {
     "data": {
      "text/plain": [
       "{'aucroc': 0.752337201805287, 'aucpr': 0.7092488880314904}"
      ]
     },
     "execution_count": 223,
     "metadata": {},
     "output_type": "execute_result"
    }
   ],
   "source": [
    "result"
   ]
  },
  {
   "cell_type": "code",
   "execution_count": 224,
   "metadata": {
    "ExecuteTime": {
     "end_time": "2022-07-08T07:50:14.507244Z",
     "start_time": "2022-07-08T07:41:55.631823Z"
    },
    "pycharm": {
     "name": "#%%\n"
    },
    "tags": []
   },
   "outputs": [
    {
     "data": {
      "text/plain": [
       "122"
      ]
     },
     "execution_count": 224,
     "metadata": {},
     "output_type": "execute_result"
    }
   ],
   "source": [
    "clf.i"
   ]
  },
  {
   "cell_type": "code",
   "execution_count": null,
   "metadata": {
    "ExecuteTime": {
     "end_time": "2022-07-08T07:50:14.507244Z",
     "start_time": "2022-07-08T07:41:55.631823Z"
    },
    "pycharm": {
     "name": "#%%\n"
    },
    "tags": []
   },
   "outputs": [],
   "source": [
    "clf.loe_list"
   ]
  },
  {
   "cell_type": "code",
   "execution_count": 135,
   "metadata": {
    "ExecuteTime": {
     "end_time": "2022-07-08T07:50:14.507244Z",
     "start_time": "2022-07-08T07:41:55.631823Z"
    },
    "pycharm": {
     "name": "#%%\n"
    },
    "tags": []
   },
   "outputs": [],
   "source": [
    "# clf.lll.sum(), clf.klu.sum(), clf.klx.sum()"
   ]
  },
  {
   "cell_type": "code",
   "execution_count": 136,
   "metadata": {
    "ExecuteTime": {
     "end_time": "2022-07-08T07:50:14.507244Z",
     "start_time": "2022-07-08T07:41:55.631823Z"
    },
    "pycharm": {
     "name": "#%%\n"
    },
    "tags": []
   },
   "outputs": [],
   "source": [
    "# elbo = VariationalELBO(clf.likelihood, clf.model, len(Y_train), combine_terms=False)"
   ]
  },
  {
   "cell_type": "code",
   "execution_count": 137,
   "metadata": {
    "ExecuteTime": {
     "end_time": "2022-07-08T07:50:14.507244Z",
     "start_time": "2022-07-08T07:41:55.631823Z"
    },
    "pycharm": {
     "name": "#%%\n"
    },
    "tags": []
   },
   "outputs": [],
   "source": [
    "# elbo(clf.pred, clf.batch)[0].sum(),elbo(clf.pred, clf.batch)[1].sum(), elbo(clf.pred, clf.batch)[3].sum()"
   ]
  },
  {
   "cell_type": "code",
   "execution_count": 184,
   "metadata": {
    "ExecuteTime": {
     "end_time": "2022-07-08T07:50:14.507244Z",
     "start_time": "2022-07-08T07:41:55.631823Z"
    },
    "pycharm": {
     "name": "#%%\n"
    },
    "tags": []
   },
   "outputs": [
    {
     "data": {
      "image/png": "[encoded data removed]",
      "text/plain": [
       "<Figure size 640x480 with 1 Axes>"
      ]
     },
     "metadata": {},
     "output_type": "display_data"
    }
   ],
   "source": [
    "plt.plot(\n",
    "    clf.lll_loe,\n",
    "    label=\"LL_Loe\",\n",
    ")\n",
    "plt.plot(\n",
    "    clf.lll_elbo,\n",
    "    label=\"LL_Elbo\",\n",
    ")\n",
    "# plt.plot(\n",
    "#    clf.klx_loe,\n",
    "#    label=\"KLX_Loe\",\n",
    "# )\n",
    "# plt.plot(\n",
    "#    clf.klx_elbo,\n",
    "#    label=\"KLX_Elbo\",\n",
    "# )\n",
    "# plt.plot(\n",
    "#    clf.klu_loe,\n",
    "#    label=\"KLU_Loe\",\n",
    "# )\n",
    "# plt.plot(\n",
    "#    clf.klu_elbo,\n",
    "#    label=\"KLU_Elbo\",\n",
    "# )\n",
    "plt.plot(\n",
    "    clf.loe_list,\n",
    "    label=\"elbo_loe\",\n",
    ")\n",
    "plt.plot(\n",
    "    clf.loss_list,\n",
    "    label=\"elbo_normal\",\n",
    ")\n",
    "plt.legend()\n",
    "None"
   ]
  },
  {
   "cell_type": "code",
   "execution_count": 101,
   "metadata": {
    "ExecuteTime": {
     "end_time": "2022-07-08T07:50:14.507244Z",
     "start_time": "2022-07-08T07:41:55.631823Z"
    },
    "pycharm": {
     "name": "#%%\n"
    },
    "tags": []
   },
   "outputs": [
    {
     "data": {
      "text/plain": [
       "tensor(-8.6120, grad_fn=<SumBackward0>)"
      ]
     },
     "execution_count": 101,
     "metadata": {},
     "output_type": "execute_result"
    }
   ],
   "source": [
    "clf.elbo(clf.pred, clf.batch).sum()"
   ]
  },
  {
   "cell_type": "code",
   "execution_count": 132,
   "metadata": {
    "ExecuteTime": {
     "end_time": "2022-07-08T07:50:14.507244Z",
     "start_time": "2022-07-08T07:41:55.631823Z"
    },
    "pycharm": {
     "name": "#%%\n"
    },
    "tags": []
   },
   "outputs": [
    {
     "data": {
      "text/plain": [
       "tensor(0.1080, grad_fn=<DivBackward0>)"
      ]
     },
     "execution_count": 132,
     "metadata": {},
     "output_type": "execute_result"
    }
   ],
   "source": [
    "kl_divergence(clf.encoder.kl_latent.q_x, clf.encoder.kl_latent.p_x).sum(axis=0) / (\n",
    "    clf.encoder.kl_latent.n\n",
    ")"
   ]
  },
  {
   "cell_type": "code",
   "execution_count": 122,
   "metadata": {
    "ExecuteTime": {
     "end_time": "2022-07-08T07:50:14.507244Z",
     "start_time": "2022-07-08T07:41:55.631823Z"
    },
    "pycharm": {
     "name": "#%%\n"
    },
    "tags": []
   },
   "outputs": [],
   "source": [
    "Y_train = torch.tensor(Y_train, dtype=torch.float32)\n",
    "sample = clf.model.sample_latent_variable(Y_train)\n",
    "output = clf.model(sample)"
   ]
  },
  {
   "cell_type": "code",
   "execution_count": 123,
   "metadata": {
    "ExecuteTime": {
     "end_time": "2022-07-08T07:50:14.507244Z",
     "start_time": "2022-07-08T07:41:55.631823Z"
    },
    "pycharm": {
     "name": "#%%\n"
    },
    "tags": []
   },
   "outputs": [
    {
     "data": {
      "text/plain": [
       "tensor(-42.5673, grad_fn=<SumBackward0>)"
      ]
     },
     "execution_count": 123,
     "metadata": {},
     "output_type": "execute_result"
    }
   ],
   "source": [
    "clf.elbo(output, Y_train.T).sum()"
   ]
  },
  {
   "cell_type": "code",
   "execution_count": 124,
   "metadata": {
    "tags": []
   },
   "outputs": [],
   "source": [
    "elbo_x = VariationalELBO(clf.likelihood, clf.model, len(Y_train), combine_terms=False)"
   ]
  },
  {
   "cell_type": "code",
   "execution_count": 125,
   "metadata": {
    "tags": []
   },
   "outputs": [
    {
     "data": {
      "text/plain": [
       "{'log_likelihood': tensor([-1.5695, -1.5708, -1.5703, -1.5700, -1.5688, -1.5696, -1.5694, -1.5694,\n",
       "         -1.5697, -1.5705, -1.5697, -1.5696, -1.5700, -1.5695, -1.5694, -1.5696,\n",
       "         -1.5691, -1.5698, -1.5701, -1.5699, -1.5698, -1.5706, -1.5703, -1.5698,\n",
       "         -1.5695, -1.5698, -1.5698], grad_fn=<DivBackward0>),\n",
       " 'll_sum': tensor(-42.3843, grad_fn=<SumBackward0>),\n",
       " 'klx': tensor([0.0040, 0.0040, 0.0040, 0.0040, 0.0040, 0.0040, 0.0040, 0.0040, 0.0040,\n",
       "         0.0040, 0.0040, 0.0040, 0.0040, 0.0040, 0.0040, 0.0040, 0.0040, 0.0040,\n",
       "         0.0040, 0.0040, 0.0040, 0.0040, 0.0040, 0.0040, 0.0040, 0.0040, 0.0040],\n",
       "        grad_fn=<AddBackward0>),\n",
       " 'klx_sum': tensor(0.1080, grad_fn=<SumBackward0>),\n",
       " 'klu': tensor([0.0028, 0.0028, 0.0028, 0.0028, 0.0028, 0.0028, 0.0027, 0.0028, 0.0028,\n",
       "         0.0028, 0.0028, 0.0028, 0.0028, 0.0028, 0.0028, 0.0028, 0.0028, 0.0028,\n",
       "         0.0028, 0.0028, 0.0028, 0.0028, 0.0028, 0.0028, 0.0028, 0.0028, 0.0028],\n",
       "        grad_fn=<DivBackward0>),\n",
       " 'klu_sum': tensor(0.0750, grad_fn=<SumBackward0>),\n",
       " 'total_sum': tensor(-42.5673, grad_fn=<SubBackward0>)}"
      ]
     },
     "execution_count": 125,
     "metadata": {},
     "output_type": "execute_result"
    }
   ],
   "source": [
    "ll, klu, _, klx = elbo_x(output, Y_train.T)\n",
    "{\n",
    "    \"log_likelihood\": ll,\n",
    "    \"ll_sum\": ll.sum(),\n",
    "    \"klx\": klx,\n",
    "    \"klx_sum\": klx.sum(),\n",
    "    \"klu\": klu,\n",
    "    \"klu_sum\": klu.sum(),\n",
    "    \"total_sum\": ll.sum() - klx.sum() - klu.sum(),\n",
    "}"
   ]
  },
  {
   "cell_type": "code",
   "execution_count": 127,
   "metadata": {
    "tags": []
   },
   "outputs": [
    {
     "data": {
      "text/plain": [
       "{'log_likelihood': tensor([-0.0045, -0.0045, -0.0048,  ..., -0.0044, -0.0042, -0.0050],\n",
       "        grad_fn=<DivBackward0>),\n",
       " 'log_likelihood_sum': tensor(-42.3843, grad_fn=<SumBackward0>)}"
      ]
     },
     "execution_count": 127,
     "metadata": {},
     "output_type": "execute_result"
    }
   ],
   "source": [
    "log_likelihood = (\n",
    "    clf.likelihood.expected_log_prob(Y_train.T, output).sum(0).div(len(Y_train))\n",
    ")\n",
    "{\n",
    "    \"log_likelihood\": log_likelihood,\n",
    "    \"log_likelihood_sum\": log_likelihood.sum(),\n",
    "}"
   ]
  },
  {
   "cell_type": "code",
   "execution_count": 128,
   "metadata": {
    "tags": []
   },
   "outputs": [
    {
     "data": {
      "text/plain": [
       "{'klu_expanded': tensor([0.0028, 0.0028, 0.0028, 0.0028, 0.0028, 0.0028, 0.0027, 0.0028, 0.0028,\n",
       "         0.0028, 0.0028, 0.0028, 0.0028, 0.0028, 0.0028, 0.0028, 0.0028, 0.0028,\n",
       "         0.0028, 0.0028, 0.0028, 0.0028, 0.0028, 0.0028, 0.0028, 0.0028, 0.0028],\n",
       "        grad_fn=<DivBackward0>),\n",
       " 'klu_expanded_sum': tensor(0.0750, grad_fn=<SumBackward0>)}"
      ]
     },
     "execution_count": 128,
     "metadata": {},
     "output_type": "execute_result"
    }
   ],
   "source": [
    "klu_expanded = clf.model.variational_strategy.kl_divergence().div(len(Y_train))\n",
    "{\n",
    "    \"klu_expanded\": klu_expanded,\n",
    "    \"klu_expanded_sum\": klu_expanded.sum(),\n",
    "}"
   ]
  },
  {
   "cell_type": "code",
   "execution_count": 45,
   "metadata": {
    "tags": []
   },
   "outputs": [
    {
     "data": {
      "text/plain": [
       "tensor([[0., 0., 0.,  ..., 0., 0., 0.],\n",
       "        [0., 0., 0.,  ..., 0., 0., 0.],\n",
       "        [0., 0., 0.,  ..., 0., 0., 0.],\n",
       "        ...,\n",
       "        [0., 0., 0.,  ..., 0., 0., 0.],\n",
       "        [0., 0., 0.,  ..., 0., 0., 0.],\n",
       "        [0., 0., 0.,  ..., 0., 0., 0.]])"
      ]
     },
     "execution_count": 45,
     "metadata": {},
     "output_type": "execute_result"
    }
   ],
   "source": [
    "klu_zero = torch.zeros_like(Y_train)\n",
    "klu_zero"
   ]
  },
  {
   "cell_type": "code",
   "execution_count": 54,
   "metadata": {
    "tags": []
   },
   "outputs": [
    {
     "data": {
      "text/plain": [
       "tensor(26.7473, grad_fn=<SumBackward0>)"
      ]
     },
     "execution_count": 54,
     "metadata": {},
     "output_type": "execute_result"
    }
   ],
   "source": [
    "added_loss = torch.zeros_like(log_likelihood)\n",
    "for added_loss_term in clf.model.added_loss_terms():\n",
    "    added_loss.add_(added_loss_term.loss())\n",
    "added_loss.sum()"
   ]
  },
  {
   "cell_type": "code",
   "execution_count": 24,
   "metadata": {
    "tags": []
   },
   "outputs": [],
   "source": [
    "contamination = lb_train.sum() / len(lb_train)"
   ]
  },
  {
   "cell_type": "code",
   "execution_count": 39,
   "metadata": {
    "tags": []
   },
   "outputs": [],
   "source": [
    "loss_n, _ = torch.topk(\n",
    "    torch.tensor(score),\n",
    "    int(score.shape[0] * (1 - contamination)),\n",
    "    largest=False,\n",
    "    sorted=False,\n",
    ")\n",
    "loss_a, _ = torch.topk(\n",
    "    torch.tensor(score),\n",
    "    int(score.shape[0] * (contamination)),\n",
    "    largest=True,\n",
    "    sorted=False,\n",
    ")"
   ]
  },
  {
   "cell_type": "code",
   "execution_count": null,
   "metadata": {},
   "outputs": [],
   "source": []
  }
 ],
 "metadata": {
  "kernelspec": {
   "display_name": "Python 3 (ipykernel)",
   "language": "python",
   "name": "python3"
  },
  "language_info": {
   "codemirror_mode": {
    "name": "ipython",
    "version": 3
   },
   "file_extension": ".py",
   "mimetype": "text/x-python",
   "name": "python",
   "nbconvert_exporter": "python",
   "pygments_lexer": "ipython3",
   "version": "3.10.10"
  },
  "toc": {
   "base_numbering": 1,
   "nav_menu": {},
   "number_sections": true,
   "sideBar": true,
   "skip_h1_title": false,
   "title_cell": "Table of Contents",
   "title_sidebar": "Contents",
   "toc_cell": false,
   "toc_position": {},
   "toc_section_display": true,
   "toc_window_display": false
  },
  "varInspector": {
   "cols": {
    "lenName": 16,
    "lenType": 16,
    "lenVar": 40
   },
   "kernels_config": {
    "python": {
     "delete_cmd_postfix": "",
     "delete_cmd_prefix": "del ",
     "library": "var_list.py",
     "varRefreshCmd": "print(var_dic_list())"
    },
    "r": {
     "delete_cmd_postfix": ") ",
     "delete_cmd_prefix": "rm(",
     "library": "var_list.r",
     "varRefreshCmd": "cat(var_dic_list()) "
    }
   },
   "types_to_exclude": [
    "module",
    "function",
    "builtin_function_or_method",
    "instance",
    "_Feature"
   ],
   "window_display": false
  }
 },
 "nbformat": 4,
 "nbformat_minor": 4
}
