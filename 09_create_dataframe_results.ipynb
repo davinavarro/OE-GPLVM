{
 "cells": [
  {
   "cell_type": "code",
   "execution_count": 1,
   "id": "0edf6323-bcb0-4c29-9f8c-c198a8441ac1",
   "metadata": {
    "tags": []
   },
   "outputs": [],
   "source": [
    "import pandas as pd"
   ]
  },
  {
   "cell_type": "code",
   "execution_count": 17,
   "id": "53265062-ab8a-4cfd-83de-f173aff6d4fc",
   "metadata": {
    "tags": []
   },
   "outputs": [],
   "source": [
    "df = pd.read_json('experiment_results_normal_gplvm.json')"
   ]
  },
  {
   "cell_type": "code",
   "execution_count": 19,
   "id": "71997d63-82e5-4994-9769-16a27a185c83",
   "metadata": {
    "tags": []
   },
   "outputs": [],
   "source": [
    "df = df.sort_values(by=\"dataset\").reset_index(drop=True)"
   ]
  },
  {
   "cell_type": "code",
   "execution_count": 20,
   "id": "0062c9a4-faf5-4895-ad86-acfa02f7f983",
   "metadata": {
    "tags": []
   },
   "outputs": [],
   "source": [
    "df.to_csv(\"gplvm_normal_results.csv\")"
   ]
  },
  {
   "cell_type": "code",
   "execution_count": 21,
   "id": "367ac497-faf3-4581-b558-7c821dd23706",
   "metadata": {
    "tags": []
   },
   "outputs": [
    {
     "data": {
      "text/html": [
       "<div>\n",
       "<style scoped>\n",
       "    .dataframe tbody tr th:only-of-type {\n",
       "        vertical-align: middle;\n",
       "    }\n",
       "\n",
       "    .dataframe tbody tr th {\n",
       "        vertical-align: top;\n",
       "    }\n",
       "\n",
       "    .dataframe thead th {\n",
       "        text-align: right;\n",
       "    }\n",
       "</style>\n",
       "<table border=\"1\" class=\"dataframe\">\n",
       "  <thead>\n",
       "    <tr style=\"text-align: right;\">\n",
       "      <th></th>\n",
       "      <th>dataset</th>\n",
       "      <th>kernel</th>\n",
       "      <th>layers</th>\n",
       "      <th>latent_dim</th>\n",
       "      <th>auc_roc</th>\n",
       "      <th>lr</th>\n",
       "      <th>batch_size</th>\n",
       "      <th>n_inducing</th>\n",
       "      <th>n_epochs</th>\n",
       "      <th>auc_pr</th>\n",
       "    </tr>\n",
       "  </thead>\n",
       "  <tbody>\n",
       "    <tr>\n",
       "      <th>0</th>\n",
       "      <td>01_ALOI</td>\n",
       "      <td>rbf</td>\n",
       "      <td>5,5</td>\n",
       "      <td>13</td>\n",
       "      <td>0.539058</td>\n",
       "      <td>0.01</td>\n",
       "      <td>128</td>\n",
       "      <td>50</td>\n",
       "      <td>1000</td>\n",
       "      <td>0.037092</td>\n",
       "    </tr>\n",
       "    <tr>\n",
       "      <th>1</th>\n",
       "      <td>01_ALOI</td>\n",
       "      <td>rbf</td>\n",
       "      <td>15,15</td>\n",
       "      <td>13</td>\n",
       "      <td>0.519834</td>\n",
       "      <td>0.01</td>\n",
       "      <td>128</td>\n",
       "      <td>50</td>\n",
       "      <td>1000</td>\n",
       "      <td>0.035778</td>\n",
       "    </tr>\n",
       "    <tr>\n",
       "      <th>2</th>\n",
       "      <td>01_ALOI</td>\n",
       "      <td>rbf</td>\n",
       "      <td>10,10,10</td>\n",
       "      <td>13</td>\n",
       "      <td>0.510968</td>\n",
       "      <td>0.01</td>\n",
       "      <td>128</td>\n",
       "      <td>50</td>\n",
       "      <td>1000</td>\n",
       "      <td>0.036108</td>\n",
       "    </tr>\n",
       "    <tr>\n",
       "      <th>3</th>\n",
       "      <td>01_ALOI</td>\n",
       "      <td>rbf</td>\n",
       "      <td>10,10</td>\n",
       "      <td>13</td>\n",
       "      <td>0.512846</td>\n",
       "      <td>0.01</td>\n",
       "      <td>128</td>\n",
       "      <td>50</td>\n",
       "      <td>1000</td>\n",
       "      <td>0.036107</td>\n",
       "    </tr>\n",
       "    <tr>\n",
       "      <th>4</th>\n",
       "      <td>02_annthyroid</td>\n",
       "      <td>rbf</td>\n",
       "      <td>10,10</td>\n",
       "      <td>3</td>\n",
       "      <td>0.695991</td>\n",
       "      <td>0.01</td>\n",
       "      <td>128</td>\n",
       "      <td>50</td>\n",
       "      <td>1000</td>\n",
       "      <td>0.270572</td>\n",
       "    </tr>\n",
       "    <tr>\n",
       "      <th>...</th>\n",
       "      <td>...</td>\n",
       "      <td>...</td>\n",
       "      <td>...</td>\n",
       "      <td>...</td>\n",
       "      <td>...</td>\n",
       "      <td>...</td>\n",
       "      <td>...</td>\n",
       "      <td>...</td>\n",
       "      <td>...</td>\n",
       "      <td>...</td>\n",
       "    </tr>\n",
       "    <tr>\n",
       "      <th>183</th>\n",
       "      <td>46_WPBC</td>\n",
       "      <td>rbf</td>\n",
       "      <td>5,5</td>\n",
       "      <td>15</td>\n",
       "      <td>0.521363</td>\n",
       "      <td>0.01</td>\n",
       "      <td>128</td>\n",
       "      <td>50</td>\n",
       "      <td>1000</td>\n",
       "      <td>0.280531</td>\n",
       "    </tr>\n",
       "    <tr>\n",
       "      <th>184</th>\n",
       "      <td>47_yeast</td>\n",
       "      <td>rbf</td>\n",
       "      <td>15,15</td>\n",
       "      <td>4</td>\n",
       "      <td>0.462943</td>\n",
       "      <td>0.01</td>\n",
       "      <td>128</td>\n",
       "      <td>50</td>\n",
       "      <td>1000</td>\n",
       "      <td>0.336901</td>\n",
       "    </tr>\n",
       "    <tr>\n",
       "      <th>185</th>\n",
       "      <td>47_yeast</td>\n",
       "      <td>rbf</td>\n",
       "      <td>10,10,10</td>\n",
       "      <td>4</td>\n",
       "      <td>0.460504</td>\n",
       "      <td>0.01</td>\n",
       "      <td>128</td>\n",
       "      <td>50</td>\n",
       "      <td>1000</td>\n",
       "      <td>0.323087</td>\n",
       "    </tr>\n",
       "    <tr>\n",
       "      <th>186</th>\n",
       "      <td>47_yeast</td>\n",
       "      <td>rbf</td>\n",
       "      <td>5,5</td>\n",
       "      <td>4</td>\n",
       "      <td>0.451956</td>\n",
       "      <td>0.01</td>\n",
       "      <td>128</td>\n",
       "      <td>50</td>\n",
       "      <td>1000</td>\n",
       "      <td>0.334142</td>\n",
       "    </tr>\n",
       "    <tr>\n",
       "      <th>187</th>\n",
       "      <td>47_yeast</td>\n",
       "      <td>rbf</td>\n",
       "      <td>10,10</td>\n",
       "      <td>4</td>\n",
       "      <td>0.479413</td>\n",
       "      <td>0.01</td>\n",
       "      <td>128</td>\n",
       "      <td>50</td>\n",
       "      <td>1000</td>\n",
       "      <td>0.341917</td>\n",
       "    </tr>\n",
       "  </tbody>\n",
       "</table>\n",
       "<p>188 rows × 10 columns</p>\n",
       "</div>"
      ],
      "text/plain": [
       "           dataset kernel    layers  latent_dim   auc_roc    lr  batch_size  \\\n",
       "0          01_ALOI    rbf       5,5          13  0.539058  0.01         128   \n",
       "1          01_ALOI    rbf     15,15          13  0.519834  0.01         128   \n",
       "2          01_ALOI    rbf  10,10,10          13  0.510968  0.01         128   \n",
       "3          01_ALOI    rbf     10,10          13  0.512846  0.01         128   \n",
       "4    02_annthyroid    rbf     10,10           3  0.695991  0.01         128   \n",
       "..             ...    ...       ...         ...       ...   ...         ...   \n",
       "183        46_WPBC    rbf       5,5          15  0.521363  0.01         128   \n",
       "184       47_yeast    rbf     15,15           4  0.462943  0.01         128   \n",
       "185       47_yeast    rbf  10,10,10           4  0.460504  0.01         128   \n",
       "186       47_yeast    rbf       5,5           4  0.451956  0.01         128   \n",
       "187       47_yeast    rbf     10,10           4  0.479413  0.01         128   \n",
       "\n",
       "     n_inducing  n_epochs    auc_pr  \n",
       "0            50      1000  0.037092  \n",
       "1            50      1000  0.035778  \n",
       "2            50      1000  0.036108  \n",
       "3            50      1000  0.036107  \n",
       "4            50      1000  0.270572  \n",
       "..          ...       ...       ...  \n",
       "183          50      1000  0.280531  \n",
       "184          50      1000  0.336901  \n",
       "185          50      1000  0.323087  \n",
       "186          50      1000  0.334142  \n",
       "187          50      1000  0.341917  \n",
       "\n",
       "[188 rows x 10 columns]"
      ]
     },
     "execution_count": 21,
     "metadata": {},
     "output_type": "execute_result"
    }
   ],
   "source": [
    "df"
   ]
  },
  {
   "cell_type": "code",
   "execution_count": 27,
   "id": "41127d20-cd29-4397-bfa1-6a4959585310",
   "metadata": {
    "tags": []
   },
   "outputs": [],
   "source": [
    "best_results = df.loc[df.groupby('dataset')['auc_roc'].idxmax()]"
   ]
  },
  {
   "cell_type": "code",
   "execution_count": 29,
   "id": "0c6795f0-0f41-493b-9ba1-b15d699113da",
   "metadata": {
    "tags": []
   },
   "outputs": [],
   "source": [
    "best_results.to_json('best_experiments.json', orient='records')"
   ]
  }
 ],
 "metadata": {
  "kernelspec": {
   "display_name": "conda_pytorch_p310",
   "language": "python",
   "name": "conda_pytorch_p310"
  },
  "language_info": {
   "codemirror_mode": {
    "name": "ipython",
    "version": 3
   },
   "file_extension": ".py",
   "mimetype": "text/x-python",
   "name": "python",
   "nbconvert_exporter": "python",
   "pygments_lexer": "ipython3",
   "version": "3.10.13"
  }
 },
 "nbformat": 4,
 "nbformat_minor": 5
}
