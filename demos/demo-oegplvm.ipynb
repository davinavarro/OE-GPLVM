{
 "cells": [
  {
   "cell_type": "code",
   "execution_count": null,
   "metadata": {
    "tags": []
   },
   "outputs": [],
   "source": [
    "%load_ext autoreload\n",
    "%autoreload 2\n",
    "#%pip install prettytable"
   ]
  },
  {
   "cell_type": "code",
   "execution_count": null,
   "metadata": {
    "tags": []
   },
   "outputs": [],
   "source": [
    "# import basic package\n",
    "import os\n",
    "import pandas as pd\n",
    "import warnings\n",
    "import json\n",
    "\n",
    "warnings.filterwarnings(\"ignore\")\n",
    "# import the necessary package\n",
    "from baseline.PyOD import PYOD\n",
    "from baseline.OE_GPLVM.aeb_gplvm import AEB_GPLVM, NNEncoder\n",
    "from gpytorch.likelihoods import GaussianLikelihood\n",
    "from gpytorch.mlls import VariationalELBO\n",
    "from gpytorch.distributions import MultivariateNormal\n",
    "from gpytorch.priors import NormalPrior, MultivariateNormalPrior\n",
    "\n",
    "from utils.data_generator import DataGenerator\n",
    "from utils.myutils import Utils\n",
    "import matplotlib.pyplot as plt\n",
    "\n",
    "plt.style.use(\"ggplot\")\n",
    "import torch\n",
    "import numpy as np\n",
    "from tqdm import trange\n",
    "\n",
    "datagenerator = DataGenerator()  # data generator\n",
    "utils = Utils()  # utils function"
   ]
  },
  {
   "cell_type": "code",
   "execution_count": null,
   "metadata": {
    "tags": []
   },
   "outputs": [],
   "source": [
    "# dataset and model list / dict\n",
    "dataset_list = [\n",
    "    \"01_ALOI\",\n",
    "    \"02_annthyroid\",\n",
    "    \"03_backdoor\",\n",
    "    \"04_breastw\",\n",
    "    \"05_campaign\",\n",
    "    \"06_cardio\",\n",
    "    \"07_Cardiotocography\",\n",
    "    \"08_celeba\",\n",
    "    \"09_census\",\n",
    "    \"99_linear\",\n",
    "]"
   ]
  },
  {
   "cell_type": "code",
   "execution_count": 39,
   "metadata": {
    "tags": []
   },
   "outputs": [
    {
     "name": "stdout",
     "output_type": "stream",
     "text": [
      "current noise type: None\n",
      "{'Samples': 7200, 'Features': 6, 'Anomalies': 534, 'Anomalies Ratio(%)': 7.42}\n"
     ]
    }
   ],
   "source": [
    "dataset = dataset_list[1]\n",
    "datagenerator.dataset = dataset\n",
    "data = datagenerator.generator(la=1.0, realistic_synthetic_mode=None, noise_type=None)"
   ]
  },
  {
   "cell_type": "code",
   "execution_count": 40,
   "metadata": {
    "tags": []
   },
   "outputs": [],
   "source": [
    "Y_train = torch.tensor(data[\"X_train\"], dtype=torch.float32)\n",
    "Y_test = torch.tensor(data[\"X_test\"], dtype=torch.float32)\n",
    "lb_train = torch.tensor(data[\"y_train\"], dtype=torch.float32)\n",
    "lb_test = torch.tensor(data[\"y_test\"], dtype=torch.float32)"
   ]
  },
  {
   "cell_type": "code",
   "execution_count": 125,
   "metadata": {
    "tags": []
   },
   "outputs": [
    {
     "name": "stdout",
     "output_type": "stream",
     "text": [
      "Training model params for model GPLVM\n",
      "+-----------------------------------------------------------------------+------------+\n",
      "|                                Modules                                | Parameters |\n",
      "+-----------------------------------------------------------------------+------------+\n",
      "|                  variational_strategy.inducing_points                 |     50     |\n",
      "|    variational_strategy._variational_distribution.variational_mean    |    150     |\n",
      "| variational_strategy._variational_distribution.chol_variational_covar |    3750    |\n",
      "|                          X.mu_layers.0.weight                         |     60     |\n",
      "|                           X.mu_layers.0.bias                          |     10     |\n",
      "|                          X.mu_layers.1.weight                         |     50     |\n",
      "|                           X.mu_layers.1.bias                          |     5      |\n",
      "|                          X.mu_layers.2.weight                         |     10     |\n",
      "|                           X.mu_layers.2.bias                          |     2      |\n",
      "|                          X.sg_layers.0.weight                         |     30     |\n",
      "|                           X.sg_layers.0.bias                          |     5      |\n",
      "|                          X.sg_layers.1.weight                         |     25     |\n",
      "|                           X.sg_layers.1.bias                          |     5      |\n",
      "|                          X.sg_layers.2.weight                         |     20     |\n",
      "|                           X.sg_layers.2.bias                          |     4      |\n",
      "|                      covar_module.raw_outputscale                     |     1      |\n",
      "|                covar_module.base_kernel.raw_lengthscale               |     2      |\n",
      "+-----------------------------------------------------------------------+------------+\n",
      "Total Trainable Params: 4179\n"
     ]
    }
   ],
   "source": [
    "model_dict = {}\n",
    "noise_trace_dict = {}\n",
    "N = len(Y_train)\n",
    "data_dim = Y_train.shape[1]\n",
    "latent_dim = 2\n",
    "n_inducing = 25\n",
    "batch_size = 100\n",
    "n_epochs = 1000\n",
    "nn_layers = (10, 5)\n",
    "lr = 0.01\n",
    "\n",
    "# Define prior for X, Initialise model, likelihood, elbo and optimizer and latent variable encoder\n",
    "X_prior_mean = torch.zeros(N, latent_dim)  # shape: N x Q\n",
    "prior_x = MultivariateNormalPrior(X_prior_mean, torch.eye(X_prior_mean.shape[1]))\n",
    "encoder = NNEncoder(N, latent_dim, prior_x, data_dim, layers=nn_layers)\n",
    "model = AEB_GPLVM(N, data_dim, latent_dim, n_inducing, encoder, nn_layers=nn_layers)\n",
    "likelihood = GaussianLikelihood()\n",
    "optimizer = torch.optim.Adam(\n",
    "    [{\"params\": model.parameters()}, {\"params\": likelihood.parameters()}], lr\n",
    ")\n",
    "elbo = VariationalELBO(likelihood, model, num_data=len(Y_train), combine_terms=False)\n",
    "# Model params\n",
    "print(f'Training model params for model {\"GPLVM\"}')\n",
    "model.get_trainable_param_names()\n",
    "loss_list = []\n",
    "noise_trace = []"
   ]
  },
  {
   "cell_type": "code",
   "execution_count": 126,
   "metadata": {
    "tags": []
   },
   "outputs": [],
   "source": [
    "# Provando o conceito\n",
    "batch_idx_a = np.arange(1, 30)\n",
    "batch_idx_n = np.arange(32, 100)\n",
    "batch_index = np.hstack([batch_idx_a, batch_idx_n])\n",
    "ratio = len(batch_idx_a) / len(batch_index)"
   ]
  },
  {
   "cell_type": "code",
   "execution_count": 127,
   "metadata": {
    "tags": []
   },
   "outputs": [],
   "source": [
    "output_batch_a = model(model.sample_latent_variable(Y_train)[batch_idx_a])\n",
    "output_batch_n = model(model.sample_latent_variable(Y_train)[batch_idx_n])\n",
    "output_batch_full = model(model.sample_latent_variable(Y_train)[batch_index])"
   ]
  },
  {
   "cell_type": "code",
   "execution_count": 128,
   "metadata": {},
   "outputs": [
    {
     "data": {
      "text/plain": [
       "(tensor([-1.4931, -1.2369, -1.2455, -1.2804, -1.3314, -1.2645],\n",
       "        grad_fn=<DivBackward0>),\n",
       " tensor([3.2168e-09, 2.4599e-09, 1.8922e-09, 2.6491e-09, 2.0814e-09, 2.6491e-09],\n",
       "        grad_fn=<DivBackward0>),\n",
       " tensor([0., 0., 0., 0., 0., 0.]),\n",
       " tensor([0.3833, 0.3833, 0.3833, 0.3833, 0.3833, 0.3833],\n",
       "        grad_fn=<AddBackward0>))"
      ]
     },
     "execution_count": 128,
     "metadata": {},
     "output_type": "execute_result"
    }
   ],
   "source": [
    "elbo(output_batch_full, Y_train[batch_index].T)"
   ]
  },
  {
   "cell_type": "code",
   "execution_count": 129,
   "metadata": {},
   "outputs": [],
   "source": [
    "target = Y_train[batch_index]\n",
    "n_train = len(Y_train)"
   ]
  },
  {
   "cell_type": "code",
   "execution_count": 138,
   "metadata": {},
   "outputs": [],
   "source": [
    "def _expected_log_prob(target):  # X, indices):\n",
    "    output = model(model.sample_latent_variable(target))\n",
    "    exp_log_prob = likelihood.expected_log_prob(target.T, output)\n",
    "    return exp_log_prob\n",
    "\n",
    "def _kl_divergence_variational(target):\n",
    "    ll_shape = torch.zeros_like(target.T)\n",
    "    klu = ll_shape.T.add_(\n",
    "        model.variational_strategy.kl_divergence()\n",
    "        .div(batch_size)\n",
    "        .div((n_train))\n",
    "    ).T\n",
    "    return klu"
   ]
  },
  {
   "cell_type": "code",
   "execution_count": 139,
   "metadata": {},
   "outputs": [
    {
     "data": {
      "text/plain": [
       "torch.Size([6, 97])"
      ]
     },
     "execution_count": 139,
     "metadata": {},
     "output_type": "execute_result"
    }
   ],
   "source": [
    "_kl_divergence_variational(target).shape"
   ]
  },
  {
   "cell_type": "code",
   "execution_count": 112,
   "metadata": {},
   "outputs": [
    {
     "data": {
      "text/plain": [
       "torch.Size([6, 97])"
      ]
     },
     "execution_count": 112,
     "metadata": {},
     "output_type": "execute_result"
    }
   ],
   "source": []
  },
  {
   "cell_type": "code",
   "execution_count": 106,
   "metadata": {},
   "outputs": [
    {
     "data": {
      "text/plain": [
       "tensor([[0., 0., 0., 0., 0., 0., 0., 0., 0., 0., 0., 0., 0., 0., 0., 0., 0., 0., 0., 0., 0., 0., 0., 0.,\n",
       "         0., 0., 0., 0., 0., 0., 0., 0., 0., 0., 0., 0., 0., 0., 0., 0., 0., 0., 0., 0., 0., 0., 0., 0.,\n",
       "         0., 0., 0., 0., 0., 0., 0., 0., 0., 0., 0., 0., 0., 0., 0., 0., 0., 0., 0., 0., 0., 0., 0., 0.,\n",
       "         0., 0., 0., 0., 0., 0., 0., 0., 0., 0., 0., 0., 0., 0., 0., 0., 0., 0., 0., 0., 0., 0., 0., 0.,\n",
       "         0.],\n",
       "        [0., 0., 0., 0., 0., 0., 0., 0., 0., 0., 0., 0., 0., 0., 0., 0., 0., 0., 0., 0., 0., 0., 0., 0.,\n",
       "         0., 0., 0., 0., 0., 0., 0., 0., 0., 0., 0., 0., 0., 0., 0., 0., 0., 0., 0., 0., 0., 0., 0., 0.,\n",
       "         0., 0., 0., 0., 0., 0., 0., 0., 0., 0., 0., 0., 0., 0., 0., 0., 0., 0., 0., 0., 0., 0., 0., 0.,\n",
       "         0., 0., 0., 0., 0., 0., 0., 0., 0., 0., 0., 0., 0., 0., 0., 0., 0., 0., 0., 0., 0., 0., 0., 0.,\n",
       "         0.],\n",
       "        [0., 0., 0., 0., 0., 0., 0., 0., 0., 0., 0., 0., 0., 0., 0., 0., 0., 0., 0., 0., 0., 0., 0., 0.,\n",
       "         0., 0., 0., 0., 0., 0., 0., 0., 0., 0., 0., 0., 0., 0., 0., 0., 0., 0., 0., 0., 0., 0., 0., 0.,\n",
       "         0., 0., 0., 0., 0., 0., 0., 0., 0., 0., 0., 0., 0., 0., 0., 0., 0., 0., 0., 0., 0., 0., 0., 0.,\n",
       "         0., 0., 0., 0., 0., 0., 0., 0., 0., 0., 0., 0., 0., 0., 0., 0., 0., 0., 0., 0., 0., 0., 0., 0.,\n",
       "         0.],\n",
       "        [0., 0., 0., 0., 0., 0., 0., 0., 0., 0., 0., 0., 0., 0., 0., 0., 0., 0., 0., 0., 0., 0., 0., 0.,\n",
       "         0., 0., 0., 0., 0., 0., 0., 0., 0., 0., 0., 0., 0., 0., 0., 0., 0., 0., 0., 0., 0., 0., 0., 0.,\n",
       "         0., 0., 0., 0., 0., 0., 0., 0., 0., 0., 0., 0., 0., 0., 0., 0., 0., 0., 0., 0., 0., 0., 0., 0.,\n",
       "         0., 0., 0., 0., 0., 0., 0., 0., 0., 0., 0., 0., 0., 0., 0., 0., 0., 0., 0., 0., 0., 0., 0., 0.,\n",
       "         0.],\n",
       "        [0., 0., 0., 0., 0., 0., 0., 0., 0., 0., 0., 0., 0., 0., 0., 0., 0., 0., 0., 0., 0., 0., 0., 0.,\n",
       "         0., 0., 0., 0., 0., 0., 0., 0., 0., 0., 0., 0., 0., 0., 0., 0., 0., 0., 0., 0., 0., 0., 0., 0.,\n",
       "         0., 0., 0., 0., 0., 0., 0., 0., 0., 0., 0., 0., 0., 0., 0., 0., 0., 0., 0., 0., 0., 0., 0., 0.,\n",
       "         0., 0., 0., 0., 0., 0., 0., 0., 0., 0., 0., 0., 0., 0., 0., 0., 0., 0., 0., 0., 0., 0., 0., 0.,\n",
       "         0.],\n",
       "        [0., 0., 0., 0., 0., 0., 0., 0., 0., 0., 0., 0., 0., 0., 0., 0., 0., 0., 0., 0., 0., 0., 0., 0.,\n",
       "         0., 0., 0., 0., 0., 0., 0., 0., 0., 0., 0., 0., 0., 0., 0., 0., 0., 0., 0., 0., 0., 0., 0., 0.,\n",
       "         0., 0., 0., 0., 0., 0., 0., 0., 0., 0., 0., 0., 0., 0., 0., 0., 0., 0., 0., 0., 0., 0., 0., 0.,\n",
       "         0., 0., 0., 0., 0., 0., 0., 0., 0., 0., 0., 0., 0., 0., 0., 0., 0., 0., 0., 0., 0., 0., 0., 0.,\n",
       "         0.]])"
      ]
     },
     "execution_count": 106,
     "metadata": {},
     "output_type": "execute_result"
    }
   ],
   "source": [
    "torch.zeros(llk_fn().shape)"
   ]
  },
  {
   "cell_type": "code",
   "execution_count": null,
   "metadata": {
    "tags": []
   },
   "outputs": [],
   "source": [
    "# O método forward da classe VariationalELBO, chama a superclasse _ApproximateMarginalLogLikelihood\n",
    "# que retorna log_likelihood - kl_divergence + log_prior - added_loss, quando você pede pra combinar os termos\n",
    "# que  é o PADRÃO. Se você passar combine_terms = False, ele te retorna uma tupla com cada um deles\n",
    "log_likelihood, kl_divergence, log_prior, added_loss = elbo(\n",
    "    output_batch_full, Y_train[batch_index].T\n",
    ")\n",
    "terms = dict(\n",
    "    log_likelihood=log_likelihood,\n",
    "    kl_divergence=kl_divergence,\n",
    "    log_prior=log_prior,\n",
    "    added_loss=added_loss,\n",
    ")\n",
    "terms"
   ]
  },
  {
   "cell_type": "code",
   "execution_count": null,
   "metadata": {
    "tags": []
   },
   "outputs": [],
   "source": [
    "# Minha duvida era se eu conseguia separar as likelihoods e voltar para o resultado original\n",
    "# por conta dos termos KL não era trivial, a principio fazer isso\n",
    "log_likelihood, kl_divergence, log_prior, added_loss = elbo(\n",
    "    output_batch_n, Y_train[batch_idx_n].T\n",
    ")\n",
    "terms = dict(\n",
    "    log_likelihood=log_likelihood,\n",
    "    kl_divergence=kl_divergence,\n",
    "    log_prior=log_prior,\n",
    "    added_loss=added_loss,\n",
    ")\n",
    "terms"
   ]
  },
  {
   "cell_type": "code",
   "execution_count": null,
   "metadata": {
    "tags": []
   },
   "outputs": [],
   "source": [
    "# Aparentemente os termos KL e Added Loss que também é um KL, são constantes nas chamadas do elbo\n",
    "# então posso somente armazena-los e focar na log_likelihood\n",
    "log_likelihood, kl_divergence, log_prior, added_loss = elbo(\n",
    "    output_batch_n, Y_train[batch_idx_n].T\n",
    ")\n",
    "terms = dict(\n",
    "    log_likelihood=log_likelihood,\n",
    "    kl_divergence=kl_divergence,\n",
    "    log_prior=log_prior,\n",
    "    added_loss=added_loss,\n",
    ")\n",
    "terms"
   ]
  },
  {
   "cell_type": "code",
   "execution_count": null,
   "metadata": {
    "tags": []
   },
   "outputs": [],
   "source": [
    "# Essa é o método principal da classe VariationalELBO, o problem é que ele já vem somado no shape 1xDIM_DADOS\n",
    "# mas preciso saber esse termo por cada ponto do batch/teste\n",
    "terms = {\n",
    "    \"_log_likelihood_term\": elbo._log_likelihood_term(\n",
    "        output_batch_full, Y_train[batch_index].T\n",
    "    )\n",
    "}\n",
    "terms"
   ]
  },
  {
   "cell_type": "code",
   "execution_count": null,
   "metadata": {
    "tags": []
   },
   "outputs": [],
   "source": [
    "# Eu posso pegar toda a matriz, utilizando a chamada da likelihood\n",
    "exp_log_prob = elbo.likelihood.expected_log_prob(\n",
    "    Y_train[batch_index].T, output_batch_full\n",
    ")\n",
    "print(exp_log_prob, exp_log_prob.shape)"
   ]
  },
  {
   "cell_type": "code",
   "execution_count": null,
   "metadata": {
    "tags": []
   },
   "outputs": [],
   "source": [
    "# LEMBRANDO QUE ---> exp_log_prob.sum(-1).div(batch_size) == elbo(target = Y_train[batch_index].T, variational_dist_f= output_batch_full)[0]\n",
    "## IMPORTANTE!!! Se atentar aos gradienets, basta multiplicar exp_log_prob.sum(-1).div(batch_size) por *1 para ver o B.O.\n",
    "batch_size = len(batch_index)\n",
    "exp_log_prob.sum(-1).div(batch_size)"
   ]
  },
  {
   "cell_type": "code",
   "execution_count": null,
   "metadata": {
    "tags": []
   },
   "outputs": [],
   "source": [
    "# LL TOTAL\n",
    "log_likelihood_total = elbo(\n",
    "    target=Y_train[batch_index].T, variational_dist_f=output_batch_full\n",
    ")[0]\n",
    "\n",
    "# Depois de muito sofrer pensando isso, percebi que posso fazer passar chamar o elbo\n",
    "# pra cada conjunto, anomalo e normal, e depois recuperar o log_likelihood total\n",
    "# se eu fizer uma soma ponderada dos log_likelihoods\n",
    "# Minha preocupacao aqui era por que na instaciação da classe você precisa\n",
    "# passar o num_data, só que esse termo se não diz respeito ao tamanno do batch\n",
    "# e sim ao tamanho do treino total. Em todos os experimentos do GPLVM\n",
    "# ele é instanciado utilizado num_data = len(Y_train), logo isso não interfere\n",
    "# no calculo do elbo. Também é legal ressaltar que os termos KL não mudam\n",
    "# mesmo que os batchs mudem.\n",
    "\n",
    "output_batch_a = model(model.sample_latent_variable(Y_train)[batch_idx_a])\n",
    "output_batch_n = model(model.sample_latent_variable(Y_train)[batch_idx_n])\n",
    "target_a = Y_train[batch_idx_a].T\n",
    "target_n = Y_train[batch_idx_n].T\n",
    "ll_normal = elbo(output_batch_n, target_n)[0] * (\n",
    "    1 - ratio\n",
    ")  # <- Isso não é o elbo. É a log_likelihood --> Se atentar ao [0]\n",
    "ll_anomaly = elbo(output_batch_a, target_a)[0] * ratio"
   ]
  },
  {
   "cell_type": "code",
   "execution_count": null,
   "metadata": {
    "tags": []
   },
   "outputs": [],
   "source": [
    "log_likelihood_total"
   ]
  },
  {
   "cell_type": "code",
   "execution_count": null,
   "metadata": {
    "tags": []
   },
   "outputs": [],
   "source": [
    "ll_normal + ll_anomaly"
   ]
  },
  {
   "cell_type": "code",
   "execution_count": null,
   "metadata": {
    "tags": []
   },
   "outputs": [],
   "source": [
    "def get_loe_index(score, ratio, batch_index):\n",
    "    _, idx_n = torch.topk(\n",
    "        score, int(score.shape[0] * (1 - ratio)), largest=False, sorted=False\n",
    "    )\n",
    "    _, idx_a = torch.topk(\n",
    "        score, int(score.shape[0] * (ratio)), largest=True, sorted=False\n",
    "    )\n",
    "    return batch_index[idx_n], batch_index[idx_a]"
   ]
  },
  {
   "cell_type": "code",
   "execution_count": null,
   "metadata": {
    "tags": []
   },
   "outputs": [],
   "source": [
    "def get_log_likelihood_LOE(Y_train, lb_train, idx_n, idx_a, ratio, method=\"blind\"):\n",
    "    output_batch_a = model(model.sample_latent_variable(Y_train)[idx_a])\n",
    "    output_batch_n = model(model.sample_latent_variable(Y_train)[idx_n])\n",
    "    target_a = Y_train[idx_a].T\n",
    "    target_n = Y_train[idx_n].T\n",
    "\n",
    "    ll_normal = elbo(output_batch_n, target_n)[0] * (1 - ratio)\n",
    "    ll_anomaly = elbo(output_batch_a, target_a)[0] * ratio\n",
    "\n",
    "    if method == \"blind\":\n",
    "        log_likelihood = (ll_normal + ll_anomaly).div(1)\n",
    "    elif method == \"hard\":\n",
    "        log_likelihood = (ll_normal - ll_anomaly).div(1)\n",
    "    elif method == \"soft\":\n",
    "        log_likelihood = (ll_normal - 0.5 * (ll_anomaly + ll_normal)).div(1)\n",
    "    else:\n",
    "        raise NotImplementedError\n",
    "\n",
    "    return log_likelihood"
   ]
  },
  {
   "cell_type": "code",
   "execution_count": null,
   "metadata": {},
   "outputs": [],
   "source": [
    "def elbo_loe(model, elbo, batch_size, Y_train, y_train, method=\"refine\"):\n",
    "    if method == \"refine\":\n",
    "        batch_index = model._get_normal_batch_idx(batch_size, y_train)\n",
    "        output_batch = model(model.sample_latent_variable(Y_train)[batch_index])\n",
    "\n",
    "        log_likelihood, kl_divergence, log_prior, added_loss = elbo(\n",
    "            output_batch, Y_train[batch_index].T\n",
    "        )\n",
    "\n",
    "    elif method in [\"hard\", \"soft\", \"blind\"]:\n",
    "        batch_index, ratio = model._get_individual_batch_idx(batch_size, y_train)\n",
    "        Y_target = Y_train[batch_index]\n",
    "        output_batch = model(model.sample_latent_variable(Y_train)[batch_index])\n",
    "\n",
    "        _, kl_divergence, log_prior, added_loss = elbo(output_batch, Y_target.T)\n",
    "        likelihood_per_point = elbo.likelihood.expected_log_prob(\n",
    "            Y_target.T, output_batch\n",
    "        ).sum(0)\n",
    "        loe_idx_n, loe_idx_a = get_loe_index(likelihood_per_point, ratio, batch_index)\n",
    "        log_likelihood = get_log_likelihood_LOE(\n",
    "            Y_train, y_train, loe_idx_n, loe_idx_a, ratio\n",
    "        )\n",
    "\n",
    "    loss = -(log_likelihood - kl_divergence + log_prior - added_loss).sum()\n",
    "\n",
    "    return loss"
   ]
  },
  {
   "cell_type": "code",
   "execution_count": null,
   "metadata": {
    "tags": []
   },
   "outputs": [],
   "source": [
    "iterator = trange(1000, leave=True)\n",
    "batch_size = 100\n",
    "for i in iterator:\n",
    "    model.train()\n",
    "    optimizer.zero_grad()\n",
    "    loss = elbo_loe(model, elbo, batch_size, Y_train, lb_train, method=\"refine\")\n",
    "    loss_list.append(loss.item())\n",
    "    noise_trace.append(np.round(likelihood.noise_covar.noise.item(), 3))\n",
    "    if i % 50 == 0:\n",
    "        iterator.set_description(\n",
    "            \"Loss: \" + str(float(np.round(loss.item(), 2))) + \", iter no: \" + str(i)\n",
    "        )\n",
    "    loss.backward()\n",
    "    optimizer.step()\n",
    "\n",
    "model.store(loss_list, likelihood)\n",
    "noise_trace_dict[\"GPLVM\"] = noise_trace\n",
    "X_train_mean = model.get_X_mean(Y_train)"
   ]
  },
  {
   "cell_type": "code",
   "execution_count": null,
   "metadata": {},
   "outputs": [],
   "source": [
    "with torch.no_grad():\n",
    "    model.eval()\n",
    "    likelihood.eval()\n",
    "y_pred_mean, y_pred_covar = model.reconstruct_y(Y_test)\n",
    "dist_pred = MultivariateNormal(y_pred_mean, y_pred_covar)\n",
    "elbo_per_point = elbo.likelihood.expected_log_prob(Y_test.T, dist_pred).sum(0)"
   ]
  },
  {
   "cell_type": "code",
   "execution_count": null,
   "metadata": {},
   "outputs": [],
   "source": [
    "utils.metric(y_true=lb_test, y_score=elbo_per_point.detach().numpy())"
   ]
  },
  {
   "cell_type": "code",
   "execution_count": null,
   "metadata": {},
   "outputs": [],
   "source": [
    "## amostra -> nn_ecoder --> model.decoder --> amostra_reconstruida\n",
    "## ou seja, vira uma variavel latente, depois passa pelo modelo\n",
    "## para se tornar de novo algo no espaço dos dados\n",
    "X_test_mean, X_test_covar = model.predict_latent(Y_test)\n",
    "Y_test_mean, Y_test_covar = model.reconstruct_y(Y_test)"
   ]
  },
  {
   "cell_type": "code",
   "execution_count": null,
   "metadata": {},
   "outputs": [],
   "source": [
    "def scatter_Y_test(Y_test, lb_test):\n",
    "    idx_n = np.where(lb_test == 0)\n",
    "    idx_a = np.where(lb_test == 1)\n",
    "    plt.scatter(Y_test_mean[0, idx_a], Y_test_mean[1, idx_a])\n",
    "    plt.scatter(Y_test_mean[0, idx_n], Y_test_mean[1, idx_n])"
   ]
  },
  {
   "cell_type": "code",
   "execution_count": null,
   "metadata": {},
   "outputs": [],
   "source": [
    "scatter_Y_test(Y_test, lb_test)"
   ]
  },
  {
   "cell_type": "code",
   "execution_count": null,
   "metadata": {},
   "outputs": [],
   "source": [
    "# seed for reproducible results\n",
    "seed = 42\n",
    "\n",
    "# clf = clf(seed=seed, model_name=name)\n",
    "# clf = clf.fit(X_train=data[\"X_train\"], y_train=data[\"y_train\"])\n",
    "# score = clf.predict_score(data[\"X_test\"])\n",
    "# result = utils.metric(y_true=data[\"y_test\"], y_score=score)\n",
    "# df_AUCROC.loc[dataset, name] = result[\"aucroc\"]\n",
    "# df_AUCPR.loc[dataset, name] = result[\"aucpr\"]"
   ]
  }
 ],
 "metadata": {
  "kernelspec": {
   "display_name": "Python 3 (ipykernel)",
   "language": "python",
   "name": "python3"
  },
  "language_info": {
   "codemirror_mode": {
    "name": "ipython",
    "version": 3
   },
   "file_extension": ".py",
   "mimetype": "text/x-python",
   "name": "python",
   "nbconvert_exporter": "python",
   "pygments_lexer": "ipython3",
   "version": "3.10.10"
  }
 },
 "nbformat": 4,
 "nbformat_minor": 4
}
