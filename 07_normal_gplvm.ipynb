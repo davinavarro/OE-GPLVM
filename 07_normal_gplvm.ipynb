{
 "cells": [
  {
   "cell_type": "code",
   "execution_count": null,
   "id": "f4110f34-3e7e-4b49-a60f-5f958dce88e6",
   "metadata": {
    "tags": []
   },
   "outputs": [],
   "source": [
    "%load_ext autoreload\n",
    "%autoreload 2\n",
    "from new_aeb_gplvm import *\n",
    "from utils.data_generator import DataGenerator\n",
    "from utils.myutils import Utils\n",
    "from tqdm import trange\n",
    "from sklearn.preprocessing import StandardScaler, MinMaxScaler\n",
    "import matplotlib.pyplot as plt\n",
    "import random\n",
    "random.seed(42)"
   ]
  },
  {
   "cell_type": "code",
   "execution_count": null,
   "metadata": {},
   "outputs": [],
   "source": [
    "datagenerator = DataGenerator()\n",
    "utils = Utils()"
   ]
  },
  {
   "cell_type": "code",
   "execution_count": null,
   "id": "f8ed2ff2-67d0-4deb-b596-bd1bb37c4cbc",
   "metadata": {},
   "outputs": [],
   "source": [
    "# dataset and model list / dict\n",
    "dataset_list = [\n",
    "    \"01_ALOI\",\n",
    "    \"02_annthyroid\",\n",
    "    \"03_backdoor\",\n",
    "    \"04_breastw\",\n",
    "    \"05_campaign\",\n",
    "    \"06_cardio\",\n",
    "    \"07_Cardiotocography\",\n",
    "    \"08_celeba\",\n",
    "    \"09_census\",\n",
    "    \"99_linear\",\n",
    "    \"99_circles\",\n",
    "    \"99_moons\",\n",
    "    \"99_clusters\",\n",
    "    \"99_oilflow\",\n",
    "]\n",
    "dataset = dataset_list[1]\n",
    "datagenerator.dataset = dataset\n",
    "\n",
    "data = datagenerator.generator(\n",
    "    la=0.999,\n",
    "    realistic_synthetic_mode=None,\n",
    "    stdscale=True,\n",
    "    minmax=False,\n",
    "    noise_type=None,\n",
    ")\n",
    "\n",
    "Y_train = torch.tensor(data[\"X_train\"], dtype=torch.float32)\n",
    "Y_test = torch.tensor(data[\"X_test\"], dtype=torch.float32)\n",
    "lb_train = torch.tensor(data[\"y_train\"], dtype=torch.float32)\n",
    "lb_test = torch.tensor(data[\"y_test\"], dtype=torch.float32)\n",
    "idx_n = np.where(lb_train == 0)[0]\n",
    "Y_train = Y_train[idx_n]\n",
    "lb_train = lb_train[idx_n]"
   ]
  },
  {
   "cell_type": "code",
   "execution_count": null,
   "id": "e453cb21-06b6-43f4-a911-2d17d71c32c1",
   "metadata": {},
   "outputs": [],
   "source": [
    "n_train = len(Y_train)\n",
    "data_dim = Y_train.shape[1]\n",
    "latent_dim = 3\n",
    "n_inducing = 50\n",
    "n_epochs = 1000\n",
    "nn_layers = 15, 15\n",
    "lr = 0.01\n",
    "batch_size = 128"
   ]
  },
  {
   "cell_type": "code",
   "execution_count": null,
   "metadata": {},
   "outputs": [],
   "source": [
    "gplvm = AD_GPLVM(latent_dim, n_inducing, n_epochs, nn_layers, lr, batch_size)"
   ]
  },
  {
   "cell_type": "code",
   "execution_count": null,
   "metadata": {},
   "outputs": [],
   "source": [
    "gplvm.fit(Y_train)"
   ]
  },
  {
   "cell_type": "code",
   "execution_count": 20,
   "metadata": {},
   "outputs": [],
   "source": [
    "std = gplvm.encoder.sigma(Y_train)\n",
    "my_list = []"
   ]
  },
  {
   "cell_type": "code",
   "execution_count": 27,
   "metadata": {},
   "outputs": [],
   "source": [
    "for x in std.detach():\n",
    "    val = torch.sqrt(x.diag())\n",
    "    my_list.append()"
   ]
  },
  {
   "cell_type": "code",
   "execution_count": 30,
   "metadata": {},
   "outputs": [
    {
     "data": {
      "text/plain": [
       "array([0.50850314, 0.439139  , 0.3943587 ], dtype=float32)"
      ]
     },
     "execution_count": 30,
     "metadata": {},
     "output_type": "execute_result"
    }
   ],
   "source": [
    "my_list[0]"
   ]
  },
  {
   "cell_type": "code",
   "execution_count": null,
   "metadata": {},
   "outputs": [],
   "source": [
    "# score = gplvm.predict_score(Y_test)\n",
    "# score"
   ]
  },
  {
   "cell_type": "code",
   "execution_count": 19,
   "id": "48c213c3-7ac4-41c8-b6d0-809588ff4719",
   "metadata": {},
   "outputs": [],
   "source": [
    "# utils.metric(y_true=lb_test, y_score=score)"
   ]
  }
 ],
 "metadata": {
  "kernelspec": {
   "display_name": "Python 3 (ipykernel)",
   "language": "python",
   "name": "python3"
  },
  "language_info": {
   "codemirror_mode": {
    "name": "ipython",
    "version": 3
   },
   "file_extension": ".py",
   "mimetype": "text/x-python",
   "name": "python",
   "nbconvert_exporter": "python",
   "pygments_lexer": "ipython3",
   "version": "3.11.4"
  }
 },
 "nbformat": 4,
 "nbformat_minor": 5
}
