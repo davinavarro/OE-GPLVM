{
 "cells": [
  {
   "cell_type": "code",
   "execution_count": 1,
   "id": "f4110f34-3e7e-4b49-a60f-5f958dce88e6",
   "metadata": {
    "tags": []
   },
   "outputs": [
    {
     "name": "stderr",
     "output_type": "stream",
     "text": [
      "2023-11-28 02:36:16.381826: E external/local_xla/xla/stream_executor/cuda/cuda_dnn.cc:9261] Unable to register cuDNN factory: Attempting to register factory for plugin cuDNN when one has already been registered\n",
      "2023-11-28 02:36:16.381856: E external/local_xla/xla/stream_executor/cuda/cuda_fft.cc:607] Unable to register cuFFT factory: Attempting to register factory for plugin cuFFT when one has already been registered\n",
      "2023-11-28 02:36:16.382942: E external/local_xla/xla/stream_executor/cuda/cuda_blas.cc:1515] Unable to register cuBLAS factory: Attempting to register factory for plugin cuBLAS when one has already been registered\n",
      "2023-11-28 02:36:16.389365: I tensorflow/core/platform/cpu_feature_guard.cc:182] This TensorFlow binary is optimized to use available CPU instructions in performance-critical operations.\n",
      "To enable the following instructions: AVX2 AVX512F FMA, in other operations, rebuild TensorFlow with the appropriate compiler flags.\n",
      "2023-11-28 02:36:17.219882: W tensorflow/compiler/tf2tensorrt/utils/py_utils.cc:38] TF-TRT Warning: Could not find TensorRT\n"
     ]
    }
   ],
   "source": [
    "%load_ext autoreload\n",
    "%autoreload 2\n",
    "from new_aeb_gplvm import *\n",
    "from utils.data_generator import DataGenerator\n",
    "from utils.myutils import Utils\n",
    "from tqdm import trange\n",
    "from sklearn.preprocessing import StandardScaler, MinMaxScaler\n",
    "import matplotlib.pyplot as plt\n",
    "import random\n",
    "from tqdm import tqdm_notebook\n",
    "random.seed(42)\n",
    "import json"
   ]
  },
  {
   "cell_type": "code",
   "execution_count": 2,
   "id": "cbc45797-d29f-4333-8fc0-884e1063f4b4",
   "metadata": {
    "tags": []
   },
   "outputs": [],
   "source": [
    "datagenerator = DataGenerator()\n",
    "utils = Utils()"
   ]
  },
  {
   "cell_type": "code",
   "execution_count": 3,
   "id": "ae8e430e-54a9-4e7e-9294-72b4fd59bed8",
   "metadata": {
    "tags": []
   },
   "outputs": [],
   "source": [
    "# dataset and model list / dict"
   ]
  },
  {
   "cell_type": "code",
   "execution_count": 14,
   "id": "a1f5729e-512c-4e60-99c3-adf5d6fe7c8f",
   "metadata": {
    "tags": []
   },
   "outputs": [],
   "source": [
    "def create_dataframe(dataset):\n",
    "    datagenerator.dataset = dataset\n",
    "    data = datagenerator.generator(\n",
    "        la=1.00,\n",
    "        realistic_synthetic_mode=None,\n",
    "        stdscale=True,\n",
    "        minmax=False,\n",
    "        noise_type=None,\n",
    "    )\n",
    "    Y_train = torch.tensor(data[\"X_train\"], dtype=torch.float32)\n",
    "    Y_test = torch.tensor(data[\"X_test\"], dtype=torch.float32)\n",
    "    lb_train = torch.tensor(data[\"y_train\"], dtype=torch.float32)\n",
    "    lb_test = torch.tensor(data[\"y_test\"], dtype=torch.float32)\n",
    "    #idx_n = np.where(lb_train == 0)[0]\n",
    "    #Y_train = Y_train[idx_n]\n",
    "    #lb_train = lb_train[idx_n]\n",
    "    return Y_train, Y_test, lb_train, lb_test"
   ]
  },
  {
   "cell_type": "code",
   "execution_count": 15,
   "id": "882067cc-223c-4a63-8447-1459b82609ed",
   "metadata": {
    "tags": []
   },
   "outputs": [
    {
     "name": "stdout",
     "output_type": "stream",
     "text": [
      "subsampling for dataset 01_ALOI...\n",
      "current noise type: None\n",
      "{'Samples': 10000, 'Features': 27, 'Anomalies': 302, 'Anomalies Ratio(%)': 3.02}\n"
     ]
    }
   ],
   "source": [
    "Y_train, Y_test, lb_train, lb_test = create_dataframe('01_ALOI')"
   ]
  },
  {
   "cell_type": "code",
   "execution_count": 27,
   "id": "40f8833a-8232-408a-94c2-669b7badf503",
   "metadata": {
    "tags": []
   },
   "outputs": [],
   "source": [
    "with open(\"best_experiments.json\") as file:\n",
    "    experiments = json.load(file)"
   ]
  },
  {
   "cell_type": "code",
   "execution_count": 28,
   "id": "2f81bd92-0989-42e1-8c95-cc98fab7a5cb",
   "metadata": {
    "tags": []
   },
   "outputs": [
    {
     "name": "stderr",
     "output_type": "stream",
     "text": [
      "/tmp/ipykernel_32706/1028631601.py:1: TqdmDeprecationWarning: This function will be removed in tqdm==5.0.0\n",
      "Please use `tqdm.notebook.tqdm` instead of `tqdm.tqdm_notebook`\n",
      "  for experiment in tqdm_notebook(experiments):\n"
     ]
    },
    {
     "data": {
      "application/vnd.jupyter.widget-view+json": {
       "model_id": "afd7b773ebc4488893ff6570ea477797",
       "version_major": 2,
       "version_minor": 0
      },
      "text/plain": [
       "  0%|          | 0/47 [00:00<?, ?it/s]"
      ]
     },
     "metadata": {},
     "output_type": "display_data"
    },
    {
     "name": "stdout",
     "output_type": "stream",
     "text": [
      "subsampling for dataset 01_ALOI...\n",
      "current noise type: None\n",
      "{'Samples': 10000, 'Features': 27, 'Anomalies': 302, 'Anomalies Ratio(%)': 3.02}\n",
      "Kernel não escolhido!\n"
     ]
    },
    {
     "name": "stderr",
     "output_type": "stream",
     "text": [
      "\n",
      "  0%|          | 0/1000 [00:00<?, ?it/s]\u001b[A\n",
      "Loss: 85.39, iter no: 0:   0%|          | 0/1000 [00:00<?, ?it/s]\u001b[A\n",
      "Loss: 85.39, iter no: 0:  10%|█         | 100/1000 [00:05<00:53, 16.89it/s]\u001b[A\n",
      "Loss: 85.39, iter no: 0:  20%|██        | 200/1000 [00:11<00:45, 17.40it/s]\u001b[A\n",
      "Loss: 85.39, iter no: 0:  30%|███       | 300/1000 [00:17<00:39, 17.57it/s]\u001b[A\n",
      "Loss: 85.39, iter no: 0:  40%|████      | 400/1000 [00:22<00:34, 17.63it/s]\u001b[A\n",
      "Loss: 85.39, iter no: 0:  50%|█████     | 500/1000 [00:28<00:28, 17.65it/s]\u001b[A\n",
      "Loss: 31.87, iter no: 500:  50%|█████     | 500/1000 [00:28<00:28, 17.65it/s]\u001b[A\n",
      "Loss: 31.87, iter no: 500:  60%|██████    | 600/1000 [00:34<00:22, 17.67it/s]\u001b[A\n",
      "Loss: 31.87, iter no: 500:  70%|███████   | 700/1000 [00:39<00:16, 17.67it/s]\u001b[A\n",
      "Loss: 31.87, iter no: 500:  80%|████████  | 800/1000 [00:45<00:11, 17.70it/s]\u001b[A\n",
      "Loss: 31.87, iter no: 500:  90%|█████████ | 900/1000 [00:51<00:05, 17.67it/s]\u001b[A\n",
      "Loss: 31.87, iter no: 500: 100%|██████████| 1000/1000 [00:56<00:00, 17.68it/s]\u001b[A\n",
      "                                                                              \u001b[A/home/ec2-user/SageMaker/OE-GPLVM/new_aeb_gplvm.py:302: UserWarning: The use of `x.T` on tensors of dimension other than 2 to reverse their shape is deprecated and it will throw an error in a future release. Consider `x.mT` to transpose batches of matrices or `x.permute(*torch.arange(x.ndim - 1, -1, -1))` to reverse the dimensions of a tensor. (Triggered internally at /opt/conda/conda-bld/pytorch_1686274778240/work/aten/src/ATen/native/TensorShape.cpp:3571.)\n",
      "  klu_expanded = ll_shape.T.add_(klu).sum(-1).T.div((self.n_train))\n"
     ]
    },
    {
     "name": "stdout",
     "output_type": "stream",
     "text": [
      "current noise type: None\n",
      "{'Samples': 7200, 'Features': 6, 'Anomalies': 534, 'Anomalies Ratio(%)': 7.42}\n",
      "Kernel não escolhido!\n"
     ]
    },
    {
     "name": "stderr",
     "output_type": "stream",
     "text": [
      "\n",
      "  0%|          | 0/1000 [00:00<?, ?it/s]\u001b[A\n",
      "Loss: 15.91, iter no: 0:   0%|          | 0/1000 [00:00<?, ?it/s]\u001b[A\n",
      "Loss: 15.91, iter no: 0:  10%|█         | 100/1000 [00:02<00:22, 39.98it/s]\u001b[A\n",
      "Loss: 15.91, iter no: 0:  20%|██        | 200/1000 [00:05<00:20, 39.81it/s]\u001b[A\n",
      "Loss: 15.91, iter no: 0:  30%|███       | 300/1000 [00:07<00:18, 38.79it/s]\u001b[A\n",
      "Loss: 15.91, iter no: 0:  40%|████      | 400/1000 [00:10<00:15, 38.39it/s]\u001b[A\n",
      "Loss: 15.91, iter no: 0:  50%|█████     | 500/1000 [00:12<00:12, 38.98it/s]\u001b[A\n",
      "Loss: 8.56, iter no: 500:  50%|█████     | 500/1000 [00:12<00:12, 38.98it/s]\u001b[A\n",
      "Loss: 8.56, iter no: 500:  60%|██████    | 600/1000 [00:15<00:10, 39.32it/s]\u001b[A\n",
      "Loss: 8.56, iter no: 500:  70%|███████   | 700/1000 [00:17<00:07, 39.59it/s]\u001b[A\n",
      "Loss: 8.56, iter no: 500:  80%|████████  | 800/1000 [00:20<00:05, 39.78it/s]\u001b[A\n",
      "Loss: 8.56, iter no: 500:  90%|█████████ | 900/1000 [00:22<00:02, 39.88it/s]\u001b[A\n",
      "Loss: 8.56, iter no: 500: 100%|██████████| 1000/1000 [00:25<00:00, 39.97it/s]\u001b[A\n",
      "                                                                             \u001b[A"
     ]
    },
    {
     "name": "stdout",
     "output_type": "stream",
     "text": [
      "subsampling for dataset 03_backdoor...\n",
      "current noise type: None\n",
      "{'Samples': 10000, 'Features': 196, 'Anomalies': 236, 'Anomalies Ratio(%)': 2.36}\n",
      "Kernel não escolhido!\n"
     ]
    },
    {
     "name": "stderr",
     "output_type": "stream",
     "text": [
      "\n",
      "  0%|          | 0/1000 [00:00<?, ?it/s]\u001b[A\n",
      "Loss: 323.37, iter no: 0:   0%|          | 0/1000 [00:00<?, ?it/s]\u001b[A\n",
      "Loss: 323.37, iter no: 0:  10%|█         | 100/1000 [00:07<01:11, 12.59it/s]\u001b[A\n",
      "Loss: 323.37, iter no: 0:  20%|██        | 200/1000 [00:15<01:01, 13.08it/s]\u001b[A\n",
      "Loss: 323.37, iter no: 0:  30%|███       | 300/1000 [00:22<00:52, 13.24it/s]\u001b[A\n",
      "Loss: 323.37, iter no: 0:  40%|████      | 400/1000 [00:30<00:45, 13.33it/s]\u001b[A\n",
      "Loss: 323.37, iter no: 0:  50%|█████     | 500/1000 [00:37<00:37, 13.39it/s]\u001b[A\n",
      "Loss: 264.88, iter no: 500:  50%|█████     | 500/1000 [00:37<00:37, 13.39it/s]\u001b[A\n",
      "Loss: 264.88, iter no: 500:  60%|██████    | 600/1000 [00:45<00:29, 13.43it/s]\u001b[A\n",
      "Loss: 264.88, iter no: 500:  70%|███████   | 700/1000 [00:52<00:22, 13.45it/s]\u001b[A\n",
      "Loss: 264.88, iter no: 500:  80%|████████  | 800/1000 [00:59<00:14, 13.45it/s]\u001b[A\n",
      "Loss: 264.88, iter no: 500:  90%|█████████ | 900/1000 [01:07<00:07, 13.48it/s]\u001b[A\n",
      "Loss: 264.88, iter no: 500: 100%|██████████| 1000/1000 [01:14<00:00, 13.49it/s]\u001b[A\n",
      "                                                                               \u001b[A"
     ]
    },
    {
     "name": "stdout",
     "output_type": "stream",
     "text": [
      "generating duplicate samples for dataset 04_breastw...\n",
      "current noise type: None\n",
      "{'Samples': 1000, 'Features': 9, 'Anomalies': 360, 'Anomalies Ratio(%)': 36.0}\n",
      "Kernel não escolhido!\n"
     ]
    },
    {
     "name": "stderr",
     "output_type": "stream",
     "text": [
      "\n",
      "  0%|          | 0/1000 [00:00<?, ?it/s]\u001b[A\n",
      "Loss: 30.66, iter no: 0:   0%|          | 0/1000 [00:00<?, ?it/s]\u001b[A\n",
      "Loss: 30.66, iter no: 0:  10%|█         | 100/1000 [00:01<00:11, 80.23it/s]\u001b[A\n",
      "Loss: 30.66, iter no: 0:  20%|██        | 200/1000 [00:02<00:09, 80.46it/s]\u001b[A\n",
      "Loss: 30.66, iter no: 0:  30%|███       | 300/1000 [00:03<00:08, 80.47it/s]\u001b[A\n",
      "Loss: 30.66, iter no: 0:  40%|████      | 400/1000 [00:04<00:07, 80.48it/s]\u001b[A\n",
      "Loss: 30.66, iter no: 0:  50%|█████     | 500/1000 [00:06<00:06, 80.49it/s]\u001b[A\n",
      "Loss: 9.66, iter no: 500:  50%|█████     | 500/1000 [00:06<00:06, 80.49it/s]\u001b[A\n",
      "Loss: 9.66, iter no: 500:  60%|██████    | 600/1000 [00:07<00:04, 80.38it/s]\u001b[A\n",
      "Loss: 9.66, iter no: 500:  70%|███████   | 700/1000 [00:08<00:03, 80.43it/s]\u001b[A\n",
      "Loss: 9.66, iter no: 500:  80%|████████  | 800/1000 [00:09<00:02, 80.46it/s]\u001b[A\n",
      "Loss: 9.66, iter no: 500:  90%|█████████ | 900/1000 [00:11<00:01, 80.47it/s]\u001b[A\n",
      "Loss: 9.66, iter no: 500: 100%|██████████| 1000/1000 [00:12<00:00, 80.45it/s]\u001b[A\n",
      "                                                                             \u001b[A"
     ]
    },
    {
     "name": "stdout",
     "output_type": "stream",
     "text": [
      "subsampling for dataset 05_campaign...\n",
      "current noise type: None\n",
      "{'Samples': 10000, 'Features': 62, 'Anomalies': 1103, 'Anomalies Ratio(%)': 11.03}\n",
      "Kernel não escolhido!\n"
     ]
    },
    {
     "name": "stderr",
     "output_type": "stream",
     "text": [
      "\n",
      "  0%|          | 0/1000 [00:00<?, ?it/s]\u001b[A\n",
      "Loss: 181.49, iter no: 0:   0%|          | 0/1000 [00:00<?, ?it/s]\u001b[A\n",
      "Loss: 181.49, iter no: 0:  10%|█         | 100/1000 [00:07<01:03, 14.23it/s]\u001b[A\n",
      "Loss: 181.49, iter no: 0:  20%|██        | 200/1000 [00:13<00:55, 14.40it/s]\u001b[A\n",
      "Loss: 181.49, iter no: 0:  30%|███       | 300/1000 [00:20<00:48, 14.41it/s]\u001b[A\n",
      "Loss: 181.49, iter no: 0:  40%|████      | 400/1000 [00:27<00:41, 14.43it/s]\u001b[A\n",
      "Loss: 181.49, iter no: 0:  50%|█████     | 500/1000 [00:34<00:34, 14.39it/s]\u001b[A\n",
      "Loss: 89.91, iter no: 500:  50%|█████     | 500/1000 [00:34<00:34, 14.39it/s]\u001b[A\n",
      "Loss: 89.91, iter no: 500:  60%|██████    | 600/1000 [00:41<00:27, 14.40it/s]\u001b[A\n",
      "Loss: 89.91, iter no: 500:  70%|███████   | 700/1000 [00:48<00:20, 14.42it/s]\u001b[A\n",
      "Loss: 89.91, iter no: 500:  80%|████████  | 800/1000 [00:55<00:13, 14.43it/s]\u001b[A\n",
      "Loss: 89.91, iter no: 500:  90%|█████████ | 900/1000 [01:02<00:06, 14.43it/s]\u001b[A\n",
      "Loss: 89.91, iter no: 500: 100%|██████████| 1000/1000 [01:09<00:00, 14.42it/s]\u001b[A\n",
      "                                                                              \u001b[A"
     ]
    },
    {
     "name": "stdout",
     "output_type": "stream",
     "text": [
      "current noise type: None\n",
      "{'Samples': 1831, 'Features': 21, 'Anomalies': 176, 'Anomalies Ratio(%)': 9.61}\n",
      "Kernel não escolhido!\n"
     ]
    },
    {
     "name": "stderr",
     "output_type": "stream",
     "text": [
      "\n",
      "  0%|          | 0/1000 [00:00<?, ?it/s]\u001b[A\n",
      "Loss: 73.32, iter no: 0:   0%|          | 0/1000 [00:00<?, ?it/s]\u001b[A\n",
      "Loss: 73.32, iter no: 0:  10%|█         | 100/1000 [00:01<00:17, 51.66it/s]\u001b[A\n",
      "Loss: 73.32, iter no: 0:  20%|██        | 200/1000 [00:04<00:18, 44.23it/s]\u001b[A\n",
      "Loss: 73.32, iter no: 0:  30%|███       | 300/1000 [00:06<00:15, 44.68it/s]\u001b[A\n",
      "Loss: 73.32, iter no: 0:  40%|████      | 400/1000 [00:08<00:12, 48.63it/s]\u001b[A\n",
      "Loss: 73.32, iter no: 0:  50%|█████     | 500/1000 [00:10<00:09, 51.12it/s]\u001b[A\n",
      "Loss: 27.16, iter no: 500:  50%|█████     | 500/1000 [00:10<00:09, 51.12it/s]\u001b[A\n",
      "Loss: 27.16, iter no: 500:  60%|██████    | 600/1000 [00:11<00:07, 52.73it/s]\u001b[A\n",
      "Loss: 27.16, iter no: 500:  70%|███████   | 700/1000 [00:13<00:05, 53.83it/s]\u001b[A\n",
      "Loss: 27.16, iter no: 500:  80%|████████  | 800/1000 [00:15<00:03, 54.55it/s]\u001b[A\n",
      "Loss: 27.16, iter no: 500:  90%|█████████ | 900/1000 [00:17<00:01, 55.07it/s]\u001b[A\n",
      "Loss: 27.16, iter no: 500: 100%|██████████| 1000/1000 [00:19<00:00, 55.39it/s]\u001b[A\n",
      "                                                                              \u001b[A"
     ]
    },
    {
     "name": "stdout",
     "output_type": "stream",
     "text": [
      "current noise type: None\n",
      "{'Samples': 2114, 'Features': 21, 'Anomalies': 466, 'Anomalies Ratio(%)': 22.04}\n",
      "Kernel não escolhido!\n"
     ]
    },
    {
     "name": "stderr",
     "output_type": "stream",
     "text": [
      "\n",
      "  0%|          | 0/1000 [00:00<?, ?it/s]\u001b[A\n",
      "Loss: 69.42, iter no: 0:   0%|          | 0/1000 [00:00<?, ?it/s]\u001b[A\n",
      "Loss: 69.42, iter no: 0:  10%|█         | 100/1000 [00:01<00:16, 53.74it/s]\u001b[A\n",
      "Loss: 69.42, iter no: 0:  20%|██        | 200/1000 [00:03<00:14, 53.87it/s]\u001b[A\n",
      "Loss: 69.42, iter no: 0:  30%|███       | 300/1000 [00:05<00:12, 53.99it/s]\u001b[A\n",
      "Loss: 69.42, iter no: 0:  40%|████      | 400/1000 [00:07<00:11, 53.98it/s]\u001b[A\n",
      "Loss: 69.42, iter no: 0:  50%|█████     | 500/1000 [00:09<00:09, 54.02it/s]\u001b[A\n",
      "Loss: 27.13, iter no: 500:  50%|█████     | 500/1000 [00:09<00:09, 54.02it/s]\u001b[A\n",
      "Loss: 27.13, iter no: 500:  60%|██████    | 600/1000 [00:11<00:07, 54.02it/s]\u001b[A\n",
      "Loss: 27.13, iter no: 500:  70%|███████   | 700/1000 [00:12<00:05, 54.06it/s]\u001b[A\n",
      "Loss: 27.13, iter no: 500:  80%|████████  | 800/1000 [00:14<00:03, 54.06it/s]\u001b[A\n",
      "Loss: 27.13, iter no: 500:  90%|█████████ | 900/1000 [00:16<00:01, 54.06it/s]\u001b[A\n",
      "Loss: 27.13, iter no: 500: 100%|██████████| 1000/1000 [00:18<00:00, 54.04it/s]\u001b[A\n",
      "                                                                              \u001b[A"
     ]
    },
    {
     "name": "stdout",
     "output_type": "stream",
     "text": [
      "subsampling for dataset 08_celeba...\n",
      "current noise type: None\n",
      "{'Samples': 10000, 'Features': 39, 'Anomalies': 223, 'Anomalies Ratio(%)': 2.23}\n",
      "Kernel não escolhido!\n"
     ]
    },
    {
     "name": "stderr",
     "output_type": "stream",
     "text": [
      "\n",
      "  0%|          | 0/1000 [00:00<?, ?it/s]\u001b[A\n",
      "Loss: 135.79, iter no: 0:   0%|          | 0/1000 [00:00<?, ?it/s]\u001b[A\n",
      "Loss: 135.79, iter no: 0:  10%|█         | 100/1000 [00:06<01:02, 14.49it/s]\u001b[A\n",
      "Loss: 135.79, iter no: 0:  20%|██        | 200/1000 [00:13<00:55, 14.54it/s]\u001b[A\n",
      "Loss: 135.79, iter no: 0:  30%|███       | 300/1000 [00:20<00:47, 14.59it/s]\u001b[A\n",
      "Loss: 135.79, iter no: 0:  40%|████      | 400/1000 [00:27<00:41, 14.59it/s]\u001b[A\n",
      "Loss: 135.79, iter no: 0:  50%|█████     | 500/1000 [00:34<00:34, 14.59it/s]\u001b[A\n",
      "Loss: 56.48, iter no: 500:  50%|█████     | 500/1000 [00:34<00:34, 14.59it/s]\u001b[A\n",
      "Loss: 56.48, iter no: 500:  60%|██████    | 600/1000 [00:41<00:27, 14.60it/s]\u001b[A\n",
      "Loss: 56.48, iter no: 500:  70%|███████   | 700/1000 [00:47<00:20, 14.61it/s]\u001b[A\n",
      "Loss: 56.48, iter no: 500:  80%|████████  | 800/1000 [00:54<00:13, 14.61it/s]\u001b[A\n",
      "Loss: 56.48, iter no: 500:  90%|█████████ | 900/1000 [01:01<00:06, 14.62it/s]\u001b[A\n",
      "Loss: 56.48, iter no: 500: 100%|██████████| 1000/1000 [01:08<00:00, 14.63it/s]\u001b[A\n",
      "                                                                              \u001b[A"
     ]
    },
    {
     "name": "stdout",
     "output_type": "stream",
     "text": [
      "subsampling for dataset 09_census...\n",
      "current noise type: None\n",
      "{'Samples': 10000, 'Features': 500, 'Anomalies': 616, 'Anomalies Ratio(%)': 6.16}\n",
      "Kernel não escolhido!\n"
     ]
    },
    {
     "name": "stderr",
     "output_type": "stream",
     "text": [
      "\n",
      "  0%|          | 0/1000 [00:00<?, ?it/s]\u001b[A\n",
      "Loss: 965.49, iter no: 0:   0%|          | 0/1000 [00:00<?, ?it/s]\u001b[A\n",
      "                                                                  \u001b[A"
     ]
    },
    {
     "name": "stdout",
     "output_type": "stream",
     "text": [
      "subsampling for dataset 10_cover...\n",
      "current noise type: None\n",
      "{'Samples': 10000, 'Features': 10, 'Anomalies': 111, 'Anomalies Ratio(%)': 1.11}\n",
      "Kernel não escolhido!\n"
     ]
    },
    {
     "name": "stderr",
     "output_type": "stream",
     "text": [
      "\n",
      "  0%|          | 0/1000 [00:00<?, ?it/s]\u001b[A\n",
      "Loss: 32.8, iter no: 0:   0%|          | 0/1000 [00:00<?, ?it/s]\u001b[A\n",
      "Loss: 32.8, iter no: 0:  10%|█         | 100/1000 [00:03<00:27, 32.27it/s]\u001b[A\n",
      "Loss: 32.8, iter no: 0:  20%|██        | 200/1000 [00:06<00:24, 32.31it/s]\u001b[A\n",
      "Loss: 32.8, iter no: 0:  30%|███       | 300/1000 [00:09<00:21, 32.16it/s]\u001b[A\n",
      "Loss: 32.8, iter no: 0:  40%|████      | 400/1000 [00:12<00:18, 32.22it/s]\u001b[A\n",
      "Loss: 32.8, iter no: 0:  50%|█████     | 500/1000 [00:15<00:15, 32.24it/s]\u001b[A\n",
      "Loss: 12.4, iter no: 500:  50%|█████     | 500/1000 [00:15<00:15, 32.24it/s]\u001b[A\n",
      "Loss: 12.4, iter no: 500:  60%|██████    | 600/1000 [00:18<00:12, 32.26it/s]\u001b[A\n",
      "Loss: 12.4, iter no: 500:  70%|███████   | 700/1000 [00:21<00:09, 32.27it/s]\u001b[A\n",
      "Loss: 12.4, iter no: 500:  80%|████████  | 800/1000 [00:24<00:06, 32.27it/s]\u001b[A\n",
      "Loss: 12.4, iter no: 500:  90%|█████████ | 900/1000 [00:27<00:03, 32.27it/s]\u001b[A\n",
      "Loss: 12.4, iter no: 500: 100%|██████████| 1000/1000 [00:30<00:00, 32.29it/s]\u001b[A\n",
      "                                                                             \u001b[A"
     ]
    },
    {
     "name": "stdout",
     "output_type": "stream",
     "text": [
      "subsampling for dataset 11_donors...\n",
      "current noise type: None\n",
      "{'Samples': 10000, 'Features': 10, 'Anomalies': 541, 'Anomalies Ratio(%)': 5.41}\n",
      "Kernel não escolhido!\n"
     ]
    },
    {
     "name": "stderr",
     "output_type": "stream",
     "text": [
      "\n",
      "  0%|          | 0/1000 [00:00<?, ?it/s]\u001b[A\n",
      "Loss: 31.92, iter no: 0:   0%|          | 0/1000 [00:00<?, ?it/s]\u001b[A\n",
      "Loss: 31.92, iter no: 0:  10%|█         | 100/1000 [00:03<00:27, 32.26it/s]\u001b[A\n",
      "Loss: 31.92, iter no: 0:  20%|██        | 200/1000 [00:06<00:24, 32.26it/s]\u001b[A\n",
      "Loss: 31.92, iter no: 0:  30%|███       | 300/1000 [00:09<00:21, 32.28it/s]\u001b[A\n",
      "Loss: 31.92, iter no: 0:  40%|████      | 400/1000 [00:12<00:18, 32.28it/s]\u001b[A\n",
      "Loss: 31.92, iter no: 0:  50%|█████     | 500/1000 [00:15<00:15, 32.27it/s]\u001b[A\n",
      "Loss: 13.43, iter no: 500:  50%|█████     | 500/1000 [00:15<00:15, 32.27it/s]\u001b[A\n",
      "Loss: 13.43, iter no: 500:  60%|██████    | 600/1000 [00:18<00:12, 32.24it/s]\u001b[A\n",
      "Loss: 13.43, iter no: 500:  70%|███████   | 700/1000 [00:21<00:09, 32.26it/s]\u001b[A\n",
      "Loss: 13.43, iter no: 500:  80%|████████  | 800/1000 [00:24<00:06, 32.26it/s]\u001b[A\n",
      "Loss: 13.43, iter no: 500:  90%|█████████ | 900/1000 [00:27<00:03, 32.27it/s]\u001b[A\n",
      "Loss: 13.43, iter no: 500: 100%|██████████| 1000/1000 [00:30<00:00, 32.28it/s]\u001b[A\n",
      "                                                                              \u001b[A"
     ]
    },
    {
     "name": "stdout",
     "output_type": "stream",
     "text": [
      "current noise type: None\n",
      "{'Samples': 1941, 'Features': 27, 'Anomalies': 673, 'Anomalies Ratio(%)': 34.67}\n",
      "Kernel não escolhido!\n"
     ]
    },
    {
     "name": "stderr",
     "output_type": "stream",
     "text": [
      "\n",
      "  0%|          | 0/1000 [00:00<?, ?it/s]\u001b[A\n",
      "Loss: 97.82, iter no: 0:   0%|          | 0/1000 [00:00<?, ?it/s]\u001b[A\n",
      "Loss: 97.82, iter no: 0:  10%|█         | 100/1000 [00:02<00:19, 47.09it/s]\u001b[A\n",
      "Loss: 97.82, iter no: 0:  20%|██        | 200/1000 [00:04<00:16, 47.76it/s]\u001b[A\n",
      "Loss: 97.82, iter no: 0:  30%|███       | 300/1000 [00:06<00:14, 47.98it/s]\u001b[A\n",
      "Loss: 97.82, iter no: 0:  40%|████      | 400/1000 [00:08<00:12, 48.08it/s]\u001b[A\n",
      "Loss: 97.82, iter no: 0:  50%|█████     | 500/1000 [00:10<00:10, 45.59it/s]\u001b[A\n",
      "Loss: 39.86, iter no: 500:  50%|█████     | 500/1000 [00:10<00:10, 45.59it/s]\u001b[A\n",
      "Loss: 39.86, iter no: 500:  60%|██████    | 600/1000 [00:13<00:09, 41.48it/s]\u001b[A\n",
      "Loss: 39.86, iter no: 500:  70%|███████   | 700/1000 [00:15<00:07, 42.06it/s]\u001b[A\n",
      "Loss: 39.86, iter no: 500:  80%|████████  | 800/1000 [00:17<00:04, 43.83it/s]\u001b[A\n",
      "Loss: 39.86, iter no: 500:  90%|█████████ | 900/1000 [00:20<00:02, 45.10it/s]\u001b[A\n",
      "Loss: 39.86, iter no: 500: 100%|██████████| 1000/1000 [00:22<00:00, 45.99it/s]\u001b[A\n",
      "                                                                              \u001b[A"
     ]
    },
    {
     "name": "stdout",
     "output_type": "stream",
     "text": [
      "subsampling for dataset 13_fraud...\n",
      "current noise type: None\n",
      "{'Samples': 10000, 'Features': 29, 'Anomalies': 16, 'Anomalies Ratio(%)': 0.16}\n",
      "Kernel não escolhido!\n"
     ]
    },
    {
     "name": "stderr",
     "output_type": "stream",
     "text": [
      "\n",
      "  0%|          | 0/1000 [00:00<?, ?it/s]\u001b[A\n",
      "Loss: 107.44, iter no: 0:   0%|          | 0/1000 [00:00<?, ?it/s]\u001b[A\n",
      "Loss: 107.44, iter no: 0:  10%|█         | 100/1000 [00:06<00:54, 16.47it/s]\u001b[A\n",
      "Loss: 107.44, iter no: 0:  20%|██        | 200/1000 [00:12<00:48, 16.53it/s]\u001b[A\n",
      "Loss: 107.44, iter no: 0:  30%|███       | 300/1000 [00:18<00:42, 16.53it/s]\u001b[A\n",
      "Loss: 107.44, iter no: 0:  40%|████      | 400/1000 [00:24<00:36, 16.54it/s]\u001b[A\n",
      "Loss: 107.44, iter no: 0:  50%|█████     | 500/1000 [00:30<00:30, 16.56it/s]\u001b[A\n",
      "Loss: 40.68, iter no: 500:  50%|█████     | 500/1000 [00:30<00:30, 16.56it/s]\u001b[A\n",
      "Loss: 40.68, iter no: 500:  60%|██████    | 600/1000 [00:36<00:24, 16.56it/s]\u001b[A\n",
      "Loss: 40.68, iter no: 500:  70%|███████   | 700/1000 [00:42<00:18, 16.56it/s]\u001b[A\n",
      "Loss: 40.68, iter no: 500:  80%|████████  | 800/1000 [00:48<00:12, 16.57it/s]\u001b[A\n",
      "Loss: 40.68, iter no: 500:  90%|█████████ | 900/1000 [00:54<00:06, 16.58it/s]\u001b[A\n",
      "Loss: 40.68, iter no: 500: 100%|██████████| 1000/1000 [01:00<00:00, 16.58it/s]\u001b[A\n",
      "                                                                              \u001b[A"
     ]
    },
    {
     "name": "stdout",
     "output_type": "stream",
     "text": [
      "generating duplicate samples for dataset 14_glass...\n",
      "current noise type: None\n",
      "{'Samples': 1000, 'Features': 7, 'Anomalies': 37, 'Anomalies Ratio(%)': 3.7}\n",
      "Kernel não escolhido!\n"
     ]
    },
    {
     "name": "stderr",
     "output_type": "stream",
     "text": [
      "\n",
      "  0%|          | 0/1000 [00:00<?, ?it/s]\u001b[A\n",
      "Loss: 20.12, iter no: 0:   0%|          | 0/1000 [00:00<?, ?it/s]\u001b[A\n",
      "Loss: 20.12, iter no: 0:  10%|█         | 100/1000 [00:01<00:10, 83.80it/s]\u001b[A\n",
      "Loss: 20.12, iter no: 0:  20%|██        | 200/1000 [00:02<00:09, 83.92it/s]\u001b[A\n",
      "Loss: 20.12, iter no: 0:  30%|███       | 300/1000 [00:03<00:08, 83.92it/s]\u001b[A\n",
      "Loss: 20.12, iter no: 0:  40%|████      | 400/1000 [00:04<00:07, 83.92it/s]\u001b[A\n",
      "Loss: 20.12, iter no: 0:  50%|█████     | 500/1000 [00:05<00:05, 83.95it/s]\u001b[A\n",
      "Loss: 8.02, iter no: 500:  50%|█████     | 500/1000 [00:05<00:05, 83.95it/s]\u001b[A\n",
      "Loss: 8.02, iter no: 500:  60%|██████    | 600/1000 [00:07<00:04, 83.92it/s]\u001b[A\n",
      "Loss: 8.02, iter no: 500:  70%|███████   | 700/1000 [00:08<00:03, 83.95it/s]\u001b[A\n",
      "Loss: 8.02, iter no: 500:  80%|████████  | 800/1000 [00:09<00:02, 83.96it/s]\u001b[A\n",
      "Loss: 8.02, iter no: 500:  90%|█████████ | 900/1000 [00:10<00:01, 83.96it/s]\u001b[A\n",
      "Loss: 8.02, iter no: 500: 100%|██████████| 1000/1000 [00:11<00:00, 83.98it/s]\u001b[A\n",
      "                                                                             \u001b[A"
     ]
    },
    {
     "name": "stdout",
     "output_type": "stream",
     "text": [
      "generating duplicate samples for dataset 15_Hepatitis...\n",
      "current noise type: None\n",
      "{'Samples': 1000, 'Features': 19, 'Anomalies': 169, 'Anomalies Ratio(%)': 16.9}\n",
      "Kernel não escolhido!\n"
     ]
    },
    {
     "name": "stderr",
     "output_type": "stream",
     "text": [
      "\n",
      "  0%|          | 0/1000 [00:00<?, ?it/s]\u001b[A\n",
      "Loss: 54.91, iter no: 0:   0%|          | 0/1000 [00:00<?, ?it/s]\u001b[A\n",
      "Loss: 54.91, iter no: 0:  10%|█         | 100/1000 [00:01<00:13, 66.29it/s]\u001b[A\n",
      "Loss: 54.91, iter no: 0:  20%|██        | 200/1000 [00:03<00:12, 66.52it/s]\u001b[A\n",
      "Loss: 54.91, iter no: 0:  30%|███       | 300/1000 [00:04<00:10, 66.56it/s]\u001b[A\n",
      "Loss: 54.91, iter no: 0:  40%|████      | 400/1000 [00:06<00:08, 66.69it/s]\u001b[A\n",
      "Loss: 54.91, iter no: 0:  50%|█████     | 500/1000 [00:07<00:07, 66.76it/s]\u001b[A\n",
      "Loss: 26.12, iter no: 500:  50%|█████     | 500/1000 [00:07<00:07, 66.76it/s]\u001b[A\n",
      "Loss: 26.12, iter no: 500:  60%|██████    | 600/1000 [00:08<00:05, 66.78it/s]\u001b[A\n",
      "Loss: 26.12, iter no: 500:  70%|███████   | 700/1000 [00:10<00:04, 66.76it/s]\u001b[A\n",
      "Loss: 26.12, iter no: 500:  80%|████████  | 800/1000 [00:11<00:02, 66.83it/s]\u001b[A\n",
      "Loss: 26.12, iter no: 500:  90%|█████████ | 900/1000 [00:13<00:01, 66.84it/s]\u001b[A\n",
      "Loss: 26.12, iter no: 500: 100%|██████████| 1000/1000 [00:14<00:00, 66.86it/s]\u001b[A\n",
      "                                                                              \u001b[A"
     ]
    },
    {
     "name": "stdout",
     "output_type": "stream",
     "text": [
      "subsampling for dataset 16_http...\n",
      "current noise type: None\n",
      "{'Samples': 10000, 'Features': 3, 'Anomalies': 54, 'Anomalies Ratio(%)': 0.54}\n",
      "Kernel não escolhido!\n"
     ]
    },
    {
     "name": "stderr",
     "output_type": "stream",
     "text": [
      "\n",
      "  0%|          | 0/1000 [00:00<?, ?it/s]\u001b[A\n",
      "Loss: 9.12, iter no: 0:   0%|          | 0/1000 [00:00<?, ?it/s]\u001b[A\n",
      "Loss: 9.12, iter no: 0:  10%|█         | 100/1000 [00:01<00:12, 70.77it/s]\u001b[A\n",
      "Loss: 9.12, iter no: 0:  20%|██        | 200/1000 [00:02<00:11, 70.84it/s]\u001b[A\n",
      "Loss: 9.12, iter no: 0:  30%|███       | 300/1000 [00:04<00:09, 70.82it/s]\u001b[A\n",
      "Loss: 9.12, iter no: 0:  40%|████      | 400/1000 [00:05<00:08, 70.85it/s]\u001b[A\n",
      "Loss: 9.12, iter no: 0:  50%|█████     | 500/1000 [00:07<00:07, 70.82it/s]\u001b[A\n",
      "Loss: 4.66, iter no: 500:  50%|█████     | 500/1000 [00:07<00:07, 70.82it/s]\u001b[A\n",
      "Loss: 4.66, iter no: 500:  60%|██████    | 600/1000 [00:08<00:05, 70.81it/s]\u001b[A\n",
      "Loss: 4.66, iter no: 500:  70%|███████   | 700/1000 [00:09<00:04, 70.82it/s]\u001b[A\n",
      "Loss: 4.66, iter no: 500:  80%|████████  | 800/1000 [00:11<00:02, 70.81it/s]\u001b[A\n",
      "Loss: 4.66, iter no: 500:  90%|█████████ | 900/1000 [00:12<00:01, 70.82it/s]\u001b[A\n",
      "Loss: 4.66, iter no: 500: 100%|██████████| 1000/1000 [00:14<00:00, 70.83it/s]\u001b[A\n",
      "                                                                             \u001b[A"
     ]
    },
    {
     "name": "stdout",
     "output_type": "stream",
     "text": [
      "current noise type: None\n",
      "{'Samples': 1966, 'Features': 1555, 'Anomalies': 368, 'Anomalies Ratio(%)': 18.72}\n",
      "Kernel não escolhido!\n"
     ]
    },
    {
     "name": "stderr",
     "output_type": "stream",
     "text": [
      "\n",
      "  0%|          | 0/1000 [00:00<?, ?it/s]\u001b[A\n",
      "Loss: 3355.34, iter no: 0:   0%|          | 0/1000 [00:00<?, ?it/s]\u001b[A\n",
      "                                                                   \u001b[A"
     ]
    },
    {
     "name": "stdout",
     "output_type": "stream",
     "text": [
      "generating duplicate samples for dataset 18_Ionosphere...\n",
      "current noise type: None\n",
      "{'Samples': 1000, 'Features': 32, 'Anomalies': 366, 'Anomalies Ratio(%)': 36.6}\n",
      "Kernel não escolhido!\n"
     ]
    },
    {
     "name": "stderr",
     "output_type": "stream",
     "text": [
      "\n",
      "  0%|          | 0/1000 [00:00<?, ?it/s]\u001b[A\n",
      "Loss: 123.62, iter no: 0:   0%|          | 0/1000 [00:00<?, ?it/s]\u001b[A\n",
      "Loss: 123.62, iter no: 0:  10%|█         | 100/1000 [00:01<00:17, 51.43it/s]\u001b[A\n",
      "Loss: 123.62, iter no: 0:  20%|██        | 200/1000 [00:03<00:14, 54.34it/s]\u001b[A\n",
      "Loss: 123.62, iter no: 0:  30%|███       | 300/1000 [00:05<00:12, 55.38it/s]\u001b[A\n",
      "Loss: 123.62, iter no: 0:  40%|████      | 400/1000 [00:07<00:10, 54.56it/s]\u001b[A\n",
      "Loss: 123.62, iter no: 0:  50%|█████     | 500/1000 [00:09<00:09, 54.56it/s]\u001b[A\n",
      "Loss: 45.7, iter no: 500:  50%|█████     | 500/1000 [00:09<00:09, 54.56it/s]\u001b[A\n",
      "Loss: 45.7, iter no: 500:  60%|██████    | 600/1000 [00:10<00:07, 55.18it/s]\u001b[A\n",
      "Loss: 45.7, iter no: 500:  70%|███████   | 700/1000 [00:12<00:05, 55.62it/s]\u001b[A\n",
      "Loss: 45.7, iter no: 500:  80%|████████  | 800/1000 [00:14<00:03, 55.72it/s]\u001b[A\n",
      "Loss: 45.7, iter no: 500:  90%|█████████ | 900/1000 [00:16<00:01, 55.94it/s]\u001b[A\n",
      "Loss: 45.7, iter no: 500: 100%|██████████| 1000/1000 [00:18<00:00, 56.09it/s]\u001b[A\n",
      "                                                                             \u001b[A"
     ]
    },
    {
     "name": "stdout",
     "output_type": "stream",
     "text": [
      "current noise type: None\n",
      "{'Samples': 6435, 'Features': 36, 'Anomalies': 1333, 'Anomalies Ratio(%)': 20.71}\n",
      "Kernel não escolhido!\n"
     ]
    },
    {
     "name": "stderr",
     "output_type": "stream",
     "text": [
      "\n",
      "  0%|          | 0/1000 [00:00<?, ?it/s]\u001b[A\n",
      "Loss: 139.03, iter no: 0:   0%|          | 0/1000 [00:00<?, ?it/s]\u001b[A\n",
      "Loss: 139.03, iter no: 0:  10%|█         | 100/1000 [00:04<00:44, 20.09it/s]\u001b[A\n",
      "Loss: 139.03, iter no: 0:  20%|██        | 200/1000 [00:09<00:39, 20.34it/s]\u001b[A\n",
      "Loss: 139.03, iter no: 0:  30%|███       | 300/1000 [00:14<00:34, 20.36it/s]\u001b[A\n",
      "Loss: 139.03, iter no: 0:  40%|████      | 400/1000 [00:19<00:29, 20.31it/s]\u001b[A\n",
      "Loss: 139.03, iter no: 0:  50%|█████     | 500/1000 [00:24<00:24, 20.27it/s]\u001b[A\n",
      "Loss: 54.84, iter no: 500:  50%|█████     | 500/1000 [00:24<00:24, 20.27it/s]\u001b[A\n",
      "Loss: 54.84, iter no: 500:  60%|██████    | 600/1000 [00:29<00:19, 20.25it/s]\u001b[A\n",
      "Loss: 54.84, iter no: 500:  70%|███████   | 700/1000 [00:34<00:14, 20.29it/s]\u001b[A\n",
      "Loss: 54.84, iter no: 500:  80%|████████  | 800/1000 [00:39<00:09, 20.31it/s]\u001b[A\n",
      "Loss: 54.84, iter no: 500:  90%|█████████ | 900/1000 [00:44<00:04, 20.34it/s]\u001b[A\n",
      "Loss: 54.84, iter no: 500: 100%|██████████| 1000/1000 [00:49<00:00, 20.18it/s]\u001b[A\n",
      "                                                                              \u001b[A"
     ]
    },
    {
     "name": "stdout",
     "output_type": "stream",
     "text": [
      "current noise type: None\n",
      "{'Samples': 1600, 'Features': 32, 'Anomalies': 100, 'Anomalies Ratio(%)': 6.25}\n",
      "Kernel não escolhido!\n"
     ]
    },
    {
     "name": "stderr",
     "output_type": "stream",
     "text": [
      "\n",
      "  0%|          | 0/1000 [00:00<?, ?it/s]\u001b[A\n",
      "Loss: 121.94, iter no: 0:   0%|          | 0/1000 [00:00<?, ?it/s]\u001b[A\n",
      "Loss: 121.94, iter no: 0:  10%|█         | 100/1000 [00:02<00:23, 39.01it/s]\u001b[A\n",
      "Loss: 121.94, iter no: 0:  20%|██        | 200/1000 [00:04<00:18, 43.24it/s]\u001b[A\n",
      "Loss: 121.94, iter no: 0:  30%|███       | 300/1000 [00:06<00:15, 44.80it/s]\u001b[A\n",
      "Loss: 121.94, iter no: 0:  40%|████      | 400/1000 [00:08<00:13, 45.54it/s]\u001b[A\n",
      "Loss: 121.94, iter no: 0:  50%|█████     | 500/1000 [00:11<00:10, 45.93it/s]\u001b[A\n",
      "Loss: 46.48, iter no: 500:  50%|█████     | 500/1000 [00:11<00:10, 45.93it/s]\u001b[A\n",
      "Loss: 46.48, iter no: 500:  60%|██████    | 600/1000 [00:13<00:08, 46.16it/s]\u001b[A\n",
      "Loss: 46.48, iter no: 500:  70%|███████   | 700/1000 [00:15<00:06, 46.35it/s]\u001b[A\n",
      "Loss: 46.48, iter no: 500:  80%|████████  | 800/1000 [00:17<00:04, 46.48it/s]\u001b[A\n",
      "Loss: 46.48, iter no: 500:  90%|█████████ | 900/1000 [00:19<00:02, 46.55it/s]\u001b[A\n",
      "Loss: 46.48, iter no: 500: 100%|██████████| 1000/1000 [00:21<00:00, 46.62it/s]\u001b[A\n",
      "                                                                              \u001b[A"
     ]
    },
    {
     "name": "stdout",
     "output_type": "stream",
     "text": [
      "generating duplicate samples for dataset 21_Lymphography...\n",
      "current noise type: None\n",
      "{'Samples': 1000, 'Features': 18, 'Anomalies': 46, 'Anomalies Ratio(%)': 4.6}\n",
      "Kernel não escolhido!\n"
     ]
    },
    {
     "name": "stderr",
     "output_type": "stream",
     "text": [
      "\n",
      "  0%|          | 0/1000 [00:00<?, ?it/s]\u001b[A\n",
      "Loss: 49.27, iter no: 0:   0%|          | 0/1000 [00:00<?, ?it/s]\u001b[A\n",
      "Loss: 49.27, iter no: 0:  10%|█         | 100/1000 [00:01<00:13, 67.51it/s]\u001b[A\n",
      "Loss: 49.27, iter no: 0:  20%|██        | 200/1000 [00:02<00:11, 67.52it/s]\u001b[A\n",
      "Loss: 49.27, iter no: 0:  30%|███       | 300/1000 [00:04<00:10, 67.59it/s]\u001b[A\n",
      "Loss: 49.27, iter no: 0:  40%|████      | 400/1000 [00:05<00:08, 67.53it/s]\u001b[A\n",
      "Loss: 49.27, iter no: 0:  50%|█████     | 500/1000 [00:07<00:07, 67.61it/s]\u001b[A\n",
      "Loss: 24.06, iter no: 500:  50%|█████     | 500/1000 [00:07<00:07, 67.61it/s]\u001b[A\n",
      "Loss: 24.06, iter no: 500:  60%|██████    | 600/1000 [00:08<00:05, 67.59it/s]\u001b[A\n",
      "Loss: 24.06, iter no: 500:  70%|███████   | 700/1000 [00:10<00:04, 67.63it/s]\u001b[A\n",
      "Loss: 24.06, iter no: 500:  80%|████████  | 800/1000 [00:11<00:02, 67.61it/s]\u001b[A\n",
      "Loss: 24.06, iter no: 500:  90%|█████████ | 900/1000 [00:13<00:01, 67.64it/s]\u001b[A\n",
      "Loss: 24.06, iter no: 500: 100%|██████████| 1000/1000 [00:14<00:00, 67.62it/s]\u001b[A\n",
      "                                                                              \u001b[A"
     ]
    },
    {
     "name": "stdout",
     "output_type": "stream",
     "text": [
      "subsampling for dataset 22_magic.gamma...\n",
      "current noise type: None\n",
      "{'Samples': 10000, 'Features': 10, 'Anomalies': 3508, 'Anomalies Ratio(%)': 35.08}\n",
      "Kernel não escolhido!\n"
     ]
    },
    {
     "name": "stderr",
     "output_type": "stream",
     "text": [
      "\n",
      "  0%|          | 0/1000 [00:00<?, ?it/s]\u001b[A\n",
      "Loss: 37.02, iter no: 0:   0%|          | 0/1000 [00:00<?, ?it/s]\u001b[A\n",
      "Loss: 37.02, iter no: 0:  10%|█         | 100/1000 [00:03<00:27, 32.30it/s]\u001b[A\n",
      "Loss: 37.02, iter no: 0:  20%|██        | 200/1000 [00:06<00:24, 32.29it/s]\u001b[A\n",
      "Loss: 37.02, iter no: 0:  30%|███       | 300/1000 [00:09<00:21, 32.34it/s]\u001b[A\n",
      "Loss: 37.02, iter no: 0:  40%|████      | 400/1000 [00:12<00:18, 32.35it/s]\u001b[A\n",
      "Loss: 37.02, iter no: 0:  50%|█████     | 500/1000 [00:15<00:15, 32.35it/s]\u001b[A\n",
      "Loss: 12.92, iter no: 500:  50%|█████     | 500/1000 [00:15<00:15, 32.35it/s]\u001b[A\n",
      "Loss: 12.92, iter no: 500:  60%|██████    | 600/1000 [00:18<00:12, 32.34it/s]\u001b[A\n",
      "Loss: 12.92, iter no: 500:  70%|███████   | 700/1000 [00:21<00:09, 32.34it/s]\u001b[A\n",
      "Loss: 12.92, iter no: 500:  80%|████████  | 800/1000 [00:24<00:06, 32.35it/s]\u001b[A\n",
      "Loss: 12.92, iter no: 500:  90%|█████████ | 900/1000 [00:27<00:03, 32.35it/s]\u001b[A\n",
      "Loss: 12.92, iter no: 500: 100%|██████████| 1000/1000 [00:30<00:00, 32.34it/s]\u001b[A\n",
      "                                                                              \u001b[A"
     ]
    },
    {
     "name": "stdout",
     "output_type": "stream",
     "text": [
      "subsampling for dataset 23_mammography...\n",
      "current noise type: None\n",
      "{'Samples': 10000, 'Features': 6, 'Anomalies': 226, 'Anomalies Ratio(%)': 2.26}\n",
      "Kernel não escolhido!\n"
     ]
    },
    {
     "name": "stderr",
     "output_type": "stream",
     "text": [
      "\n",
      "  0%|          | 0/1000 [00:00<?, ?it/s]\u001b[A\n",
      "Loss: 20.46, iter no: 0:   0%|          | 0/1000 [00:00<?, ?it/s]\u001b[A\n",
      "Loss: 20.46, iter no: 0:  10%|█         | 100/1000 [00:02<00:26, 33.56it/s]\u001b[A\n",
      "Loss: 20.46, iter no: 0:  20%|██        | 200/1000 [00:05<00:23, 33.58it/s]\u001b[A\n",
      "Loss: 20.46, iter no: 0:  30%|███       | 300/1000 [00:08<00:20, 33.57it/s]\u001b[A\n",
      "Loss: 20.46, iter no: 0:  40%|████      | 400/1000 [00:11<00:17, 33.57it/s]\u001b[A\n",
      "Loss: 20.46, iter no: 0:  50%|█████     | 500/1000 [00:14<00:14, 33.57it/s]\u001b[A\n",
      "Loss: 6.57, iter no: 500:  50%|█████     | 500/1000 [00:14<00:14, 33.57it/s]\u001b[A\n",
      "Loss: 6.57, iter no: 500:  60%|██████    | 600/1000 [00:17<00:11, 33.56it/s]\u001b[A\n",
      "Loss: 6.57, iter no: 500:  70%|███████   | 700/1000 [00:20<00:08, 33.55it/s]\u001b[A\n",
      "Loss: 6.57, iter no: 500:  80%|████████  | 800/1000 [00:23<00:05, 33.54it/s]\u001b[A\n",
      "Loss: 6.57, iter no: 500:  90%|█████████ | 900/1000 [00:26<00:02, 33.53it/s]\u001b[A\n",
      "Loss: 6.57, iter no: 500: 100%|██████████| 1000/1000 [00:29<00:00, 33.55it/s]\u001b[A\n",
      "                                                                             \u001b[A"
     ]
    },
    {
     "name": "stdout",
     "output_type": "stream",
     "text": [
      "current noise type: None\n",
      "{'Samples': 7603, 'Features': 100, 'Anomalies': 700, 'Anomalies Ratio(%)': 9.21}\n",
      "Kernel não escolhido!\n"
     ]
    },
    {
     "name": "stderr",
     "output_type": "stream",
     "text": [
      "\n",
      "  0%|          | 0/1000 [00:00<?, ?it/s]\u001b[A\n",
      "Loss: 274.95, iter no: 0:   0%|          | 0/1000 [00:00<?, ?it/s]\u001b[A\n",
      "Loss: 274.95, iter no: 0:  10%|█         | 100/1000 [00:05<00:53, 16.71it/s]\u001b[A\n",
      "Loss: 274.95, iter no: 0:  20%|██        | 200/1000 [00:11<00:46, 17.12it/s]\u001b[A\n",
      "Loss: 274.95, iter no: 0:  30%|███       | 300/1000 [00:17<00:40, 17.21it/s]\u001b[A\n",
      "Loss: 274.95, iter no: 0:  40%|████      | 400/1000 [00:23<00:34, 17.23it/s]\u001b[A\n",
      "Loss: 274.95, iter no: 0:  50%|█████     | 500/1000 [00:29<00:29, 17.22it/s]\u001b[A\n",
      "Loss: 126.65, iter no: 500:  50%|█████     | 500/1000 [00:29<00:29, 17.22it/s]\u001b[A\n",
      "Loss: 126.65, iter no: 500:  60%|██████    | 600/1000 [00:34<00:23, 17.21it/s]\u001b[A\n",
      "Loss: 126.65, iter no: 500:  70%|███████   | 700/1000 [00:40<00:17, 17.25it/s]\u001b[A\n",
      "Loss: 126.65, iter no: 500:  80%|████████  | 800/1000 [00:46<00:11, 17.27it/s]\u001b[A\n",
      "Loss: 126.65, iter no: 500:  90%|█████████ | 900/1000 [00:52<00:05, 17.29it/s]\u001b[A\n",
      "Loss: 126.65, iter no: 500: 100%|██████████| 1000/1000 [00:58<00:00, 17.28it/s]\u001b[A\n",
      "                                                                               \u001b[A"
     ]
    },
    {
     "name": "stdout",
     "output_type": "stream",
     "text": [
      "current noise type: None\n",
      "{'Samples': 3062, 'Features': 166, 'Anomalies': 97, 'Anomalies Ratio(%)': 3.17}\n",
      "Kernel não escolhido!\n"
     ]
    },
    {
     "name": "stderr",
     "output_type": "stream",
     "text": [
      "\n",
      "  0%|          | 0/1000 [00:00<?, ?it/s]\u001b[A\n",
      "Loss: 375.59, iter no: 0:   0%|          | 0/1000 [00:00<?, ?it/s]\u001b[A\n",
      "Loss: 375.59, iter no: 0:  10%|█         | 100/1000 [00:05<00:46, 19.40it/s]\u001b[A\n",
      "Loss: 375.59, iter no: 0:  20%|██        | 200/1000 [00:09<00:35, 22.67it/s]\u001b[A\n",
      "Loss: 375.59, iter no: 0:  30%|███       | 300/1000 [00:12<00:27, 25.10it/s]\u001b[A\n",
      "Loss: 375.59, iter no: 0:  40%|████      | 400/1000 [00:16<00:22, 26.36it/s]\u001b[A\n",
      "Loss: 375.59, iter no: 0:  50%|█████     | 500/1000 [00:19<00:18, 27.08it/s]\u001b[A\n",
      "Loss: 242.77, iter no: 500:  50%|█████     | 500/1000 [00:19<00:18, 27.08it/s]\u001b[A\n",
      "Loss: 242.77, iter no: 500:  60%|██████    | 600/1000 [00:23<00:15, 26.01it/s]\u001b[A\n",
      "Loss: 242.77, iter no: 500:  70%|███████   | 700/1000 [00:27<00:11, 25.56it/s]\u001b[A\n",
      "Loss: 242.77, iter no: 500:  80%|████████  | 800/1000 [00:31<00:07, 26.52it/s]\u001b[A\n",
      "Loss: 242.77, iter no: 500:  90%|█████████ | 900/1000 [00:34<00:03, 27.21it/s]\u001b[A\n",
      "Loss: 242.77, iter no: 500: 100%|██████████| 1000/1000 [00:38<00:00, 27.68it/s]\u001b[A\n",
      "                                                                               \u001b[A"
     ]
    },
    {
     "name": "stdout",
     "output_type": "stream",
     "text": [
      "current noise type: None\n",
      "{'Samples': 5216, 'Features': 64, 'Anomalies': 150, 'Anomalies Ratio(%)': 2.88}\n",
      "Kernel não escolhido!\n"
     ]
    },
    {
     "name": "stderr",
     "output_type": "stream",
     "text": [
      "\n",
      "  0%|          | 0/1000 [00:00<?, ?it/s]\u001b[A\n",
      "Loss: 173.44, iter no: 0:   0%|          | 0/1000 [00:00<?, ?it/s]\u001b[A\n",
      "Loss: 173.44, iter no: 0:  10%|█         | 100/1000 [00:04<00:39, 22.77it/s]\u001b[A\n",
      "Loss: 173.44, iter no: 0:  20%|██        | 200/1000 [00:08<00:34, 23.10it/s]\u001b[A\n",
      "Loss: 173.44, iter no: 0:  30%|███       | 300/1000 [00:13<00:30, 23.10it/s]\u001b[A\n",
      "Loss: 173.44, iter no: 0:  40%|████      | 400/1000 [00:17<00:26, 23.05it/s]\u001b[A\n",
      "Loss: 173.44, iter no: 0:  50%|█████     | 500/1000 [00:21<00:21, 22.96it/s]\u001b[A\n",
      "Loss: 95.02, iter no: 500:  50%|█████     | 500/1000 [00:21<00:21, 22.96it/s]\u001b[A\n",
      "Loss: 95.02, iter no: 500:  60%|██████    | 600/1000 [00:26<00:17, 22.92it/s]\u001b[A\n",
      "Loss: 95.02, iter no: 500:  70%|███████   | 700/1000 [00:30<00:13, 22.94it/s]\u001b[A\n",
      "Loss: 95.02, iter no: 500:  80%|████████  | 800/1000 [00:34<00:08, 22.98it/s]\u001b[A\n",
      "Loss: 95.02, iter no: 500:  90%|█████████ | 900/1000 [00:39<00:04, 23.03it/s]\u001b[A\n",
      "Loss: 95.02, iter no: 500: 100%|██████████| 1000/1000 [00:43<00:00, 23.06it/s]\u001b[A\n",
      "                                                                              \u001b[A"
     ]
    },
    {
     "name": "stdout",
     "output_type": "stream",
     "text": [
      "current noise type: None\n",
      "{'Samples': 5393, 'Features': 10, 'Anomalies': 510, 'Anomalies Ratio(%)': 9.46}\n",
      "Kernel não escolhido!\n"
     ]
    },
    {
     "name": "stderr",
     "output_type": "stream",
     "text": [
      "\n",
      "  0%|          | 0/1000 [00:00<?, ?it/s]\u001b[A\n",
      "Loss: 25.04, iter no: 0:   0%|          | 0/1000 [00:00<?, ?it/s]\u001b[A\n",
      "Loss: 25.04, iter no: 0:  10%|█         | 100/1000 [00:02<00:20, 44.76it/s]\u001b[A\n",
      "Loss: 25.04, iter no: 0:  20%|██        | 200/1000 [00:04<00:17, 44.74it/s]\u001b[A\n",
      "Loss: 25.04, iter no: 0:  30%|███       | 300/1000 [00:06<00:15, 44.73it/s]\u001b[A\n",
      "Loss: 25.04, iter no: 0:  40%|████      | 400/1000 [00:08<00:13, 44.74it/s]\u001b[A\n",
      "Loss: 25.04, iter no: 0:  50%|█████     | 500/1000 [00:11<00:11, 44.75it/s]\u001b[A\n",
      "Loss: 11.58, iter no: 500:  50%|█████     | 500/1000 [00:11<00:11, 44.75it/s]\u001b[A\n",
      "Loss: 11.58, iter no: 500:  60%|██████    | 600/1000 [00:13<00:08, 44.73it/s]\u001b[A\n",
      "Loss: 11.58, iter no: 500:  70%|███████   | 700/1000 [00:15<00:06, 44.73it/s]\u001b[A\n",
      "Loss: 11.58, iter no: 500:  80%|████████  | 800/1000 [00:17<00:04, 44.70it/s]\u001b[A\n",
      "Loss: 11.58, iter no: 500:  90%|█████████ | 900/1000 [00:20<00:02, 44.73it/s]\u001b[A\n",
      "Loss: 11.58, iter no: 500: 100%|██████████| 1000/1000 [00:22<00:00, 44.75it/s]\u001b[A\n",
      "                                                                              \u001b[A"
     ]
    },
    {
     "name": "stdout",
     "output_type": "stream",
     "text": [
      "current noise type: None\n",
      "{'Samples': 6870, 'Features': 16, 'Anomalies': 156, 'Anomalies Ratio(%)': 2.27}\n",
      "Kernel não escolhido!\n"
     ]
    },
    {
     "name": "stderr",
     "output_type": "stream",
     "text": [
      "\n",
      "  0%|          | 0/1000 [00:00<?, ?it/s]\u001b[A\n",
      "Loss: 56.02, iter no: 0:   0%|          | 0/1000 [00:00<?, ?it/s]\u001b[A\n",
      "Loss: 56.02, iter no: 0:  10%|█         | 100/1000 [00:02<00:25, 35.17it/s]\u001b[A\n",
      "Loss: 56.02, iter no: 0:  20%|██        | 200/1000 [00:05<00:22, 35.17it/s]\u001b[A\n",
      "Loss: 56.02, iter no: 0:  30%|███       | 300/1000 [00:08<00:19, 35.16it/s]\u001b[A\n",
      "Loss: 56.02, iter no: 0:  40%|████      | 400/1000 [00:11<00:17, 35.16it/s]\u001b[A\n",
      "Loss: 56.02, iter no: 0:  50%|█████     | 500/1000 [00:14<00:14, 35.09it/s]\u001b[A\n",
      "Loss: 18.37, iter no: 500:  50%|█████     | 500/1000 [00:14<00:14, 35.09it/s]\u001b[A\n",
      "Loss: 18.37, iter no: 500:  60%|██████    | 600/1000 [00:17<00:11, 35.10it/s]\u001b[A\n",
      "Loss: 18.37, iter no: 500:  70%|███████   | 700/1000 [00:19<00:08, 35.11it/s]\u001b[A\n",
      "Loss: 18.37, iter no: 500:  80%|████████  | 800/1000 [00:22<00:05, 35.13it/s]\u001b[A\n",
      "Loss: 18.37, iter no: 500:  90%|█████████ | 900/1000 [00:25<00:02, 35.14it/s]\u001b[A\n",
      "Loss: 18.37, iter no: 500: 100%|██████████| 1000/1000 [00:28<00:00, 35.14it/s]\u001b[A\n",
      "                                                                              \u001b[A"
     ]
    },
    {
     "name": "stdout",
     "output_type": "stream",
     "text": [
      "generating duplicate samples for dataset 29_Pima...\n",
      "current noise type: None\n",
      "{'Samples': 1000, 'Features': 8, 'Anomalies': 356, 'Anomalies Ratio(%)': 35.6}\n",
      "Kernel não escolhido!\n"
     ]
    },
    {
     "name": "stderr",
     "output_type": "stream",
     "text": [
      "\n",
      "  0%|          | 0/1000 [00:00<?, ?it/s]\u001b[A\n",
      "Loss: 25.54, iter no: 0:   0%|          | 0/1000 [00:00<?, ?it/s]\u001b[A\n",
      "Loss: 25.54, iter no: 0:  10%|█         | 100/1000 [00:01<00:10, 82.57it/s]\u001b[A\n",
      "Loss: 25.54, iter no: 0:  20%|██        | 200/1000 [00:02<00:09, 82.74it/s]\u001b[A\n",
      "Loss: 25.54, iter no: 0:  30%|███       | 300/1000 [00:03<00:08, 82.81it/s]\u001b[A\n",
      "Loss: 25.54, iter no: 0:  40%|████      | 400/1000 [00:04<00:07, 82.85it/s]\u001b[A\n",
      "Loss: 25.54, iter no: 0:  50%|█████     | 500/1000 [00:06<00:06, 82.77it/s]\u001b[A\n",
      "Loss: 11.85, iter no: 500:  50%|█████     | 500/1000 [00:06<00:06, 82.77it/s]\u001b[A\n",
      "Loss: 11.85, iter no: 500:  60%|██████    | 600/1000 [00:07<00:04, 82.77it/s]\u001b[A\n",
      "Loss: 11.85, iter no: 500:  70%|███████   | 700/1000 [00:08<00:03, 82.78it/s]\u001b[A\n",
      "Loss: 11.85, iter no: 500:  80%|████████  | 800/1000 [00:09<00:02, 82.82it/s]\u001b[A\n",
      "Loss: 11.85, iter no: 500:  90%|█████████ | 900/1000 [00:10<00:01, 82.76it/s]\u001b[A\n",
      "Loss: 11.85, iter no: 500: 100%|██████████| 1000/1000 [00:12<00:00, 82.81it/s]\u001b[A\n",
      "                                                                              \u001b[A"
     ]
    },
    {
     "name": "stdout",
     "output_type": "stream",
     "text": [
      "current noise type: None\n",
      "{'Samples': 6435, 'Features': 36, 'Anomalies': 2036, 'Anomalies Ratio(%)': 31.64}\n",
      "Kernel não escolhido!\n"
     ]
    },
    {
     "name": "stderr",
     "output_type": "stream",
     "text": [
      "\n",
      "  0%|          | 0/1000 [00:00<?, ?it/s]\u001b[A\n",
      "Loss: 123.62, iter no: 0:   0%|          | 0/1000 [00:00<?, ?it/s]\u001b[A\n",
      "Loss: 123.62, iter no: 0:  10%|█         | 100/1000 [00:04<00:44, 20.44it/s]\u001b[A\n",
      "Loss: 123.62, iter no: 0:  20%|██        | 200/1000 [00:09<00:38, 20.66it/s]\u001b[A\n",
      "Loss: 123.62, iter no: 0:  30%|███       | 300/1000 [00:14<00:33, 20.72it/s]\u001b[A\n",
      "Loss: 123.62, iter no: 0:  40%|████      | 400/1000 [00:19<00:28, 20.74it/s]\u001b[A\n",
      "Loss: 123.62, iter no: 0:  50%|█████     | 500/1000 [00:24<00:24, 20.75it/s]\u001b[A\n",
      "Loss: 51.92, iter no: 500:  50%|█████     | 500/1000 [00:24<00:24, 20.75it/s]\u001b[A\n",
      "Loss: 51.92, iter no: 500:  60%|██████    | 600/1000 [00:28<00:19, 20.75it/s]\u001b[A\n",
      "Loss: 51.92, iter no: 500:  70%|███████   | 700/1000 [00:33<00:14, 20.76it/s]\u001b[A\n",
      "Loss: 51.92, iter no: 500:  80%|████████  | 800/1000 [00:38<00:09, 20.77it/s]\u001b[A\n",
      "Loss: 51.92, iter no: 500:  90%|█████████ | 900/1000 [00:43<00:04, 20.78it/s]\u001b[A\n",
      "Loss: 51.92, iter no: 500: 100%|██████████| 1000/1000 [00:48<00:00, 20.76it/s]\u001b[A\n",
      "                                                                              \u001b[A"
     ]
    },
    {
     "name": "stdout",
     "output_type": "stream",
     "text": [
      "current noise type: None\n",
      "{'Samples': 5803, 'Features': 36, 'Anomalies': 71, 'Anomalies Ratio(%)': 1.22}\n",
      "Kernel não escolhido!\n"
     ]
    },
    {
     "name": "stderr",
     "output_type": "stream",
     "text": [
      "\n",
      "  0%|          | 0/1000 [00:00<?, ?it/s]\u001b[A\n",
      "Loss: 125.74, iter no: 0:   0%|          | 0/1000 [00:00<?, ?it/s]\u001b[A\n",
      "Loss: 125.74, iter no: 0:  10%|█         | 100/1000 [00:04<00:41, 21.92it/s]\u001b[A\n",
      "Loss: 125.74, iter no: 0:  20%|██        | 200/1000 [00:09<00:38, 21.02it/s]\u001b[A\n",
      "Loss: 125.74, iter no: 0:  30%|███       | 300/1000 [00:14<00:34, 20.02it/s]\u001b[A\n",
      "Loss: 125.74, iter no: 0:  40%|████      | 400/1000 [00:19<00:28, 20.88it/s]\u001b[A\n",
      "Loss: 125.74, iter no: 0:  50%|█████     | 500/1000 [00:23<00:23, 21.39it/s]\u001b[A\n",
      "Loss: 51.97, iter no: 500:  50%|█████     | 500/1000 [00:23<00:23, 21.39it/s]\u001b[A\n",
      "Loss: 51.97, iter no: 500:  60%|██████    | 600/1000 [00:28<00:18, 21.70it/s]\u001b[A\n",
      "Loss: 51.97, iter no: 500:  70%|███████   | 700/1000 [00:32<00:13, 21.91it/s]\u001b[A\n",
      "Loss: 51.97, iter no: 500:  80%|████████  | 800/1000 [00:37<00:09, 22.05it/s]\u001b[A\n",
      "Loss: 51.97, iter no: 500:  90%|█████████ | 900/1000 [00:41<00:04, 22.14it/s]\u001b[A\n",
      "Loss: 51.97, iter no: 500: 100%|██████████| 1000/1000 [00:46<00:00, 22.18it/s]\u001b[A\n",
      "                                                                              \u001b[A"
     ]
    },
    {
     "name": "stdout",
     "output_type": "stream",
     "text": [
      "subsampling for dataset 32_shuttle...\n",
      "current noise type: None\n",
      "{'Samples': 10000, 'Features': 9, 'Anomalies': 736, 'Anomalies Ratio(%)': 7.36}\n",
      "Kernel não escolhido!\n"
     ]
    },
    {
     "name": "stderr",
     "output_type": "stream",
     "text": [
      "\n",
      "  0%|          | 0/1000 [00:00<?, ?it/s]\u001b[A\n",
      "Loss: 24.74, iter no: 0:   0%|          | 0/1000 [00:00<?, ?it/s]\u001b[A\n",
      "Loss: 24.74, iter no: 0:  10%|█         | 100/1000 [00:02<00:26, 34.61it/s]\u001b[A\n",
      "Loss: 24.74, iter no: 0:  20%|██        | 200/1000 [00:05<00:23, 34.64it/s]\u001b[A\n",
      "Loss: 24.74, iter no: 0:  30%|███       | 300/1000 [00:08<00:20, 34.66it/s]\u001b[A\n",
      "Loss: 24.74, iter no: 0:  40%|████      | 400/1000 [00:11<00:17, 34.66it/s]\u001b[A\n",
      "Loss: 24.74, iter no: 0:  50%|█████     | 500/1000 [00:14<00:14, 34.68it/s]\u001b[A\n",
      "Loss: 8.37, iter no: 500:  50%|█████     | 500/1000 [00:14<00:14, 34.68it/s]\u001b[A\n",
      "Loss: 8.37, iter no: 500:  60%|██████    | 600/1000 [00:17<00:11, 34.69it/s]\u001b[A\n",
      "Loss: 8.37, iter no: 500:  70%|███████   | 700/1000 [00:20<00:08, 34.68it/s]\u001b[A\n",
      "Loss: 8.37, iter no: 500:  80%|████████  | 800/1000 [00:23<00:05, 34.68it/s]\u001b[A\n",
      "Loss: 8.37, iter no: 500:  90%|█████████ | 900/1000 [00:25<00:02, 34.69it/s]\u001b[A\n",
      "Loss: 8.37, iter no: 500: 100%|██████████| 1000/1000 [00:28<00:00, 34.69it/s]\u001b[A\n",
      "                                                                             \u001b[A"
     ]
    },
    {
     "name": "stdout",
     "output_type": "stream",
     "text": [
      "subsampling for dataset 33_skin...\n",
      "current noise type: None\n",
      "{'Samples': 10000, 'Features': 3, 'Anomalies': 2124, 'Anomalies Ratio(%)': 21.24}\n",
      "Kernel não escolhido!\n"
     ]
    },
    {
     "name": "stderr",
     "output_type": "stream",
     "text": [
      "\n",
      "  0%|          | 0/1000 [00:00<?, ?it/s]\u001b[A\n",
      "Loss: 9.07, iter no: 0:   0%|          | 0/1000 [00:00<?, ?it/s]\u001b[A\n",
      "Loss: 9.07, iter no: 0:  10%|█         | 100/1000 [00:01<00:12, 70.96it/s]\u001b[A\n",
      "Loss: 9.07, iter no: 0:  20%|██        | 200/1000 [00:02<00:11, 70.98it/s]\u001b[A\n",
      "Loss: 9.07, iter no: 0:  30%|███       | 300/1000 [00:04<00:09, 71.02it/s]\u001b[A\n",
      "Loss: 9.07, iter no: 0:  40%|████      | 400/1000 [00:05<00:08, 71.05it/s]\u001b[A\n",
      "Loss: 9.07, iter no: 0:  50%|█████     | 500/1000 [00:07<00:07, 71.02it/s]\u001b[A\n",
      "Loss: 3.62, iter no: 500:  50%|█████     | 500/1000 [00:07<00:07, 71.02it/s]\u001b[A\n",
      "Loss: 3.62, iter no: 500:  60%|██████    | 600/1000 [00:08<00:05, 71.01it/s]\u001b[A\n",
      "Loss: 3.62, iter no: 500:  70%|███████   | 700/1000 [00:09<00:04, 71.05it/s]\u001b[A\n",
      "Loss: 3.62, iter no: 500:  80%|████████  | 800/1000 [00:11<00:02, 71.04it/s]\u001b[A\n",
      "Loss: 3.62, iter no: 500:  90%|█████████ | 900/1000 [00:12<00:01, 71.04it/s]\u001b[A\n",
      "Loss: 3.62, iter no: 500: 100%|██████████| 1000/1000 [00:14<00:00, 71.02it/s]\u001b[A\n",
      "                                                                             \u001b[A"
     ]
    },
    {
     "name": "stdout",
     "output_type": "stream",
     "text": [
      "subsampling for dataset 34_smtp...\n",
      "current noise type: None\n",
      "{'Samples': 10000, 'Features': 3, 'Anomalies': 2, 'Anomalies Ratio(%)': 0.02}\n",
      "Kernel não escolhido!\n"
     ]
    },
    {
     "name": "stderr",
     "output_type": "stream",
     "text": [
      "\n",
      "  0%|          | 0/1000 [00:00<?, ?it/s]\u001b[A\n",
      "Loss: 6.97, iter no: 0:   0%|          | 0/1000 [00:00<?, ?it/s]\u001b[A\n",
      "Loss: 6.97, iter no: 0:  10%|█         | 100/1000 [00:01<00:13, 68.57it/s]\u001b[A\n",
      "Loss: 6.97, iter no: 0:  20%|██        | 200/1000 [00:02<00:11, 68.63it/s]\u001b[A\n",
      "Loss: 6.97, iter no: 0:  30%|███       | 300/1000 [00:04<00:10, 68.63it/s]\u001b[A\n",
      "Loss: 6.97, iter no: 0:  40%|████      | 400/1000 [00:05<00:08, 68.62it/s]\u001b[A\n",
      "Loss: 6.97, iter no: 0:  50%|█████     | 500/1000 [00:07<00:07, 68.62it/s]\u001b[A\n",
      "Loss: 4.38, iter no: 500:  50%|█████     | 500/1000 [00:07<00:07, 68.62it/s]\u001b[A\n",
      "Loss: 4.38, iter no: 500:  60%|██████    | 600/1000 [00:08<00:05, 68.59it/s]\u001b[A\n",
      "Loss: 4.38, iter no: 500:  70%|███████   | 700/1000 [00:10<00:04, 68.58it/s]\u001b[A\n",
      "Loss: 4.38, iter no: 500:  80%|████████  | 800/1000 [00:11<00:02, 68.59it/s]\u001b[A\n",
      "Loss: 4.38, iter no: 500:  90%|█████████ | 900/1000 [00:13<00:01, 68.59it/s]\u001b[A\n",
      "Loss: 4.38, iter no: 500: 100%|██████████| 1000/1000 [00:14<00:00, 68.61it/s]\u001b[A\n",
      "                                                                             \u001b[A"
     ]
    },
    {
     "name": "stdout",
     "output_type": "stream",
     "text": [
      "current noise type: None\n",
      "{'Samples': 4207, 'Features': 57, 'Anomalies': 1679, 'Anomalies Ratio(%)': 39.91}\n",
      "Kernel não escolhido!\n"
     ]
    },
    {
     "name": "stderr",
     "output_type": "stream",
     "text": [
      "\n",
      "  0%|          | 0/1000 [00:00<?, ?it/s]\u001b[A\n",
      "Loss: 156.02, iter no: 0:   0%|          | 0/1000 [00:00<?, ?it/s]\u001b[A\n",
      "Loss: 156.02, iter no: 0:  10%|█         | 100/1000 [00:03<00:33, 26.51it/s]\u001b[A\n",
      "Loss: 156.02, iter no: 0:  20%|██        | 200/1000 [00:07<00:29, 27.00it/s]\u001b[A\n",
      "Loss: 156.02, iter no: 0:  30%|███       | 300/1000 [00:11<00:25, 27.16it/s]\u001b[A\n",
      "Loss: 156.02, iter no: 0:  40%|████      | 400/1000 [00:14<00:22, 27.22it/s]\u001b[A\n",
      "                                                                            \u001b[A"
     ]
    },
    {
     "name": "stdout",
     "output_type": "stream",
     "text": [
      "current noise type: None\n",
      "{'Samples': 3686, 'Features': 400, 'Anomalies': 61, 'Anomalies Ratio(%)': 1.65}\n",
      "Kernel não escolhido!\n"
     ]
    },
    {
     "name": "stderr",
     "output_type": "stream",
     "text": [
      "\n",
      "  0%|          | 0/1000 [00:00<?, ?it/s]\u001b[A\n",
      "Loss: 838.87, iter no: 0:   0%|          | 0/1000 [00:00<?, ?it/s]\u001b[A\n",
      "Loss: 838.87, iter no: 0:  10%|█         | 100/1000 [00:06<01:02, 14.42it/s]\u001b[A\n",
      "Loss: 838.87, iter no: 0:  20%|██        | 200/1000 [00:11<00:45, 17.69it/s]\u001b[A\n",
      "Loss: 838.87, iter no: 0:  30%|███       | 300/1000 [00:16<00:36, 19.11it/s]\u001b[A\n",
      "Loss: 838.87, iter no: 0:  40%|████      | 400/1000 [00:21<00:30, 19.84it/s]\u001b[A\n",
      "Loss: 838.87, iter no: 0:  50%|█████     | 500/1000 [00:25<00:24, 20.27it/s]\u001b[A\n",
      "Loss: 582.04, iter no: 500:  50%|█████     | 500/1000 [00:25<00:24, 20.27it/s]\u001b[A\n",
      "Loss: 582.04, iter no: 500:  60%|██████    | 600/1000 [00:30<00:19, 20.54it/s]\u001b[A\n",
      "Loss: 582.04, iter no: 500:  70%|███████   | 700/1000 [00:35<00:14, 20.74it/s]\u001b[A\n",
      "Loss: 582.04, iter no: 500:  80%|████████  | 800/1000 [00:40<00:09, 20.86it/s]\u001b[A\n",
      "Loss: 582.04, iter no: 500:  90%|█████████ | 900/1000 [00:44<00:04, 20.90it/s]\u001b[A\n",
      "Loss: 582.04, iter no: 500: 100%|██████████| 1000/1000 [00:49<00:00, 20.95it/s]\u001b[A\n",
      "                                                                               \u001b[A"
     ]
    },
    {
     "name": "stdout",
     "output_type": "stream",
     "text": [
      "generating duplicate samples for dataset 37_Stamps...\n",
      "current noise type: None\n",
      "{'Samples': 1000, 'Features': 9, 'Anomalies': 84, 'Anomalies Ratio(%)': 8.4}\n",
      "Kernel não escolhido!\n"
     ]
    },
    {
     "name": "stderr",
     "output_type": "stream",
     "text": [
      "\n",
      "  0%|          | 0/1000 [00:00<?, ?it/s]\u001b[A\n",
      "Loss: 27.01, iter no: 0:   0%|          | 0/1000 [00:00<?, ?it/s]\u001b[A\n",
      "Loss: 27.01, iter no: 0:  10%|█         | 100/1000 [00:01<00:10, 82.22it/s]\u001b[A\n",
      "Loss: 27.01, iter no: 0:  20%|██        | 200/1000 [00:02<00:09, 82.34it/s]\u001b[A\n",
      "Loss: 27.01, iter no: 0:  30%|███       | 300/1000 [00:03<00:08, 82.36it/s]\u001b[A\n",
      "Loss: 27.01, iter no: 0:  40%|████      | 400/1000 [00:04<00:07, 82.21it/s]\u001b[A\n",
      "Loss: 27.01, iter no: 0:  50%|█████     | 500/1000 [00:06<00:06, 82.28it/s]\u001b[A\n",
      "Loss: 10.99, iter no: 500:  50%|█████     | 500/1000 [00:06<00:06, 82.28it/s]\u001b[A\n",
      "Loss: 10.99, iter no: 500:  60%|██████    | 600/1000 [00:07<00:04, 82.28it/s]\u001b[A\n",
      "Loss: 10.99, iter no: 500:  70%|███████   | 700/1000 [00:08<00:03, 82.32it/s]\u001b[A\n",
      "Loss: 10.99, iter no: 500:  80%|████████  | 800/1000 [00:09<00:02, 82.25it/s]\u001b[A\n",
      "Loss: 10.99, iter no: 500:  90%|█████████ | 900/1000 [00:10<00:01, 82.27it/s]\u001b[A\n",
      "Loss: 10.99, iter no: 500: 100%|██████████| 1000/1000 [00:12<00:00, 82.31it/s]\u001b[A\n",
      "                                                                              \u001b[A"
     ]
    },
    {
     "name": "stdout",
     "output_type": "stream",
     "text": [
      "current noise type: None\n",
      "{'Samples': 3772, 'Features': 6, 'Anomalies': 93, 'Anomalies Ratio(%)': 2.47}\n",
      "Kernel não escolhido!\n"
     ]
    },
    {
     "name": "stderr",
     "output_type": "stream",
     "text": [
      "\n",
      "  0%|          | 0/1000 [00:00<?, ?it/s]\u001b[A\n",
      "Loss: 16.27, iter no: 0:   0%|          | 0/1000 [00:00<?, ?it/s]\u001b[A\n",
      "Loss: 16.27, iter no: 0:  10%|█         | 100/1000 [00:01<00:16, 53.44it/s]\u001b[A\n",
      "Loss: 16.27, iter no: 0:  20%|██        | 200/1000 [00:03<00:14, 53.54it/s]\u001b[A\n",
      "Loss: 16.27, iter no: 0:  30%|███       | 300/1000 [00:05<00:13, 53.56it/s]\u001b[A\n",
      "Loss: 16.27, iter no: 0:  40%|████      | 400/1000 [00:07<00:11, 53.56it/s]\u001b[A\n",
      "Loss: 16.27, iter no: 0:  50%|█████     | 500/1000 [00:09<00:09, 52.25it/s]\u001b[A\n",
      "Loss: 7.47, iter no: 500:  50%|█████     | 500/1000 [00:09<00:09, 52.25it/s]\u001b[A\n",
      "Loss: 7.47, iter no: 500:  60%|██████    | 600/1000 [00:11<00:08, 49.06it/s]\u001b[A\n",
      "Loss: 7.47, iter no: 500:  70%|███████   | 700/1000 [00:13<00:05, 50.44it/s]\u001b[A\n",
      "Loss: 7.47, iter no: 500:  80%|████████  | 800/1000 [00:15<00:03, 51.38it/s]\u001b[A\n",
      "Loss: 7.47, iter no: 500:  90%|█████████ | 900/1000 [00:17<00:01, 52.05it/s]\u001b[A\n",
      "Loss: 7.47, iter no: 500: 100%|██████████| 1000/1000 [00:19<00:00, 52.52it/s]\u001b[A\n",
      "                                                                             \u001b[A"
     ]
    },
    {
     "name": "stdout",
     "output_type": "stream",
     "text": [
      "generating duplicate samples for dataset 39_vertebral...\n",
      "current noise type: None\n",
      "{'Samples': 1000, 'Features': 6, 'Anomalies': 132, 'Anomalies Ratio(%)': 13.2}\n",
      "Kernel não escolhido!\n"
     ]
    },
    {
     "name": "stderr",
     "output_type": "stream",
     "text": [
      "\n",
      "  0%|          | 0/1000 [00:00<?, ?it/s]\u001b[A\n",
      "Loss: 18.38, iter no: 0:   0%|          | 0/1000 [00:00<?, ?it/s]\u001b[A\n",
      "Loss: 18.38, iter no: 0:  10%|█         | 100/1000 [00:01<00:10, 84.17it/s]\u001b[A\n",
      "Loss: 18.38, iter no: 0:  20%|██        | 200/1000 [00:02<00:09, 84.14it/s]\u001b[A\n",
      "Loss: 18.38, iter no: 0:  30%|███       | 300/1000 [00:03<00:08, 84.13it/s]\u001b[A\n",
      "Loss: 18.38, iter no: 0:  40%|████      | 400/1000 [00:04<00:07, 84.14it/s]\u001b[A\n",
      "Loss: 18.38, iter no: 0:  50%|█████     | 500/1000 [00:05<00:05, 84.15it/s]\u001b[A\n",
      "Loss: 7.59, iter no: 500:  50%|█████     | 500/1000 [00:05<00:05, 84.15it/s]\u001b[A\n",
      "Loss: 7.59, iter no: 500:  60%|██████    | 600/1000 [00:07<00:04, 84.11it/s]\u001b[A\n",
      "Loss: 7.59, iter no: 500:  70%|███████   | 700/1000 [00:08<00:03, 84.13it/s]\u001b[A\n",
      "Loss: 7.59, iter no: 500:  80%|████████  | 800/1000 [00:09<00:02, 84.18it/s]\u001b[A\n",
      "Loss: 7.59, iter no: 500:  90%|█████████ | 900/1000 [00:10<00:01, 84.21it/s]\u001b[A\n",
      "Loss: 7.59, iter no: 500: 100%|██████████| 1000/1000 [00:11<00:00, 84.24it/s]\u001b[A\n",
      "                                                                             \u001b[A"
     ]
    },
    {
     "name": "stdout",
     "output_type": "stream",
     "text": [
      "current noise type: None\n",
      "{'Samples': 1456, 'Features': 12, 'Anomalies': 50, 'Anomalies Ratio(%)': 3.43}\n",
      "Kernel não escolhido!\n"
     ]
    },
    {
     "name": "stderr",
     "output_type": "stream",
     "text": [
      "\n",
      "  0%|          | 0/1000 [00:00<?, ?it/s]\u001b[A\n",
      "Loss: 39.0, iter no: 0:   0%|          | 0/1000 [00:00<?, ?it/s]\u001b[A\n",
      "Loss: 39.0, iter no: 0:  10%|█         | 100/1000 [00:01<00:12, 69.78it/s]\u001b[A\n",
      "Loss: 39.0, iter no: 0:  20%|██        | 200/1000 [00:02<00:11, 69.91it/s]\u001b[A\n",
      "Loss: 39.0, iter no: 0:  30%|███       | 300/1000 [00:04<00:10, 69.92it/s]\u001b[A\n",
      "Loss: 39.0, iter no: 0:  40%|████      | 400/1000 [00:05<00:08, 69.92it/s]\u001b[A\n",
      "Loss: 39.0, iter no: 0:  50%|█████     | 500/1000 [00:07<00:07, 69.92it/s]\u001b[A\n",
      "Loss: 14.71, iter no: 500:  50%|█████     | 500/1000 [00:07<00:07, 69.92it/s]\u001b[A\n",
      "Loss: 14.71, iter no: 500:  60%|██████    | 600/1000 [00:08<00:05, 69.90it/s]\u001b[A\n",
      "Loss: 14.71, iter no: 500:  70%|███████   | 700/1000 [00:10<00:04, 69.92it/s]\u001b[A\n",
      "Loss: 14.71, iter no: 500:  80%|████████  | 800/1000 [00:11<00:02, 69.93it/s]\u001b[A\n",
      "Loss: 14.71, iter no: 500:  90%|█████████ | 900/1000 [00:12<00:01, 69.87it/s]\u001b[A\n",
      "Loss: 14.71, iter no: 500: 100%|██████████| 1000/1000 [00:14<00:00, 69.81it/s]\u001b[A\n",
      "                                                                              \u001b[A"
     ]
    },
    {
     "name": "stdout",
     "output_type": "stream",
     "text": [
      "current noise type: None\n",
      "{'Samples': 3443, 'Features': 21, 'Anomalies': 100, 'Anomalies Ratio(%)': 2.9}\n",
      "Kernel não escolhido!\n"
     ]
    },
    {
     "name": "stderr",
     "output_type": "stream",
     "text": [
      "\n",
      "  0%|          | 0/1000 [00:00<?, ?it/s]\u001b[A\n",
      "Loss: 68.02, iter no: 0:   0%|          | 0/1000 [00:00<?, ?it/s]\u001b[A\n",
      "Loss: 68.02, iter no: 0:  10%|█         | 100/1000 [00:02<00:20, 43.00it/s]\u001b[A\n",
      "Loss: 68.02, iter no: 0:  20%|██        | 200/1000 [00:04<00:18, 43.15it/s]\u001b[A\n",
      "Loss: 68.02, iter no: 0:  30%|███       | 300/1000 [00:06<00:16, 43.21it/s]\u001b[A\n",
      "Loss: 68.02, iter no: 0:  40%|████      | 400/1000 [00:09<00:13, 43.21it/s]\u001b[A\n",
      "Loss: 68.02, iter no: 0:  50%|█████     | 500/1000 [00:11<00:11, 43.23it/s]\u001b[A\n",
      "Loss: 25.96, iter no: 500:  50%|█████     | 500/1000 [00:11<00:11, 43.23it/s]\u001b[A\n",
      "Loss: 25.96, iter no: 500:  60%|██████    | 600/1000 [00:13<00:09, 43.23it/s]\u001b[A\n",
      "Loss: 25.96, iter no: 500:  70%|███████   | 700/1000 [00:16<00:06, 43.18it/s]\u001b[A\n",
      "Loss: 25.96, iter no: 500:  80%|████████  | 800/1000 [00:18<00:04, 43.20it/s]\u001b[A\n",
      "Loss: 25.96, iter no: 500:  90%|█████████ | 900/1000 [00:20<00:02, 43.23it/s]\u001b[A\n",
      "Loss: 25.96, iter no: 500: 100%|██████████| 1000/1000 [00:23<00:00, 43.24it/s]\u001b[A\n",
      "                                                                              \u001b[A"
     ]
    },
    {
     "name": "stdout",
     "output_type": "stream",
     "text": [
      "generating duplicate samples for dataset 42_WBC...\n",
      "current noise type: None\n",
      "{'Samples': 1000, 'Features': 9, 'Anomalies': 44, 'Anomalies Ratio(%)': 4.4}\n",
      "Kernel não escolhido!\n"
     ]
    },
    {
     "name": "stderr",
     "output_type": "stream",
     "text": [
      "\n",
      "  0%|          | 0/1000 [00:00<?, ?it/s]\u001b[A\n",
      "Loss: 31.31, iter no: 0:   0%|          | 0/1000 [00:00<?, ?it/s]\u001b[A\n",
      "Loss: 31.31, iter no: 0:  10%|█         | 100/1000 [00:01<00:10, 82.26it/s]\u001b[A\n",
      "Loss: 31.31, iter no: 0:  20%|██        | 200/1000 [00:02<00:09, 82.36it/s]\u001b[A\n",
      "Loss: 31.31, iter no: 0:  30%|███       | 300/1000 [00:03<00:08, 82.41it/s]\u001b[A\n",
      "Loss: 31.31, iter no: 0:  40%|████      | 400/1000 [00:04<00:07, 82.46it/s]\u001b[A\n",
      "Loss: 31.31, iter no: 0:  50%|█████     | 500/1000 [00:06<00:06, 82.45it/s]\u001b[A\n",
      "Loss: 10.48, iter no: 500:  50%|█████     | 500/1000 [00:06<00:06, 82.45it/s]\u001b[A\n",
      "Loss: 10.48, iter no: 500:  60%|██████    | 600/1000 [00:07<00:04, 82.37it/s]\u001b[A\n",
      "Loss: 10.48, iter no: 500:  70%|███████   | 700/1000 [00:08<00:03, 82.41it/s]\u001b[A\n",
      "Loss: 10.48, iter no: 500:  80%|████████  | 800/1000 [00:09<00:02, 82.39it/s]\u001b[A\n",
      "Loss: 10.48, iter no: 500:  90%|█████████ | 900/1000 [00:10<00:01, 82.43it/s]\u001b[A\n",
      "Loss: 10.48, iter no: 500: 100%|██████████| 1000/1000 [00:12<00:00, 82.44it/s]\u001b[A\n",
      "                                                                              \u001b[A"
     ]
    },
    {
     "name": "stdout",
     "output_type": "stream",
     "text": [
      "generating duplicate samples for dataset 43_WDBC...\n",
      "current noise type: None\n",
      "{'Samples': 1000, 'Features': 30, 'Anomalies': 33, 'Anomalies Ratio(%)': 3.3}\n",
      "Kernel não escolhido!\n"
     ]
    },
    {
     "name": "stderr",
     "output_type": "stream",
     "text": [
      "\n",
      "  0%|          | 0/1000 [00:00<?, ?it/s]\u001b[A\n",
      "Loss: 117.96, iter no: 0:   0%|          | 0/1000 [00:00<?, ?it/s]\u001b[A\n",
      "Loss: 117.96, iter no: 0:  10%|█         | 100/1000 [00:01<00:17, 51.19it/s]\u001b[A\n",
      "Loss: 117.96, iter no: 0:  20%|██        | 200/1000 [00:03<00:14, 54.01it/s]\u001b[A\n",
      "Loss: 117.96, iter no: 0:  30%|███       | 300/1000 [00:05<00:12, 54.97it/s]\u001b[A\n",
      "Loss: 117.96, iter no: 0:  40%|████      | 400/1000 [00:07<00:10, 55.29it/s]\u001b[A\n",
      "Loss: 117.96, iter no: 0:  50%|█████     | 500/1000 [00:09<00:08, 55.61it/s]\u001b[A\n",
      "Loss: 43.34, iter no: 500:  50%|█████     | 500/1000 [00:09<00:08, 55.61it/s]\u001b[A\n",
      "Loss: 43.34, iter no: 500:  60%|██████    | 600/1000 [00:10<00:07, 55.70it/s]\u001b[A\n",
      "Loss: 43.34, iter no: 500:  70%|███████   | 700/1000 [00:12<00:05, 55.73it/s]\u001b[A\n",
      "Loss: 43.34, iter no: 500:  80%|████████  | 800/1000 [00:14<00:03, 55.73it/s]\u001b[A\n",
      "Loss: 43.34, iter no: 500:  90%|█████████ | 900/1000 [00:16<00:01, 55.71it/s]\u001b[A\n",
      "Loss: 43.34, iter no: 500: 100%|██████████| 1000/1000 [00:18<00:00, 55.78it/s]\u001b[A\n",
      "                                                                              \u001b[A"
     ]
    },
    {
     "name": "stdout",
     "output_type": "stream",
     "text": [
      "current noise type: None\n",
      "{'Samples': 4819, 'Features': 5, 'Anomalies': 257, 'Anomalies Ratio(%)': 5.33}\n",
      "Kernel não escolhido!\n"
     ]
    },
    {
     "name": "stderr",
     "output_type": "stream",
     "text": [
      "\n",
      "  0%|          | 0/1000 [00:00<?, ?it/s]\u001b[A\n",
      "Loss: 11.43, iter no: 0:   0%|          | 0/1000 [00:00<?, ?it/s]\u001b[A\n",
      "Loss: 11.43, iter no: 0:  10%|█         | 100/1000 [00:01<00:17, 51.71it/s]\u001b[A\n",
      "Loss: 11.43, iter no: 0:  20%|██        | 200/1000 [00:03<00:15, 51.72it/s]\u001b[A\n",
      "Loss: 11.43, iter no: 0:  30%|███       | 300/1000 [00:05<00:13, 51.63it/s]\u001b[A\n",
      "Loss: 11.43, iter no: 0:  40%|████      | 400/1000 [00:07<00:11, 51.68it/s]\u001b[A\n",
      "Loss: 11.43, iter no: 0:  50%|█████     | 500/1000 [00:09<00:09, 51.70it/s]\u001b[A\n",
      "Loss: 6.44, iter no: 500:  50%|█████     | 500/1000 [00:09<00:09, 51.70it/s]\u001b[A\n",
      "Loss: 6.44, iter no: 500:  60%|██████    | 600/1000 [00:11<00:07, 51.63it/s]\u001b[A\n",
      "Loss: 6.44, iter no: 500:  70%|███████   | 700/1000 [00:13<00:05, 51.64it/s]\u001b[A\n",
      "Loss: 6.44, iter no: 500:  80%|████████  | 800/1000 [00:15<00:03, 51.67it/s]\u001b[A\n",
      "Loss: 6.44, iter no: 500:  90%|█████████ | 900/1000 [00:17<00:01, 51.52it/s]\u001b[A\n",
      "Loss: 6.44, iter no: 500: 100%|██████████| 1000/1000 [00:19<00:00, 51.60it/s]\u001b[A\n",
      "                                                                             \u001b[A"
     ]
    },
    {
     "name": "stdout",
     "output_type": "stream",
     "text": [
      "generating duplicate samples for dataset 45_wine...\n",
      "current noise type: None\n",
      "{'Samples': 1000, 'Features': 13, 'Anomalies': 81, 'Anomalies Ratio(%)': 8.1}\n",
      "Kernel não escolhido!\n"
     ]
    },
    {
     "name": "stderr",
     "output_type": "stream",
     "text": [
      "\n",
      "  0%|          | 0/1000 [00:00<?, ?it/s]\u001b[A\n",
      "Loss: 43.68, iter no: 0:   0%|          | 0/1000 [00:00<?, ?it/s]\u001b[A\n",
      "Loss: 43.68, iter no: 0:  10%|█         | 100/1000 [00:01<00:11, 75.09it/s]\u001b[A\n",
      "Loss: 43.68, iter no: 0:  20%|██        | 200/1000 [00:02<00:10, 75.15it/s]\u001b[A\n",
      "Loss: 43.68, iter no: 0:  30%|███       | 300/1000 [00:03<00:09, 75.23it/s]\u001b[A\n",
      "Loss: 43.68, iter no: 0:  40%|████      | 400/1000 [00:05<00:07, 75.25it/s]\u001b[A\n",
      "Loss: 43.68, iter no: 0:  50%|█████     | 500/1000 [00:06<00:06, 75.26it/s]\u001b[A\n",
      "Loss: 16.77, iter no: 500:  50%|█████     | 500/1000 [00:06<00:06, 75.26it/s]\u001b[A\n",
      "Loss: 16.77, iter no: 500:  60%|██████    | 600/1000 [00:07<00:05, 75.25it/s]\u001b[A\n",
      "Loss: 16.77, iter no: 500:  70%|███████   | 700/1000 [00:09<00:03, 75.26it/s]\u001b[A\n",
      "Loss: 16.77, iter no: 500:  80%|████████  | 800/1000 [00:10<00:02, 75.27it/s]\u001b[A\n",
      "Loss: 16.77, iter no: 500:  90%|█████████ | 900/1000 [00:11<00:01, 75.31it/s]\u001b[A\n",
      "Loss: 16.77, iter no: 500: 100%|██████████| 1000/1000 [00:13<00:00, 75.25it/s]\u001b[A\n",
      "                                                                              \u001b[A"
     ]
    },
    {
     "name": "stdout",
     "output_type": "stream",
     "text": [
      "generating duplicate samples for dataset 46_WPBC...\n",
      "current noise type: None\n",
      "{'Samples': 1000, 'Features': 33, 'Anomalies': 249, 'Anomalies Ratio(%)': 24.9}\n",
      "Kernel não escolhido!\n"
     ]
    },
    {
     "name": "stderr",
     "output_type": "stream",
     "text": [
      "\n",
      "  0%|          | 0/1000 [00:00<?, ?it/s]\u001b[A\n",
      "Loss: 124.15, iter no: 0:   0%|          | 0/1000 [00:00<?, ?it/s]\u001b[A\n",
      "Loss: 124.15, iter no: 0:  10%|█         | 100/1000 [00:01<00:17, 50.95it/s]\u001b[A\n",
      "Loss: 124.15, iter no: 0:  20%|██        | 200/1000 [00:03<00:14, 53.90it/s]\u001b[A\n",
      "Loss: 124.15, iter no: 0:  30%|███       | 300/1000 [00:05<00:12, 54.85it/s]\u001b[A\n",
      "Loss: 124.15, iter no: 0:  40%|████      | 400/1000 [00:07<00:11, 51.18it/s]\u001b[A\n",
      "Loss: 124.15, iter no: 0:  50%|█████     | 500/1000 [00:09<00:09, 51.17it/s]\u001b[A\n",
      "Loss: 48.86, iter no: 500:  50%|█████     | 500/1000 [00:09<00:09, 51.17it/s]\u001b[A\n",
      "Loss: 48.86, iter no: 500:  60%|██████    | 600/1000 [00:11<00:07, 52.77it/s]\u001b[A\n",
      "Loss: 48.86, iter no: 500:  70%|███████   | 700/1000 [00:13<00:05, 53.86it/s]\u001b[A\n",
      "Loss: 48.86, iter no: 500:  80%|████████  | 800/1000 [00:14<00:03, 54.55it/s]\u001b[A\n",
      "Loss: 48.86, iter no: 500:  90%|█████████ | 900/1000 [00:16<00:01, 55.04it/s]\u001b[A\n",
      "Loss: 48.86, iter no: 500: 100%|██████████| 1000/1000 [00:18<00:00, 55.36it/s]\u001b[A\n",
      "                                                                              \u001b[A"
     ]
    },
    {
     "name": "stdout",
     "output_type": "stream",
     "text": [
      "current noise type: None\n",
      "{'Samples': 1484, 'Features': 8, 'Anomalies': 507, 'Anomalies Ratio(%)': 34.16}\n",
      "Kernel não escolhido!\n"
     ]
    },
    {
     "name": "stderr",
     "output_type": "stream",
     "text": [
      "\n",
      "  0%|          | 0/1000 [00:00<?, ?it/s]\u001b[A\n",
      "Loss: 23.41, iter no: 0:   0%|          | 0/1000 [00:00<?, ?it/s]\u001b[A\n",
      "Loss: 23.41, iter no: 0:  10%|█         | 100/1000 [00:01<00:11, 76.11it/s]\u001b[A\n",
      "Loss: 23.41, iter no: 0:  20%|██        | 200/1000 [00:02<00:10, 76.18it/s]\u001b[A\n",
      "Loss: 23.41, iter no: 0:  30%|███       | 300/1000 [00:03<00:09, 76.17it/s]\u001b[A\n",
      "Loss: 23.41, iter no: 0:  40%|████      | 400/1000 [00:05<00:07, 76.21it/s]\u001b[A\n",
      "Loss: 23.41, iter no: 0:  50%|█████     | 500/1000 [00:06<00:06, 76.22it/s]\u001b[A\n",
      "Loss: 12.15, iter no: 500:  50%|█████     | 500/1000 [00:06<00:06, 76.22it/s]\u001b[A\n",
      "Loss: 12.15, iter no: 500:  60%|██████    | 600/1000 [00:07<00:05, 76.18it/s]\u001b[A\n",
      "Loss: 12.15, iter no: 500:  70%|███████   | 700/1000 [00:09<00:03, 76.20it/s]\u001b[A\n",
      "Loss: 12.15, iter no: 500:  80%|████████  | 800/1000 [00:10<00:02, 76.22it/s]\u001b[A\n",
      "Loss: 12.15, iter no: 500:  90%|█████████ | 900/1000 [00:11<00:01, 76.22it/s]\u001b[A\n",
      "Loss: 12.15, iter no: 500: 100%|██████████| 1000/1000 [00:13<00:00, 76.14it/s]\u001b[A\n",
      "                                                                              \u001b[A"
     ]
    }
   ],
   "source": [
    "for experiment in tqdm_notebook(experiments):\n",
    "    if \"train_noise\" not in experiment.keys():\n",
    "        Y_train, Y_test, lb_train, lb_test = create_dataframe(experiment[\"dataset\"])\n",
    "        n_train = len(Y_train)\n",
    "        data_dim = Y_train.shape[1]\n",
    "        latent_dim = experiment[\"latent_dim\"]\n",
    "        nn_layers = tuple(map(int, experiment[\"layers\"].split(\",\")))\n",
    "        kernel = experiment[\"kernel\"]\n",
    "        \n",
    "        n_inducing = 50\n",
    "        n_epochs = 1000\n",
    "        lr = 0.01\n",
    "        batch_size = 128\n",
    "        \n",
    "        try:\n",
    "            gplvm = AD_GPLVM(latent_dim, n_inducing, n_epochs, nn_layers, lr, batch_size)\n",
    "            gplvm.fit(Y_train)\n",
    "            score = gplvm.predict_score(Y_test)\n",
    "            metrics = utils.metric(y_true=lb_test, y_score=score)\n",
    "            \n",
    "            experiment[\"auc_roc\"] = metrics['aucroc']\n",
    "            experiment[\"auc_pr\"] = metrics['aucpr']\n",
    "        except:\n",
    "            experiment['auc_roc'] = 0.00\n",
    "            experiment['auc_pr'] = 0.00\n",
    "        \n",
    "        experiment[\"lr\"] = lr\n",
    "        experiment[\"batch_size\"] = batch_size\n",
    "        experiment[\"n_inducing\"] = n_inducing\n",
    "        experiment[\"n_epochs\"] =  n_epochs\n",
    "        experiment[\"train_noise\"] =  float(lb_train.sum()/len(Y_train))\n",
    "        \n",
    "        with open(\"experiment_results_noisy_gplvm.json\", \"w\") as file:\n",
    "            json.dump(experiments, file)"
   ]
  },
  {
   "cell_type": "code",
   "execution_count": null,
   "id": "8eab75d5-9e28-4d8e-bc11-25a4d26ff095",
   "metadata": {},
   "outputs": [],
   "source": []
  }
 ],
 "metadata": {
  "kernelspec": {
   "display_name": "conda_pytorch_p310",
   "language": "python",
   "name": "conda_pytorch_p310"
  },
  "language_info": {
   "codemirror_mode": {
    "name": "ipython",
    "version": 3
   },
   "file_extension": ".py",
   "mimetype": "text/x-python",
   "name": "python",
   "nbconvert_exporter": "python",
   "pygments_lexer": "ipython3",
   "version": "3.10.13"
  }
 },
 "nbformat": 4,
 "nbformat_minor": 5
}
