{
 "cells": [
  {
   "cell_type": "code",
   "execution_count": 1,
   "id": "f4110f34-3e7e-4b49-a60f-5f958dce88e6",
   "metadata": {
    "tags": []
   },
   "outputs": [
    {
     "name": "stderr",
     "output_type": "stream",
     "text": [
      "2023-11-27 20:18:05.263429: E external/local_xla/xla/stream_executor/cuda/cuda_dnn.cc:9261] Unable to register cuDNN factory: Attempting to register factory for plugin cuDNN when one has already been registered\n",
      "2023-11-27 20:18:05.263460: E external/local_xla/xla/stream_executor/cuda/cuda_fft.cc:607] Unable to register cuFFT factory: Attempting to register factory for plugin cuFFT when one has already been registered\n",
      "2023-11-27 20:18:05.264532: E external/local_xla/xla/stream_executor/cuda/cuda_blas.cc:1515] Unable to register cuBLAS factory: Attempting to register factory for plugin cuBLAS when one has already been registered\n",
      "2023-11-27 20:18:05.271110: I tensorflow/core/platform/cpu_feature_guard.cc:182] This TensorFlow binary is optimized to use available CPU instructions in performance-critical operations.\n",
      "To enable the following instructions: AVX2 AVX512F FMA, in other operations, rebuild TensorFlow with the appropriate compiler flags.\n",
      "2023-11-27 20:18:06.100159: W tensorflow/compiler/tf2tensorrt/utils/py_utils.cc:38] TF-TRT Warning: Could not find TensorRT\n"
     ]
    }
   ],
   "source": [
    "%load_ext autoreload\n",
    "%autoreload 2\n",
    "from new_aeb_gplvm import *\n",
    "from utils.data_generator import DataGenerator\n",
    "from utils.myutils import Utils\n",
    "from tqdm import trange\n",
    "from sklearn.preprocessing import StandardScaler, MinMaxScaler\n",
    "import matplotlib.pyplot as plt\n",
    "import random\n",
    "from tqdm import tqdm_notebook\n",
    "random.seed(42)\n",
    "import json"
   ]
  },
  {
   "cell_type": "code",
   "execution_count": 2,
   "id": "cbc45797-d29f-4333-8fc0-884e1063f4b4",
   "metadata": {
    "tags": []
   },
   "outputs": [],
   "source": [
    "datagenerator = DataGenerator()\n",
    "utils = Utils()"
   ]
  },
  {
   "cell_type": "code",
   "execution_count": 3,
   "id": "ae8e430e-54a9-4e7e-9294-72b4fd59bed8",
   "metadata": {
    "tags": []
   },
   "outputs": [],
   "source": [
    "# dataset and model list / dict"
   ]
  },
  {
   "cell_type": "code",
   "execution_count": 4,
   "id": "2c83cec9-34fd-4372-ba34-ce361fbb5d74",
   "metadata": {
    "tags": []
   },
   "outputs": [],
   "source": [
    "def create_dataframe(dataset):\n",
    "    datagenerator.dataset = dataset\n",
    "    data = datagenerator.generator(\n",
    "        la=0.999,\n",
    "        realistic_synthetic_mode=None,\n",
    "        stdscale=True,\n",
    "        minmax=False,\n",
    "        noise_type=None,\n",
    "    )\n",
    "    Y_train = torch.tensor(data[\"X_train\"], dtype=torch.float32)\n",
    "    Y_test = torch.tensor(data[\"X_test\"], dtype=torch.float32)\n",
    "    lb_train = torch.tensor(data[\"y_train\"], dtype=torch.float32)\n",
    "    lb_test = torch.tensor(data[\"y_test\"], dtype=torch.float32)\n",
    "    idx_n = np.where(lb_train == 0)[0]\n",
    "    Y_train = Y_train[idx_n]\n",
    "    lb_train = lb_train[idx_n]\n",
    "    return Y_train, Y_test, lb_train, lb_test"
   ]
  },
  {
   "cell_type": "code",
   "execution_count": null,
   "id": "2f81bd92-0989-42e1-8c95-cc98fab7a5cb",
   "metadata": {
    "tags": []
   },
   "outputs": [
    {
     "name": "stderr",
     "output_type": "stream",
     "text": [
      "/tmp/ipykernel_14166/372986365.py:3: TqdmDeprecationWarning: This function will be removed in tqdm==5.0.0\n",
      "Please use `tqdm.notebook.tqdm` instead of `tqdm.tqdm_notebook`\n",
      "  for experiment in tqdm_notebook(experiments):\n"
     ]
    },
    {
     "data": {
      "application/vnd.jupyter.widget-view+json": {
       "model_id": "ca1e7047ee4742fea45873240d1c2af8",
       "version_major": 2,
       "version_minor": 0
      },
      "text/plain": [
       "  0%|          | 0/188 [00:00<?, ?it/s]"
      ]
     },
     "metadata": {},
     "output_type": "display_data"
    },
    {
     "name": "stdout",
     "output_type": "stream",
     "text": [
      "subsampling for dataset 03_backdoor...\n",
      "current noise type: None\n",
      "{'Samples': 10000, 'Features': 196, 'Anomalies': 236, 'Anomalies Ratio(%)': 2.36}\n",
      "Kernel não escolhido!\n"
     ]
    },
    {
     "name": "stderr",
     "output_type": "stream",
     "text": [
      "\n",
      "  0%|          | 0/1000 [00:00<?, ?it/s]\u001b[A\n",
      "Loss: 297.65, iter no: 0:   0%|          | 0/1000 [00:00<?, ?it/s]\u001b[A\n",
      "Loss: 297.65, iter no: 0:  10%|█         | 100/1000 [00:07<01:11, 12.56it/s]\u001b[A\n",
      "Loss: 297.65, iter no: 0:  20%|██        | 200/1000 [00:15<01:01, 13.02it/s]\u001b[A\n",
      "Loss: 297.65, iter no: 0:  30%|███       | 300/1000 [00:22<00:52, 13.43it/s]\u001b[A\n",
      "Loss: 297.65, iter no: 0:  40%|████      | 400/1000 [00:29<00:43, 13.64it/s]\u001b[A\n",
      "Loss: 297.65, iter no: 0:  50%|█████     | 500/1000 [00:36<00:36, 13.76it/s]\u001b[A\n",
      "Loss: 198.2, iter no: 500:  50%|█████     | 500/1000 [00:36<00:36, 13.76it/s]\u001b[A\n",
      "Loss: 198.2, iter no: 500:  60%|██████    | 600/1000 [00:44<00:28, 13.84it/s]\u001b[A\n",
      "Loss: 198.2, iter no: 500:  70%|███████   | 700/1000 [00:51<00:21, 13.90it/s]\u001b[A\n",
      "Loss: 198.2, iter no: 500:  80%|████████  | 800/1000 [00:58<00:14, 13.94it/s]\u001b[A\n",
      "Loss: 198.2, iter no: 500:  90%|█████████ | 900/1000 [01:05<00:07, 13.95it/s]\u001b[A\n",
      "Loss: 198.2, iter no: 500: 100%|██████████| 1000/1000 [01:12<00:00, 13.97it/s]\u001b[A\n",
      "                                                                              \u001b[A/home/ec2-user/SageMaker/OE-GPLVM/new_aeb_gplvm.py:302: UserWarning: The use of `x.T` on tensors of dimension other than 2 to reverse their shape is deprecated and it will throw an error in a future release. Consider `x.mT` to transpose batches of matrices or `x.permute(*torch.arange(x.ndim - 1, -1, -1))` to reverse the dimensions of a tensor. (Triggered internally at /opt/conda/conda-bld/pytorch_1686274778240/work/aten/src/ATen/native/TensorShape.cpp:3571.)\n",
      "  klu_expanded = ll_shape.T.add_(klu).sum(-1).T.div((self.n_train))\n"
     ]
    },
    {
     "name": "stdout",
     "output_type": "stream",
     "text": [
      "subsampling for dataset 03_backdoor...\n",
      "current noise type: None\n",
      "{'Samples': 10000, 'Features': 196, 'Anomalies': 236, 'Anomalies Ratio(%)': 2.36}\n",
      "Kernel não escolhido!\n"
     ]
    },
    {
     "name": "stderr",
     "output_type": "stream",
     "text": [
      "\n",
      "  0%|          | 0/1000 [00:00<?, ?it/s]\u001b[A\n",
      "Loss: 289.38, iter no: 0:   0%|          | 0/1000 [00:00<?, ?it/s]\u001b[A\n",
      "Loss: 289.38, iter no: 0:  10%|█         | 100/1000 [00:08<01:12, 12.47it/s]\u001b[A\n",
      "Loss: 289.38, iter no: 0:  20%|██        | 200/1000 [00:15<01:00, 13.14it/s]\u001b[A\n",
      "Loss: 289.38, iter no: 0:  30%|███       | 300/1000 [00:22<00:52, 13.36it/s]\u001b[A\n",
      "Loss: 29.21, iter no: 0:  10%|█         | 100/1000 [00:01<00:10, 83.09it/s]\u001b[A\n",
      "Loss: 29.21, iter no: 0:  20%|██        | 200/1000 [00:02<00:09, 83.44it/s]\u001b[A\n",
      "Loss: 29.21, iter no: 0:  30%|███       | 300/1000 [00:03<00:08, 83.52it/s]\u001b[A\n",
      "Loss: 29.21, iter no: 0:  40%|████      | 400/1000 [00:04<00:07, 83.55it/s]\u001b[A\n",
      "Loss: 29.21, iter no: 0:  50%|█████     | 500/1000 [00:05<00:05, 83.36it/s]\u001b[A\n",
      "Loss: 9.9, iter no: 500:  50%|█████     | 500/1000 [00:06<00:05, 83.36it/s]\u001b[A\n",
      "Loss: 9.9, iter no: 500:  60%|██████    | 600/1000 [00:07<00:04, 83.37it/s]\u001b[A\n",
      "Loss: 9.9, iter no: 500:  70%|███████   | 700/1000 [00:08<00:03, 83.45it/s]\u001b[A\n",
      "Loss: 9.9, iter no: 500:  80%|████████  | 800/1000 [00:09<00:02, 83.51it/s]\u001b[A\n",
      "Loss: 9.9, iter no: 500:  90%|█████████ | 900/1000 [00:10<00:01, 83.54it/s]\u001b[A\n",
      "Loss: 9.9, iter no: 500: 100%|██████████| 1000/1000 [00:11<00:00, 83.55it/s]\u001b[A\n",
      "                                                                            \u001b[A"
     ]
    },
    {
     "name": "stdout",
     "output_type": "stream",
     "text": [
      "generating duplicate samples for dataset 42_WBC...\n",
      "current noise type: None\n",
      "{'Samples': 1000, 'Features': 9, 'Anomalies': 44, 'Anomalies Ratio(%)': 4.4}\n",
      "Kernel não escolhido!\n"
     ]
    },
    {
     "name": "stderr",
     "output_type": "stream",
     "text": [
      "\n",
      "  0%|          | 0/1000 [00:00<?, ?it/s]\u001b[A\n",
      "Loss: 24.27, iter no: 0:   0%|          | 0/1000 [00:00<?, ?it/s]\u001b[A\n",
      "Loss: 24.27, iter no: 0:  10%|█         | 100/1000 [00:01<00:10, 83.44it/s]\u001b[A\n",
      "Loss: 24.27, iter no: 0:  20%|██        | 200/1000 [00:02<00:10, 77.36it/s]\u001b[A\n",
      "Loss: 24.27, iter no: 0:  30%|███       | 300/1000 [00:04<00:10, 67.50it/s]\u001b[A\n",
      "Loss: 24.27, iter no: 0:  40%|████      | 400/1000 [00:05<00:08, 68.00it/s]\u001b[A\n",
      "Loss: 24.27, iter no: 0:  50%|█████     | 500/1000 [00:07<00:07, 67.07it/s]\u001b[A\n",
      "Loss: 9.92, iter no: 500:  50%|█████     | 500/1000 [00:07<00:07, 67.07it/s]\u001b[A\n",
      "Loss: 9.92, iter no: 500:  60%|██████    | 600/1000 [00:08<00:05, 71.79it/s]\u001b[A\n",
      "Loss: 9.92, iter no: 500:  70%|███████   | 700/1000 [00:09<00:03, 75.28it/s]\u001b[A\n",
      "Loss: 9.92, iter no: 500:  80%|████████  | 800/1000 [00:10<00:02, 77.74it/s]\u001b[A\n",
      "Loss: 9.92, iter no: 500:  90%|█████████ | 900/1000 [00:12<00:01, 79.50it/s]\u001b[A\n",
      "Loss: 9.92, iter no: 500: 100%|██████████| 1000/1000 [00:13<00:00, 80.62it/s]\u001b[A\n",
      "                                                                             \u001b[A"
     ]
    },
    {
     "name": "stdout",
     "output_type": "stream",
     "text": [
      "generating duplicate samples for dataset 42_WBC...\n",
      "current noise type: None\n",
      "{'Samples': 1000, 'Features': 9, 'Anomalies': 44, 'Anomalies Ratio(%)': 4.4}\n",
      "Kernel não escolhido!\n"
     ]
    },
    {
     "name": "stderr",
     "output_type": "stream",
     "text": [
      "\n",
      "  0%|          | 0/1000 [00:00<?, ?it/s]\u001b[A\n",
      "Loss: 28.6, iter no: 0:   0%|          | 0/1000 [00:00<?, ?it/s]\u001b[A\n",
      "Loss: 28.6, iter no: 0:  10%|█         | 100/1000 [00:01<00:11, 81.30it/s]\u001b[A\n",
      "Loss: 28.6, iter no: 0:  20%|██        | 200/1000 [00:02<00:09, 81.37it/s]\u001b[A\n",
      "Loss: 28.6, iter no: 0:  30%|███       | 300/1000 [00:03<00:08, 81.37it/s]\u001b[A\n",
      "Loss: 28.6, iter no: 0:  40%|████      | 400/1000 [00:04<00:07, 81.31it/s]\u001b[A\n",
      "Loss: 28.6, iter no: 0:  50%|█████     | 500/1000 [00:06<00:06, 81.17it/s]\u001b[A\n",
      "Loss: 9.74, iter no: 500:  50%|█████     | 500/1000 [00:06<00:06, 81.17it/s]\u001b[A\n",
      "Loss: 9.74, iter no: 500:  60%|██████    | 600/1000 [00:07<00:04, 81.21it/s]\u001b[A\n",
      "Loss: 9.74, iter no: 500:  70%|███████   | 700/1000 [00:08<00:03, 81.28it/s]\u001b[A\n",
      "Loss: 9.74, iter no: 500:  80%|████████  | 800/1000 [00:09<00:02, 81.34it/s]\u001b[A\n",
      "Loss: 9.74, iter no: 500:  90%|█████████ | 900/1000 [00:11<00:01, 81.33it/s]\u001b[A\n",
      "Loss: 9.74, iter no: 500: 100%|██████████| 1000/1000 [00:12<00:00, 81.36it/s]\u001b[A\n",
      "                                                                             \u001b[A"
     ]
    },
    {
     "name": "stdout",
     "output_type": "stream",
     "text": [
      "generating duplicate samples for dataset 45_wine...\n",
      "current noise type: None\n",
      "{'Samples': 1000, 'Features': 13, 'Anomalies': 81, 'Anomalies Ratio(%)': 8.1}\n",
      "Kernel não escolhido!\n"
     ]
    },
    {
     "name": "stderr",
     "output_type": "stream",
     "text": [
      "\n",
      "  0%|          | 0/1000 [00:00<?, ?it/s]\u001b[A\n",
      "Loss: 45.79, iter no: 0:   0%|          | 0/1000 [00:00<?, ?it/s]\u001b[A\n",
      "Loss: 45.79, iter no: 0:  10%|█         | 100/1000 [00:01<00:11, 76.50it/s]\u001b[A\n",
      "Loss: 45.79, iter no: 0:  20%|██        | 200/1000 [00:02<00:10, 76.70it/s]\u001b[A\n",
      "Loss: 45.79, iter no: 0:  30%|███       | 300/1000 [00:03<00:09, 76.80it/s]\u001b[A\n",
      "Loss: 45.79, iter no: 0:  40%|████      | 400/1000 [00:05<00:07, 76.87it/s]\u001b[A\n",
      "Loss: 45.79, iter no: 0:  50%|█████     | 500/1000 [00:06<00:06, 76.91it/s]\u001b[A\n",
      "Loss: 16.74, iter no: 500:  50%|█████     | 500/1000 [00:06<00:06, 76.91it/s]\u001b[A\n",
      "Loss: 16.74, iter no: 500:  60%|██████    | 600/1000 [00:07<00:05, 76.89it/s]\u001b[A\n",
      "Loss: 16.74, iter no: 500:  70%|███████   | 700/1000 [00:09<00:03, 76.83it/s]\u001b[A\n",
      "Loss: 16.74, iter no: 500:  80%|████████  | 800/1000 [00:10<00:02, 76.88it/s]\u001b[A\n",
      "Loss: 16.74, iter no: 500:  90%|█████████ | 900/1000 [00:11<00:01, 76.82it/s]\u001b[A\n",
      "Loss: 16.74, iter no: 500: 100%|██████████| 1000/1000 [00:13<00:00, 76.75it/s]\u001b[A\n",
      "                                                                              \u001b[A"
     ]
    },
    {
     "name": "stdout",
     "output_type": "stream",
     "text": [
      "generating duplicate samples for dataset 45_wine...\n",
      "current noise type: None\n",
      "{'Samples': 1000, 'Features': 13, 'Anomalies': 81, 'Anomalies Ratio(%)': 8.1}\n",
      "Kernel não escolhido!\n"
     ]
    },
    {
     "name": "stderr",
     "output_type": "stream",
     "text": [
      "\n",
      "  0%|          | 0/1000 [00:00<?, ?it/s]\u001b[A\n",
      "Loss: 43.14, iter no: 0:   0%|          | 0/1000 [00:00<?, ?it/s]\u001b[A\n",
      "Loss: 43.14, iter no: 0:  10%|█         | 100/1000 [00:01<00:11, 76.39it/s]\u001b[A\n",
      "Loss: 43.14, iter no: 0:  20%|██        | 200/1000 [00:02<00:10, 76.67it/s]\u001b[A\n",
      "Loss: 43.14, iter no: 0:  30%|███       | 300/1000 [00:03<00:09, 76.71it/s]\u001b[A\n",
      "Loss: 43.14, iter no: 0:  40%|████      | 400/1000 [00:05<00:07, 76.76it/s]\u001b[A\n",
      "Loss: 43.14, iter no: 0:  50%|█████     | 500/1000 [00:06<00:06, 76.80it/s]\u001b[A\n",
      "Loss: 16.49, iter no: 500:  50%|█████     | 500/1000 [00:06<00:06, 76.80it/s]\u001b[A\n",
      "Loss: 16.49, iter no: 500:  60%|██████    | 600/1000 [00:07<00:05, 76.79it/s]\u001b[A\n",
      "Loss: 16.49, iter no: 500:  70%|███████   | 700/1000 [00:09<00:03, 76.75it/s]\u001b[A\n",
      "Loss: 16.49, iter no: 500:  80%|████████  | 800/1000 [00:10<00:02, 76.80it/s]\u001b[A\n",
      "Loss: 16.49, iter no: 500:  90%|█████████ | 900/1000 [00:11<00:01, 76.80it/s]\u001b[A\n",
      "Loss: 16.49, iter no: 500: 100%|██████████| 1000/1000 [00:13<00:00, 76.85it/s]\u001b[A\n",
      "                                                                              \u001b[A"
     ]
    },
    {
     "name": "stdout",
     "output_type": "stream",
     "text": [
      "generating duplicate samples for dataset 45_wine...\n",
      "current noise type: None\n",
      "{'Samples': 1000, 'Features': 13, 'Anomalies': 81, 'Anomalies Ratio(%)': 8.1}\n",
      "Kernel não escolhido!\n"
     ]
    },
    {
     "name": "stderr",
     "output_type": "stream",
     "text": [
      "\n",
      "  0%|          | 0/1000 [00:00<?, ?it/s]\u001b[A\n",
      "Loss: 37.75, iter no: 0:   0%|          | 0/1000 [00:00<?, ?it/s]\u001b[A\n",
      "Loss: 37.75, iter no: 0:  10%|█         | 100/1000 [00:01<00:11, 76.52it/s]\u001b[A\n",
      "Loss: 37.75, iter no: 0:  20%|██        | 200/1000 [00:02<00:10, 76.36it/s]\u001b[A\n",
      "Loss: 37.75, iter no: 0:  30%|███       | 300/1000 [00:03<00:09, 76.38it/s]\u001b[A\n",
      "Loss: 37.75, iter no: 0:  40%|████      | 400/1000 [00:05<00:07, 76.30it/s]\u001b[A\n",
      "Loss: 37.75, iter no: 0:  50%|█████     | 500/1000 [00:06<00:06, 76.30it/s]\u001b[A\n",
      "Loss: 16.37, iter no: 500:  50%|█████     | 500/1000 [00:06<00:06, 76.30it/s]\u001b[A\n",
      "Loss: 16.37, iter no: 500:  60%|██████    | 600/1000 [00:07<00:05, 76.34it/s]\u001b[A\n",
      "Loss: 16.37, iter no: 500:  70%|███████   | 700/1000 [00:09<00:03, 76.45it/s]\u001b[A\n",
      "Loss: 16.37, iter no: 500:  80%|████████  | 800/1000 [00:10<00:02, 76.47it/s]\u001b[A\n",
      "Loss: 16.37, iter no: 500:  90%|█████████ | 900/1000 [00:11<00:01, 76.54it/s]\u001b[A\n",
      "Loss: 16.37, iter no: 500: 100%|██████████| 1000/1000 [00:13<00:00, 76.58it/s]\u001b[A\n",
      "                                                                              \u001b[A"
     ]
    },
    {
     "name": "stdout",
     "output_type": "stream",
     "text": [
      "generating duplicate samples for dataset 45_wine...\n",
      "current noise type: None\n",
      "{'Samples': 1000, 'Features': 13, 'Anomalies': 81, 'Anomalies Ratio(%)': 8.1}\n",
      "Kernel não escolhido!\n"
     ]
    },
    {
     "name": "stderr",
     "output_type": "stream",
     "text": [
      "\n",
      "  0%|          | 0/1000 [00:00<?, ?it/s]\u001b[A\n",
      "Loss: 33.85, iter no: 0:   0%|          | 0/1000 [00:00<?, ?it/s]\u001b[A\n",
      "Loss: 33.85, iter no: 0:  10%|█         | 100/1000 [00:01<00:12, 74.37it/s]\u001b[A\n",
      "Loss: 33.85, iter no: 0:  20%|██        | 200/1000 [00:02<00:10, 74.53it/s]\u001b[A\n",
      "Loss: 33.85, iter no: 0:  30%|███       | 300/1000 [00:04<00:09, 74.42it/s]\u001b[A\n",
      "Loss: 33.85, iter no: 0:  40%|████      | 400/1000 [00:05<00:08, 74.51it/s]\u001b[A\n",
      "Loss: 33.85, iter no: 0:  50%|█████     | 500/1000 [00:06<00:06, 74.52it/s]\u001b[A\n",
      "Loss: 16.8, iter no: 500:  50%|█████     | 500/1000 [00:06<00:06, 74.52it/s]\u001b[A\n",
      "Loss: 16.8, iter no: 500:  60%|██████    | 600/1000 [00:08<00:05, 74.43it/s]\u001b[A\n",
      "Loss: 16.8, iter no: 500:  70%|███████   | 700/1000 [00:09<00:04, 74.49it/s]\u001b[A\n",
      "Loss: 16.8, iter no: 500:  80%|████████  | 800/1000 [00:10<00:02, 74.54it/s]\u001b[A\n",
      "Loss: 16.8, iter no: 500:  90%|█████████ | 900/1000 [00:12<00:01, 74.52it/s]\u001b[A\n",
      "Loss: 16.8, iter no: 500: 100%|██████████| 1000/1000 [00:13<00:00, 74.47it/s]\u001b[A\n",
      "                                                                             \u001b[A"
     ]
    },
    {
     "name": "stdout",
     "output_type": "stream",
     "text": [
      "current noise type: None\n",
      "{'Samples': 6435, 'Features': 36, 'Anomalies': 1333, 'Anomalies Ratio(%)': 20.71}\n",
      "Kernel não escolhido!\n"
     ]
    },
    {
     "name": "stderr",
     "output_type": "stream",
     "text": [
      "\n",
      "  0%|          | 0/1000 [00:00<?, ?it/s]\u001b[A\n",
      "Loss: 139.51, iter no: 0:   0%|          | 0/1000 [00:00<?, ?it/s]\u001b[A\n",
      "Loss: 139.51, iter no: 0:  10%|█         | 100/1000 [00:04<00:37, 24.04it/s]\u001b[A\n",
      "Loss: 139.51, iter no: 0:  20%|██        | 200/1000 [00:08<00:32, 24.51it/s]\u001b[A\n",
      "Loss: 139.51, iter no: 0:  30%|███       | 300/1000 [00:12<00:28, 24.67it/s]\u001b[A\n",
      "Loss: 139.51, iter no: 0:  40%|████      | 400/1000 [00:16<00:24, 24.74it/s]\u001b[A\n",
      "Loss: 139.51, iter no: 0:  50%|█████     | 500/1000 [00:20<00:20, 24.79it/s]\u001b[A\n",
      "Loss: 45.81, iter no: 500:  50%|█████     | 500/1000 [00:20<00:20, 24.79it/s]\u001b[A\n",
      "Loss: 45.81, iter no: 500:  60%|██████    | 600/1000 [00:24<00:16, 24.81it/s]\u001b[A\n",
      "Loss: 45.81, iter no: 500:  70%|███████   | 700/1000 [00:28<00:12, 24.84it/s]\u001b[A\n",
      "Loss: 45.81, iter no: 500:  80%|████████  | 800/1000 [00:32<00:08, 24.85it/s]\u001b[A\n",
      "Loss: 45.81, iter no: 500:  90%|█████████ | 900/1000 [00:36<00:04, 24.86it/s]\u001b[A\n",
      "Loss: 45.81, iter no: 500: 100%|██████████| 1000/1000 [00:40<00:00, 24.84it/s]\u001b[A\n",
      "                                                                              \u001b[A"
     ]
    },
    {
     "name": "stdout",
     "output_type": "stream",
     "text": [
      "current noise type: None\n",
      "{'Samples': 6435, 'Features': 36, 'Anomalies': 1333, 'Anomalies Ratio(%)': 20.71}\n",
      "Kernel não escolhido!\n"
     ]
    },
    {
     "name": "stderr",
     "output_type": "stream",
     "text": [
      "\n",
      "  0%|          | 0/1000 [00:00<?, ?it/s]\u001b[A\n",
      "Loss: 131.59, iter no: 0:   0%|          | 0/1000 [00:00<?, ?it/s]\u001b[A\n",
      "Loss: 131.59, iter no: 0:  10%|█         | 100/1000 [00:04<00:36, 24.37it/s]\u001b[A\n",
      "Loss: 131.59, iter no: 0:  20%|██        | 200/1000 [00:08<00:32, 24.70it/s]\u001b[A\n",
      "Loss: 131.59, iter no: 0:  30%|███       | 300/1000 [00:12<00:28, 24.76it/s]\u001b[A\n",
      "                                                                            \u001b[A"
     ]
    },
    {
     "name": "stdout",
     "output_type": "stream",
     "text": [
      "current noise type: None\n",
      "{'Samples': 6435, 'Features': 36, 'Anomalies': 1333, 'Anomalies Ratio(%)': 20.71}\n",
      "Kernel não escolhido!\n"
     ]
    },
    {
     "name": "stderr",
     "output_type": "stream",
     "text": [
      "\n",
      "  0%|          | 0/1000 [00:00<?, ?it/s]\u001b[A\n",
      "Loss: 126.44, iter no: 0:   0%|          | 0/1000 [00:00<?, ?it/s]\u001b[A\n",
      "Loss: 126.44, iter no: 0:  10%|█         | 100/1000 [00:04<00:36, 24.37it/s]\u001b[A\n",
      "Loss: 126.44, iter no: 0:  20%|██        | 200/1000 [00:08<00:32, 24.69it/s]\u001b[A\n",
      "Loss: 126.44, iter no: 0:  30%|███       | 300/1000 [00:12<00:28, 24.81it/s]\u001b[A\n",
      "Loss: 126.44, iter no: 0:  40%|████      | 400/1000 [00:16<00:24, 24.85it/s]\u001b[A\n",
      "Loss: 126.44, iter no: 0:  50%|█████     | 500/1000 [00:20<00:20, 24.87it/s]\u001b[A\n",
      "Loss: 46.77, iter no: 500:  50%|█████     | 500/1000 [00:20<00:20, 24.87it/s]\u001b[A\n",
      "Loss: 46.77, iter no: 500:  60%|██████    | 600/1000 [00:24<00:16, 24.88it/s]\u001b[A\n",
      "Loss: 46.77, iter no: 500:  70%|███████   | 700/1000 [00:28<00:12, 24.89it/s]\u001b[A\n",
      "Loss: 46.77, iter no: 500:  80%|████████  | 800/1000 [00:32<00:08, 24.90it/s]\u001b[A\n",
      "Loss: 46.77, iter no: 500:  90%|█████████ | 900/1000 [00:36<00:04, 24.87it/s]\u001b[A\n",
      "Loss: 46.77, iter no: 500: 100%|██████████| 1000/1000 [00:40<00:00, 24.88it/s]\u001b[A\n",
      "                                                                              \u001b[A"
     ]
    },
    {
     "name": "stdout",
     "output_type": "stream",
     "text": [
      "current noise type: None\n",
      "{'Samples': 6435, 'Features': 36, 'Anomalies': 1333, 'Anomalies Ratio(%)': 20.71}\n",
      "Kernel não escolhido!\n"
     ]
    },
    {
     "name": "stderr",
     "output_type": "stream",
     "text": [
      "\n",
      "  0%|          | 0/1000 [00:00<?, ?it/s]\u001b[A\n",
      "Loss: 100.35, iter no: 0:   0%|          | 0/1000 [00:00<?, ?it/s]\u001b[A\n",
      "Loss: 100.35, iter no: 0:  10%|█         | 100/1000 [00:04<00:38, 23.64it/s]\u001b[A\n",
      "Loss: 100.35, iter no: 0:  20%|██        | 200/1000 [00:08<00:33, 23.96it/s]\u001b[A\n",
      "Loss: 100.35, iter no: 0:  30%|███       | 300/1000 [00:13<00:31, 22.50it/s]\u001b[A\n",
      "Loss: 100.35, iter no: 0:  40%|████      | 400/1000 [00:17<00:27, 21.91it/s]\u001b[A\n",
      "                                                                            \u001b[A"
     ]
    },
    {
     "name": "stdout",
     "output_type": "stream",
     "text": [
      "current noise type: None\n",
      "{'Samples': 4819, 'Features': 5, 'Anomalies': 257, 'Anomalies Ratio(%)': 5.33}\n",
      "Kernel não escolhido!\n"
     ]
    },
    {
     "name": "stderr",
     "output_type": "stream",
     "text": [
      "\n",
      "  0%|          | 0/1000 [00:00<?, ?it/s]\u001b[A\n",
      "Loss: 14.65, iter no: 0:   0%|          | 0/1000 [00:00<?, ?it/s]\u001b[A\n",
      "Loss: 14.65, iter no: 0:  10%|█         | 100/1000 [00:01<00:16, 54.43it/s]\u001b[A\n",
      "Loss: 14.65, iter no: 0:  20%|██        | 200/1000 [00:03<00:14, 54.48it/s]\u001b[A\n",
      "Loss: 14.65, iter no: 0:  30%|███       | 300/1000 [00:05<00:12, 54.52it/s]\u001b[A\n",
      "Loss: 14.65, iter no: 0:  40%|████      | 400/1000 [00:07<00:11, 54.48it/s]\u001b[A\n",
      "Loss: 14.65, iter no: 0:  50%|█████     | 500/1000 [00:09<00:09, 54.45it/s]\u001b[A\n",
      "Loss: 6.72, iter no: 500:  50%|█████     | 500/1000 [00:09<00:09, 54.45it/s]\u001b[A\n",
      "Loss: 6.72, iter no: 500:  60%|██████    | 600/1000 [00:11<00:07, 54.45it/s]\u001b[A\n",
      "Loss: 6.72, iter no: 500:  70%|███████   | 700/1000 [00:12<00:05, 54.47it/s]\u001b[A\n",
      "Loss: 6.72, iter no: 500:  80%|████████  | 800/1000 [00:14<00:03, 54.48it/s]\u001b[A\n",
      "Loss: 6.72, iter no: 500:  90%|█████████ | 900/1000 [00:16<00:01, 54.48it/s]\u001b[A\n",
      "Loss: 6.72, iter no: 500: 100%|██████████| 1000/1000 [00:18<00:00, 54.46it/s]\u001b[A\n",
      "                                                                             \u001b[A"
     ]
    },
    {
     "name": "stdout",
     "output_type": "stream",
     "text": [
      "current noise type: None\n",
      "{'Samples': 4819, 'Features': 5, 'Anomalies': 257, 'Anomalies Ratio(%)': 5.33}\n",
      "Kernel não escolhido!\n"
     ]
    },
    {
     "name": "stderr",
     "output_type": "stream",
     "text": [
      "\n",
      "  0%|          | 0/1000 [00:00<?, ?it/s]\u001b[A\n",
      "Loss: 19.63, iter no: 0:   0%|          | 0/1000 [00:00<?, ?it/s]\u001b[A\n",
      "Loss: 19.63, iter no: 0:  10%|█         | 100/1000 [00:01<00:16, 54.15it/s]\u001b[A\n",
      "Loss: 19.63, iter no: 0:  20%|██        | 200/1000 [00:03<00:14, 54.15it/s]\u001b[A\n",
      "Loss: 19.63, iter no: 0:  30%|███       | 300/1000 [00:05<00:12, 54.21it/s]\u001b[A\n",
      "Loss: 19.63, iter no: 0:  40%|████      | 400/1000 [00:07<00:11, 54.24it/s]\u001b[A\n",
      "Loss: 19.63, iter no: 0:  50%|█████     | 500/1000 [00:09<00:09, 54.15it/s]\u001b[A\n",
      "Loss: 6.58, iter no: 500:  50%|█████     | 500/1000 [00:09<00:09, 54.15it/s]\u001b[A\n",
      "Loss: 6.58, iter no: 500:  60%|██████    | 600/1000 [00:11<00:07, 53.92it/s]\u001b[A\n",
      "Loss: 6.58, iter no: 500:  70%|███████   | 700/1000 [00:12<00:05, 54.05it/s]\u001b[A\n",
      "Loss: 6.58, iter no: 500:  80%|████████  | 800/1000 [00:14<00:03, 54.12it/s]\u001b[A\n",
      "Loss: 6.58, iter no: 500:  90%|█████████ | 900/1000 [00:16<00:01, 54.17it/s]\u001b[A\n",
      "Loss: 6.58, iter no: 500: 100%|██████████| 1000/1000 [00:18<00:00, 54.20it/s]\u001b[A\n",
      "                                                                             \u001b[A"
     ]
    },
    {
     "name": "stdout",
     "output_type": "stream",
     "text": [
      "current noise type: None\n",
      "{'Samples': 4819, 'Features': 5, 'Anomalies': 257, 'Anomalies Ratio(%)': 5.33}\n",
      "Kernel não escolhido!\n"
     ]
    },
    {
     "name": "stderr",
     "output_type": "stream",
     "text": [
      "\n",
      "  0%|          | 0/1000 [00:00<?, ?it/s]\u001b[A\n",
      "Loss: 12.81, iter no: 0:   0%|          | 0/1000 [00:00<?, ?it/s]\u001b[A\n",
      "Loss: 12.81, iter no: 0:  10%|█         | 100/1000 [00:01<00:16, 54.15it/s]\u001b[A\n",
      "Loss: 12.81, iter no: 0:  20%|██        | 200/1000 [00:03<00:14, 54.11it/s]\u001b[A\n",
      "Loss: 12.81, iter no: 0:  30%|███       | 300/1000 [00:05<00:12, 54.17it/s]\u001b[A\n",
      "Loss: 12.81, iter no: 0:  40%|████      | 400/1000 [00:07<00:11, 54.20it/s]\u001b[A\n",
      "Loss: 12.81, iter no: 0:  50%|█████     | 500/1000 [00:09<00:09, 54.14it/s]\u001b[A\n",
      "Loss: 6.5, iter no: 500:  50%|█████     | 500/1000 [00:09<00:09, 54.14it/s]\u001b[A\n",
      "Loss: 6.5, iter no: 500:  60%|██████    | 600/1000 [00:11<00:07, 53.62it/s]\u001b[A\n",
      "Loss: 6.5, iter no: 500:  70%|███████   | 700/1000 [00:12<00:05, 53.82it/s]\u001b[A\n",
      "Loss: 6.5, iter no: 500:  80%|████████  | 800/1000 [00:14<00:03, 53.93it/s]\u001b[A\n",
      "Loss: 6.5, iter no: 500:  90%|█████████ | 900/1000 [00:16<00:01, 54.05it/s]\u001b[A\n",
      "Loss: 6.5, iter no: 500: 100%|██████████| 1000/1000 [00:18<00:00, 54.11it/s]\u001b[A\n",
      "                                                                            \u001b[A"
     ]
    },
    {
     "name": "stdout",
     "output_type": "stream",
     "text": [
      "current noise type: None\n",
      "{'Samples': 4819, 'Features': 5, 'Anomalies': 257, 'Anomalies Ratio(%)': 5.33}\n",
      "Kernel não escolhido!\n"
     ]
    },
    {
     "name": "stderr",
     "output_type": "stream",
     "text": [
      "\n",
      "  0%|          | 0/1000 [00:00<?, ?it/s]\u001b[A\n",
      "Loss: 13.74, iter no: 0:   0%|          | 0/1000 [00:00<?, ?it/s]\u001b[A\n",
      "Loss: 13.74, iter no: 0:  10%|█         | 100/1000 [00:01<00:16, 52.95it/s]\u001b[A\n",
      "Loss: 13.74, iter no: 0:  20%|██        | 200/1000 [00:03<00:15, 52.93it/s]\u001b[A\n",
      "Loss: 13.74, iter no: 0:  30%|███       | 300/1000 [00:05<00:13, 52.94it/s]\u001b[A\n",
      "Loss: 13.74, iter no: 0:  40%|████      | 400/1000 [00:07<00:11, 52.96it/s]\u001b[A\n",
      "Loss: 13.74, iter no: 0:  50%|█████     | 500/1000 [00:09<00:09, 52.97it/s]\u001b[A\n",
      "Loss: 6.48, iter no: 500:  50%|█████     | 500/1000 [00:09<00:09, 52.97it/s]\u001b[A\n",
      "Loss: 6.48, iter no: 500:  60%|██████    | 600/1000 [00:11<00:07, 52.91it/s]\u001b[A\n",
      "Loss: 6.48, iter no: 500:  70%|███████   | 700/1000 [00:13<00:05, 52.93it/s]\u001b[A\n",
      "Loss: 6.48, iter no: 500:  80%|████████  | 800/1000 [00:15<00:03, 52.90it/s]\u001b[A\n",
      "Loss: 6.48, iter no: 500:  90%|█████████ | 900/1000 [00:17<00:01, 52.93it/s]\u001b[A\n",
      "Loss: 6.48, iter no: 500: 100%|██████████| 1000/1000 [00:18<00:00, 52.93it/s]\u001b[A\n",
      "                                                                             \u001b[A"
     ]
    },
    {
     "name": "stdout",
     "output_type": "stream",
     "text": [
      "generating duplicate samples for dataset 14_glass...\n",
      "current noise type: None\n",
      "{'Samples': 1000, 'Features': 7, 'Anomalies': 37, 'Anomalies Ratio(%)': 3.7}\n",
      "Kernel não escolhido!\n"
     ]
    },
    {
     "name": "stderr",
     "output_type": "stream",
     "text": [
      "\n",
      "  0%|          | 0/1000 [00:00<?, ?it/s]\u001b[A\n",
      "Loss: 23.68, iter no: 0:   0%|          | 0/1000 [00:00<?, ?it/s]\u001b[A\n",
      "Loss: 23.68, iter no: 0:  10%|█         | 100/1000 [00:01<00:10, 84.84it/s]\u001b[A\n",
      "Loss: 23.68, iter no: 0:  20%|██        | 200/1000 [00:02<00:09, 83.20it/s]\u001b[A\n",
      "Loss: 23.68, iter no: 0:  30%|███       | 300/1000 [00:03<00:08, 84.09it/s]\u001b[A\n",
      "Loss: 23.68, iter no: 0:  40%|████      | 400/1000 [00:04<00:07, 84.50it/s]\u001b[A\n",
      "Loss: 23.68, iter no: 0:  50%|█████     | 500/1000 [00:05<00:05, 84.68it/s]\u001b[A\n",
      "Loss: 7.4, iter no: 500:  50%|█████     | 500/1000 [00:05<00:05, 84.68it/s]\u001b[A\n",
      "Loss: 7.4, iter no: 500:  60%|██████    | 600/1000 [00:07<00:04, 84.80it/s]\u001b[A\n",
      "Loss: 7.4, iter no: 500:  70%|███████   | 700/1000 [00:08<00:03, 84.82it/s]\u001b[A\n",
      "Loss: 7.4, iter no: 500:  80%|████████  | 800/1000 [00:09<00:02, 83.92it/s]\u001b[A\n",
      "Loss: 7.4, iter no: 500:  90%|█████████ | 900/1000 [00:10<00:01, 84.32it/s]\u001b[A\n",
      "Loss: 7.4, iter no: 500: 100%|██████████| 1000/1000 [00:11<00:00, 84.57it/s]\u001b[A\n",
      "                                                                            \u001b[A"
     ]
    },
    {
     "name": "stdout",
     "output_type": "stream",
     "text": [
      "generating duplicate samples for dataset 14_glass...\n",
      "current noise type: None\n",
      "{'Samples': 1000, 'Features': 7, 'Anomalies': 37, 'Anomalies Ratio(%)': 3.7}\n",
      "Kernel não escolhido!\n"
     ]
    },
    {
     "name": "stderr",
     "output_type": "stream",
     "text": [
      "\n",
      "  0%|          | 0/1000 [00:00<?, ?it/s]\u001b[A\n",
      "Loss: 20.24, iter no: 0:   0%|          | 0/1000 [00:00<?, ?it/s]\u001b[A\n",
      "Loss: 20.24, iter no: 0:  10%|█         | 100/1000 [00:01<00:10, 84.60it/s]\u001b[A\n",
      "Loss: 20.24, iter no: 0:  20%|██        | 200/1000 [00:02<00:09, 84.63it/s]\u001b[A\n",
      "Loss: 20.24, iter no: 0:  30%|███       | 300/1000 [00:03<00:08, 84.77it/s]\u001b[A\n",
      "Loss: 20.24, iter no: 0:  40%|████      | 400/1000 [00:04<00:07, 84.76it/s]\u001b[A\n",
      "Loss: 20.24, iter no: 0:  50%|█████     | 500/1000 [00:05<00:05, 84.84it/s]\u001b[A\n",
      "Loss: 7.16, iter no: 500:  50%|█████     | 500/1000 [00:05<00:05, 84.84it/s]\u001b[A\n",
      "Loss: 7.16, iter no: 500:  60%|██████    | 600/1000 [00:07<00:04, 84.84it/s]\u001b[A\n",
      "Loss: 7.16, iter no: 500:  70%|███████   | 700/1000 [00:08<00:03, 84.89it/s]\u001b[A\n",
      "Loss: 7.16, iter no: 500:  80%|████████  | 800/1000 [00:09<00:02, 84.92it/s]\u001b[A\n",
      "Loss: 7.16, iter no: 500:  90%|█████████ | 900/1000 [00:10<00:01, 84.94it/s]\u001b[A\n",
      "Loss: 7.16, iter no: 500: 100%|██████████| 1000/1000 [00:11<00:00, 84.95it/s]\u001b[A\n",
      "                                                                             \u001b[A"
     ]
    },
    {
     "name": "stdout",
     "output_type": "stream",
     "text": [
      "generating duplicate samples for dataset 14_glass...\n",
      "current noise type: None\n",
      "{'Samples': 1000, 'Features': 7, 'Anomalies': 37, 'Anomalies Ratio(%)': 3.7}\n",
      "Kernel não escolhido!\n"
     ]
    },
    {
     "name": "stderr",
     "output_type": "stream",
     "text": [
      "\n",
      "  0%|          | 0/1000 [00:00<?, ?it/s]\u001b[A\n",
      "Loss: 22.64, iter no: 0:   0%|          | 0/1000 [00:00<?, ?it/s]\u001b[A\n",
      "Loss: 22.64, iter no: 0:  10%|█         | 100/1000 [00:01<00:10, 84.77it/s]\u001b[A\n",
      "Loss: 22.64, iter no: 0:  20%|██        | 200/1000 [00:02<00:09, 84.83it/s]\u001b[A\n",
      "Loss: 22.64, iter no: 0:  30%|███       | 300/1000 [00:03<00:08, 84.84it/s]\u001b[A\n",
      "Loss: 22.64, iter no: 0:  40%|████      | 400/1000 [00:04<00:07, 84.83it/s]\u001b[A\n",
      "Loss: 22.64, iter no: 0:  50%|█████     | 500/1000 [00:05<00:05, 84.85it/s]\u001b[A\n",
      "Loss: 7.14, iter no: 500:  50%|█████     | 500/1000 [00:05<00:05, 84.85it/s]\u001b[A\n",
      "Loss: 7.14, iter no: 500:  60%|██████    | 600/1000 [00:07<00:04, 84.09it/s]\u001b[A\n",
      "Loss: 7.14, iter no: 500:  70%|███████   | 700/1000 [00:08<00:03, 84.26it/s]\u001b[A\n",
      "Loss: 7.14, iter no: 500:  80%|████████  | 800/1000 [00:09<00:02, 84.29it/s]\u001b[A\n",
      "Loss: 7.14, iter no: 500:  90%|█████████ | 900/1000 [00:10<00:01, 84.45it/s]\u001b[A\n",
      "Loss: 7.14, iter no: 500: 100%|██████████| 1000/1000 [00:11<00:00, 84.57it/s]\u001b[A\n",
      "                                                                             \u001b[A"
     ]
    },
    {
     "name": "stdout",
     "output_type": "stream",
     "text": [
      "generating duplicate samples for dataset 14_glass...\n",
      "current noise type: None\n",
      "{'Samples': 1000, 'Features': 7, 'Anomalies': 37, 'Anomalies Ratio(%)': 3.7}\n",
      "Kernel não escolhido!\n"
     ]
    },
    {
     "name": "stderr",
     "output_type": "stream",
     "text": [
      "\n",
      "  0%|          | 0/1000 [00:00<?, ?it/s]\u001b[A\n",
      "Loss: 20.6, iter no: 0:   0%|          | 0/1000 [00:00<?, ?it/s]\u001b[A\n",
      "Loss: 20.6, iter no: 0:  10%|█         | 100/1000 [00:01<00:10, 82.54it/s]\u001b[A\n",
      "Loss: 20.6, iter no: 0:  20%|██        | 200/1000 [00:02<00:09, 82.47it/s]\u001b[A\n",
      "Loss: 20.6, iter no: 0:  30%|███       | 300/1000 [00:03<00:08, 82.57it/s]\u001b[A\n",
      "Loss: 20.6, iter no: 0:  40%|████      | 400/1000 [00:04<00:07, 82.57it/s]\u001b[A\n",
      "Loss: 20.6, iter no: 0:  50%|█████     | 500/1000 [00:06<00:06, 82.58it/s]\u001b[A\n",
      "Loss: 6.91, iter no: 500:  50%|█████     | 500/1000 [00:06<00:06, 82.58it/s]\u001b[A\n",
      "Loss: 6.91, iter no: 500:  60%|██████    | 600/1000 [00:07<00:04, 82.51it/s]\u001b[A\n",
      "Loss: 6.91, iter no: 500:  70%|███████   | 700/1000 [00:08<00:03, 82.55it/s]\u001b[A\n",
      "Loss: 6.91, iter no: 500:  80%|████████  | 800/1000 [00:09<00:02, 82.55it/s]\u001b[A\n",
      "Loss: 6.91, iter no: 500:  90%|█████████ | 900/1000 [00:10<00:01, 82.53it/s]\u001b[A\n",
      "Loss: 6.91, iter no: 500: 100%|██████████| 1000/1000 [00:12<00:00, 82.55it/s]\u001b[A\n",
      "                                                                             \u001b[A"
     ]
    },
    {
     "name": "stdout",
     "output_type": "stream",
     "text": [
      "subsampling for dataset 33_skin...\n",
      "current noise type: None\n",
      "{'Samples': 10000, 'Features': 3, 'Anomalies': 2124, 'Anomalies Ratio(%)': 21.24}\n",
      "Kernel não escolhido!\n"
     ]
    },
    {
     "name": "stderr",
     "output_type": "stream",
     "text": [
      "\n",
      "  0%|          | 0/1000 [00:00<?, ?it/s]\u001b[A\n",
      "Loss: 9.12, iter no: 0:   0%|          | 0/1000 [00:00<?, ?it/s]\u001b[A\n",
      "Loss: 9.12, iter no: 0:  10%|█         | 100/1000 [00:01<00:11, 76.22it/s]\u001b[A\n",
      "Loss: 9.12, iter no: 0:  20%|██        | 200/1000 [00:02<00:10, 76.32it/s]\u001b[A\n",
      "Loss: 9.12, iter no: 0:  30%|███       | 300/1000 [00:03<00:09, 75.58it/s]\u001b[A\n",
      "Loss: 9.12, iter no: 0:  40%|████      | 400/1000 [00:05<00:07, 75.87it/s]\u001b[A\n",
      "Loss: 9.12, iter no: 0:  50%|█████     | 500/1000 [00:06<00:06, 76.07it/s]\u001b[A\n",
      "Loss: 3.56, iter no: 500:  50%|█████     | 500/1000 [00:06<00:06, 76.07it/s]\u001b[A\n",
      "Loss: 3.56, iter no: 500:  60%|██████    | 600/1000 [00:07<00:05, 76.14it/s]\u001b[A\n",
      "Loss: 3.56, iter no: 500:  70%|███████   | 700/1000 [00:09<00:03, 76.24it/s]\u001b[A\n",
      "Loss: 3.56, iter no: 500:  80%|████████  | 800/1000 [00:10<00:02, 76.26it/s]\u001b[A\n",
      "Loss: 3.56, iter no: 500:  90%|█████████ | 900/1000 [00:11<00:01, 76.31it/s]\u001b[A\n",
      "Loss: 3.56, iter no: 500: 100%|██████████| 1000/1000 [00:13<00:00, 76.34it/s]\u001b[A\n",
      "                                                                             \u001b[A"
     ]
    },
    {
     "name": "stdout",
     "output_type": "stream",
     "text": [
      "subsampling for dataset 33_skin...\n",
      "current noise type: None\n",
      "{'Samples': 10000, 'Features': 3, 'Anomalies': 2124, 'Anomalies Ratio(%)': 21.24}\n",
      "Kernel não escolhido!\n"
     ]
    },
    {
     "name": "stderr",
     "output_type": "stream",
     "text": [
      "\n",
      "  0%|          | 0/1000 [00:00<?, ?it/s]\u001b[A\n",
      "Loss: 9.39, iter no: 0:   0%|          | 0/1000 [00:00<?, ?it/s]\u001b[A\n",
      "Loss: 9.39, iter no: 0:  10%|█         | 100/1000 [00:01<00:11, 76.27it/s]\u001b[A\n",
      "Loss: 9.39, iter no: 0:  20%|██        | 200/1000 [00:02<00:10, 76.36it/s]\u001b[A\n",
      "Loss: 9.39, iter no: 0:  30%|███       | 300/1000 [00:03<00:09, 76.39it/s]\u001b[A\n",
      "Loss: 9.39, iter no: 0:  40%|████      | 400/1000 [00:05<00:07, 76.38it/s]\u001b[A\n",
      "Loss: 9.39, iter no: 0:  50%|█████     | 500/1000 [00:06<00:06, 76.39it/s]\u001b[A\n",
      "Loss: 3.3, iter no: 500:  50%|█████     | 500/1000 [00:06<00:06, 76.39it/s]\u001b[A\n",
      "Loss: 3.3, iter no: 500:  60%|██████    | 600/1000 [00:07<00:05, 76.36it/s]\u001b[A\n",
      "Loss: 3.3, iter no: 500:  70%|███████   | 700/1000 [00:09<00:03, 76.29it/s]\u001b[A\n",
      "Loss: 3.3, iter no: 500:  80%|████████  | 800/1000 [00:10<00:02, 76.30it/s]\u001b[A\n",
      "Loss: 3.3, iter no: 500:  90%|█████████ | 900/1000 [00:11<00:01, 76.31it/s]\u001b[A\n",
      "Loss: 3.3, iter no: 500: 100%|██████████| 1000/1000 [00:13<00:00, 76.01it/s]\u001b[A\n",
      "                                                                            \u001b[A"
     ]
    },
    {
     "name": "stdout",
     "output_type": "stream",
     "text": [
      "subsampling for dataset 33_skin...\n",
      "current noise type: None\n",
      "{'Samples': 10000, 'Features': 3, 'Anomalies': 2124, 'Anomalies Ratio(%)': 21.24}\n",
      "Kernel não escolhido!\n"
     ]
    },
    {
     "name": "stderr",
     "output_type": "stream",
     "text": [
      "\n",
      "  0%|          | 0/1000 [00:00<?, ?it/s]\u001b[A\n",
      "Loss: 10.93, iter no: 0:   0%|          | 0/1000 [00:00<?, ?it/s]\u001b[A\n",
      "Loss: 10.93, iter no: 0:  10%|█         | 100/1000 [00:01<00:11, 76.01it/s]\u001b[A\n",
      "Loss: 10.93, iter no: 0:  20%|██        | 200/1000 [00:02<00:10, 76.13it/s]\u001b[A\n",
      "Loss: 10.93, iter no: 0:  30%|███       | 300/1000 [00:03<00:09, 76.15it/s]\u001b[A\n",
      "Loss: 10.93, iter no: 0:  40%|████      | 400/1000 [00:05<00:07, 76.08it/s]\u001b[A\n",
      "Loss: 10.93, iter no: 0:  50%|█████     | 500/1000 [00:06<00:06, 76.03it/s]\u001b[A\n",
      "Loss: 3.43, iter no: 500:  50%|█████     | 500/1000 [00:06<00:06, 76.03it/s]\u001b[A\n",
      "Loss: 3.43, iter no: 500:  60%|██████    | 600/1000 [00:07<00:05, 76.05it/s]\u001b[A\n",
      "Loss: 3.43, iter no: 500:  70%|███████   | 700/1000 [00:09<00:03, 76.08it/s]\u001b[A\n",
      "Loss: 3.43, iter no: 500:  80%|████████  | 800/1000 [00:10<00:02, 76.09it/s]\u001b[A\n",
      "Loss: 3.43, iter no: 500:  90%|█████████ | 900/1000 [00:11<00:01, 76.11it/s]\u001b[A\n",
      "Loss: 3.43, iter no: 500: 100%|██████████| 1000/1000 [00:13<00:00, 76.14it/s]\u001b[A\n",
      "                                                                             \u001b[A"
     ]
    },
    {
     "name": "stdout",
     "output_type": "stream",
     "text": [
      "subsampling for dataset 33_skin...\n",
      "current noise type: None\n",
      "{'Samples': 10000, 'Features': 3, 'Anomalies': 2124, 'Anomalies Ratio(%)': 21.24}\n",
      "Kernel não escolhido!\n"
     ]
    },
    {
     "name": "stderr",
     "output_type": "stream",
     "text": [
      "\n",
      "  0%|          | 0/1000 [00:00<?, ?it/s]\u001b[A\n",
      "Loss: 7.3, iter no: 0:   0%|          | 0/1000 [00:00<?, ?it/s]\u001b[A\n",
      "Loss: 7.3, iter no: 0:  10%|█         | 100/1000 [00:01<00:12, 73.66it/s]\u001b[A\n",
      "Loss: 7.3, iter no: 0:  20%|██        | 200/1000 [00:02<00:10, 73.76it/s]\u001b[A\n",
      "Loss: 7.3, iter no: 0:  30%|███       | 300/1000 [00:04<00:09, 73.77it/s]\u001b[A\n",
      "Loss: 7.3, iter no: 0:  40%|████      | 400/1000 [00:05<00:08, 73.75it/s]\u001b[A\n",
      "Loss: 7.3, iter no: 0:  50%|█████     | 500/1000 [00:06<00:06, 73.64it/s]\u001b[A\n",
      "Loss: 3.4, iter no: 500:  50%|█████     | 500/1000 [00:06<00:06, 73.64it/s]\u001b[A\n",
      "Loss: 3.4, iter no: 500:  60%|██████    | 600/1000 [00:08<00:05, 73.63it/s]\u001b[A\n",
      "Loss: 3.4, iter no: 500:  70%|███████   | 700/1000 [00:09<00:04, 70.01it/s]\u001b[A\n",
      "Loss: 3.4, iter no: 500:  80%|████████  | 800/1000 [00:11<00:03, 63.75it/s]\u001b[A\n",
      "Loss: 3.4, iter no: 500:  90%|█████████ | 900/1000 [00:13<00:01, 61.68it/s]\u001b[A\n",
      "Loss: 3.4, iter no: 500: 100%|██████████| 1000/1000 [00:14<00:00, 62.17it/s]\u001b[A\n",
      "                                                                            \u001b[A"
     ]
    },
    {
     "name": "stdout",
     "output_type": "stream",
     "text": [
      "current noise type: None\n",
      "{'Samples': 2114, 'Features': 21, 'Anomalies': 466, 'Anomalies Ratio(%)': 22.04}\n",
      "Kernel não escolhido!\n"
     ]
    },
    {
     "name": "stderr",
     "output_type": "stream",
     "text": [
      "\n",
      "  0%|          | 0/1000 [00:00<?, ?it/s]\u001b[A\n",
      "Loss: 62.62, iter no: 0:   0%|          | 0/1000 [00:00<?, ?it/s]\u001b[A\n",
      "Loss: 62.62, iter no: 0:  10%|█         | 100/1000 [00:01<00:15, 59.27it/s]\u001b[A\n",
      "Loss: 62.62, iter no: 0:  20%|██        | 200/1000 [00:03<00:13, 59.52it/s]\u001b[A\n",
      "Loss: 62.62, iter no: 0:  30%|███       | 300/1000 [00:05<00:11, 58.94it/s]\u001b[A\n",
      "Loss: 62.62, iter no: 0:  40%|████      | 400/1000 [00:06<00:10, 58.63it/s]\u001b[A\n",
      "Loss: 62.62, iter no: 0:  50%|█████     | 500/1000 [00:08<00:08, 58.95it/s]\u001b[A\n",
      "Loss: 24.39, iter no: 500:  50%|█████     | 500/1000 [00:08<00:08, 58.95it/s]\u001b[A\n",
      "Loss: 24.39, iter no: 500:  60%|██████    | 600/1000 [00:10<00:06, 59.16it/s]\u001b[A\n",
      "Loss: 24.39, iter no: 500:  70%|███████   | 700/1000 [00:11<00:05, 59.32it/s]\u001b[A\n",
      "Loss: 24.39, iter no: 500:  80%|████████  | 800/1000 [00:13<00:03, 59.44it/s]\u001b[A\n",
      "Loss: 24.39, iter no: 500:  90%|█████████ | 900/1000 [00:15<00:01, 59.54it/s]\u001b[A\n",
      "Loss: 24.39, iter no: 500: 100%|██████████| 1000/1000 [00:16<00:00, 59.10it/s]\u001b[A\n",
      "                                                                              \u001b[A"
     ]
    },
    {
     "name": "stdout",
     "output_type": "stream",
     "text": [
      "current noise type: None\n",
      "{'Samples': 2114, 'Features': 21, 'Anomalies': 466, 'Anomalies Ratio(%)': 22.04}\n",
      "Kernel não escolhido!\n"
     ]
    },
    {
     "name": "stderr",
     "output_type": "stream",
     "text": [
      "\n",
      "  0%|          | 0/1000 [00:00<?, ?it/s]\u001b[A\n",
      "Loss: 64.55, iter no: 0:   0%|          | 0/1000 [00:00<?, ?it/s]\u001b[A\n",
      "Loss: 64.55, iter no: 0:  10%|█         | 100/1000 [00:01<00:15, 58.32it/s]\u001b[A\n",
      "Loss: 64.55, iter no: 0:  20%|██        | 200/1000 [00:03<00:13, 59.10it/s]\u001b[A\n",
      "Loss: 64.55, iter no: 0:  30%|███       | 300/1000 [00:05<00:11, 59.21it/s]\u001b[A\n",
      "Loss: 64.55, iter no: 0:  40%|████      | 400/1000 [00:06<00:10, 58.97it/s]\u001b[A\n",
      "Loss: 64.55, iter no: 0:  50%|█████     | 500/1000 [00:08<00:08, 59.22it/s]\u001b[A\n",
      "Loss: 23.59, iter no: 500:  50%|█████     | 500/1000 [00:08<00:08, 59.22it/s]\u001b[A\n",
      "Loss: 23.59, iter no: 500:  60%|██████    | 600/1000 [00:10<00:06, 59.02it/s]\u001b[A\n",
      "Loss: 23.59, iter no: 500:  70%|███████   | 700/1000 [00:11<00:05, 59.13it/s]\u001b[A\n",
      "Loss: 23.59, iter no: 500:  80%|████████  | 800/1000 [00:13<00:03, 58.82it/s]\u001b[A\n",
      "Loss: 23.59, iter no: 500:  90%|█████████ | 900/1000 [00:15<00:01, 59.01it/s]\u001b[A\n",
      "Loss: 23.59, iter no: 500: 100%|██████████| 1000/1000 [00:16<00:00, 59.21it/s]\u001b[A\n",
      "                                                                              \u001b[A"
     ]
    },
    {
     "name": "stdout",
     "output_type": "stream",
     "text": [
      "current noise type: None\n",
      "{'Samples': 2114, 'Features': 21, 'Anomalies': 466, 'Anomalies Ratio(%)': 22.04}\n",
      "Kernel não escolhido!\n"
     ]
    },
    {
     "name": "stderr",
     "output_type": "stream",
     "text": [
      "\n",
      "  0%|          | 0/1000 [00:00<?, ?it/s]\u001b[A\n",
      "Loss: 66.52, iter no: 0:   0%|          | 0/1000 [00:00<?, ?it/s]\u001b[A\n",
      "Loss: 66.52, iter no: 0:  10%|█         | 100/1000 [00:01<00:15, 59.13it/s]\u001b[A\n",
      "Loss: 66.52, iter no: 0:  20%|██        | 200/1000 [00:03<00:13, 59.32it/s]\u001b[A\n",
      "Loss: 66.52, iter no: 0:  30%|███       | 300/1000 [00:05<00:11, 58.81it/s]\u001b[A\n",
      "Loss: 66.52, iter no: 0:  40%|████      | 400/1000 [00:06<00:10, 58.97it/s]\u001b[A\n",
      "Loss: 66.52, iter no: 0:  50%|█████     | 500/1000 [00:08<00:08, 59.09it/s]\u001b[A\n",
      "Loss: 23.68, iter no: 500:  50%|█████     | 500/1000 [00:08<00:08, 59.09it/s]\u001b[A\n",
      "Loss: 23.68, iter no: 500:  60%|██████    | 600/1000 [00:10<00:06, 59.13it/s]\u001b[A\n",
      "Loss: 23.68, iter no: 500:  70%|███████   | 700/1000 [00:11<00:05, 59.10it/s]\u001b[A\n",
      "Loss: 23.68, iter no: 500:  80%|████████  | 800/1000 [00:13<00:03, 59.09it/s]\u001b[A\n",
      "Loss: 23.68, iter no: 500:  90%|█████████ | 900/1000 [00:15<00:01, 59.15it/s]\u001b[A\n",
      "Loss: 23.68, iter no: 500: 100%|██████████| 1000/1000 [00:16<00:00, 59.19it/s]\u001b[A\n",
      "                                                                              \u001b[A"
     ]
    },
    {
     "name": "stdout",
     "output_type": "stream",
     "text": [
      "current noise type: None\n",
      "{'Samples': 2114, 'Features': 21, 'Anomalies': 466, 'Anomalies Ratio(%)': 22.04}\n",
      "Kernel não escolhido!\n"
     ]
    },
    {
     "name": "stderr",
     "output_type": "stream",
     "text": [
      "\n",
      "  0%|          | 0/1000 [00:00<?, ?it/s]\u001b[A\n",
      "Loss: 54.41, iter no: 0:   0%|          | 0/1000 [00:00<?, ?it/s]\u001b[A\n",
      "Loss: 54.41, iter no: 0:  10%|█         | 100/1000 [00:01<00:15, 57.39it/s]\u001b[A\n",
      "Loss: 54.41, iter no: 0:  20%|██        | 200/1000 [00:03<00:15, 52.66it/s]\u001b[A\n",
      "Loss: 54.41, iter no: 0:  30%|███       | 300/1000 [00:05<00:12, 54.90it/s]\u001b[A\n",
      "Loss: 54.41, iter no: 0:  40%|████      | 400/1000 [00:07<00:10, 56.03it/s]\u001b[A\n",
      "Loss: 54.41, iter no: 0:  50%|█████     | 500/1000 [00:08<00:08, 56.63it/s]\u001b[A\n",
      "Loss: 23.99, iter no: 500:  50%|█████     | 500/1000 [00:08<00:08, 56.63it/s]\u001b[A\n",
      "Loss: 23.99, iter no: 500:  60%|██████    | 600/1000 [00:10<00:07, 56.98it/s]\u001b[A\n",
      "Loss: 23.99, iter no: 500:  70%|███████   | 700/1000 [00:12<00:05, 57.22it/s]\u001b[A\n",
      "Loss: 23.99, iter no: 500:  80%|████████  | 800/1000 [00:14<00:03, 57.42it/s]\u001b[A\n",
      "Loss: 23.99, iter no: 500:  90%|█████████ | 900/1000 [00:15<00:01, 57.42it/s]\u001b[A\n",
      "Loss: 23.99, iter no: 500: 100%|██████████| 1000/1000 [00:17<00:00, 57.53it/s]\u001b[A\n",
      "                                                                              \u001b[A"
     ]
    }
   ],
   "source": [
    "with open(\"experiment_results_normal_gplvm.json\") as file:\n",
    "    experiments = json.load(file)\n",
    "for experiment in tqdm_notebook(experiments):\n",
    "    if \"auc_roc\" not in experiment.keys():\n",
    "        Y_train, Y_test, lb_train, lb_test = create_dataframe(experiment[\"dataset\"])\n",
    "        n_train = len(Y_train)\n",
    "        data_dim = Y_train.shape[1]\n",
    "        latent_dim = experiment[\"latent_dim\"]\n",
    "        nn_layers = tuple(map(int, experiment[\"layers\"].split(\",\")))\n",
    "        kernel = experiment[\"kernel\"]\n",
    "        \n",
    "        n_inducing = 50\n",
    "        n_epochs = 1000\n",
    "        lr = 0.01\n",
    "        batch_size = 128\n",
    "        \n",
    "        try:\n",
    "            gplvm = AD_GPLVM(latent_dim, n_inducing, n_epochs, nn_layers, lr, batch_size)\n",
    "            gplvm.fit(Y_train)\n",
    "            score = gplvm.predict_score(Y_test)\n",
    "            metrics = utils.metric(y_true=lb_test, y_score=score)\n",
    "            \n",
    "            experiment[\"auc_roc\"] = metrics['aucroc']\n",
    "            experiment[\"auc_pr\"] = metrics['aucpr']\n",
    "        except:\n",
    "            experiment['auc_roc'] = 0.00\n",
    "            experiment['auc_pr'] = 0.00\n",
    "        \n",
    "        experiment[\"lr\"] = lr\n",
    "        experiment[\"batch_size\"] = batch_size\n",
    "        experiment[\"n_inducing\"] = n_inducing\n",
    "        experiment[\"n_epochs\"] =  n_epochs\n",
    "        \n",
    "        with open(\"experiment_results_normal_gplvm.json\", \"w\") as file:\n",
    "            json.dump(experiments, file)"
   ]
  },
  {
   "cell_type": "code",
   "execution_count": null,
   "id": "8eab75d5-9e28-4d8e-bc11-25a4d26ff095",
   "metadata": {},
   "outputs": [],
   "source": []
  }
 ],
 "metadata": {
  "kernelspec": {
   "display_name": "conda_pytorch_p310",
   "language": "python",
   "name": "conda_pytorch_p310"
  },
  "language_info": {
   "codemirror_mode": {
    "name": "ipython",
    "version": 3
   },
   "file_extension": ".py",
   "mimetype": "text/x-python",
   "name": "python",
   "nbconvert_exporter": "python",
   "pygments_lexer": "ipython3",
   "version": "3.10.13"
  }
 },
 "nbformat": 4,
 "nbformat_minor": 5
}
