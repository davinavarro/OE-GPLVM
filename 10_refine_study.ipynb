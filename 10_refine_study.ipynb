{
 "cells": [
  {
   "cell_type": "code",
   "execution_count": 1,
   "id": "f4110f34-3e7e-4b49-a60f-5f958dce88e6",
   "metadata": {
    "tags": []
   },
   "outputs": [
    {
     "name": "stderr",
     "output_type": "stream",
     "text": [
      "2023-11-30 02:53:03.842477: E external/local_xla/xla/stream_executor/cuda/cuda_dnn.cc:9261] Unable to register cuDNN factory: Attempting to register factory for plugin cuDNN when one has already been registered\n",
      "2023-11-30 02:53:03.842510: E external/local_xla/xla/stream_executor/cuda/cuda_fft.cc:607] Unable to register cuFFT factory: Attempting to register factory for plugin cuFFT when one has already been registered\n",
      "2023-11-30 02:53:03.843586: E external/local_xla/xla/stream_executor/cuda/cuda_blas.cc:1515] Unable to register cuBLAS factory: Attempting to register factory for plugin cuBLAS when one has already been registered\n",
      "2023-11-30 02:53:03.850176: I tensorflow/core/platform/cpu_feature_guard.cc:182] This TensorFlow binary is optimized to use available CPU instructions in performance-critical operations.\n",
      "To enable the following instructions: AVX2 AVX512F FMA, in other operations, rebuild TensorFlow with the appropriate compiler flags.\n",
      "2023-11-30 02:53:04.680461: W tensorflow/compiler/tf2tensorrt/utils/py_utils.cc:38] TF-TRT Warning: Could not find TensorRT\n"
     ]
    }
   ],
   "source": [
    "%load_ext autoreload\n",
    "%autoreload 2\n",
    "from new_aeb_gplvm import *\n",
    "from utils.data_generator import DataGenerator\n",
    "from utils.myutils import Utils\n",
    "from tqdm import trange\n",
    "from sklearn.preprocessing import StandardScaler, MinMaxScaler\n",
    "import matplotlib.pyplot as plt\n",
    "import random\n",
    "from tqdm import tqdm_notebook\n",
    "\n",
    "random.seed(42)\n",
    "import json\n",
    "import os\n",
    "import pandas as pd\n",
    "\n",
    "datagenerator = DataGenerator()\n",
    "utils = Utils()\n",
    "import time"
   ]
  },
  {
   "cell_type": "code",
   "execution_count": 2,
   "id": "c6f6842a-7788-45cd-8a6e-0b84ef7cd505",
   "metadata": {
    "tags": []
   },
   "outputs": [],
   "source": [
    "def create_dataframe(experiment):\n",
    "    noise_type = (\n",
    "        None if experiment[\"noise_type\"] == \"normal\" else experiment[\"anomaly_type\"]\n",
    "    )  # irrelevant,duplicated\n",
    "    anomaly_type = (\n",
    "        None if experiment[\"anomaly_type\"] == \"normal\" else experiment[\"anomaly_type\"]\n",
    "    )  # cluster,global,local,dependency\n",
    "\n",
    "    datagenerator.dataset = experiment[\"dataset\"]\n",
    "    data = datagenerator.generator(\n",
    "        la=1.00,\n",
    "        realistic_synthetic_mode=anomaly_type,\n",
    "        noise_type=noise_type,\n",
    "        noise_ratio=float(experiment[\"noise_ratio\"]),\n",
    "        stdscale=True,\n",
    "        minmax=False,\n",
    "    )\n",
    "\n",
    "    Y_train = torch.tensor(data[\"X_train\"], dtype=torch.float32)\n",
    "    Y_test = torch.tensor(data[\"X_test\"], dtype=torch.float32)\n",
    "    lb_train = torch.tensor(data[\"y_train\"], dtype=torch.float32)\n",
    "    lb_test = torch.tensor(data[\"y_test\"], dtype=torch.float32)\n",
    "\n",
    "    if not anomaly_type and not noise_type:\n",
    "        print(\"Experimento para dados normais\")\n",
    "        idx_n = np.where(lb_train == 0)[0]\n",
    "        Y_train = Y_train[idx_n]\n",
    "        lb_train = lb_train[idx_n]\n",
    "\n",
    "    return Y_train, Y_test, lb_train, lb_test"
   ]
  },
  {
   "cell_type": "code",
   "execution_count": null,
   "id": "3e9be8d7-2104-4205-a64f-3cf05cd6067c",
   "metadata": {
    "tags": []
   },
   "outputs": [
    {
     "name": "stderr",
     "output_type": "stream",
     "text": [
      "/tmp/ipykernel_13263/329490939.py:8: TqdmDeprecationWarning: This function will be removed in tqdm==5.0.0\n",
      "Please use `tqdm.notebook.tqdm` instead of `tqdm.tqdm_notebook`\n",
      "  for experiment in tqdm_notebook(experiments):\n"
     ]
    },
    {
     "data": {
      "application/vnd.jupyter.widget-view+json": {
       "model_id": "bdf454aac5c84814acb7448dda43dc04",
       "version_major": 2,
       "version_minor": 0
      },
      "text/plain": [
       "  0%|          | 0/1128 [00:00<?, ?it/s]"
      ]
     },
     "metadata": {},
     "output_type": "display_data"
    },
    {
     "name": "stdout",
     "output_type": "stream",
     "text": [
      "subsampling for dataset 01_ALOI...\n",
      "current noise type: None\n",
      "{'Samples': 10000, 'Features': 27, 'Anomalies': 302, 'Anomalies Ratio(%)': 3.02}\n",
      "Experimento para dados normais\n"
     ]
    },
    {
     "name": "stderr",
     "output_type": "stream",
     "text": [
      "\n",
      "  0%|          | 0/1000 [00:00<?, ?it/s]\u001b[A\n",
      " 10%|█         | 100/1000 [00:03<00:31, 28.63it/s]\u001b[A\n",
      " 20%|██        | 200/1000 [00:06<00:26, 29.67it/s]\u001b[A\n",
      " 30%|███       | 300/1000 [00:10<00:23, 30.04it/s]\u001b[A\n",
      " 40%|████      | 400/1000 [00:13<00:19, 30.20it/s]\u001b[A\n",
      " 50%|█████     | 500/1000 [00:16<00:16, 30.28it/s]\u001b[A\n",
      " 60%|██████    | 600/1000 [00:19<00:13, 30.36it/s]\u001b[A\n",
      " 70%|███████   | 700/1000 [00:23<00:09, 30.39it/s]\u001b[A\n",
      " 80%|████████  | 800/1000 [00:26<00:06, 30.41it/s]\u001b[A\n",
      " 90%|█████████ | 900/1000 [00:29<00:03, 30.20it/s]\u001b[A\n",
      "100%|██████████| 1000/1000 [00:33<00:00, 29.50it/s]\u001b[A\n",
      "                                                   \u001b[A/home/ec2-user/SageMaker/OE-GPLVM/new_aeb_gplvm.py:310: UserWarning: The use of `x.T` on tensors of dimension other than 2 to reverse their shape is deprecated and it will throw an error in a future release. Consider `x.mT` to transpose batches of matrices or `x.permute(*torch.arange(x.ndim - 1, -1, -1))` to reverse the dimensions of a tensor. (Triggered internally at /opt/conda/conda-bld/pytorch_1686274778240/work/aten/src/ATen/native/TensorShape.cpp:3571.)\n",
      "  klu_expanded = ll_shape.T.add_(klu).sum(-1).T.div((self.n_train))\n"
     ]
    },
    {
     "name": "stdout",
     "output_type": "stream",
     "text": [
      "subsampling for dataset 01_ALOI...\n",
      "current noise type: None\n",
      "{'Samples': 10000, 'Features': 27, 'Anomalies': 302, 'Anomalies Ratio(%)': 3.02}\n",
      "Experimento para dados normais\n"
     ]
    },
    {
     "name": "stderr",
     "output_type": "stream",
     "text": [
      "\n",
      "  0%|          | 0/1000 [00:00<?, ?it/s]\u001b[A\n",
      " 10%|█         | 100/1000 [00:03<00:30, 29.68it/s]\u001b[A\n",
      " 20%|██        | 200/1000 [00:06<00:26, 29.68it/s]\u001b[A\n",
      " 30%|███       | 300/1000 [00:10<00:23, 29.65it/s]\u001b[A\n",
      " 40%|████      | 400/1000 [00:13<00:20, 29.74it/s]\u001b[A\n",
      " 50%|█████     | 500/1000 [00:16<00:16, 29.78it/s]\u001b[A\n",
      " 60%|██████    | 600/1000 [00:20<00:13, 29.80it/s]\u001b[A\n",
      " 70%|███████   | 700/1000 [00:23<00:10, 29.77it/s]\u001b[A\n",
      " 80%|████████  | 800/1000 [00:26<00:06, 29.79it/s]\u001b[A\n",
      " 90%|█████████ | 900/1000 [00:30<00:03, 29.80it/s]\u001b[A\n",
      "100%|██████████| 1000/1000 [00:33<00:00, 29.81it/s]\u001b[A\n",
      "                                                   \u001b[A"
     ]
    },
    {
     "name": "stdout",
     "output_type": "stream",
     "text": [
      "subsampling for dataset 01_ALOI...\n",
      "current noise type: None\n",
      "{'Samples': 10000, 'Features': 27, 'Anomalies': 302, 'Anomalies Ratio(%)': 3.02}\n",
      "Experimento para dados normais\n"
     ]
    },
    {
     "name": "stderr",
     "output_type": "stream",
     "text": [
      "\n",
      "  0%|          | 0/1000 [00:00<?, ?it/s]\u001b[A\n",
      " 10%|█         | 100/1000 [00:03<00:31, 28.44it/s]\u001b[A\n",
      " 20%|██        | 200/1000 [00:07<00:28, 28.42it/s]\u001b[A\n",
      " 30%|███       | 300/1000 [00:10<00:24, 28.41it/s]\u001b[A\n",
      " 40%|████      | 400/1000 [00:14<00:21, 28.40it/s]\u001b[A\n",
      " 50%|█████     | 500/1000 [00:17<00:17, 28.40it/s]\u001b[A\n",
      " 60%|██████    | 600/1000 [00:21<00:14, 28.42it/s]\u001b[A\n",
      " 70%|███████   | 700/1000 [00:24<00:10, 28.42it/s]\u001b[A\n",
      " 80%|████████  | 800/1000 [00:28<00:07, 28.41it/s]\u001b[A\n",
      " 90%|█████████ | 900/1000 [00:31<00:03, 28.40it/s]\u001b[A\n",
      "100%|██████████| 1000/1000 [00:35<00:00, 28.39it/s]\u001b[A\n",
      "                                                   \u001b[A"
     ]
    },
    {
     "name": "stdout",
     "output_type": "stream",
     "text": [
      "subsampling for dataset 01_ALOI...\n",
      "current noise type: None\n",
      "{'Samples': 10000, 'Features': 27, 'Anomalies': 302, 'Anomalies Ratio(%)': 3.02}\n",
      "Experimento para dados normais\n"
     ]
    },
    {
     "name": "stderr",
     "output_type": "stream",
     "text": [
      "\n",
      "  0%|          | 0/1000 [00:00<?, ?it/s]\u001b[A\n",
      " 10%|█         | 100/1000 [00:03<00:29, 30.37it/s]\u001b[A\n",
      " 20%|██        | 200/1000 [00:06<00:26, 30.38it/s]\u001b[A\n",
      " 30%|███       | 300/1000 [00:09<00:23, 30.34it/s]\u001b[A\n",
      " 40%|████      | 400/1000 [00:13<00:19, 30.27it/s]\u001b[A\n",
      " 50%|█████     | 500/1000 [00:16<00:16, 30.31it/s]\u001b[A\n",
      " 60%|██████    | 600/1000 [00:19<00:13, 30.33it/s]\u001b[A\n",
      " 70%|███████   | 700/1000 [00:23<00:09, 30.34it/s]\u001b[A\n",
      " 80%|████████  | 800/1000 [00:26<00:06, 30.35it/s]\u001b[A\n",
      " 90%|█████████ | 900/1000 [00:29<00:03, 30.36it/s]\u001b[A\n",
      "100%|██████████| 1000/1000 [00:32<00:00, 30.36it/s]\u001b[A\n",
      "                                                   \u001b[A"
     ]
    },
    {
     "name": "stdout",
     "output_type": "stream",
     "text": [
      "subsampling for dataset 01_ALOI...\n",
      "current noise type: None\n",
      "{'Samples': 10000, 'Features': 27, 'Anomalies': 302, 'Anomalies Ratio(%)': 3.02}\n",
      "Experimento para dados normais\n"
     ]
    },
    {
     "name": "stderr",
     "output_type": "stream",
     "text": [
      "\n",
      "  0%|          | 0/1000 [00:00<?, ?it/s]\u001b[A\n",
      " 10%|█         | 100/1000 [00:03<00:30, 29.76it/s]\u001b[A\n",
      " 20%|██        | 200/1000 [00:06<00:26, 29.76it/s]\u001b[A\n",
      " 30%|███       | 300/1000 [00:10<00:23, 29.77it/s]\u001b[A\n",
      " 40%|████      | 400/1000 [00:13<00:20, 29.77it/s]\u001b[A\n",
      " 50%|█████     | 500/1000 [00:16<00:16, 29.72it/s]\u001b[A\n",
      " 60%|██████    | 600/1000 [00:20<00:13, 29.73it/s]\u001b[A\n",
      " 70%|███████   | 700/1000 [00:23<00:10, 29.73it/s]\u001b[A\n",
      " 80%|████████  | 800/1000 [00:26<00:06, 29.74it/s]\u001b[A\n",
      " 90%|█████████ | 900/1000 [00:30<00:03, 29.74it/s]\u001b[A\n",
      "100%|██████████| 1000/1000 [00:33<00:00, 29.75it/s]\u001b[A\n",
      "                                                   \u001b[A"
     ]
    },
    {
     "name": "stdout",
     "output_type": "stream",
     "text": [
      "subsampling for dataset 01_ALOI...\n",
      "current noise type: None\n",
      "{'Samples': 10000, 'Features': 27, 'Anomalies': 302, 'Anomalies Ratio(%)': 3.02}\n",
      "Experimento para dados normais\n"
     ]
    },
    {
     "name": "stderr",
     "output_type": "stream",
     "text": [
      "\n",
      "  0%|          | 0/1000 [00:00<?, ?it/s]\u001b[A\n",
      " 10%|█         | 100/1000 [00:03<00:31, 28.38it/s]\u001b[A\n",
      " 20%|██        | 200/1000 [00:07<00:28, 28.35it/s]\u001b[A\n",
      " 30%|███       | 300/1000 [00:10<00:24, 28.39it/s]\u001b[A\n",
      " 40%|████      | 400/1000 [00:14<00:21, 28.42it/s]\u001b[A\n",
      " 50%|█████     | 500/1000 [00:17<00:17, 28.42it/s]\u001b[A\n",
      " 60%|██████    | 600/1000 [00:21<00:14, 28.42it/s]\u001b[A\n",
      " 70%|███████   | 700/1000 [00:24<00:10, 28.42it/s]\u001b[A\n",
      " 80%|████████  | 800/1000 [00:28<00:07, 28.42it/s]\u001b[A\n",
      " 90%|█████████ | 900/1000 [00:31<00:03, 28.43it/s]\u001b[A\n",
      "100%|██████████| 1000/1000 [00:35<00:00, 28.14it/s]\u001b[A\n",
      "                                                   \u001b[A"
     ]
    },
    {
     "name": "stdout",
     "output_type": "stream",
     "text": [
      "subsampling for dataset 01_ALOI...\n",
      "current noise type: None\n",
      "{'Samples': 10000, 'Features': 27, 'Anomalies': 302, 'Anomalies Ratio(%)': 3.02}\n",
      "Experimento para dados normais\n"
     ]
    },
    {
     "name": "stderr",
     "output_type": "stream",
     "text": [
      "\n",
      "  0%|          | 0/1000 [00:00<?, ?it/s]\u001b[A\n",
      " 10%|█         | 100/1000 [00:03<00:33, 26.94it/s]\u001b[A\n",
      " 20%|██        | 200/1000 [00:07<00:27, 28.73it/s]\u001b[A\n",
      " 30%|███       | 300/1000 [00:10<00:23, 29.30it/s]\u001b[A\n",
      " 40%|████      | 400/1000 [00:13<00:20, 29.55it/s]\u001b[A\n",
      " 50%|█████     | 500/1000 [00:17<00:16, 29.72it/s]\u001b[A\n",
      " 60%|██████    | 600/1000 [00:20<00:13, 29.94it/s]\u001b[A\n",
      " 70%|███████   | 700/1000 [00:23<00:09, 30.10it/s]\u001b[A\n",
      " 80%|████████  | 800/1000 [00:26<00:06, 30.19it/s]\u001b[A\n",
      " 90%|█████████ | 900/1000 [00:30<00:03, 30.17it/s]\u001b[A\n",
      "100%|██████████| 1000/1000 [00:33<00:00, 30.23it/s]\u001b[A\n",
      "                                                   \u001b[A"
     ]
    },
    {
     "name": "stdout",
     "output_type": "stream",
     "text": [
      "subsampling for dataset 01_ALOI...\n",
      "current noise type: None\n",
      "{'Samples': 10000, 'Features': 27, 'Anomalies': 302, 'Anomalies Ratio(%)': 3.02}\n",
      "Experimento para dados normais\n"
     ]
    },
    {
     "name": "stderr",
     "output_type": "stream",
     "text": [
      "\n",
      "  0%|          | 0/1000 [00:00<?, ?it/s]\u001b[A\n",
      " 10%|█         | 100/1000 [00:03<00:30, 29.74it/s]\u001b[A\n",
      " 20%|██        | 200/1000 [00:06<00:26, 29.73it/s]\u001b[A\n",
      " 30%|███       | 300/1000 [00:10<00:23, 29.72it/s]\u001b[A\n",
      " 40%|████      | 400/1000 [00:13<00:20, 29.72it/s]\u001b[A\n",
      " 50%|█████     | 500/1000 [00:16<00:16, 29.72it/s]\u001b[A\n",
      " 60%|██████    | 600/1000 [00:20<00:13, 29.71it/s]\u001b[A\n",
      " 70%|███████   | 700/1000 [00:23<00:10, 29.72it/s]\u001b[A\n",
      " 80%|████████  | 800/1000 [00:26<00:06, 29.72it/s]\u001b[A\n",
      " 90%|█████████ | 900/1000 [00:30<00:03, 29.73it/s]\u001b[A\n",
      "100%|██████████| 1000/1000 [00:33<00:00, 29.74it/s]\u001b[A\n",
      "                                                   \u001b[A"
     ]
    },
    {
     "name": "stdout",
     "output_type": "stream",
     "text": [
      "subsampling for dataset 01_ALOI...\n",
      "current noise type: None\n",
      "{'Samples': 10000, 'Features': 27, 'Anomalies': 302, 'Anomalies Ratio(%)': 3.02}\n",
      "Experimento para dados normais\n"
     ]
    },
    {
     "name": "stderr",
     "output_type": "stream",
     "text": [
      "\n",
      "  0%|          | 0/1000 [00:00<?, ?it/s]\u001b[A\n",
      " 10%|█         | 100/1000 [00:03<00:31, 28.45it/s]\u001b[A\n",
      " 20%|██        | 200/1000 [00:07<00:28, 28.42it/s]\u001b[A\n",
      " 30%|███       | 300/1000 [00:10<00:24, 28.42it/s]\u001b[A\n",
      " 40%|████      | 400/1000 [00:14<00:21, 28.41it/s]\u001b[A\n",
      " 50%|█████     | 500/1000 [00:17<00:17, 28.40it/s]\u001b[A\n",
      " 60%|██████    | 600/1000 [00:21<00:14, 28.39it/s]\u001b[A\n",
      " 70%|███████   | 700/1000 [00:24<00:10, 28.38it/s]\u001b[A\n",
      " 80%|████████  | 800/1000 [00:28<00:07, 28.41it/s]\u001b[A\n",
      " 90%|█████████ | 900/1000 [00:31<00:03, 28.43it/s]\u001b[A\n",
      "100%|██████████| 1000/1000 [00:35<00:00, 28.43it/s]\u001b[A\n",
      "                                                   \u001b[A"
     ]
    },
    {
     "name": "stdout",
     "output_type": "stream",
     "text": [
      "subsampling for dataset 01_ALOI...\n",
      "current noise type: None\n",
      "{'Samples': 10000, 'Features': 27, 'Anomalies': 302, 'Anomalies Ratio(%)': 3.02}\n",
      "Experimento para dados normais\n"
     ]
    },
    {
     "name": "stderr",
     "output_type": "stream",
     "text": [
      "\n",
      "  0%|          | 0/1000 [00:00<?, ?it/s]\u001b[A\n",
      " 10%|█         | 100/1000 [00:03<00:30, 29.77it/s]\u001b[A\n",
      " 20%|██        | 200/1000 [00:06<00:26, 29.78it/s]\u001b[A\n",
      " 30%|███       | 300/1000 [00:10<00:23, 29.74it/s]\u001b[A\n",
      " 40%|████      | 400/1000 [00:13<00:20, 29.74it/s]\u001b[A\n",
      " 50%|█████     | 500/1000 [00:16<00:16, 29.75it/s]\u001b[A\n",
      " 60%|██████    | 600/1000 [00:20<00:13, 29.76it/s]\u001b[A\n",
      " 70%|███████   | 700/1000 [00:23<00:10, 29.77it/s]\u001b[A\n",
      " 80%|████████  | 800/1000 [00:26<00:06, 29.78it/s]\u001b[A\n",
      " 90%|█████████ | 900/1000 [00:30<00:03, 29.78it/s]\u001b[A\n",
      "100%|██████████| 1000/1000 [00:33<00:00, 29.78it/s]\u001b[A\n",
      "                                                   \u001b[A"
     ]
    },
    {
     "name": "stdout",
     "output_type": "stream",
     "text": [
      "subsampling for dataset 01_ALOI...\n",
      "current noise type: None\n",
      "{'Samples': 10000, 'Features': 27, 'Anomalies': 302, 'Anomalies Ratio(%)': 3.02}\n",
      "Experimento para dados normais\n"
     ]
    },
    {
     "name": "stderr",
     "output_type": "stream",
     "text": [
      "\n",
      "  0%|          | 0/1000 [00:00<?, ?it/s]\u001b[A\n",
      " 10%|█         | 100/1000 [00:03<00:31, 28.80it/s]\u001b[A\n",
      " 20%|██        | 200/1000 [00:06<00:27, 28.86it/s]\u001b[A\n",
      " 30%|███       | 300/1000 [00:10<00:24, 28.83it/s]\u001b[A\n",
      " 40%|████      | 400/1000 [00:13<00:20, 28.88it/s]\u001b[A\n",
      " 50%|█████     | 500/1000 [00:17<00:17, 28.91it/s]\u001b[A\n",
      " 60%|██████    | 600/1000 [00:20<00:13, 28.89it/s]\u001b[A\n",
      " 70%|███████   | 700/1000 [00:24<00:10, 28.91it/s]\u001b[A\n",
      " 80%|████████  | 800/1000 [00:27<00:06, 28.93it/s]\u001b[A\n",
      " 90%|█████████ | 900/1000 [00:31<00:03, 28.94it/s]\u001b[A\n",
      "100%|██████████| 1000/1000 [00:34<00:00, 28.95it/s]\u001b[A\n",
      "                                                   \u001b[A"
     ]
    },
    {
     "name": "stdout",
     "output_type": "stream",
     "text": [
      "subsampling for dataset 01_ALOI...\n",
      "current noise type: None\n",
      "{'Samples': 10000, 'Features': 27, 'Anomalies': 302, 'Anomalies Ratio(%)': 3.02}\n",
      "Experimento para dados normais\n"
     ]
    },
    {
     "name": "stderr",
     "output_type": "stream",
     "text": [
      "\n",
      "  0%|          | 0/1000 [00:00<?, ?it/s]\u001b[A\n",
      " 10%|█         | 100/1000 [00:03<00:34, 25.87it/s]\u001b[A\n",
      " 20%|██        | 200/1000 [00:07<00:31, 25.06it/s]\u001b[A\n",
      " 30%|███       | 300/1000 [00:11<00:26, 26.17it/s]\u001b[A\n",
      " 40%|████      | 400/1000 [00:15<00:22, 26.74it/s]\u001b[A\n",
      " 50%|█████     | 500/1000 [00:18<00:18, 27.09it/s]\u001b[A\n",
      " 60%|██████    | 600/1000 [00:22<00:14, 27.29it/s]\u001b[A\n",
      " 70%|███████   | 700/1000 [00:26<00:10, 27.42it/s]\u001b[A\n",
      " 80%|████████  | 800/1000 [00:29<00:07, 27.52it/s]\u001b[A\n",
      " 90%|█████████ | 900/1000 [00:33<00:03, 27.56it/s]\u001b[A\n",
      "100%|██████████| 1000/1000 [00:36<00:00, 27.62it/s]\u001b[A\n",
      "                                                   \u001b[A"
     ]
    },
    {
     "name": "stdout",
     "output_type": "stream",
     "text": [
      "subsampling for dataset 01_ALOI...\n",
      "current noise type: None\n",
      "{'Samples': 10000, 'Features': 27, 'Anomalies': 302, 'Anomalies Ratio(%)': 3.02}\n",
      "Experimento para dados normais\n"
     ]
    },
    {
     "name": "stderr",
     "output_type": "stream",
     "text": [
      "\n",
      "  0%|          | 0/1000 [00:00<?, ?it/s]\u001b[A\n",
      " 10%|█         | 100/1000 [00:05<00:47, 18.78it/s]\u001b[A\n",
      " 20%|██        | 200/1000 [00:10<00:42, 18.79it/s]\u001b[A\n",
      " 30%|███       | 300/1000 [00:15<00:37, 18.79it/s]\u001b[A\n",
      " 40%|████      | 400/1000 [00:21<00:31, 18.79it/s]\u001b[A\n",
      " 50%|█████     | 500/1000 [00:26<00:26, 18.78it/s]\u001b[A\n",
      " 60%|██████    | 600/1000 [00:31<00:21, 18.79it/s]\u001b[A\n",
      " 70%|███████   | 700/1000 [00:37<00:15, 18.79it/s]\u001b[A\n",
      " 80%|████████  | 800/1000 [00:42<00:10, 18.79it/s]\u001b[A\n",
      " 90%|█████████ | 900/1000 [00:47<00:05, 18.79it/s]\u001b[A\n",
      "100%|██████████| 1000/1000 [00:53<00:00, 18.80it/s]\u001b[A\n",
      "                                                   \u001b[A"
     ]
    },
    {
     "name": "stdout",
     "output_type": "stream",
     "text": [
      "subsampling for dataset 01_ALOI...\n",
      "current noise type: None\n",
      "{'Samples': 10000, 'Features': 27, 'Anomalies': 302, 'Anomalies Ratio(%)': 3.02}\n",
      "Experimento para dados normais\n"
     ]
    },
    {
     "name": "stderr",
     "output_type": "stream",
     "text": [
      "\n",
      "  0%|          | 0/1000 [00:00<?, ?it/s]\u001b[A\n",
      " 10%|█         | 100/1000 [00:05<00:48, 18.52it/s]\u001b[A\n",
      " 20%|██        | 200/1000 [00:10<00:43, 18.55it/s]\u001b[A\n",
      " 30%|███       | 300/1000 [00:16<00:37, 18.56it/s]\u001b[A\n",
      " 40%|████      | 400/1000 [00:21<00:32, 18.56it/s]\u001b[A\n",
      " 50%|█████     | 500/1000 [00:26<00:26, 18.57it/s]\u001b[A\n",
      " 60%|██████    | 600/1000 [00:32<00:21, 18.57it/s]\u001b[A\n",
      " 70%|███████   | 700/1000 [00:37<00:16, 18.58it/s]\u001b[A\n",
      " 80%|████████  | 800/1000 [00:43<00:10, 18.57it/s]\u001b[A\n",
      " 90%|█████████ | 900/1000 [00:48<00:05, 18.57it/s]\u001b[A\n",
      "100%|██████████| 1000/1000 [00:53<00:00, 18.57it/s]\u001b[A\n",
      "                                                   \u001b[A"
     ]
    },
    {
     "name": "stdout",
     "output_type": "stream",
     "text": [
      "subsampling for dataset 01_ALOI...\n",
      "current noise type: None\n",
      "{'Samples': 10000, 'Features': 27, 'Anomalies': 302, 'Anomalies Ratio(%)': 3.02}\n",
      "Experimento para dados normais\n"
     ]
    },
    {
     "name": "stderr",
     "output_type": "stream",
     "text": [
      "\n",
      "  0%|          | 0/1000 [00:00<?, ?it/s]\u001b[A\n",
      " 10%|█         | 100/1000 [00:05<00:50, 17.94it/s]\u001b[A\n",
      " 20%|██        | 200/1000 [00:11<00:44, 17.98it/s]\u001b[A\n",
      " 30%|███       | 300/1000 [00:16<00:38, 18.00it/s]\u001b[A\n",
      " 40%|████      | 400/1000 [00:22<00:33, 17.96it/s]\u001b[A\n",
      " 50%|█████     | 500/1000 [00:27<00:27, 17.87it/s]\u001b[A\n",
      " 60%|██████    | 600/1000 [00:33<00:22, 17.92it/s]\u001b[A\n",
      " 70%|███████   | 700/1000 [00:39<00:17, 17.29it/s]\u001b[A\n",
      " 80%|████████  | 800/1000 [00:45<00:11, 17.51it/s]\u001b[A\n",
      " 90%|█████████ | 900/1000 [00:50<00:05, 17.66it/s]\u001b[A\n",
      "100%|██████████| 1000/1000 [00:56<00:00, 17.74it/s]\u001b[A\n",
      "                                                   \u001b[A"
     ]
    },
    {
     "name": "stdout",
     "output_type": "stream",
     "text": [
      "subsampling for dataset 01_ALOI...\n",
      "current noise type: None\n",
      "{'Samples': 10000, 'Features': 27, 'Anomalies': 302, 'Anomalies Ratio(%)': 3.02}\n",
      "Experimento para dados normais\n"
     ]
    },
    {
     "name": "stderr",
     "output_type": "stream",
     "text": [
      "\n",
      "  0%|          | 0/1000 [00:00<?, ?it/s]\u001b[A\n",
      " 10%|█         | 100/1000 [00:05<00:47, 18.78it/s]\u001b[A\n",
      " 20%|██        | 200/1000 [00:10<00:42, 18.76it/s]\u001b[A\n",
      " 30%|███       | 300/1000 [00:16<00:37, 18.73it/s]\u001b[A\n",
      " 40%|████      | 400/1000 [00:21<00:31, 18.76it/s]\u001b[A\n",
      " 50%|█████     | 500/1000 [00:26<00:26, 18.78it/s]\u001b[A\n",
      " 60%|██████    | 600/1000 [00:31<00:21, 18.79it/s]\u001b[A\n",
      " 70%|███████   | 700/1000 [00:37<00:15, 18.79it/s]\u001b[A\n",
      " 80%|████████  | 800/1000 [00:42<00:10, 18.79it/s]\u001b[A\n",
      " 90%|█████████ | 900/1000 [00:47<00:05, 18.79it/s]\u001b[A\n",
      "100%|██████████| 1000/1000 [00:53<00:00, 18.79it/s]\u001b[A\n",
      "                                                   \u001b[A"
     ]
    },
    {
     "name": "stdout",
     "output_type": "stream",
     "text": [
      "subsampling for dataset 01_ALOI...\n",
      "current noise type: None\n",
      "{'Samples': 10000, 'Features': 27, 'Anomalies': 302, 'Anomalies Ratio(%)': 3.02}\n",
      "Experimento para dados normais\n"
     ]
    },
    {
     "name": "stderr",
     "output_type": "stream",
     "text": [
      "\n",
      "  0%|          | 0/1000 [00:00<?, ?it/s]\u001b[A\n",
      " 10%|█         | 100/1000 [00:05<00:48, 18.52it/s]\u001b[A\n",
      " 20%|██        | 200/1000 [00:10<00:43, 18.54it/s]\u001b[A\n",
      " 30%|███       | 300/1000 [00:16<00:37, 18.53it/s]\u001b[A\n",
      " 40%|████      | 400/1000 [00:21<00:32, 18.53it/s]\u001b[A\n",
      " 50%|█████     | 500/1000 [00:26<00:26, 18.52it/s]\u001b[A\n",
      " 60%|██████    | 600/1000 [00:32<00:21, 18.52it/s]\u001b[A\n",
      " 70%|███████   | 700/1000 [00:37<00:16, 18.52it/s]\u001b[A\n",
      " 80%|████████  | 800/1000 [00:43<00:10, 18.52it/s]\u001b[A\n",
      " 90%|█████████ | 900/1000 [00:48<00:05, 18.52it/s]\u001b[A\n",
      "100%|██████████| 1000/1000 [00:53<00:00, 18.53it/s]\u001b[A\n",
      "                                                   \u001b[A"
     ]
    },
    {
     "name": "stdout",
     "output_type": "stream",
     "text": [
      "subsampling for dataset 01_ALOI...\n",
      "current noise type: None\n",
      "{'Samples': 10000, 'Features': 27, 'Anomalies': 302, 'Anomalies Ratio(%)': 3.02}\n",
      "Experimento para dados normais\n"
     ]
    },
    {
     "name": "stderr",
     "output_type": "stream",
     "text": [
      "\n",
      "  0%|          | 0/1000 [00:00<?, ?it/s]\u001b[A\n",
      " 10%|█         | 100/1000 [00:05<00:49, 18.02it/s]\u001b[A\n",
      " 20%|██        | 200/1000 [00:11<00:44, 18.03it/s]\u001b[A\n",
      " 30%|███       | 300/1000 [00:16<00:38, 18.03it/s]\u001b[A\n",
      " 40%|████      | 400/1000 [00:22<00:33, 18.02it/s]\u001b[A\n",
      " 50%|█████     | 500/1000 [00:27<00:27, 18.01it/s]\u001b[A\n",
      " 60%|██████    | 600/1000 [00:33<00:22, 18.02it/s]\u001b[A\n",
      " 70%|███████   | 700/1000 [00:38<00:16, 18.04it/s]\u001b[A\n",
      " 80%|████████  | 800/1000 [00:44<00:11, 18.03it/s]\u001b[A\n",
      " 90%|█████████ | 900/1000 [00:50<00:05, 17.24it/s]\u001b[A\n",
      "100%|██████████| 1000/1000 [00:56<00:00, 17.22it/s]\u001b[A\n",
      "                                                   \u001b[A"
     ]
    },
    {
     "name": "stdout",
     "output_type": "stream",
     "text": [
      "subsampling for dataset 01_ALOI...\n",
      "current noise type: None\n",
      "{'Samples': 10000, 'Features': 27, 'Anomalies': 302, 'Anomalies Ratio(%)': 3.02}\n",
      "Experimento para dados normais\n"
     ]
    },
    {
     "name": "stderr",
     "output_type": "stream",
     "text": [
      "\n",
      "  0%|          | 0/1000 [00:00<?, ?it/s]\u001b[A\n",
      " 10%|█         | 100/1000 [00:05<00:47, 18.79it/s]\u001b[A\n",
      " 20%|██        | 200/1000 [00:10<00:42, 18.79it/s]\u001b[A\n",
      " 30%|███       | 300/1000 [00:15<00:37, 18.79it/s]\u001b[A\n",
      " 40%|████      | 400/1000 [00:21<00:31, 18.77it/s]\u001b[A\n",
      " 50%|█████     | 500/1000 [00:26<00:26, 18.77it/s]\u001b[A\n",
      " 60%|██████    | 600/1000 [00:31<00:21, 18.78it/s]\u001b[A\n",
      " 70%|███████   | 700/1000 [00:37<00:15, 18.77it/s]\u001b[A\n",
      " 80%|████████  | 800/1000 [00:42<00:10, 18.77it/s]\u001b[A\n",
      " 90%|█████████ | 900/1000 [00:47<00:05, 18.78it/s]\u001b[A\n",
      "100%|██████████| 1000/1000 [00:53<00:00, 18.79it/s]\u001b[A\n",
      "                                                   \u001b[A"
     ]
    },
    {
     "name": "stdout",
     "output_type": "stream",
     "text": [
      "subsampling for dataset 01_ALOI...\n",
      "current noise type: None\n",
      "{'Samples': 10000, 'Features': 27, 'Anomalies': 302, 'Anomalies Ratio(%)': 3.02}\n",
      "Experimento para dados normais\n"
     ]
    },
    {
     "name": "stderr",
     "output_type": "stream",
     "text": [
      "\n",
      "  0%|          | 0/1000 [00:00<?, ?it/s]\u001b[A\n",
      " 10%|█         | 100/1000 [00:05<00:48, 18.54it/s]\u001b[A\n",
      " 20%|██        | 200/1000 [00:10<00:43, 18.53it/s]\u001b[A\n",
      " 30%|███       | 300/1000 [00:16<00:38, 18.41it/s]\u001b[A\n",
      " 40%|████      | 400/1000 [00:21<00:32, 18.48it/s]\u001b[A\n",
      " 50%|█████     | 500/1000 [00:27<00:27, 18.49it/s]\u001b[A\n",
      " 60%|██████    | 600/1000 [00:32<00:21, 18.41it/s]\u001b[A\n",
      " 70%|███████   | 700/1000 [00:37<00:16, 18.44it/s]\u001b[A\n",
      " 80%|████████  | 800/1000 [00:43<00:10, 18.46it/s]\u001b[A\n",
      " 90%|█████████ | 900/1000 [00:48<00:05, 18.47it/s]\u001b[A\n",
      "100%|██████████| 1000/1000 [00:54<00:00, 18.48it/s]\u001b[A\n",
      "                                                   \u001b[A"
     ]
    },
    {
     "name": "stdout",
     "output_type": "stream",
     "text": [
      "subsampling for dataset 01_ALOI...\n",
      "current noise type: None\n",
      "{'Samples': 10000, 'Features': 27, 'Anomalies': 302, 'Anomalies Ratio(%)': 3.02}\n",
      "Experimento para dados normais\n"
     ]
    },
    {
     "name": "stderr",
     "output_type": "stream",
     "text": [
      "\n",
      "  0%|          | 0/1000 [00:00<?, ?it/s]\u001b[A\n",
      " 10%|█         | 100/1000 [00:05<00:49, 18.01it/s]\u001b[A\n",
      " 20%|██        | 200/1000 [00:11<00:44, 18.02it/s]\u001b[A\n",
      " 30%|███       | 300/1000 [00:16<00:38, 18.03it/s]\u001b[A\n",
      " 40%|████      | 400/1000 [00:22<00:33, 18.03it/s]\u001b[A\n",
      " 50%|█████     | 500/1000 [00:27<00:27, 18.02it/s]\u001b[A\n",
      " 60%|██████    | 600/1000 [00:33<00:22, 18.00it/s]\u001b[A\n",
      " 70%|███████   | 700/1000 [00:38<00:16, 18.00it/s]\u001b[A\n",
      " 80%|████████  | 800/1000 [00:44<00:11, 17.99it/s]\u001b[A\n",
      " 90%|█████████ | 900/1000 [00:49<00:05, 18.00it/s]\u001b[A\n",
      "100%|██████████| 1000/1000 [00:55<00:00, 18.00it/s]\u001b[A\n",
      "                                                   \u001b[A"
     ]
    },
    {
     "name": "stdout",
     "output_type": "stream",
     "text": [
      "subsampling for dataset 01_ALOI...\n",
      "current noise type: None\n",
      "{'Samples': 10000, 'Features': 27, 'Anomalies': 302, 'Anomalies Ratio(%)': 3.02}\n",
      "Experimento para dados normais\n"
     ]
    },
    {
     "name": "stderr",
     "output_type": "stream",
     "text": [
      "\n",
      "  0%|          | 0/1000 [00:00<?, ?it/s]\u001b[A\n",
      " 10%|█         | 100/1000 [00:06<00:58, 15.32it/s]\u001b[A\n",
      " 20%|██        | 200/1000 [00:12<00:47, 16.69it/s]\u001b[A\n",
      " 30%|███       | 300/1000 [00:17<00:40, 17.45it/s]\u001b[A\n",
      " 40%|████      | 400/1000 [00:22<00:33, 17.82it/s]\u001b[A\n",
      " 50%|█████     | 500/1000 [00:28<00:27, 18.03it/s]\u001b[A\n",
      " 60%|██████    | 600/1000 [00:33<00:22, 18.15it/s]\u001b[A\n",
      " 70%|███████   | 700/1000 [00:39<00:16, 18.22it/s]\u001b[A\n",
      " 80%|████████  | 800/1000 [00:44<00:10, 18.26it/s]\u001b[A\n",
      " 90%|█████████ | 900/1000 [00:50<00:05, 18.31it/s]\u001b[A\n",
      "100%|██████████| 1000/1000 [00:55<00:00, 18.35it/s]\u001b[A\n",
      "                                                   \u001b[A"
     ]
    },
    {
     "name": "stdout",
     "output_type": "stream",
     "text": [
      "subsampling for dataset 01_ALOI...\n",
      "current noise type: None\n",
      "{'Samples': 10000, 'Features': 27, 'Anomalies': 302, 'Anomalies Ratio(%)': 3.02}\n",
      "Experimento para dados normais\n"
     ]
    },
    {
     "name": "stderr",
     "output_type": "stream",
     "text": [
      "\n",
      "  0%|          | 0/1000 [00:00<?, ?it/s]\u001b[A\n",
      " 10%|█         | 100/1000 [00:05<00:49, 18.19it/s]\u001b[A\n",
      " 20%|██        | 200/1000 [00:11<00:44, 18.16it/s]\u001b[A\n",
      " 30%|███       | 300/1000 [00:16<00:38, 18.19it/s]\u001b[A\n",
      " 40%|████      | 400/1000 [00:21<00:32, 18.19it/s]\u001b[A\n",
      " 50%|█████     | 500/1000 [00:27<00:27, 18.19it/s]\u001b[A\n",
      " 60%|██████    | 600/1000 [00:32<00:21, 18.19it/s]\u001b[A\n",
      " 70%|███████   | 700/1000 [00:38<00:16, 18.17it/s]\u001b[A\n",
      " 80%|████████  | 800/1000 [00:43<00:10, 18.18it/s]\u001b[A\n",
      " 90%|█████████ | 900/1000 [00:49<00:05, 18.18it/s]\u001b[A\n",
      "100%|██████████| 1000/1000 [00:54<00:00, 18.19it/s]\u001b[A\n",
      "                                                   \u001b[A"
     ]
    },
    {
     "name": "stdout",
     "output_type": "stream",
     "text": [
      "subsampling for dataset 01_ALOI...\n",
      "current noise type: None\n",
      "{'Samples': 10000, 'Features': 27, 'Anomalies': 302, 'Anomalies Ratio(%)': 3.02}\n",
      "Experimento para dados normais\n"
     ]
    },
    {
     "name": "stderr",
     "output_type": "stream",
     "text": [
      "\n",
      "  0%|          | 0/1000 [00:00<?, ?it/s]\u001b[A\n",
      " 10%|█         | 100/1000 [00:05<00:50, 17.72it/s]\u001b[A\n",
      " 20%|██        | 200/1000 [00:11<00:45, 17.70it/s]\u001b[A\n",
      " 30%|███       | 300/1000 [00:16<00:39, 17.72it/s]\u001b[A\n",
      " 40%|████      | 400/1000 [00:22<00:33, 17.72it/s]\u001b[A\n",
      " 50%|█████     | 500/1000 [00:28<00:28, 17.72it/s]\u001b[A\n",
      " 60%|██████    | 600/1000 [00:33<00:22, 17.72it/s]\u001b[A\n",
      " 70%|███████   | 700/1000 [00:39<00:16, 17.72it/s]\u001b[A\n",
      " 80%|████████  | 800/1000 [00:45<00:11, 17.71it/s]\u001b[A\n",
      " 90%|█████████ | 900/1000 [00:50<00:05, 17.70it/s]\u001b[A\n",
      "100%|██████████| 1000/1000 [00:56<00:00, 17.69it/s]\u001b[A\n",
      "                                                   \u001b[A"
     ]
    },
    {
     "name": "stdout",
     "output_type": "stream",
     "text": [
      "current noise type: None\n",
      "{'Samples': 7200, 'Features': 6, 'Anomalies': 534, 'Anomalies Ratio(%)': 7.42}\n",
      "Experimento para dados normais\n"
     ]
    },
    {
     "name": "stderr",
     "output_type": "stream",
     "text": [
      "\n",
      "  0%|          | 0/1000 [00:00<?, ?it/s]\u001b[A\n",
      " 10%|█         | 100/1000 [00:02<00:19, 45.35it/s]\u001b[A\n",
      " 20%|██        | 200/1000 [00:04<00:17, 45.29it/s]\u001b[A\n",
      " 30%|███       | 300/1000 [00:06<00:15, 45.28it/s]\u001b[A\n",
      " 40%|████      | 400/1000 [00:08<00:13, 45.29it/s]\u001b[A\n",
      " 50%|█████     | 500/1000 [00:11<00:11, 45.31it/s]\u001b[A\n",
      " 60%|██████    | 600/1000 [00:14<00:09, 40.30it/s]\u001b[A\n",
      " 70%|███████   | 700/1000 [00:16<00:07, 40.10it/s]\u001b[A\n",
      " 80%|████████  | 800/1000 [00:18<00:04, 41.63it/s]\u001b[A\n",
      " 90%|█████████ | 900/1000 [00:20<00:02, 42.71it/s]\u001b[A\n",
      "100%|██████████| 1000/1000 [00:23<00:00, 43.47it/s]\u001b[A\n",
      "                                                   \u001b[A"
     ]
    },
    {
     "name": "stdout",
     "output_type": "stream",
     "text": [
      "current noise type: None\n",
      "{'Samples': 7200, 'Features': 6, 'Anomalies': 534, 'Anomalies Ratio(%)': 7.42}\n",
      "Experimento para dados normais\n"
     ]
    },
    {
     "name": "stderr",
     "output_type": "stream",
     "text": [
      "\n",
      "  0%|          | 0/1000 [00:00<?, ?it/s]\u001b[A\n",
      " 10%|█         | 100/1000 [00:02<00:20, 44.53it/s]\u001b[A\n",
      " 20%|██        | 200/1000 [00:04<00:17, 44.47it/s]\u001b[A\n",
      " 30%|███       | 300/1000 [00:06<00:15, 44.44it/s]\u001b[A\n",
      " 40%|████      | 400/1000 [00:08<00:13, 44.44it/s]\u001b[A\n",
      " 50%|█████     | 500/1000 [00:11<00:11, 44.46it/s]\u001b[A\n",
      " 60%|██████    | 600/1000 [00:13<00:08, 44.49it/s]\u001b[A\n",
      " 70%|███████   | 700/1000 [00:15<00:06, 44.50it/s]\u001b[A\n",
      " 80%|████████  | 800/1000 [00:17<00:04, 44.49it/s]\u001b[A\n",
      " 90%|█████████ | 900/1000 [00:20<00:02, 44.45it/s]\u001b[A\n",
      "100%|██████████| 1000/1000 [00:22<00:00, 44.47it/s]\u001b[A\n",
      "                                                   \u001b[A"
     ]
    },
    {
     "name": "stdout",
     "output_type": "stream",
     "text": [
      "current noise type: None\n",
      "{'Samples': 7200, 'Features': 6, 'Anomalies': 534, 'Anomalies Ratio(%)': 7.42}\n",
      "Experimento para dados normais\n"
     ]
    },
    {
     "name": "stderr",
     "output_type": "stream",
     "text": [
      "\n",
      "  0%|          | 0/1000 [00:00<?, ?it/s]\u001b[A\n",
      " 10%|█         | 100/1000 [00:02<00:21, 42.74it/s]\u001b[A\n",
      " 20%|██        | 200/1000 [00:04<00:18, 42.73it/s]\u001b[A\n",
      " 30%|███       | 300/1000 [00:07<00:16, 42.72it/s]\u001b[A\n",
      " 40%|████      | 400/1000 [00:09<00:14, 42.70it/s]\u001b[A\n",
      " 50%|█████     | 500/1000 [00:11<00:11, 42.70it/s]\u001b[A\n",
      " 60%|██████    | 600/1000 [00:14<00:09, 42.71it/s]\u001b[A\n",
      " 70%|███████   | 700/1000 [00:16<00:07, 42.70it/s]\u001b[A\n",
      " 80%|████████  | 800/1000 [00:18<00:04, 42.70it/s]\u001b[A\n",
      " 90%|█████████ | 900/1000 [00:21<00:02, 42.69it/s]\u001b[A\n",
      "100%|██████████| 1000/1000 [00:23<00:00, 42.68it/s]\u001b[A\n",
      "                                                   \u001b[A"
     ]
    },
    {
     "name": "stdout",
     "output_type": "stream",
     "text": [
      "current noise type: None\n",
      "{'Samples': 7200, 'Features': 6, 'Anomalies': 534, 'Anomalies Ratio(%)': 7.42}\n",
      "Experimento para dados normais\n"
     ]
    },
    {
     "name": "stderr",
     "output_type": "stream",
     "text": [
      "\n",
      "  0%|          | 0/1000 [00:00<?, ?it/s]\u001b[A\n",
      " 10%|█         | 100/1000 [00:02<00:19, 45.12it/s]\u001b[A\n",
      " 20%|██        | 200/1000 [00:04<00:17, 45.18it/s]\u001b[A\n",
      " 30%|███       | 300/1000 [00:06<00:15, 45.20it/s]\u001b[A\n",
      " 40%|████      | 400/1000 [00:08<00:13, 45.20it/s]\u001b[A\n",
      " 50%|█████     | 500/1000 [00:11<00:11, 45.21it/s]\u001b[A\n",
      " 60%|██████    | 600/1000 [00:13<00:08, 45.21it/s]\u001b[A\n",
      " 70%|███████   | 700/1000 [00:15<00:06, 45.21it/s]\u001b[A\n",
      " 80%|████████  | 800/1000 [00:17<00:04, 45.20it/s]\u001b[A\n",
      " 90%|█████████ | 900/1000 [00:19<00:02, 45.20it/s]\u001b[A\n",
      "100%|██████████| 1000/1000 [00:22<00:00, 45.20it/s]\u001b[A\n",
      "                                                   \u001b[A"
     ]
    },
    {
     "name": "stdout",
     "output_type": "stream",
     "text": [
      "current noise type: None\n",
      "{'Samples': 7200, 'Features': 6, 'Anomalies': 534, 'Anomalies Ratio(%)': 7.42}\n",
      "Experimento para dados normais\n"
     ]
    },
    {
     "name": "stderr",
     "output_type": "stream",
     "text": [
      "\n",
      "  0%|          | 0/1000 [00:00<?, ?it/s]\u001b[A\n",
      " 10%|█         | 100/1000 [00:02<00:20, 44.37it/s]\u001b[A\n",
      " 20%|██        | 200/1000 [00:04<00:18, 44.33it/s]\u001b[A\n",
      " 30%|███       | 300/1000 [00:06<00:15, 44.34it/s]\u001b[A\n",
      " 40%|████      | 400/1000 [00:09<00:13, 44.34it/s]\u001b[A\n",
      " 50%|█████     | 500/1000 [00:11<00:11, 44.31it/s]\u001b[A\n",
      " 60%|██████    | 600/1000 [00:13<00:09, 44.30it/s]\u001b[A\n",
      " 70%|███████   | 700/1000 [00:15<00:06, 44.33it/s]\u001b[A\n",
      " 80%|████████  | 800/1000 [00:18<00:04, 44.34it/s]\u001b[A\n",
      " 90%|█████████ | 900/1000 [00:20<00:02, 44.32it/s]\u001b[A\n",
      "100%|██████████| 1000/1000 [00:22<00:00, 44.34it/s]\u001b[A\n",
      "                                                   \u001b[A"
     ]
    },
    {
     "name": "stdout",
     "output_type": "stream",
     "text": [
      "current noise type: None\n",
      "{'Samples': 7200, 'Features': 6, 'Anomalies': 534, 'Anomalies Ratio(%)': 7.42}\n",
      "Experimento para dados normais\n"
     ]
    },
    {
     "name": "stderr",
     "output_type": "stream",
     "text": [
      "\n",
      "  0%|          | 0/1000 [00:00<?, ?it/s]\u001b[A\n",
      " 10%|█         | 100/1000 [00:02<00:21, 42.48it/s]\u001b[A\n",
      " 20%|██        | 200/1000 [00:04<00:18, 42.58it/s]\u001b[A\n",
      " 30%|███       | 300/1000 [00:07<00:16, 42.60it/s]\u001b[A\n",
      " 40%|████      | 400/1000 [00:09<00:14, 42.60it/s]\u001b[A\n",
      " 50%|█████     | 500/1000 [00:11<00:11, 42.61it/s]\u001b[A\n",
      " 60%|██████    | 600/1000 [00:14<00:09, 42.62it/s]\u001b[A\n",
      " 70%|███████   | 700/1000 [00:16<00:07, 42.62it/s]\u001b[A\n",
      " 80%|████████  | 800/1000 [00:18<00:04, 42.63it/s]\u001b[A\n",
      " 90%|█████████ | 900/1000 [00:21<00:02, 42.64it/s]\u001b[A\n",
      "100%|██████████| 1000/1000 [00:23<00:00, 42.64it/s]\u001b[A\n",
      "                                                   \u001b[A"
     ]
    },
    {
     "name": "stdout",
     "output_type": "stream",
     "text": [
      "current noise type: None\n",
      "{'Samples': 7200, 'Features': 6, 'Anomalies': 534, 'Anomalies Ratio(%)': 7.42}\n",
      "Experimento para dados normais\n"
     ]
    },
    {
     "name": "stderr",
     "output_type": "stream",
     "text": [
      "\n",
      "  0%|          | 0/1000 [00:00<?, ?it/s]\u001b[A\n",
      " 10%|█         | 100/1000 [00:02<00:19, 45.21it/s]\u001b[A\n",
      " 20%|██        | 200/1000 [00:04<00:17, 45.22it/s]\u001b[A\n",
      " 30%|███       | 300/1000 [00:06<00:15, 45.21it/s]\u001b[A\n",
      " 40%|████      | 400/1000 [00:08<00:13, 45.20it/s]\u001b[A\n",
      " 50%|█████     | 500/1000 [00:11<00:11, 45.19it/s]\u001b[A\n",
      " 60%|██████    | 600/1000 [00:13<00:08, 45.20it/s]\u001b[A\n",
      " 70%|███████   | 700/1000 [00:15<00:06, 45.19it/s]\u001b[A\n",
      " 80%|████████  | 800/1000 [00:17<00:04, 45.19it/s]\u001b[A\n",
      " 90%|█████████ | 900/1000 [00:19<00:02, 45.18it/s]\u001b[A\n",
      "100%|██████████| 1000/1000 [00:22<00:00, 45.19it/s]\u001b[A\n",
      "                                                   \u001b[A"
     ]
    },
    {
     "name": "stdout",
     "output_type": "stream",
     "text": [
      "current noise type: None\n",
      "{'Samples': 7200, 'Features': 6, 'Anomalies': 534, 'Anomalies Ratio(%)': 7.42}\n",
      "Experimento para dados normais\n"
     ]
    },
    {
     "name": "stderr",
     "output_type": "stream",
     "text": [
      "\n",
      "  0%|          | 0/1000 [00:00<?, ?it/s]\u001b[A\n",
      " 10%|█         | 100/1000 [00:02<00:20, 44.14it/s]\u001b[A\n",
      " 20%|██        | 200/1000 [00:04<00:18, 44.20it/s]\u001b[A\n",
      " 30%|███       | 300/1000 [00:06<00:15, 44.27it/s]\u001b[A\n",
      " 40%|████      | 400/1000 [00:09<00:13, 44.31it/s]\u001b[A\n",
      " 50%|█████     | 500/1000 [00:11<00:11, 44.32it/s]\u001b[A\n",
      " 60%|██████    | 600/1000 [00:13<00:09, 44.32it/s]\u001b[A\n",
      " 70%|███████   | 700/1000 [00:15<00:06, 44.28it/s]\u001b[A\n",
      " 80%|████████  | 800/1000 [00:18<00:04, 44.28it/s]\u001b[A\n",
      " 90%|█████████ | 900/1000 [00:20<00:02, 44.30it/s]\u001b[A\n",
      "100%|██████████| 1000/1000 [00:22<00:00, 44.31it/s]\u001b[A\n",
      "                                                   \u001b[A"
     ]
    },
    {
     "name": "stdout",
     "output_type": "stream",
     "text": [
      "current noise type: None\n",
      "{'Samples': 7200, 'Features': 6, 'Anomalies': 534, 'Anomalies Ratio(%)': 7.42}\n",
      "Experimento para dados normais\n"
     ]
    },
    {
     "name": "stderr",
     "output_type": "stream",
     "text": [
      "\n",
      "  0%|          | 0/1000 [00:00<?, ?it/s]\u001b[A\n",
      " 10%|█         | 100/1000 [00:02<00:21, 42.65it/s]\u001b[A\n",
      " 20%|██        | 200/1000 [00:04<00:18, 42.63it/s]\u001b[A\n",
      " 30%|███       | 300/1000 [00:07<00:16, 42.61it/s]\u001b[A\n",
      " 40%|████      | 400/1000 [00:10<00:16, 36.15it/s]\u001b[A\n",
      " 50%|█████     | 500/1000 [00:13<00:13, 36.80it/s]\u001b[A\n",
      " 60%|██████    | 600/1000 [00:15<00:10, 38.59it/s]\u001b[A\n",
      " 70%|███████   | 700/1000 [00:17<00:07, 39.83it/s]\u001b[A\n",
      " 80%|████████  | 800/1000 [00:20<00:04, 40.66it/s]\u001b[A\n",
      " 90%|█████████ | 900/1000 [00:22<00:02, 41.24it/s]\u001b[A\n",
      "100%|██████████| 1000/1000 [00:24<00:00, 41.67it/s]\u001b[A\n",
      "                                                   \u001b[A"
     ]
    },
    {
     "name": "stdout",
     "output_type": "stream",
     "text": [
      "current noise type: None\n",
      "{'Samples': 7200, 'Features': 6, 'Anomalies': 534, 'Anomalies Ratio(%)': 7.42}\n",
      "Experimento para dados normais\n"
     ]
    },
    {
     "name": "stderr",
     "output_type": "stream",
     "text": [
      "\n",
      "  0%|          | 0/1000 [00:00<?, ?it/s]\u001b[A\n",
      " 10%|█         | 100/1000 [00:02<00:20, 44.10it/s]\u001b[A\n",
      " 20%|██        | 200/1000 [00:04<00:18, 44.17it/s]\u001b[A\n",
      " 30%|███       | 300/1000 [00:06<00:15, 44.15it/s]\u001b[A\n",
      " 40%|████      | 400/1000 [00:09<00:13, 44.15it/s]\u001b[A\n",
      " 50%|█████     | 500/1000 [00:11<00:11, 44.16it/s]\u001b[A\n",
      " 60%|██████    | 600/1000 [00:13<00:09, 44.13it/s]\u001b[A\n",
      " 70%|███████   | 700/1000 [00:15<00:06, 44.16it/s]\u001b[A\n",
      " 80%|████████  | 800/1000 [00:18<00:04, 44.18it/s]\u001b[A\n",
      " 90%|█████████ | 900/1000 [00:20<00:02, 44.18it/s]\u001b[A\n",
      "100%|██████████| 1000/1000 [00:22<00:00, 44.20it/s]\u001b[A\n",
      "                                                   \u001b[A"
     ]
    },
    {
     "name": "stdout",
     "output_type": "stream",
     "text": [
      "current noise type: None\n",
      "{'Samples': 7200, 'Features': 6, 'Anomalies': 534, 'Anomalies Ratio(%)': 7.42}\n",
      "Experimento para dados normais\n"
     ]
    },
    {
     "name": "stderr",
     "output_type": "stream",
     "text": [
      "\n",
      "  0%|          | 0/1000 [00:00<?, ?it/s]\u001b[A\n",
      " 10%|█         | 100/1000 [00:02<00:20, 43.11it/s]\u001b[A\n",
      " 20%|██        | 200/1000 [00:04<00:18, 43.29it/s]\u001b[A\n",
      " 30%|███       | 300/1000 [00:06<00:16, 43.28it/s]\u001b[A\n",
      " 40%|████      | 400/1000 [00:09<00:13, 43.33it/s]\u001b[A\n",
      " 50%|█████     | 500/1000 [00:11<00:11, 43.36it/s]\u001b[A\n",
      " 60%|██████    | 600/1000 [00:13<00:09, 43.37it/s]\u001b[A\n",
      " 70%|███████   | 700/1000 [00:16<00:06, 43.39it/s]\u001b[A\n",
      " 80%|████████  | 800/1000 [00:18<00:04, 43.40it/s]\u001b[A\n",
      " 90%|█████████ | 900/1000 [00:20<00:02, 43.40it/s]\u001b[A\n",
      "100%|██████████| 1000/1000 [00:23<00:00, 43.40it/s]\u001b[A\n",
      "                                                   \u001b[A"
     ]
    },
    {
     "name": "stdout",
     "output_type": "stream",
     "text": [
      "current noise type: None\n",
      "{'Samples': 7200, 'Features': 6, 'Anomalies': 534, 'Anomalies Ratio(%)': 7.42}\n",
      "Experimento para dados normais\n"
     ]
    },
    {
     "name": "stderr",
     "output_type": "stream",
     "text": [
      "\n",
      "  0%|          | 0/1000 [00:00<?, ?it/s]\u001b[A\n",
      " 10%|█         | 100/1000 [00:02<00:21, 41.64it/s]\u001b[A\n",
      " 20%|██        | 200/1000 [00:04<00:19, 41.70it/s]\u001b[A\n",
      " 30%|███       | 300/1000 [00:07<00:16, 41.71it/s]\u001b[A\n",
      " 40%|████      | 400/1000 [00:09<00:14, 41.67it/s]\u001b[A\n",
      " 50%|█████     | 500/1000 [00:11<00:11, 41.69it/s]\u001b[A\n",
      " 60%|██████    | 600/1000 [00:14<00:09, 41.70it/s]\u001b[A\n",
      " 70%|███████   | 700/1000 [00:16<00:07, 41.71it/s]\u001b[A\n",
      " 80%|████████  | 800/1000 [00:19<00:04, 41.70it/s]\u001b[A\n",
      " 90%|█████████ | 900/1000 [00:21<00:02, 41.70it/s]\u001b[A\n",
      "100%|██████████| 1000/1000 [00:23<00:00, 41.68it/s]\u001b[A\n",
      "                                                   \u001b[A"
     ]
    },
    {
     "name": "stdout",
     "output_type": "stream",
     "text": [
      "current noise type: None\n",
      "{'Samples': 7200, 'Features': 6, 'Anomalies': 534, 'Anomalies Ratio(%)': 7.42}\n",
      "Experimento para dados normais\n"
     ]
    },
    {
     "name": "stderr",
     "output_type": "stream",
     "text": [
      "\n",
      "  0%|          | 0/1000 [00:00<?, ?it/s]\u001b[A\n",
      " 10%|█         | 100/1000 [00:02<00:20, 44.33it/s]\u001b[A\n",
      " 20%|██        | 200/1000 [00:04<00:18, 44.40it/s]\u001b[A\n",
      " 30%|███       | 300/1000 [00:06<00:15, 44.43it/s]\u001b[A\n",
      " 40%|████      | 400/1000 [00:09<00:13, 44.42it/s]\u001b[A\n",
      " 50%|█████     | 500/1000 [00:11<00:11, 44.44it/s]\u001b[A\n",
      " 60%|██████    | 600/1000 [00:13<00:08, 44.46it/s]\u001b[A\n",
      " 70%|███████   | 700/1000 [00:15<00:06, 44.30it/s]\u001b[A\n",
      " 80%|████████  | 800/1000 [00:18<00:04, 44.44it/s]\u001b[A\n",
      " 90%|█████████ | 900/1000 [00:20<00:02, 44.46it/s]\u001b[A\n",
      "100%|██████████| 1000/1000 [00:22<00:00, 44.52it/s]\u001b[A\n",
      "                                                   \u001b[A"
     ]
    },
    {
     "name": "stdout",
     "output_type": "stream",
     "text": [
      "current noise type: None\n",
      "{'Samples': 7200, 'Features': 6, 'Anomalies': 534, 'Anomalies Ratio(%)': 7.42}\n",
      "Experimento para dados normais\n"
     ]
    },
    {
     "name": "stderr",
     "output_type": "stream",
     "text": [
      "\n",
      "  0%|          | 0/1000 [00:00<?, ?it/s]\u001b[A\n",
      " 10%|█         | 100/1000 [00:02<00:20, 43.86it/s]\u001b[A\n",
      " 20%|██        | 200/1000 [00:04<00:18, 43.84it/s]\u001b[A\n",
      " 30%|███       | 300/1000 [00:06<00:15, 43.86it/s]\u001b[A\n",
      " 40%|████      | 400/1000 [00:09<00:13, 43.85it/s]\u001b[A\n",
      " 50%|█████     | 500/1000 [00:11<00:11, 43.87it/s]\u001b[A\n",
      " 60%|██████    | 600/1000 [00:13<00:09, 43.88it/s]\u001b[A\n",
      " 70%|███████   | 700/1000 [00:15<00:06, 43.89it/s]\u001b[A\n",
      " 80%|████████  | 800/1000 [00:18<00:04, 43.88it/s]\u001b[A\n",
      " 90%|█████████ | 900/1000 [00:20<00:02, 43.88it/s]\u001b[A\n",
      "100%|██████████| 1000/1000 [00:22<00:00, 43.89it/s]\u001b[A\n",
      "                                                   \u001b[A"
     ]
    },
    {
     "name": "stdout",
     "output_type": "stream",
     "text": [
      "current noise type: None\n",
      "{'Samples': 7200, 'Features': 6, 'Anomalies': 534, 'Anomalies Ratio(%)': 7.42}\n",
      "Experimento para dados normais\n"
     ]
    },
    {
     "name": "stderr",
     "output_type": "stream",
     "text": [
      "\n",
      "  0%|          | 0/1000 [00:00<?, ?it/s]\u001b[A\n",
      " 10%|█         | 100/1000 [00:02<00:21, 42.13it/s]\u001b[A\n",
      " 20%|██        | 200/1000 [00:04<00:18, 42.15it/s]\u001b[A\n",
      " 30%|███       | 300/1000 [00:07<00:16, 42.14it/s]\u001b[A\n",
      " 40%|████      | 400/1000 [00:09<00:14, 42.14it/s]\u001b[A\n",
      " 50%|█████     | 500/1000 [00:11<00:11, 42.12it/s]\u001b[A\n",
      " 60%|██████    | 600/1000 [00:14<00:09, 42.12it/s]\u001b[A\n",
      " 70%|███████   | 700/1000 [00:16<00:07, 42.08it/s]\u001b[A\n",
      " 80%|████████  | 800/1000 [00:18<00:04, 42.10it/s]\u001b[A\n",
      " 90%|█████████ | 900/1000 [00:21<00:02, 42.10it/s]\u001b[A\n",
      "100%|██████████| 1000/1000 [00:23<00:00, 42.12it/s]\u001b[A\n",
      "                                                   \u001b[A"
     ]
    },
    {
     "name": "stdout",
     "output_type": "stream",
     "text": [
      "current noise type: None\n",
      "{'Samples': 7200, 'Features': 6, 'Anomalies': 534, 'Anomalies Ratio(%)': 7.42}\n",
      "Experimento para dados normais\n"
     ]
    },
    {
     "name": "stderr",
     "output_type": "stream",
     "text": [
      "\n",
      "  0%|          | 0/1000 [00:00<?, ?it/s]\u001b[A\n",
      " 10%|█         | 100/1000 [00:02<00:20, 44.56it/s]\u001b[A\n",
      " 20%|██        | 200/1000 [00:04<00:17, 44.56it/s]\u001b[A\n",
      " 30%|███       | 300/1000 [00:06<00:15, 44.46it/s]\u001b[A\n",
      " 40%|████      | 400/1000 [00:08<00:13, 44.51it/s]\u001b[A\n",
      " 50%|█████     | 500/1000 [00:11<00:11, 44.50it/s]\u001b[A\n",
      " 60%|██████    | 600/1000 [00:13<00:08, 44.53it/s]\u001b[A\n",
      " 70%|███████   | 700/1000 [00:15<00:06, 44.56it/s]\u001b[A\n",
      " 80%|████████  | 800/1000 [00:17<00:04, 44.59it/s]\u001b[A\n",
      " 90%|█████████ | 900/1000 [00:20<00:02, 44.60it/s]\u001b[A\n",
      "100%|██████████| 1000/1000 [00:22<00:00, 41.67it/s]\u001b[A\n",
      "                                                   \u001b[A"
     ]
    },
    {
     "name": "stdout",
     "output_type": "stream",
     "text": [
      "current noise type: None\n",
      "{'Samples': 7200, 'Features': 6, 'Anomalies': 534, 'Anomalies Ratio(%)': 7.42}\n",
      "Experimento para dados normais\n"
     ]
    },
    {
     "name": "stderr",
     "output_type": "stream",
     "text": [
      "\n",
      "  0%|          | 0/1000 [00:00<?, ?it/s]\u001b[A\n",
      " 10%|█         | 100/1000 [00:02<00:26, 34.19it/s]\u001b[A\n",
      " 20%|██        | 200/1000 [00:05<00:20, 39.26it/s]\u001b[A\n",
      " 30%|███       | 300/1000 [00:07<00:16, 41.19it/s]\u001b[A\n",
      " 40%|████      | 400/1000 [00:09<00:14, 42.19it/s]\u001b[A\n",
      " 50%|█████     | 500/1000 [00:12<00:11, 42.76it/s]\u001b[A\n",
      " 60%|██████    | 600/1000 [00:14<00:09, 43.11it/s]\u001b[A\n",
      " 70%|███████   | 700/1000 [00:16<00:06, 43.32it/s]\u001b[A\n",
      " 80%|████████  | 800/1000 [00:18<00:04, 43.47it/s]\u001b[A\n",
      " 90%|█████████ | 900/1000 [00:21<00:02, 43.57it/s]\u001b[A\n",
      "100%|██████████| 1000/1000 [00:23<00:00, 43.64it/s]\u001b[A\n",
      "                                                   \u001b[A"
     ]
    },
    {
     "name": "stdout",
     "output_type": "stream",
     "text": [
      "current noise type: None\n",
      "{'Samples': 7200, 'Features': 6, 'Anomalies': 534, 'Anomalies Ratio(%)': 7.42}\n",
      "Experimento para dados normais\n"
     ]
    },
    {
     "name": "stderr",
     "output_type": "stream",
     "text": [
      "\n",
      "  0%|          | 0/1000 [00:00<?, ?it/s]\u001b[A\n",
      " 10%|█         | 100/1000 [00:02<00:21, 42.10it/s]\u001b[A\n",
      " 20%|██        | 200/1000 [00:04<00:19, 42.03it/s]\u001b[A\n",
      " 30%|███       | 300/1000 [00:07<00:16, 42.06it/s]\u001b[A\n",
      " 40%|████      | 400/1000 [00:09<00:14, 42.09it/s]\u001b[A\n",
      " 50%|█████     | 500/1000 [00:11<00:11, 42.09it/s]\u001b[A\n",
      " 60%|██████    | 600/1000 [00:14<00:09, 42.08it/s]\u001b[A\n",
      " 70%|███████   | 700/1000 [00:16<00:07, 42.08it/s]\u001b[A\n",
      " 80%|████████  | 800/1000 [00:19<00:04, 42.06it/s]\u001b[A\n",
      " 90%|█████████ | 900/1000 [00:21<00:02, 42.06it/s]\u001b[A\n",
      "100%|██████████| 1000/1000 [00:23<00:00, 42.06it/s]\u001b[A\n",
      "                                                   \u001b[A"
     ]
    },
    {
     "name": "stdout",
     "output_type": "stream",
     "text": [
      "current noise type: None\n",
      "{'Samples': 7200, 'Features': 6, 'Anomalies': 534, 'Anomalies Ratio(%)': 7.42}\n",
      "Experimento para dados normais\n"
     ]
    },
    {
     "name": "stderr",
     "output_type": "stream",
     "text": [
      "\n",
      "  0%|          | 0/1000 [00:00<?, ?it/s]\u001b[A\n",
      " 10%|█         | 100/1000 [00:02<00:20, 44.52it/s]\u001b[A\n",
      " 20%|██        | 200/1000 [00:04<00:17, 44.55it/s]\u001b[A\n",
      " 30%|███       | 300/1000 [00:06<00:15, 44.55it/s]\u001b[A\n",
      " 40%|████      | 400/1000 [00:08<00:13, 44.54it/s]\u001b[A\n",
      " 50%|█████     | 500/1000 [00:11<00:11, 44.53it/s]\u001b[A\n",
      " 60%|██████    | 600/1000 [00:13<00:08, 44.55it/s]\u001b[A\n",
      " 70%|███████   | 700/1000 [00:15<00:06, 44.56it/s]\u001b[A\n",
      " 80%|████████  | 800/1000 [00:17<00:04, 44.55it/s]\u001b[A\n",
      " 90%|█████████ | 900/1000 [00:20<00:02, 44.53it/s]\u001b[A\n",
      "100%|██████████| 1000/1000 [00:22<00:00, 44.38it/s]\u001b[A\n",
      "                                                   \u001b[A"
     ]
    },
    {
     "name": "stdout",
     "output_type": "stream",
     "text": [
      "current noise type: None\n",
      "{'Samples': 7200, 'Features': 6, 'Anomalies': 534, 'Anomalies Ratio(%)': 7.42}\n",
      "Experimento para dados normais\n"
     ]
    },
    {
     "name": "stderr",
     "output_type": "stream",
     "text": [
      "\n",
      "  0%|          | 0/1000 [00:00<?, ?it/s]\u001b[A\n",
      " 10%|█         | 100/1000 [00:02<00:20, 43.79it/s]\u001b[A\n",
      " 20%|██        | 200/1000 [00:04<00:18, 43.79it/s]\u001b[A\n",
      " 30%|███       | 300/1000 [00:06<00:15, 43.80it/s]\u001b[A\n",
      " 40%|████      | 400/1000 [00:09<00:13, 43.78it/s]\u001b[A\n",
      " 50%|█████     | 500/1000 [00:11<00:11, 43.76it/s]\u001b[A\n",
      " 60%|██████    | 600/1000 [00:13<00:09, 43.75it/s]\u001b[A\n",
      " 70%|███████   | 700/1000 [00:15<00:06, 43.75it/s]\u001b[A\n",
      " 80%|████████  | 800/1000 [00:18<00:04, 43.68it/s]\u001b[A\n",
      " 90%|█████████ | 900/1000 [00:20<00:02, 43.69it/s]\u001b[A\n",
      "100%|██████████| 1000/1000 [00:22<00:00, 43.70it/s]\u001b[A\n",
      "                                                   \u001b[A"
     ]
    },
    {
     "name": "stdout",
     "output_type": "stream",
     "text": [
      "current noise type: None\n",
      "{'Samples': 7200, 'Features': 6, 'Anomalies': 534, 'Anomalies Ratio(%)': 7.42}\n",
      "Experimento para dados normais\n"
     ]
    },
    {
     "name": "stderr",
     "output_type": "stream",
     "text": [
      "\n",
      "  0%|          | 0/1000 [00:00<?, ?it/s]\u001b[A\n",
      " 10%|█         | 100/1000 [00:02<00:21, 42.04it/s]\u001b[A\n",
      " 20%|██        | 200/1000 [00:04<00:19, 42.03it/s]\u001b[A\n",
      " 30%|███       | 300/1000 [00:07<00:16, 41.99it/s]\u001b[A\n",
      " 40%|████      | 400/1000 [00:09<00:14, 41.90it/s]\u001b[A\n",
      " 50%|█████     | 500/1000 [00:11<00:11, 41.91it/s]\u001b[A\n",
      " 60%|██████    | 600/1000 [00:14<00:09, 41.94it/s]\u001b[A\n",
      " 70%|███████   | 700/1000 [00:16<00:07, 41.96it/s]\u001b[A\n",
      " 80%|████████  | 800/1000 [00:19<00:04, 41.95it/s]\u001b[A\n",
      " 90%|█████████ | 900/1000 [00:21<00:02, 41.94it/s]\u001b[A\n",
      "100%|██████████| 1000/1000 [00:23<00:00, 41.96it/s]\u001b[A\n",
      "                                                   \u001b[A"
     ]
    },
    {
     "name": "stdout",
     "output_type": "stream",
     "text": [
      "current noise type: None\n",
      "{'Samples': 7200, 'Features': 6, 'Anomalies': 534, 'Anomalies Ratio(%)': 7.42}\n",
      "Experimento para dados normais\n"
     ]
    },
    {
     "name": "stderr",
     "output_type": "stream",
     "text": [
      "\n",
      "  0%|          | 0/1000 [00:00<?, ?it/s]\u001b[A\n",
      " 10%|█         | 100/1000 [00:02<00:20, 43.59it/s]\u001b[A\n",
      " 20%|██        | 200/1000 [00:04<00:18, 43.59it/s]\u001b[A\n",
      " 30%|███       | 300/1000 [00:06<00:16, 43.58it/s]\u001b[A\n",
      " 40%|████      | 400/1000 [00:09<00:13, 43.60it/s]\u001b[A\n",
      " 50%|█████     | 500/1000 [00:11<00:11, 43.60it/s]\u001b[A\n",
      " 60%|██████    | 600/1000 [00:13<00:09, 43.59it/s]\u001b[A\n",
      " 70%|███████   | 700/1000 [00:16<00:06, 43.58it/s]\u001b[A\n",
      " 80%|████████  | 800/1000 [00:18<00:04, 43.59it/s]\u001b[A\n",
      " 90%|█████████ | 900/1000 [00:20<00:02, 43.58it/s]\u001b[A\n",
      "100%|██████████| 1000/1000 [00:22<00:00, 43.59it/s]\u001b[A\n",
      "                                                   \u001b[A"
     ]
    },
    {
     "name": "stdout",
     "output_type": "stream",
     "text": [
      "current noise type: None\n",
      "{'Samples': 7200, 'Features': 6, 'Anomalies': 534, 'Anomalies Ratio(%)': 7.42}\n",
      "Experimento para dados normais\n"
     ]
    },
    {
     "name": "stderr",
     "output_type": "stream",
     "text": [
      "\n",
      "  0%|          | 0/1000 [00:00<?, ?it/s]\u001b[A\n",
      " 10%|█         | 100/1000 [00:02<00:21, 42.80it/s]\u001b[A\n",
      " 20%|██        | 200/1000 [00:04<00:18, 42.77it/s]\u001b[A\n",
      " 30%|███       | 300/1000 [00:07<00:16, 42.72it/s]\u001b[A\n",
      " 40%|████      | 400/1000 [00:09<00:14, 42.71it/s]\u001b[A\n",
      " 50%|█████     | 500/1000 [00:11<00:11, 42.74it/s]\u001b[A\n",
      " 60%|██████    | 600/1000 [00:14<00:09, 42.72it/s]\u001b[A\n",
      " 70%|███████   | 700/1000 [00:16<00:07, 42.74it/s]\u001b[A\n",
      " 80%|████████  | 800/1000 [00:18<00:04, 42.74it/s]\u001b[A\n",
      " 90%|█████████ | 900/1000 [00:21<00:02, 42.75it/s]\u001b[A\n",
      "100%|██████████| 1000/1000 [00:23<00:00, 42.76it/s]\u001b[A\n",
      "                                                   \u001b[A"
     ]
    },
    {
     "name": "stdout",
     "output_type": "stream",
     "text": [
      "current noise type: None\n",
      "{'Samples': 7200, 'Features': 6, 'Anomalies': 534, 'Anomalies Ratio(%)': 7.42}\n",
      "Experimento para dados normais\n"
     ]
    },
    {
     "name": "stderr",
     "output_type": "stream",
     "text": [
      "\n",
      "  0%|          | 0/1000 [00:00<?, ?it/s]\u001b[A\n",
      " 10%|█         | 100/1000 [00:02<00:21, 41.10it/s]\u001b[A\n",
      " 20%|██        | 200/1000 [00:04<00:19, 41.10it/s]\u001b[A\n",
      " 30%|███       | 300/1000 [00:07<00:17, 41.06it/s]\u001b[A\n",
      " 40%|████      | 400/1000 [00:09<00:14, 41.08it/s]\u001b[A\n",
      " 50%|█████     | 500/1000 [00:12<00:12, 41.09it/s]\u001b[A\n",
      " 60%|██████    | 600/1000 [00:14<00:09, 40.81it/s]\u001b[A\n",
      " 70%|███████   | 700/1000 [00:17<00:07, 39.30it/s]\u001b[A\n",
      " 80%|████████  | 800/1000 [00:19<00:05, 39.85it/s]\u001b[A\n",
      " 90%|█████████ | 900/1000 [00:22<00:02, 40.23it/s]\u001b[A\n",
      "100%|██████████| 1000/1000 [00:24<00:00, 40.49it/s]\u001b[A\n",
      "                                                   \u001b[A"
     ]
    },
    {
     "name": "stdout",
     "output_type": "stream",
     "text": [
      "subsampling for dataset 03_backdoor...\n",
      "current noise type: None\n",
      "{'Samples': 10000, 'Features': 196, 'Anomalies': 236, 'Anomalies Ratio(%)': 2.36}\n",
      "Experimento para dados normais\n"
     ]
    },
    {
     "name": "stderr",
     "output_type": "stream",
     "text": [
      "\n",
      "  0%|          | 0/1000 [00:00<?, ?it/s]\u001b[A\n",
      " 10%|█         | 100/1000 [00:04<00:37, 24.21it/s]\u001b[A\n",
      " 20%|██        | 200/1000 [00:08<00:33, 24.22it/s]\u001b[A\n",
      " 30%|███       | 300/1000 [00:12<00:29, 24.02it/s]\u001b[A\n",
      " 40%|████      | 400/1000 [00:16<00:25, 23.49it/s]\u001b[A\n",
      " 50%|█████     | 500/1000 [00:21<00:21, 23.01it/s]\u001b[A\n",
      " 60%|██████    | 600/1000 [00:25<00:17, 22.81it/s]\u001b[A\n",
      " 70%|███████   | 700/1000 [00:30<00:13, 22.68it/s]\u001b[A\n",
      " 80%|████████  | 800/1000 [00:34<00:08, 22.74it/s]\u001b[A\n",
      " 90%|█████████ | 900/1000 [00:39<00:04, 22.71it/s]\u001b[A\n",
      "100%|██████████| 1000/1000 [00:43<00:00, 22.54it/s]\u001b[A\n",
      "                                                   \u001b[A"
     ]
    },
    {
     "name": "stdout",
     "output_type": "stream",
     "text": [
      "subsampling for dataset 03_backdoor...\n",
      "current noise type: None\n",
      "{'Samples': 10000, 'Features': 196, 'Anomalies': 236, 'Anomalies Ratio(%)': 2.36}\n",
      "Experimento para dados normais\n"
     ]
    },
    {
     "name": "stderr",
     "output_type": "stream",
     "text": [
      "\n",
      "  0%|          | 0/1000 [00:00<?, ?it/s]\u001b[A\n",
      " 10%|█         | 100/1000 [00:04<00:39, 22.50it/s]\u001b[A\n",
      " 20%|██        | 200/1000 [00:08<00:35, 22.48it/s]\u001b[A\n",
      " 30%|███       | 300/1000 [00:13<00:31, 22.50it/s]\u001b[A\n",
      " 40%|████      | 400/1000 [00:17<00:26, 22.50it/s]\u001b[A\n",
      " 50%|█████     | 500/1000 [00:22<00:22, 22.50it/s]\u001b[A\n",
      " 60%|██████    | 600/1000 [00:26<00:17, 22.49it/s]\u001b[A\n",
      " 70%|███████   | 700/1000 [00:31<00:13, 22.47it/s]\u001b[A\n",
      " 80%|████████  | 800/1000 [00:35<00:08, 22.47it/s]\u001b[A\n",
      " 90%|█████████ | 900/1000 [00:40<00:04, 22.46it/s]\u001b[A\n",
      "100%|██████████| 1000/1000 [00:44<00:00, 22.48it/s]\u001b[A\n",
      "                                                   \u001b[A"
     ]
    },
    {
     "name": "stdout",
     "output_type": "stream",
     "text": [
      "subsampling for dataset 03_backdoor...\n",
      "current noise type: None\n",
      "{'Samples': 10000, 'Features': 196, 'Anomalies': 236, 'Anomalies Ratio(%)': 2.36}\n",
      "Experimento para dados normais\n"
     ]
    },
    {
     "name": "stderr",
     "output_type": "stream",
     "text": [
      "\n",
      "  0%|          | 0/1000 [00:00<?, ?it/s]\u001b[A\n",
      " 10%|█         | 100/1000 [00:05<00:50, 17.90it/s]\u001b[A\n",
      " 20%|██        | 200/1000 [00:11<00:45, 17.77it/s]\u001b[A\n",
      " 30%|███       | 300/1000 [00:16<00:39, 17.63it/s]\u001b[A\n",
      " 40%|████      | 400/1000 [00:22<00:33, 17.74it/s]\u001b[A\n",
      " 50%|█████     | 500/1000 [00:28<00:28, 17.83it/s]\u001b[A\n",
      " 60%|██████    | 600/1000 [00:33<00:22, 17.88it/s]\u001b[A\n",
      " 70%|███████   | 700/1000 [00:39<00:16, 17.92it/s]\u001b[A\n",
      " 80%|████████  | 800/1000 [00:44<00:11, 17.95it/s]\u001b[A\n",
      " 90%|█████████ | 900/1000 [00:50<00:05, 17.98it/s]\u001b[A\n",
      "100%|██████████| 1000/1000 [00:55<00:00, 18.03it/s]\u001b[A\n",
      "                                                   \u001b[A"
     ]
    },
    {
     "name": "stdout",
     "output_type": "stream",
     "text": [
      "subsampling for dataset 03_backdoor...\n",
      "current noise type: None\n",
      "{'Samples': 10000, 'Features': 196, 'Anomalies': 236, 'Anomalies Ratio(%)': 2.36}\n",
      "Experimento para dados normais\n"
     ]
    },
    {
     "name": "stderr",
     "output_type": "stream",
     "text": [
      "\n",
      "  0%|          | 0/1000 [00:00<?, ?it/s]\u001b[A\n",
      " 10%|█         | 100/1000 [00:04<00:37, 24.23it/s]\u001b[A\n",
      " 20%|██        | 200/1000 [00:08<00:33, 23.99it/s]\u001b[A\n",
      " 30%|███       | 300/1000 [00:13<00:32, 21.47it/s]\u001b[A\n",
      " 40%|████      | 400/1000 [00:17<00:26, 22.51it/s]\u001b[A\n",
      " 50%|█████     | 500/1000 [00:21<00:21, 23.12it/s]\u001b[A\n",
      " 60%|██████    | 600/1000 [00:25<00:17, 23.51it/s]\u001b[A\n",
      " 70%|███████   | 700/1000 [00:30<00:12, 23.76it/s]\u001b[A\n",
      " 80%|████████  | 800/1000 [00:34<00:08, 23.93it/s]\u001b[A\n",
      " 90%|█████████ | 900/1000 [00:38<00:04, 24.02it/s]\u001b[A\n",
      "100%|██████████| 1000/1000 [00:42<00:00, 24.10it/s]\u001b[A\n",
      "                                                   \u001b[A"
     ]
    },
    {
     "name": "stdout",
     "output_type": "stream",
     "text": [
      "subsampling for dataset 03_backdoor...\n",
      "current noise type: None\n",
      "{'Samples': 10000, 'Features': 196, 'Anomalies': 236, 'Anomalies Ratio(%)': 2.36}\n",
      "Experimento para dados normais\n"
     ]
    },
    {
     "name": "stderr",
     "output_type": "stream",
     "text": [
      "\n",
      "  0%|          | 0/1000 [00:00<?, ?it/s]\u001b[A\n",
      " 10%|█         | 100/1000 [00:04<00:39, 22.67it/s]\u001b[A\n",
      " 20%|██        | 200/1000 [00:08<00:35, 22.66it/s]\u001b[A\n",
      " 30%|███       | 300/1000 [00:13<00:30, 22.64it/s]\u001b[A\n",
      " 40%|████      | 400/1000 [00:17<00:26, 22.64it/s]\u001b[A\n",
      " 50%|█████     | 500/1000 [00:22<00:22, 22.64it/s]\u001b[A\n",
      " 60%|██████    | 600/1000 [00:26<00:17, 22.64it/s]\u001b[A\n",
      " 70%|███████   | 700/1000 [00:30<00:13, 22.64it/s]\u001b[A\n",
      " 80%|████████  | 800/1000 [00:35<00:08, 22.63it/s]\u001b[A\n",
      " 90%|█████████ | 900/1000 [00:39<00:04, 22.63it/s]\u001b[A\n",
      "100%|██████████| 1000/1000 [00:44<00:00, 22.63it/s]\u001b[A\n",
      "                                                   \u001b[A"
     ]
    },
    {
     "name": "stdout",
     "output_type": "stream",
     "text": [
      "subsampling for dataset 03_backdoor...\n",
      "current noise type: None\n",
      "{'Samples': 10000, 'Features': 196, 'Anomalies': 236, 'Anomalies Ratio(%)': 2.36}\n",
      "Experimento para dados normais\n"
     ]
    },
    {
     "name": "stderr",
     "output_type": "stream",
     "text": [
      "\n",
      "  0%|          | 0/1000 [00:00<?, ?it/s]\u001b[A\n",
      " 10%|█         | 100/1000 [00:05<00:49, 18.13it/s]\u001b[A\n",
      " 20%|██        | 200/1000 [00:11<00:44, 18.17it/s]\u001b[A\n",
      " 30%|███       | 300/1000 [00:16<00:38, 18.18it/s]\u001b[A\n",
      " 40%|████      | 400/1000 [00:22<00:33, 18.18it/s]\u001b[A\n",
      " 50%|█████     | 500/1000 [00:27<00:27, 18.18it/s]\u001b[A\n",
      " 60%|██████    | 600/1000 [00:33<00:22, 18.16it/s]\u001b[A\n",
      " 70%|███████   | 700/1000 [00:38<00:16, 18.17it/s]\u001b[A\n",
      " 80%|████████  | 800/1000 [00:44<00:11, 18.17it/s]\u001b[A\n",
      " 90%|█████████ | 900/1000 [00:49<00:05, 18.18it/s]\u001b[A\n",
      "100%|██████████| 1000/1000 [00:55<00:00, 18.16it/s]\u001b[A\n",
      "                                                   \u001b[A"
     ]
    },
    {
     "name": "stdout",
     "output_type": "stream",
     "text": [
      "subsampling for dataset 03_backdoor...\n",
      "current noise type: None\n",
      "{'Samples': 10000, 'Features': 196, 'Anomalies': 236, 'Anomalies Ratio(%)': 2.36}\n",
      "Experimento para dados normais\n"
     ]
    },
    {
     "name": "stderr",
     "output_type": "stream",
     "text": [
      "\n",
      "  0%|          | 0/1000 [00:00<?, ?it/s]\u001b[A\n",
      " 10%|█         | 100/1000 [00:04<00:37, 24.21it/s]\u001b[A\n",
      " 20%|██        | 200/1000 [00:08<00:32, 24.25it/s]\u001b[A\n",
      " 30%|███       | 300/1000 [00:12<00:28, 24.25it/s]\u001b[A\n",
      " 40%|████      | 400/1000 [00:16<00:24, 24.23it/s]\u001b[A\n",
      " 50%|█████     | 500/1000 [00:20<00:20, 24.25it/s]\u001b[A\n",
      " 60%|██████    | 600/1000 [00:24<00:16, 24.26it/s]\u001b[A\n",
      " 70%|███████   | 700/1000 [00:28<00:12, 24.25it/s]\u001b[A\n",
      " 80%|████████  | 800/1000 [00:33<00:08, 22.99it/s]\u001b[A\n",
      " 90%|█████████ | 900/1000 [00:38<00:04, 22.34it/s]\u001b[A\n",
      "100%|██████████| 1000/1000 [00:42<00:00, 22.90it/s]\u001b[A\n",
      "                                                   \u001b[A"
     ]
    },
    {
     "name": "stdout",
     "output_type": "stream",
     "text": [
      "subsampling for dataset 03_backdoor...\n",
      "current noise type: None\n",
      "{'Samples': 10000, 'Features': 196, 'Anomalies': 236, 'Anomalies Ratio(%)': 2.36}\n",
      "Experimento para dados normais\n"
     ]
    },
    {
     "name": "stderr",
     "output_type": "stream",
     "text": [
      "\n",
      "  0%|          | 0/1000 [00:00<?, ?it/s]\u001b[A\n",
      " 10%|█         | 100/1000 [00:04<00:39, 22.55it/s]\u001b[A\n",
      " 20%|██        | 200/1000 [00:08<00:35, 22.54it/s]\u001b[A\n",
      " 30%|███       | 300/1000 [00:13<00:31, 22.55it/s]\u001b[A\n",
      " 40%|████      | 400/1000 [00:17<00:26, 22.54it/s]\u001b[A\n",
      " 50%|█████     | 500/1000 [00:22<00:22, 22.58it/s]\u001b[A\n",
      " 60%|██████    | 600/1000 [00:26<00:17, 22.58it/s]\u001b[A\n",
      " 70%|███████   | 700/1000 [00:31<00:13, 22.57it/s]\u001b[A\n",
      " 80%|████████  | 800/1000 [00:35<00:08, 22.57it/s]\u001b[A\n",
      " 90%|█████████ | 900/1000 [00:39<00:04, 22.56it/s]\u001b[A\n",
      "100%|██████████| 1000/1000 [00:44<00:00, 22.56it/s]\u001b[A\n",
      "                                                   \u001b[A"
     ]
    },
    {
     "name": "stdout",
     "output_type": "stream",
     "text": [
      "subsampling for dataset 03_backdoor...\n",
      "current noise type: None\n",
      "{'Samples': 10000, 'Features': 196, 'Anomalies': 236, 'Anomalies Ratio(%)': 2.36}\n",
      "Experimento para dados normais\n"
     ]
    },
    {
     "name": "stderr",
     "output_type": "stream",
     "text": [
      "\n",
      "  0%|          | 0/1000 [00:00<?, ?it/s]\u001b[A\n",
      " 10%|█         | 100/1000 [00:05<00:49, 18.35it/s]\u001b[A\n",
      " 20%|██        | 200/1000 [00:10<00:43, 18.35it/s]\u001b[A\n",
      " 30%|███       | 300/1000 [00:16<00:38, 18.36it/s]\u001b[A\n",
      " 40%|████      | 400/1000 [00:21<00:32, 18.35it/s]\u001b[A\n",
      " 50%|█████     | 500/1000 [00:27<00:27, 18.34it/s]\u001b[A\n",
      " 60%|██████    | 600/1000 [00:32<00:21, 18.34it/s]\u001b[A\n",
      " 70%|███████   | 700/1000 [00:38<00:16, 18.35it/s]\u001b[A\n",
      " 80%|████████  | 800/1000 [00:43<00:10, 18.36it/s]\u001b[A\n",
      " 90%|█████████ | 900/1000 [00:49<00:05, 18.37it/s]\u001b[A\n",
      "100%|██████████| 1000/1000 [00:54<00:00, 18.37it/s]\u001b[A\n",
      "                                                   \u001b[A"
     ]
    },
    {
     "name": "stdout",
     "output_type": "stream",
     "text": [
      "subsampling for dataset 03_backdoor...\n",
      "current noise type: None\n",
      "{'Samples': 10000, 'Features': 196, 'Anomalies': 236, 'Anomalies Ratio(%)': 2.36}\n",
      "Experimento para dados normais\n"
     ]
    },
    {
     "name": "stderr",
     "output_type": "stream",
     "text": [
      "\n",
      "  0%|          | 0/1000 [00:00<?, ?it/s]\u001b[A\n",
      " 10%|█         | 100/1000 [00:04<00:38, 23.64it/s]\u001b[A\n",
      " 20%|██        | 200/1000 [00:08<00:33, 23.65it/s]\u001b[A\n",
      " 30%|███       | 300/1000 [00:12<00:29, 23.65it/s]\u001b[A\n",
      " 40%|████      | 400/1000 [00:16<00:25, 23.66it/s]\u001b[A\n",
      " 50%|█████     | 500/1000 [00:21<00:21, 23.68it/s]\u001b[A\n",
      " 60%|██████    | 600/1000 [00:25<00:16, 23.67it/s]\u001b[A\n",
      " 70%|███████   | 700/1000 [00:29<00:12, 23.67it/s]\u001b[A\n",
      " 80%|████████  | 800/1000 [00:33<00:08, 23.66it/s]\u001b[A\n",
      " 90%|█████████ | 900/1000 [00:38<00:04, 23.66it/s]\u001b[A\n",
      "100%|██████████| 1000/1000 [00:42<00:00, 23.66it/s]\u001b[A\n",
      "                                                   \u001b[A"
     ]
    },
    {
     "name": "stdout",
     "output_type": "stream",
     "text": [
      "subsampling for dataset 03_backdoor...\n",
      "current noise type: None\n",
      "{'Samples': 10000, 'Features': 196, 'Anomalies': 236, 'Anomalies Ratio(%)': 2.36}\n",
      "Experimento para dados normais\n"
     ]
    },
    {
     "name": "stderr",
     "output_type": "stream",
     "text": [
      "\n",
      "  0%|          | 0/1000 [00:00<?, ?it/s]\u001b[A\n",
      " 10%|█         | 100/1000 [00:04<00:40, 22.00it/s]\u001b[A\n",
      " 20%|██        | 200/1000 [00:09<00:36, 22.02it/s]\u001b[A\n",
      " 30%|███       | 300/1000 [00:14<00:35, 19.53it/s]\u001b[A\n",
      " 40%|████      | 400/1000 [00:19<00:29, 20.41it/s]\u001b[A\n",
      " 50%|█████     | 500/1000 [00:23<00:23, 20.97it/s]\u001b[A\n",
      " 60%|██████    | 600/1000 [00:28<00:18, 21.33it/s]\u001b[A\n",
      " 70%|███████   | 700/1000 [00:33<00:13, 21.57it/s]\u001b[A\n",
      " 80%|████████  | 800/1000 [00:37<00:09, 21.73it/s]\u001b[A\n",
      " 90%|█████████ | 900/1000 [00:42<00:04, 21.83it/s]\u001b[A\n",
      "100%|██████████| 1000/1000 [00:46<00:00, 21.90it/s]\u001b[A\n",
      "                                                   \u001b[A"
     ]
    },
    {
     "name": "stdout",
     "output_type": "stream",
     "text": [
      "subsampling for dataset 03_backdoor...\n",
      "current noise type: None\n",
      "{'Samples': 10000, 'Features': 196, 'Anomalies': 236, 'Anomalies Ratio(%)': 2.36}\n",
      "Experimento para dados normais\n"
     ]
    },
    {
     "name": "stderr",
     "output_type": "stream",
     "text": [
      "\n",
      "  0%|          | 0/1000 [00:00<?, ?it/s]\u001b[A\n",
      " 10%|█         | 100/1000 [00:05<00:50, 17.79it/s]\u001b[A\n",
      " 20%|██        | 200/1000 [00:11<00:44, 17.81it/s]\u001b[A\n",
      " 30%|███       | 300/1000 [00:16<00:39, 17.81it/s]\u001b[A\n",
      " 40%|████      | 400/1000 [00:22<00:33, 17.82it/s]\u001b[A\n",
      " 50%|█████     | 500/1000 [00:28<00:28, 17.79it/s]\u001b[A\n",
      " 60%|██████    | 600/1000 [00:33<00:22, 17.78it/s]\u001b[A\n",
      " 70%|███████   | 700/1000 [00:39<00:16, 17.78it/s]\u001b[A\n",
      " 80%|████████  | 800/1000 [00:44<00:11, 17.78it/s]\u001b[A\n",
      " 90%|█████████ | 900/1000 [00:50<00:05, 17.79it/s]\u001b[A\n",
      "100%|██████████| 1000/1000 [00:56<00:00, 17.81it/s]\u001b[A\n",
      "                                                   \u001b[A"
     ]
    },
    {
     "name": "stdout",
     "output_type": "stream",
     "text": [
      "subsampling for dataset 03_backdoor...\n",
      "current noise type: None\n",
      "{'Samples': 10000, 'Features': 196, 'Anomalies': 236, 'Anomalies Ratio(%)': 2.36}\n",
      "Experimento para dados normais\n"
     ]
    },
    {
     "name": "stderr",
     "output_type": "stream",
     "text": [
      "\n",
      "  0%|          | 0/1000 [00:00<?, ?it/s]\u001b[A\n",
      " 10%|█         | 100/1000 [00:06<01:01, 14.62it/s]\u001b[A\n",
      " 20%|██        | 200/1000 [00:13<00:54, 14.65it/s]\u001b[A\n",
      " 30%|███       | 300/1000 [00:20<00:47, 14.64it/s]\u001b[A\n",
      " 40%|████      | 400/1000 [00:27<00:40, 14.65it/s]\u001b[A\n",
      " 50%|█████     | 500/1000 [00:34<00:34, 14.65it/s]\u001b[A\n",
      " 60%|██████    | 600/1000 [00:40<00:27, 14.63it/s]\u001b[A\n",
      " 70%|███████   | 700/1000 [00:47<00:20, 14.62it/s]\u001b[A\n",
      " 80%|████████  | 800/1000 [00:54<00:13, 14.64it/s]\u001b[A\n",
      " 90%|█████████ | 900/1000 [01:01<00:06, 14.65it/s]\u001b[A\n",
      "100%|██████████| 1000/1000 [01:08<00:00, 14.66it/s]\u001b[A\n",
      "                                                   \u001b[A"
     ]
    },
    {
     "name": "stdout",
     "output_type": "stream",
     "text": [
      "subsampling for dataset 03_backdoor...\n",
      "current noise type: None\n",
      "{'Samples': 10000, 'Features': 196, 'Anomalies': 236, 'Anomalies Ratio(%)': 2.36}\n",
      "Experimento para dados normais\n"
     ]
    },
    {
     "name": "stderr",
     "output_type": "stream",
     "text": [
      "\n",
      "  0%|          | 0/1000 [00:00<?, ?it/s]\u001b[A\n",
      " 10%|█         | 100/1000 [00:08<01:17, 11.66it/s]\u001b[A\n",
      " 20%|██        | 200/1000 [00:15<01:01, 12.97it/s]\u001b[A\n",
      " 30%|███       | 300/1000 [00:22<00:52, 13.46it/s]\u001b[A\n",
      " 40%|████      | 400/1000 [00:29<00:43, 13.70it/s]\u001b[A\n",
      " 50%|█████     | 500/1000 [00:36<00:36, 13.83it/s]\u001b[A\n",
      " 60%|██████    | 600/1000 [00:44<00:28, 13.91it/s]\u001b[A\n",
      " 70%|███████   | 700/1000 [00:51<00:21, 13.97it/s]\u001b[A\n",
      " 80%|████████  | 800/1000 [00:58<00:14, 14.00it/s]\u001b[A\n",
      " 90%|█████████ | 900/1000 [01:05<00:07, 14.02it/s]\u001b[A\n",
      "100%|██████████| 1000/1000 [01:12<00:00, 14.03it/s]\u001b[A\n",
      "                                                   \u001b[A"
     ]
    },
    {
     "name": "stdout",
     "output_type": "stream",
     "text": [
      "subsampling for dataset 03_backdoor...\n",
      "current noise type: None\n",
      "{'Samples': 10000, 'Features': 196, 'Anomalies': 236, 'Anomalies Ratio(%)': 2.36}\n",
      "Experimento para dados normais\n"
     ]
    },
    {
     "name": "stderr",
     "output_type": "stream",
     "text": [
      "\n",
      "  0%|          | 0/1000 [00:00<?, ?it/s]\u001b[A\n",
      " 10%|█         | 100/1000 [00:08<01:14, 12.05it/s]\u001b[A\n",
      " 20%|██        | 200/1000 [00:16<01:05, 12.21it/s]\u001b[A\n",
      " 30%|███       | 300/1000 [00:24<00:56, 12.29it/s]\u001b[A\n",
      " 40%|████      | 400/1000 [00:32<00:48, 12.33it/s]\u001b[A\n",
      " 50%|█████     | 500/1000 [00:40<00:40, 12.34it/s]\u001b[A\n",
      " 60%|██████    | 600/1000 [00:48<00:32, 12.35it/s]\u001b[A\n",
      " 70%|███████   | 700/1000 [00:56<00:24, 12.37it/s]\u001b[A\n",
      " 80%|████████  | 800/1000 [01:04<00:16, 12.37it/s]\u001b[A\n",
      " 90%|█████████ | 900/1000 [01:12<00:08, 12.38it/s]\u001b[A\n",
      "100%|██████████| 1000/1000 [01:21<00:00, 12.38it/s]\u001b[A\n",
      "                                                   \u001b[A"
     ]
    },
    {
     "name": "stdout",
     "output_type": "stream",
     "text": [
      "subsampling for dataset 03_backdoor...\n",
      "current noise type: None\n",
      "{'Samples': 10000, 'Features': 196, 'Anomalies': 236, 'Anomalies Ratio(%)': 2.36}\n",
      "Experimento para dados normais\n"
     ]
    },
    {
     "name": "stderr",
     "output_type": "stream",
     "text": [
      "\n",
      "  0%|          | 0/1000 [00:00<?, ?it/s]\u001b[A\n",
      " 10%|█         | 100/1000 [00:06<01:01, 14.57it/s]\u001b[A\n",
      " 20%|██        | 200/1000 [00:13<00:54, 14.56it/s]\u001b[A\n",
      " 30%|███       | 300/1000 [00:20<00:48, 14.34it/s]\u001b[A\n",
      " 40%|████      | 400/1000 [00:27<00:41, 14.43it/s]\u001b[A\n",
      " 50%|█████     | 500/1000 [00:34<00:34, 14.53it/s]\u001b[A\n",
      " 60%|██████    | 600/1000 [00:41<00:27, 14.58it/s]\u001b[A\n",
      " 70%|███████   | 700/1000 [00:48<00:20, 14.61it/s]\u001b[A\n",
      " 80%|████████  | 800/1000 [00:54<00:13, 14.61it/s]\u001b[A\n",
      " 90%|█████████ | 900/1000 [01:01<00:06, 14.64it/s]\u001b[A\n",
      "100%|██████████| 1000/1000 [01:08<00:00, 14.65it/s]\u001b[A\n",
      "                                                   \u001b[A"
     ]
    },
    {
     "name": "stdout",
     "output_type": "stream",
     "text": [
      "subsampling for dataset 03_backdoor...\n",
      "current noise type: None\n",
      "{'Samples': 10000, 'Features': 196, 'Anomalies': 236, 'Anomalies Ratio(%)': 2.36}\n",
      "Experimento para dados normais\n"
     ]
    },
    {
     "name": "stderr",
     "output_type": "stream",
     "text": [
      "\n",
      "  0%|          | 0/1000 [00:00<?, ?it/s]\u001b[A\n",
      " 10%|█         | 100/1000 [00:07<01:05, 13.83it/s]\u001b[A\n",
      " 20%|██        | 200/1000 [00:14<00:57, 13.96it/s]\u001b[A\n",
      " 30%|███       | 300/1000 [00:21<00:49, 14.01it/s]\u001b[A\n",
      " 40%|████      | 400/1000 [00:28<00:42, 14.04it/s]\u001b[A\n",
      " 50%|█████     | 500/1000 [00:35<00:35, 14.04it/s]\u001b[A\n",
      " 60%|██████    | 600/1000 [00:42<00:28, 14.01it/s]\u001b[A\n",
      " 70%|███████   | 700/1000 [00:49<00:21, 14.03it/s]\u001b[A\n",
      " 80%|████████  | 800/1000 [00:57<00:14, 14.04it/s]\u001b[A\n",
      " 90%|█████████ | 900/1000 [01:04<00:07, 14.05it/s]\u001b[A\n",
      "100%|██████████| 1000/1000 [01:11<00:00, 14.05it/s]\u001b[A\n",
      "                                                   \u001b[A"
     ]
    },
    {
     "name": "stdout",
     "output_type": "stream",
     "text": [
      "subsampling for dataset 03_backdoor...\n",
      "current noise type: None\n",
      "{'Samples': 10000, 'Features': 196, 'Anomalies': 236, 'Anomalies Ratio(%)': 2.36}\n",
      "Experimento para dados normais\n"
     ]
    },
    {
     "name": "stderr",
     "output_type": "stream",
     "text": [
      "\n",
      "  0%|          | 0/1000 [00:00<?, ?it/s]\u001b[A\n",
      " 10%|█         | 100/1000 [00:08<01:18, 11.48it/s]\u001b[A\n",
      " 20%|██        | 200/1000 [00:16<01:06, 11.97it/s]\u001b[A\n",
      " 30%|███       | 300/1000 [00:24<00:57, 12.12it/s]\u001b[A\n",
      " 40%|████      | 400/1000 [00:33<00:49, 12.20it/s]\u001b[A\n",
      " 50%|█████     | 500/1000 [00:41<00:40, 12.24it/s]\u001b[A\n",
      " 60%|██████    | 600/1000 [00:50<00:33, 11.91it/s]\u001b[A\n",
      " 70%|███████   | 700/1000 [00:58<00:25, 11.79it/s]\u001b[A\n",
      " 80%|████████  | 800/1000 [01:06<00:16, 11.96it/s]\u001b[A\n",
      " 90%|█████████ | 900/1000 [01:14<00:08, 12.06it/s]\u001b[A\n",
      "100%|██████████| 1000/1000 [01:23<00:00, 12.14it/s]\u001b[A\n",
      "                                                   \u001b[A"
     ]
    },
    {
     "name": "stdout",
     "output_type": "stream",
     "text": [
      "subsampling for dataset 03_backdoor...\n",
      "current noise type: None\n",
      "{'Samples': 10000, 'Features': 196, 'Anomalies': 236, 'Anomalies Ratio(%)': 2.36}\n",
      "Experimento para dados normais\n"
     ]
    },
    {
     "name": "stderr",
     "output_type": "stream",
     "text": [
      "\n",
      "  0%|          | 0/1000 [00:00<?, ?it/s]\u001b[A\n",
      " 10%|█         | 100/1000 [00:06<01:01, 14.58it/s]\u001b[A\n",
      " 20%|██        | 200/1000 [00:13<00:54, 14.62it/s]\u001b[A\n",
      " 30%|███       | 300/1000 [00:20<00:47, 14.63it/s]\u001b[A\n",
      " 40%|████      | 400/1000 [00:27<00:40, 14.64it/s]\u001b[A\n",
      " 50%|█████     | 500/1000 [00:34<00:34, 14.64it/s]\u001b[A\n",
      " 60%|██████    | 600/1000 [00:40<00:27, 14.65it/s]\u001b[A\n",
      " 70%|███████   | 700/1000 [00:47<00:20, 14.64it/s]\u001b[A\n",
      " 80%|████████  | 800/1000 [00:54<00:13, 14.65it/s]\u001b[A\n",
      " 90%|█████████ | 900/1000 [01:01<00:06, 14.64it/s]\u001b[A\n",
      "100%|██████████| 1000/1000 [01:08<00:00, 14.65it/s]\u001b[A\n",
      "                                                   \u001b[A"
     ]
    },
    {
     "name": "stdout",
     "output_type": "stream",
     "text": [
      "subsampling for dataset 03_backdoor...\n",
      "current noise type: None\n",
      "{'Samples': 10000, 'Features': 196, 'Anomalies': 236, 'Anomalies Ratio(%)': 2.36}\n",
      "Experimento para dados normais\n"
     ]
    },
    {
     "name": "stderr",
     "output_type": "stream",
     "text": [
      "\n",
      "  0%|          | 0/1000 [00:00<?, ?it/s]\u001b[A\n",
      " 10%|█         | 100/1000 [00:07<01:05, 13.80it/s]\u001b[A\n",
      " 20%|██        | 200/1000 [00:14<00:57, 13.95it/s]\u001b[A\n",
      " 30%|███       | 300/1000 [00:21<00:50, 13.99it/s]\u001b[A\n",
      " 40%|████      | 400/1000 [00:28<00:42, 14.01it/s]\u001b[A\n",
      " 50%|█████     | 500/1000 [00:35<00:35, 14.02it/s]\u001b[A\n",
      " 60%|██████    | 600/1000 [00:42<00:28, 14.03it/s]\u001b[A\n",
      " 70%|███████   | 700/1000 [00:49<00:21, 14.03it/s]\u001b[A\n",
      " 80%|████████  | 800/1000 [00:57<00:14, 14.03it/s]\u001b[A\n",
      " 90%|█████████ | 900/1000 [01:04<00:07, 13.91it/s]\u001b[A\n",
      "100%|██████████| 1000/1000 [01:12<00:00, 13.49it/s]\u001b[A\n",
      "                                                   \u001b[A"
     ]
    },
    {
     "name": "stdout",
     "output_type": "stream",
     "text": [
      "subsampling for dataset 03_backdoor...\n",
      "current noise type: None\n",
      "{'Samples': 10000, 'Features': 196, 'Anomalies': 236, 'Anomalies Ratio(%)': 2.36}\n",
      "Experimento para dados normais\n"
     ]
    },
    {
     "name": "stderr",
     "output_type": "stream",
     "text": [
      "\n",
      "  0%|          | 0/1000 [00:00<?, ?it/s]\u001b[A\n",
      " 10%|█         | 100/1000 [00:08<01:14, 12.10it/s]\u001b[A\n",
      " 20%|██        | 200/1000 [00:16<01:05, 12.17it/s]\u001b[A\n",
      " 30%|███       | 300/1000 [00:24<00:57, 12.25it/s]\u001b[A\n",
      " 40%|████      | 400/1000 [00:32<00:48, 12.27it/s]\u001b[A\n",
      " 50%|█████     | 500/1000 [00:40<00:40, 12.28it/s]\u001b[A\n",
      " 60%|██████    | 600/1000 [00:48<00:32, 12.30it/s]\u001b[A\n",
      " 70%|███████   | 700/1000 [00:57<00:24, 12.31it/s]\u001b[A\n",
      " 80%|████████  | 800/1000 [01:05<00:16, 12.31it/s]\u001b[A\n",
      " 90%|█████████ | 900/1000 [01:13<00:08, 12.31it/s]\u001b[A\n",
      "100%|██████████| 1000/1000 [01:21<00:00, 12.30it/s]\u001b[A\n",
      "                                                   \u001b[A"
     ]
    },
    {
     "name": "stdout",
     "output_type": "stream",
     "text": [
      "subsampling for dataset 03_backdoor...\n",
      "current noise type: None\n",
      "{'Samples': 10000, 'Features': 196, 'Anomalies': 236, 'Anomalies Ratio(%)': 2.36}\n",
      "Experimento para dados normais\n"
     ]
    },
    {
     "name": "stderr",
     "output_type": "stream",
     "text": [
      "\n",
      "  0%|          | 0/1000 [00:00<?, ?it/s]\u001b[A\n",
      " 10%|█         | 100/1000 [00:07<01:04, 14.04it/s]\u001b[A\n",
      " 20%|██        | 200/1000 [00:14<00:56, 14.16it/s]\u001b[A\n",
      " 30%|███       | 300/1000 [00:21<00:49, 14.20it/s]\u001b[A\n",
      " 40%|████      | 400/1000 [00:28<00:42, 14.20it/s]\u001b[A\n",
      " 50%|█████     | 500/1000 [00:35<00:35, 14.19it/s]\u001b[A\n",
      " 60%|██████    | 600/1000 [00:42<00:28, 14.16it/s]\u001b[A\n",
      " 70%|███████   | 700/1000 [00:49<00:21, 14.16it/s]\u001b[A\n",
      " 80%|████████  | 800/1000 [00:56<00:14, 14.17it/s]\u001b[A\n",
      " 90%|█████████ | 900/1000 [01:03<00:07, 14.19it/s]\u001b[A\n",
      "100%|██████████| 1000/1000 [01:10<00:00, 14.19it/s]\u001b[A\n",
      "                                                   \u001b[A"
     ]
    },
    {
     "name": "stdout",
     "output_type": "stream",
     "text": [
      "subsampling for dataset 03_backdoor...\n",
      "current noise type: None\n",
      "{'Samples': 10000, 'Features': 196, 'Anomalies': 236, 'Anomalies Ratio(%)': 2.36}\n",
      "Experimento para dados normais\n"
     ]
    },
    {
     "name": "stderr",
     "output_type": "stream",
     "text": [
      "\n",
      "  0%|          | 0/1000 [00:00<?, ?it/s]\u001b[A\n",
      " 10%|█         | 100/1000 [00:08<01:12, 12.44it/s]\u001b[A\n",
      " 20%|██        | 200/1000 [00:15<01:00, 13.15it/s]\u001b[A\n",
      " 30%|███       | 300/1000 [00:22<00:52, 13.38it/s]\u001b[A\n",
      " 40%|████      | 400/1000 [00:29<00:44, 13.50it/s]\u001b[A\n",
      " 50%|█████     | 500/1000 [00:37<00:36, 13.56it/s]\u001b[A\n",
      " 60%|██████    | 600/1000 [00:44<00:29, 13.59it/s]\u001b[A\n",
      " 70%|███████   | 700/1000 [00:51<00:22, 13.63it/s]\u001b[A\n",
      " 80%|████████  | 800/1000 [00:59<00:14, 13.65it/s]\u001b[A\n",
      " 90%|█████████ | 900/1000 [01:06<00:07, 13.66it/s]\u001b[A\n",
      "100%|██████████| 1000/1000 [01:13<00:00, 13.66it/s]\u001b[A\n",
      "                                                   \u001b[A"
     ]
    },
    {
     "name": "stdout",
     "output_type": "stream",
     "text": [
      "subsampling for dataset 03_backdoor...\n",
      "current noise type: None\n",
      "{'Samples': 10000, 'Features': 196, 'Anomalies': 236, 'Anomalies Ratio(%)': 2.36}\n",
      "Experimento para dados normais\n"
     ]
    },
    {
     "name": "stderr",
     "output_type": "stream",
     "text": [
      "\n",
      "  0%|          | 0/1000 [00:00<?, ?it/s]\u001b[A\n",
      " 10%|█         | 100/1000 [00:09<01:23, 10.73it/s]\u001b[A\n",
      " 20%|██        | 200/1000 [00:17<01:09, 11.45it/s]\u001b[A\n",
      " 30%|███       | 300/1000 [00:25<00:59, 11.73it/s]\u001b[A\n",
      " 40%|████      | 400/1000 [00:34<00:50, 11.86it/s]\u001b[A\n",
      " 50%|█████     | 500/1000 [00:42<00:41, 11.94it/s]\u001b[A\n",
      " 60%|██████    | 600/1000 [00:50<00:33, 11.98it/s]\u001b[A\n",
      " 70%|███████   | 700/1000 [00:59<00:25, 12.00it/s]\u001b[A\n",
      " 80%|████████  | 800/1000 [01:07<00:16, 12.01it/s]\u001b[A\n",
      " 90%|█████████ | 900/1000 [01:15<00:08, 12.03it/s]\u001b[A\n",
      "100%|██████████| 1000/1000 [01:23<00:00, 12.05it/s]\u001b[A\n",
      "                                                   \u001b[A"
     ]
    },
    {
     "name": "stdout",
     "output_type": "stream",
     "text": [
      "generating duplicate samples for dataset 04_breastw...\n",
      "current noise type: None\n",
      "{'Samples': 1000, 'Features': 9, 'Anomalies': 360, 'Anomalies Ratio(%)': 36.0}\n",
      "Experimento para dados normais\n"
     ]
    },
    {
     "name": "stderr",
     "output_type": "stream",
     "text": [
      "\n",
      "  0%|          | 0/1000 [00:00<?, ?it/s]\u001b[A\n",
      " 10%|█         | 100/1000 [00:01<00:09, 94.46it/s]\u001b[A\n",
      " 20%|██        | 200/1000 [00:02<00:08, 94.51it/s]\u001b[A\n",
      " 30%|███       | 300/1000 [00:03<00:07, 94.49it/s]\u001b[A\n",
      " 40%|████      | 400/1000 [00:04<00:06, 94.46it/s]\u001b[A\n",
      " 50%|█████     | 500/1000 [00:05<00:05, 94.46it/s]\u001b[A\n",
      " 60%|██████    | 600/1000 [00:06<00:04, 94.47it/s]\u001b[A\n",
      " 70%|███████   | 700/1000 [00:07<00:03, 94.48it/s]\u001b[A\n",
      " 80%|████████  | 800/1000 [00:08<00:02, 94.47it/s]\u001b[A\n",
      " 90%|█████████ | 900/1000 [00:09<00:01, 94.34it/s]\u001b[A\n",
      "100%|██████████| 1000/1000 [00:10<00:00, 94.37it/s]\u001b[A\n",
      "                                                   \u001b[A"
     ]
    },
    {
     "name": "stdout",
     "output_type": "stream",
     "text": [
      "generating duplicate samples for dataset 04_breastw...\n",
      "current noise type: None\n",
      "{'Samples': 1000, 'Features': 9, 'Anomalies': 360, 'Anomalies Ratio(%)': 36.0}\n",
      "Experimento para dados normais\n"
     ]
    },
    {
     "name": "stderr",
     "output_type": "stream",
     "text": [
      "\n",
      "  0%|          | 0/1000 [00:00<?, ?it/s]\u001b[A\n",
      " 10%|█         | 100/1000 [00:01<00:14, 63.52it/s]\u001b[A\n",
      " 20%|██        | 200/1000 [00:02<00:11, 67.86it/s]\u001b[A\n",
      " 30%|███       | 300/1000 [00:04<00:10, 68.72it/s]\u001b[A\n",
      " 40%|████      | 400/1000 [00:05<00:08, 72.71it/s]\u001b[A\n",
      " 50%|█████     | 500/1000 [00:06<00:06, 78.18it/s]\u001b[A\n",
      " 60%|██████    | 600/1000 [00:07<00:04, 81.79it/s]\u001b[A\n",
      " 70%|███████   | 700/1000 [00:08<00:03, 84.45it/s]\u001b[A\n",
      " 80%|████████  | 800/1000 [00:10<00:02, 86.20it/s]\u001b[A\n",
      " 90%|█████████ | 900/1000 [00:11<00:01, 87.51it/s]\u001b[A\n",
      "100%|██████████| 1000/1000 [00:12<00:00, 88.41it/s]\u001b[A\n",
      "                                                   \u001b[A"
     ]
    },
    {
     "name": "stdout",
     "output_type": "stream",
     "text": [
      "generating duplicate samples for dataset 04_breastw...\n",
      "current noise type: None\n",
      "{'Samples': 1000, 'Features': 9, 'Anomalies': 360, 'Anomalies Ratio(%)': 36.0}\n",
      "Experimento para dados normais\n"
     ]
    },
    {
     "name": "stderr",
     "output_type": "stream",
     "text": [
      "\n",
      "  0%|          | 0/1000 [00:00<?, ?it/s]\u001b[A\n",
      " 10%|█         | 100/1000 [00:01<00:10, 84.24it/s]\u001b[A\n",
      " 20%|██        | 200/1000 [00:02<00:09, 84.16it/s]\u001b[A\n",
      " 30%|███       | 300/1000 [00:03<00:08, 84.21it/s]\u001b[A\n",
      " 40%|████      | 400/1000 [00:04<00:07, 84.22it/s]\u001b[A\n",
      " 50%|█████     | 500/1000 [00:05<00:05, 84.20it/s]\u001b[A\n",
      " 60%|██████    | 600/1000 [00:07<00:04, 84.05it/s]\u001b[A\n",
      " 70%|███████   | 700/1000 [00:08<00:03, 84.12it/s]\u001b[A\n",
      " 80%|████████  | 800/1000 [00:09<00:02, 84.05it/s]\u001b[A\n",
      " 90%|█████████ | 900/1000 [00:10<00:01, 84.09it/s]\u001b[A\n",
      "100%|██████████| 1000/1000 [00:11<00:00, 84.14it/s]\u001b[A\n",
      "                                                   \u001b[A"
     ]
    },
    {
     "name": "stdout",
     "output_type": "stream",
     "text": [
      "generating duplicate samples for dataset 04_breastw...\n",
      "current noise type: None\n",
      "{'Samples': 1000, 'Features': 9, 'Anomalies': 360, 'Anomalies Ratio(%)': 36.0}\n",
      "Experimento para dados normais\n"
     ]
    },
    {
     "name": "stderr",
     "output_type": "stream",
     "text": [
      "\n",
      "  0%|          | 0/1000 [00:00<?, ?it/s]\u001b[A\n",
      " 10%|█         | 100/1000 [00:01<00:09, 93.38it/s]\u001b[A\n",
      " 20%|██        | 200/1000 [00:02<00:08, 94.08it/s]\u001b[A\n",
      " 30%|███       | 300/1000 [00:03<00:07, 94.27it/s]\u001b[A\n",
      " 40%|████      | 400/1000 [00:04<00:06, 94.33it/s]\u001b[A\n",
      " 50%|█████     | 500/1000 [00:05<00:05, 94.37it/s]\u001b[A\n",
      " 60%|██████    | 600/1000 [00:06<00:04, 94.17it/s]\u001b[A\n",
      " 70%|███████   | 700/1000 [00:07<00:03, 94.26it/s]\u001b[A\n",
      " 80%|████████  | 800/1000 [00:08<00:02, 94.19it/s]\u001b[A\n",
      " 90%|█████████ | 900/1000 [00:09<00:01, 94.27it/s]\u001b[A\n",
      "100%|██████████| 1000/1000 [00:10<00:00, 94.21it/s]\u001b[A\n",
      "                                                   \u001b[A"
     ]
    },
    {
     "name": "stdout",
     "output_type": "stream",
     "text": [
      "generating duplicate samples for dataset 04_breastw...\n",
      "current noise type: None\n",
      "{'Samples': 1000, 'Features': 9, 'Anomalies': 360, 'Anomalies Ratio(%)': 36.0}\n",
      "Experimento para dados normais\n"
     ]
    },
    {
     "name": "stderr",
     "output_type": "stream",
     "text": [
      "\n",
      "  0%|          | 0/1000 [00:00<?, ?it/s]\u001b[A\n",
      " 10%|█         | 100/1000 [00:01<00:09, 90.68it/s]\u001b[A\n",
      " 20%|██        | 200/1000 [00:02<00:08, 90.65it/s]\u001b[A\n",
      " 30%|███       | 300/1000 [00:03<00:07, 90.63it/s]\u001b[A\n",
      " 40%|████      | 400/1000 [00:04<00:06, 90.62it/s]\u001b[A\n",
      " 50%|█████     | 500/1000 [00:05<00:05, 90.57it/s]\u001b[A\n",
      " 60%|██████    | 600/1000 [00:06<00:04, 90.58it/s]\u001b[A\n",
      " 70%|███████   | 700/1000 [00:07<00:03, 90.58it/s]\u001b[A\n",
      " 80%|████████  | 800/1000 [00:08<00:02, 90.61it/s]\u001b[A\n",
      " 90%|█████████ | 900/1000 [00:09<00:01, 90.65it/s]\u001b[A\n",
      "100%|██████████| 1000/1000 [00:11<00:00, 90.67it/s]\u001b[A\n",
      "                                                   \u001b[A"
     ]
    },
    {
     "name": "stdout",
     "output_type": "stream",
     "text": [
      "generating duplicate samples for dataset 04_breastw...\n",
      "current noise type: None\n",
      "{'Samples': 1000, 'Features': 9, 'Anomalies': 360, 'Anomalies Ratio(%)': 36.0}\n",
      "Experimento para dados normais\n"
     ]
    },
    {
     "name": "stderr",
     "output_type": "stream",
     "text": [
      "\n",
      "  0%|          | 0/1000 [00:00<?, ?it/s]\u001b[A\n",
      " 10%|█         | 100/1000 [00:01<00:10, 84.38it/s]\u001b[A\n",
      " 20%|██        | 200/1000 [00:02<00:09, 84.32it/s]\u001b[A\n",
      " 30%|███       | 300/1000 [00:03<00:08, 84.25it/s]\u001b[A\n",
      " 40%|████      | 400/1000 [00:04<00:07, 84.23it/s]\u001b[A\n",
      " 50%|█████     | 500/1000 [00:05<00:05, 84.24it/s]\u001b[A\n",
      " 60%|██████    | 600/1000 [00:07<00:04, 84.26it/s]\u001b[A\n",
      " 70%|███████   | 700/1000 [00:08<00:03, 84.26it/s]\u001b[A\n",
      " 80%|████████  | 800/1000 [00:09<00:02, 84.28it/s]\u001b[A\n",
      " 90%|█████████ | 900/1000 [00:10<00:01, 84.27it/s]\u001b[A\n",
      "100%|██████████| 1000/1000 [00:11<00:00, 84.26it/s]\u001b[A\n",
      "                                                   \u001b[A"
     ]
    },
    {
     "name": "stdout",
     "output_type": "stream",
     "text": [
      "generating duplicate samples for dataset 04_breastw...\n",
      "current noise type: None\n",
      "{'Samples': 1000, 'Features': 9, 'Anomalies': 360, 'Anomalies Ratio(%)': 36.0}\n",
      "Experimento para dados normais\n"
     ]
    },
    {
     "name": "stderr",
     "output_type": "stream",
     "text": [
      "\n",
      "  0%|          | 0/1000 [00:00<?, ?it/s]\u001b[A\n",
      " 10%|█         | 100/1000 [00:01<00:09, 94.48it/s]\u001b[A\n",
      " 20%|██        | 200/1000 [00:02<00:08, 94.43it/s]\u001b[A\n",
      " 30%|███       | 300/1000 [00:03<00:07, 94.43it/s]\u001b[A\n",
      " 40%|████      | 400/1000 [00:04<00:06, 94.42it/s]\u001b[A\n",
      " 50%|█████     | 500/1000 [00:05<00:05, 94.43it/s]\u001b[A\n",
      " 60%|██████    | 600/1000 [00:06<00:04, 94.43it/s]\u001b[A\n",
      " 70%|███████   | 700/1000 [00:07<00:03, 94.43it/s]\u001b[A\n",
      " 80%|████████  | 800/1000 [00:08<00:02, 94.42it/s]\u001b[A\n",
      " 90%|█████████ | 900/1000 [00:09<00:01, 94.42it/s]\u001b[A\n",
      "100%|██████████| 1000/1000 [00:10<00:00, 94.43it/s]\u001b[A\n",
      "                                                   \u001b[A"
     ]
    },
    {
     "name": "stdout",
     "output_type": "stream",
     "text": [
      "generating duplicate samples for dataset 04_breastw...\n",
      "current noise type: None\n",
      "{'Samples': 1000, 'Features': 9, 'Anomalies': 360, 'Anomalies Ratio(%)': 36.0}\n",
      "Experimento para dados normais\n"
     ]
    },
    {
     "name": "stderr",
     "output_type": "stream",
     "text": [
      "\n",
      "  0%|          | 0/1000 [00:00<?, ?it/s]\u001b[A\n",
      " 10%|█         | 100/1000 [00:01<00:09, 90.54it/s]\u001b[A\n",
      " 20%|██        | 200/1000 [00:02<00:08, 90.56it/s]\u001b[A\n",
      " 30%|███       | 300/1000 [00:03<00:07, 90.57it/s]\u001b[A\n",
      " 40%|████      | 400/1000 [00:04<00:06, 90.54it/s]\u001b[A\n",
      " 50%|█████     | 500/1000 [00:05<00:05, 90.55it/s]\u001b[A\n",
      " 60%|██████    | 600/1000 [00:06<00:04, 90.56it/s]\u001b[A\n",
      " 70%|███████   | 700/1000 [00:07<00:03, 90.57it/s]\u001b[A\n",
      " 80%|████████  | 800/1000 [00:08<00:02, 90.57it/s]\u001b[A\n",
      " 90%|█████████ | 900/1000 [00:09<00:01, 90.58it/s]\u001b[A\n",
      "100%|██████████| 1000/1000 [00:11<00:00, 90.38it/s]\u001b[A\n",
      "                                                   \u001b[A"
     ]
    },
    {
     "name": "stdout",
     "output_type": "stream",
     "text": [
      "generating duplicate samples for dataset 04_breastw...\n",
      "current noise type: None\n",
      "{'Samples': 1000, 'Features': 9, 'Anomalies': 360, 'Anomalies Ratio(%)': 36.0}\n",
      "Experimento para dados normais\n"
     ]
    },
    {
     "name": "stderr",
     "output_type": "stream",
     "text": [
      "\n",
      "  0%|          | 0/1000 [00:00<?, ?it/s]\u001b[A\n",
      " 10%|█         | 100/1000 [00:01<00:10, 84.25it/s]\u001b[A\n",
      " 20%|██        | 200/1000 [00:02<00:09, 84.29it/s]\u001b[A\n",
      " 30%|███       | 300/1000 [00:03<00:08, 81.23it/s]\u001b[A\n",
      " 40%|████      | 400/1000 [00:04<00:07, 79.98it/s]\u001b[A\n",
      " 50%|█████     | 500/1000 [00:06<00:06, 81.49it/s]\u001b[A\n",
      " 60%|██████    | 600/1000 [00:07<00:04, 82.42it/s]\u001b[A\n",
      " 70%|███████   | 700/1000 [00:08<00:03, 83.05it/s]\u001b[A\n",
      " 80%|████████  | 800/1000 [00:09<00:02, 83.26it/s]\u001b[A\n",
      " 90%|█████████ | 900/1000 [00:10<00:01, 83.55it/s]\u001b[A\n",
      "100%|██████████| 1000/1000 [00:12<00:00, 83.80it/s]\u001b[A\n",
      "                                                   \u001b[A"
     ]
    },
    {
     "name": "stdout",
     "output_type": "stream",
     "text": [
      "generating duplicate samples for dataset 04_breastw...\n",
      "current noise type: None\n",
      "{'Samples': 1000, 'Features': 9, 'Anomalies': 360, 'Anomalies Ratio(%)': 36.0}\n",
      "Experimento para dados normais\n"
     ]
    },
    {
     "name": "stderr",
     "output_type": "stream",
     "text": [
      "\n",
      "  0%|          | 0/1000 [00:00<?, ?it/s]\u001b[A\n",
      " 10%|█         | 100/1000 [00:01<00:09, 91.83it/s]\u001b[A\n",
      " 20%|██        | 200/1000 [00:02<00:08, 91.74it/s]\u001b[A\n",
      " 30%|███       | 300/1000 [00:03<00:07, 91.71it/s]\u001b[A\n",
      " 40%|████      | 400/1000 [00:04<00:06, 91.69it/s]\u001b[A\n",
      " 50%|█████     | 500/1000 [00:05<00:05, 91.67it/s]\u001b[A\n",
      " 60%|██████    | 600/1000 [00:06<00:04, 91.68it/s]\u001b[A\n",
      " 70%|███████   | 700/1000 [00:07<00:03, 91.71it/s]\u001b[A\n",
      " 80%|████████  | 800/1000 [00:08<00:02, 91.71it/s]\u001b[A\n",
      " 90%|█████████ | 900/1000 [00:09<00:01, 91.55it/s]\u001b[A\n",
      "100%|██████████| 1000/1000 [00:10<00:00, 91.59it/s]\u001b[A\n",
      "                                                   \u001b[A"
     ]
    },
    {
     "name": "stdout",
     "output_type": "stream",
     "text": [
      "generating duplicate samples for dataset 04_breastw...\n",
      "current noise type: None\n",
      "{'Samples': 1000, 'Features': 9, 'Anomalies': 360, 'Anomalies Ratio(%)': 36.0}\n",
      "Experimento para dados normais\n"
     ]
    },
    {
     "name": "stderr",
     "output_type": "stream",
     "text": [
      "\n",
      "  0%|          | 0/1000 [00:00<?, ?it/s]\u001b[A\n",
      " 10%|█         | 100/1000 [00:01<00:10, 87.94it/s]\u001b[A\n",
      " 20%|██        | 200/1000 [00:02<00:09, 87.90it/s]\u001b[A\n",
      " 30%|███       | 300/1000 [00:03<00:07, 87.92it/s]\u001b[A\n",
      " 40%|████      | 400/1000 [00:04<00:06, 87.93it/s]\u001b[A\n",
      " 50%|█████     | 500/1000 [00:05<00:05, 87.89it/s]\u001b[A\n",
      " 60%|██████    | 600/1000 [00:06<00:04, 87.91it/s]\u001b[A\n",
      " 70%|███████   | 700/1000 [00:07<00:03, 87.96it/s]\u001b[A\n",
      " 80%|████████  | 800/1000 [00:09<00:02, 87.99it/s]\u001b[A\n",
      " 90%|█████████ | 900/1000 [00:10<00:01, 88.01it/s]\u001b[A\n",
      "100%|██████████| 1000/1000 [00:11<00:00, 87.99it/s]\u001b[A\n",
      "                                                   \u001b[A"
     ]
    },
    {
     "name": "stdout",
     "output_type": "stream",
     "text": [
      "generating duplicate samples for dataset 04_breastw...\n",
      "current noise type: None\n",
      "{'Samples': 1000, 'Features': 9, 'Anomalies': 360, 'Anomalies Ratio(%)': 36.0}\n",
      "Experimento para dados normais\n"
     ]
    },
    {
     "name": "stderr",
     "output_type": "stream",
     "text": [
      "\n",
      "  0%|          | 0/1000 [00:00<?, ?it/s]\u001b[A\n",
      " 10%|█         | 100/1000 [00:01<00:10, 82.10it/s]\u001b[A\n",
      " 20%|██        | 200/1000 [00:02<00:09, 81.91it/s]\u001b[A\n",
      " 30%|███       | 300/1000 [00:03<00:08, 81.97it/s]\u001b[A\n",
      " 40%|████      | 400/1000 [00:04<00:07, 82.02it/s]\u001b[A\n",
      " 50%|█████     | 500/1000 [00:06<00:06, 82.04it/s]\u001b[A\n",
      " 60%|██████    | 600/1000 [00:07<00:04, 82.03it/s]\u001b[A\n",
      " 70%|███████   | 700/1000 [00:08<00:03, 82.04it/s]\u001b[A\n",
      " 80%|████████  | 800/1000 [00:09<00:02, 82.01it/s]\u001b[A\n",
      " 90%|█████████ | 900/1000 [00:10<00:01, 81.99it/s]\u001b[A\n",
      "100%|██████████| 1000/1000 [00:12<00:00, 81.87it/s]\u001b[A\n",
      "                                                   \u001b[A"
     ]
    },
    {
     "name": "stdout",
     "output_type": "stream",
     "text": [
      "generating duplicate samples for dataset 04_breastw...\n",
      "current noise type: None\n",
      "{'Samples': 1000, 'Features': 9, 'Anomalies': 360, 'Anomalies Ratio(%)': 36.0}\n",
      "Experimento para dados normais\n"
     ]
    },
    {
     "name": "stderr",
     "output_type": "stream",
     "text": [
      "\n",
      "  0%|          | 0/1000 [00:00<?, ?it/s]\u001b[A\n",
      " 10%|█         | 100/1000 [00:01<00:09, 92.63it/s]\u001b[A\n",
      " 20%|██        | 200/1000 [00:02<00:08, 92.61it/s]\u001b[A\n",
      " 30%|███       | 300/1000 [00:03<00:07, 92.59it/s]\u001b[A\n",
      " 40%|████      | 400/1000 [00:04<00:06, 92.60it/s]\u001b[A\n",
      " 50%|█████     | 500/1000 [00:05<00:05, 92.57it/s]\u001b[A\n",
      " 60%|██████    | 600/1000 [00:06<00:04, 92.58it/s]\u001b[A\n",
      " 70%|███████   | 700/1000 [00:07<00:03, 92.58it/s]\u001b[A\n",
      " 80%|████████  | 800/1000 [00:08<00:02, 92.59it/s]\u001b[A\n",
      " 90%|█████████ | 900/1000 [00:09<00:01, 92.60it/s]\u001b[A\n",
      "100%|██████████| 1000/1000 [00:10<00:00, 92.60it/s]\u001b[A\n",
      "                                                   \u001b[A"
     ]
    },
    {
     "name": "stdout",
     "output_type": "stream",
     "text": [
      "generating duplicate samples for dataset 04_breastw...\n",
      "current noise type: None\n",
      "{'Samples': 1000, 'Features': 9, 'Anomalies': 360, 'Anomalies Ratio(%)': 36.0}\n",
      "Experimento para dados normais\n"
     ]
    },
    {
     "name": "stderr",
     "output_type": "stream",
     "text": [
      "\n",
      "  0%|          | 0/1000 [00:00<?, ?it/s]\u001b[A\n",
      " 10%|█         | 100/1000 [00:01<00:10, 88.86it/s]\u001b[A\n",
      " 20%|██        | 200/1000 [00:02<00:09, 88.31it/s]\u001b[A\n",
      " 30%|███       | 300/1000 [00:03<00:07, 88.54it/s]\u001b[A\n",
      " 40%|████      | 400/1000 [00:04<00:06, 88.57it/s]\u001b[A\n",
      " 50%|█████     | 500/1000 [00:05<00:05, 88.62it/s]\u001b[A\n",
      " 60%|██████    | 600/1000 [00:06<00:04, 88.64it/s]\u001b[A\n",
      " 70%|███████   | 700/1000 [00:07<00:03, 88.69it/s]\u001b[A\n",
      " 80%|████████  | 800/1000 [00:09<00:02, 88.72it/s]\u001b[A\n",
      " 90%|█████████ | 900/1000 [00:10<00:01, 88.75it/s]\u001b[A\n",
      "100%|██████████| 1000/1000 [00:11<00:00, 88.53it/s]\u001b[A\n",
      "                                                   \u001b[A"
     ]
    },
    {
     "name": "stdout",
     "output_type": "stream",
     "text": [
      "generating duplicate samples for dataset 04_breastw...\n",
      "current noise type: None\n",
      "{'Samples': 1000, 'Features': 9, 'Anomalies': 360, 'Anomalies Ratio(%)': 36.0}\n",
      "Experimento para dados normais\n"
     ]
    },
    {
     "name": "stderr",
     "output_type": "stream",
     "text": [
      "\n",
      "  0%|          | 0/1000 [00:00<?, ?it/s]\u001b[A\n",
      " 10%|█         | 100/1000 [00:01<00:10, 82.79it/s]\u001b[A\n",
      " 20%|██        | 200/1000 [00:02<00:09, 82.75it/s]\u001b[A\n",
      " 30%|███       | 300/1000 [00:03<00:08, 82.72it/s]\u001b[A\n",
      " 40%|████      | 400/1000 [00:04<00:07, 82.66it/s]\u001b[A\n",
      " 50%|█████     | 500/1000 [00:06<00:06, 82.69it/s]\u001b[A\n",
      " 60%|██████    | 600/1000 [00:07<00:04, 82.70it/s]\u001b[A\n",
      " 70%|███████   | 700/1000 [00:08<00:03, 82.71it/s]\u001b[A\n",
      " 80%|████████  | 800/1000 [00:09<00:02, 82.72it/s]\u001b[A\n",
      " 90%|█████████ | 900/1000 [00:10<00:01, 82.68it/s]\u001b[A\n",
      "100%|██████████| 1000/1000 [00:12<00:00, 82.68it/s]\u001b[A\n",
      "                                                   \u001b[A"
     ]
    },
    {
     "name": "stdout",
     "output_type": "stream",
     "text": [
      "generating duplicate samples for dataset 04_breastw...\n",
      "current noise type: None\n",
      "{'Samples': 1000, 'Features': 9, 'Anomalies': 360, 'Anomalies Ratio(%)': 36.0}\n",
      "Experimento para dados normais\n"
     ]
    },
    {
     "name": "stderr",
     "output_type": "stream",
     "text": [
      "\n",
      "  0%|          | 0/1000 [00:00<?, ?it/s]\u001b[A\n",
      " 10%|█         | 100/1000 [00:01<00:09, 92.41it/s]\u001b[A\n",
      " 20%|██        | 200/1000 [00:02<00:08, 92.50it/s]\u001b[A\n",
      " 30%|███       | 300/1000 [00:03<00:07, 92.56it/s]\u001b[A\n",
      " 40%|████      | 400/1000 [00:04<00:06, 92.59it/s]\u001b[A\n",
      " 50%|█████     | 500/1000 [00:05<00:05, 92.61it/s]\u001b[A\n",
      " 60%|██████    | 600/1000 [00:06<00:04, 92.59it/s]\u001b[A\n",
      " 70%|███████   | 700/1000 [00:07<00:03, 92.50it/s]\u001b[A\n",
      " 80%|████████  | 800/1000 [00:08<00:02, 92.54it/s]\u001b[A\n",
      " 90%|█████████ | 900/1000 [00:09<00:01, 92.54it/s]\u001b[A\n",
      "100%|██████████| 1000/1000 [00:10<00:00, 92.56it/s]\u001b[A\n",
      "                                                   \u001b[A"
     ]
    },
    {
     "name": "stdout",
     "output_type": "stream",
     "text": [
      "generating duplicate samples for dataset 04_breastw...\n",
      "current noise type: None\n",
      "{'Samples': 1000, 'Features': 9, 'Anomalies': 360, 'Anomalies Ratio(%)': 36.0}\n",
      "Experimento para dados normais\n"
     ]
    },
    {
     "name": "stderr",
     "output_type": "stream",
     "text": [
      "\n",
      "  0%|          | 0/1000 [00:00<?, ?it/s]\u001b[A\n",
      " 10%|█         | 100/1000 [00:01<00:10, 88.74it/s]\u001b[A\n",
      " 20%|██        | 200/1000 [00:02<00:09, 88.69it/s]\u001b[A\n",
      " 30%|███       | 300/1000 [00:03<00:07, 88.68it/s]\u001b[A\n",
      " 40%|████      | 400/1000 [00:04<00:06, 88.64it/s]\u001b[A\n",
      " 50%|█████     | 500/1000 [00:05<00:05, 88.68it/s]\u001b[A\n",
      " 60%|██████    | 600/1000 [00:06<00:04, 88.41it/s]\u001b[A\n",
      " 70%|███████   | 700/1000 [00:08<00:03, 80.81it/s]\u001b[A\n",
      " 80%|████████  | 800/1000 [00:09<00:02, 77.22it/s]\u001b[A\n",
      " 90%|█████████ | 900/1000 [00:10<00:01, 77.48it/s]\u001b[A\n",
      "100%|██████████| 1000/1000 [00:12<00:00, 80.64it/s]\u001b[A\n",
      "                                                   \u001b[A"
     ]
    },
    {
     "name": "stdout",
     "output_type": "stream",
     "text": [
      "generating duplicate samples for dataset 04_breastw...\n",
      "current noise type: None\n",
      "{'Samples': 1000, 'Features': 9, 'Anomalies': 360, 'Anomalies Ratio(%)': 36.0}\n",
      "Experimento para dados normais\n"
     ]
    },
    {
     "name": "stderr",
     "output_type": "stream",
     "text": [
      "\n",
      "  0%|          | 0/1000 [00:00<?, ?it/s]\u001b[A\n",
      " 10%|█         | 100/1000 [00:01<00:10, 82.50it/s]\u001b[A\n",
      " 20%|██        | 200/1000 [00:02<00:09, 82.61it/s]\u001b[A\n",
      " 30%|███       | 300/1000 [00:03<00:08, 82.62it/s]\u001b[A\n",
      " 40%|████      | 400/1000 [00:04<00:07, 82.62it/s]\u001b[A\n",
      " 50%|█████     | 500/1000 [00:06<00:06, 82.65it/s]\u001b[A\n",
      " 60%|██████    | 600/1000 [00:07<00:04, 82.63it/s]\u001b[A\n",
      " 70%|███████   | 700/1000 [00:08<00:03, 82.66it/s]\u001b[A\n",
      " 80%|████████  | 800/1000 [00:09<00:02, 82.62it/s]\u001b[A\n",
      " 90%|█████████ | 900/1000 [00:10<00:01, 82.63it/s]\u001b[A\n",
      "100%|██████████| 1000/1000 [00:12<00:00, 82.67it/s]\u001b[A\n",
      "                                                   \u001b[A"
     ]
    },
    {
     "name": "stdout",
     "output_type": "stream",
     "text": [
      "generating duplicate samples for dataset 04_breastw...\n",
      "current noise type: None\n",
      "{'Samples': 1000, 'Features': 9, 'Anomalies': 360, 'Anomalies Ratio(%)': 36.0}\n",
      "Experimento para dados normais\n"
     ]
    },
    {
     "name": "stderr",
     "output_type": "stream",
     "text": [
      "\n",
      "  0%|          | 0/1000 [00:00<?, ?it/s]\u001b[A\n",
      " 10%|█         | 100/1000 [00:01<00:09, 92.48it/s]\u001b[A\n",
      " 20%|██        | 200/1000 [00:02<00:08, 92.45it/s]\u001b[A\n",
      " 30%|███       | 300/1000 [00:03<00:07, 92.44it/s]\u001b[A\n",
      " 40%|████      | 400/1000 [00:04<00:06, 92.20it/s]\u001b[A\n",
      " 50%|█████     | 500/1000 [00:05<00:05, 92.29it/s]\u001b[A\n",
      " 60%|██████    | 600/1000 [00:06<00:04, 92.31it/s]\u001b[A\n",
      " 70%|███████   | 700/1000 [00:07<00:03, 92.24it/s]\u001b[A\n",
      " 80%|████████  | 800/1000 [00:08<00:02, 92.33it/s]\u001b[A\n",
      " 90%|█████████ | 900/1000 [00:09<00:01, 92.36it/s]\u001b[A\n",
      "100%|██████████| 1000/1000 [00:10<00:00, 92.40it/s]\u001b[A\n",
      "                                                   \u001b[A"
     ]
    },
    {
     "name": "stdout",
     "output_type": "stream",
     "text": [
      "generating duplicate samples for dataset 04_breastw...\n",
      "current noise type: None\n",
      "{'Samples': 1000, 'Features': 9, 'Anomalies': 360, 'Anomalies Ratio(%)': 36.0}\n",
      "Experimento para dados normais\n"
     ]
    },
    {
     "name": "stderr",
     "output_type": "stream",
     "text": [
      "\n",
      "  0%|          | 0/1000 [00:00<?, ?it/s]\u001b[A\n",
      " 10%|█         | 100/1000 [00:01<00:10, 87.90it/s]\u001b[A\n",
      " 20%|██        | 200/1000 [00:02<00:09, 88.26it/s]\u001b[A\n",
      " 30%|███       | 300/1000 [00:03<00:07, 88.40it/s]\u001b[A\n",
      " 40%|████      | 400/1000 [00:04<00:06, 88.46it/s]\u001b[A\n",
      " 50%|█████     | 500/1000 [00:05<00:05, 88.49it/s]\u001b[A\n",
      " 60%|██████    | 600/1000 [00:06<00:04, 88.52it/s]\u001b[A\n",
      " 70%|███████   | 700/1000 [00:07<00:03, 88.53it/s]\u001b[A\n",
      " 80%|████████  | 800/1000 [00:09<00:02, 88.54it/s]\u001b[A\n",
      " 90%|█████████ | 900/1000 [00:10<00:01, 88.56it/s]\u001b[A\n",
      "100%|██████████| 1000/1000 [00:11<00:00, 88.56it/s]\u001b[A\n",
      "                                                   \u001b[A"
     ]
    },
    {
     "name": "stdout",
     "output_type": "stream",
     "text": [
      "generating duplicate samples for dataset 04_breastw...\n",
      "current noise type: None\n",
      "{'Samples': 1000, 'Features': 9, 'Anomalies': 360, 'Anomalies Ratio(%)': 36.0}\n",
      "Experimento para dados normais\n"
     ]
    },
    {
     "name": "stderr",
     "output_type": "stream",
     "text": [
      "\n",
      "  0%|          | 0/1000 [00:00<?, ?it/s]\u001b[A\n",
      " 10%|█         | 100/1000 [00:01<00:10, 82.36it/s]\u001b[A\n",
      " 20%|██        | 200/1000 [00:02<00:09, 82.35it/s]\u001b[A\n",
      " 30%|███       | 300/1000 [00:03<00:08, 82.36it/s]\u001b[A\n",
      " 40%|████      | 400/1000 [00:04<00:07, 82.37it/s]\u001b[A\n",
      " 50%|█████     | 500/1000 [00:06<00:06, 82.36it/s]\u001b[A\n",
      " 60%|██████    | 600/1000 [00:07<00:04, 82.33it/s]\u001b[A\n",
      " 70%|███████   | 700/1000 [00:08<00:03, 82.35it/s]\u001b[A\n",
      " 80%|████████  | 800/1000 [00:09<00:02, 82.37it/s]\u001b[A\n",
      " 90%|█████████ | 900/1000 [00:10<00:01, 82.37it/s]\u001b[A\n",
      "100%|██████████| 1000/1000 [00:12<00:00, 82.33it/s]\u001b[A\n",
      "                                                   \u001b[A"
     ]
    },
    {
     "name": "stdout",
     "output_type": "stream",
     "text": [
      "generating duplicate samples for dataset 04_breastw...\n",
      "current noise type: None\n",
      "{'Samples': 1000, 'Features': 9, 'Anomalies': 360, 'Anomalies Ratio(%)': 36.0}\n",
      "Experimento para dados normais\n"
     ]
    },
    {
     "name": "stderr",
     "output_type": "stream",
     "text": [
      "\n",
      "  0%|          | 0/1000 [00:00<?, ?it/s]\u001b[A\n",
      " 10%|█         | 100/1000 [00:01<00:10, 89.75it/s]\u001b[A\n",
      " 20%|██        | 200/1000 [00:02<00:08, 89.73it/s]\u001b[A\n",
      " 30%|███       | 300/1000 [00:03<00:07, 89.74it/s]\u001b[A\n",
      " 40%|████      | 400/1000 [00:04<00:06, 89.74it/s]\u001b[A\n",
      " 50%|█████     | 500/1000 [00:05<00:05, 89.75it/s]\u001b[A\n",
      " 60%|██████    | 600/1000 [00:06<00:04, 89.76it/s]\u001b[A\n",
      " 70%|███████   | 700/1000 [00:07<00:03, 89.77it/s]\u001b[A\n",
      " 80%|████████  | 800/1000 [00:08<00:02, 89.77it/s]\u001b[A\n",
      " 90%|█████████ | 900/1000 [00:10<00:01, 89.73it/s]\u001b[A\n",
      "100%|██████████| 1000/1000 [00:11<00:00, 89.73it/s]\u001b[A\n",
      "                                                   \u001b[A"
     ]
    },
    {
     "name": "stdout",
     "output_type": "stream",
     "text": [
      "generating duplicate samples for dataset 04_breastw...\n",
      "current noise type: None\n",
      "{'Samples': 1000, 'Features': 9, 'Anomalies': 360, 'Anomalies Ratio(%)': 36.0}\n",
      "Experimento para dados normais\n"
     ]
    },
    {
     "name": "stderr",
     "output_type": "stream",
     "text": [
      "\n",
      "  0%|          | 0/1000 [00:00<?, ?it/s]\u001b[A\n",
      " 10%|█         | 100/1000 [00:01<00:10, 86.00it/s]\u001b[A\n",
      " 20%|██        | 200/1000 [00:02<00:09, 86.10it/s]\u001b[A\n",
      " 30%|███       | 300/1000 [00:03<00:08, 86.16it/s]\u001b[A\n",
      " 40%|████      | 400/1000 [00:04<00:06, 85.86it/s]\u001b[A\n",
      " 50%|█████     | 500/1000 [00:05<00:05, 85.93it/s]\u001b[A\n",
      " 60%|██████    | 600/1000 [00:06<00:04, 86.00it/s]\u001b[A\n",
      " 70%|███████   | 700/1000 [00:08<00:03, 86.05it/s]\u001b[A\n",
      " 80%|████████  | 800/1000 [00:09<00:02, 86.09it/s]\u001b[A\n",
      " 90%|█████████ | 900/1000 [00:10<00:01, 86.12it/s]\u001b[A\n",
      "100%|██████████| 1000/1000 [00:11<00:00, 86.13it/s]\u001b[A\n",
      "                                                   \u001b[A"
     ]
    },
    {
     "name": "stdout",
     "output_type": "stream",
     "text": [
      "generating duplicate samples for dataset 04_breastw...\n",
      "current noise type: None\n",
      "{'Samples': 1000, 'Features': 9, 'Anomalies': 360, 'Anomalies Ratio(%)': 36.0}\n",
      "Experimento para dados normais\n"
     ]
    },
    {
     "name": "stderr",
     "output_type": "stream",
     "text": [
      "\n",
      "  0%|          | 0/1000 [00:00<?, ?it/s]\u001b[A\n",
      " 10%|█         | 100/1000 [00:01<00:11, 80.36it/s]\u001b[A\n",
      " 20%|██        | 200/1000 [00:02<00:09, 80.34it/s]\u001b[A\n",
      " 30%|███       | 300/1000 [00:03<00:08, 80.34it/s]\u001b[A\n",
      " 40%|████      | 400/1000 [00:04<00:07, 80.33it/s]\u001b[A\n",
      " 50%|█████     | 500/1000 [00:06<00:06, 80.33it/s]\u001b[A\n",
      " 60%|██████    | 600/1000 [00:07<00:04, 80.20it/s]\u001b[A\n",
      " 70%|███████   | 700/1000 [00:08<00:03, 80.24it/s]\u001b[A\n",
      " 80%|████████  | 800/1000 [00:09<00:02, 80.24it/s]\u001b[A\n",
      " 90%|█████████ | 900/1000 [00:11<00:01, 80.26it/s]\u001b[A\n",
      "100%|██████████| 1000/1000 [00:12<00:00, 80.29it/s]\u001b[A\n",
      "                                                   \u001b[A"
     ]
    },
    {
     "name": "stdout",
     "output_type": "stream",
     "text": [
      "subsampling for dataset 05_campaign...\n",
      "current noise type: None\n",
      "{'Samples': 10000, 'Features': 62, 'Anomalies': 1103, 'Anomalies Ratio(%)': 11.03}\n",
      "Experimento para dados normais\n"
     ]
    },
    {
     "name": "stderr",
     "output_type": "stream",
     "text": [
      "\n",
      "  0%|          | 0/1000 [00:00<?, ?it/s]\u001b[A\n",
      " 10%|█         | 100/1000 [00:03<00:32, 27.92it/s]\u001b[A\n",
      " 20%|██        | 200/1000 [00:07<00:28, 27.99it/s]\u001b[A\n",
      " 30%|███       | 300/1000 [00:10<00:24, 28.00it/s]\u001b[A\n",
      " 40%|████      | 400/1000 [00:14<00:21, 28.01it/s]\u001b[A\n",
      " 50%|█████     | 500/1000 [00:17<00:17, 28.02it/s]\u001b[A\n",
      " 60%|██████    | 600/1000 [00:21<00:14, 28.01it/s]\u001b[A\n",
      " 70%|███████   | 700/1000 [00:24<00:10, 28.01it/s]\u001b[A\n",
      " 80%|████████  | 800/1000 [00:28<00:07, 28.02it/s]\u001b[A\n",
      " 90%|█████████ | 900/1000 [00:32<00:03, 28.01it/s]\u001b[A\n",
      "100%|██████████| 1000/1000 [00:35<00:00, 28.02it/s]\u001b[A\n",
      "                                                   \u001b[A"
     ]
    },
    {
     "name": "stdout",
     "output_type": "stream",
     "text": [
      "subsampling for dataset 05_campaign...\n",
      "current noise type: None\n",
      "{'Samples': 10000, 'Features': 62, 'Anomalies': 1103, 'Anomalies Ratio(%)': 11.03}\n",
      "Experimento para dados normais\n"
     ]
    },
    {
     "name": "stderr",
     "output_type": "stream",
     "text": [
      "\n",
      "  0%|          | 0/1000 [00:00<?, ?it/s]\u001b[A\n",
      " 10%|█         | 100/1000 [00:03<00:33, 27.19it/s]\u001b[A\n",
      " 20%|██        | 200/1000 [00:07<00:29, 27.18it/s]\u001b[A\n",
      " 30%|███       | 300/1000 [00:11<00:25, 27.17it/s]\u001b[A\n",
      " 40%|████      | 400/1000 [00:14<00:22, 27.17it/s]\u001b[A\n",
      " 50%|█████     | 500/1000 [00:18<00:18, 27.15it/s]\u001b[A\n",
      " 60%|██████    | 600/1000 [00:22<00:14, 27.17it/s]\u001b[A\n",
      " 70%|███████   | 700/1000 [00:25<00:11, 27.14it/s]\u001b[A\n",
      " 80%|████████  | 800/1000 [00:29<00:07, 27.15it/s]\u001b[A\n",
      " 90%|█████████ | 900/1000 [00:33<00:03, 27.15it/s]\u001b[A\n",
      "100%|██████████| 1000/1000 [00:36<00:00, 27.15it/s]\u001b[A\n",
      "                                                   \u001b[A"
     ]
    },
    {
     "name": "stdout",
     "output_type": "stream",
     "text": [
      "subsampling for dataset 05_campaign...\n",
      "current noise type: None\n",
      "{'Samples': 10000, 'Features': 62, 'Anomalies': 1103, 'Anomalies Ratio(%)': 11.03}\n",
      "Experimento para dados normais\n"
     ]
    },
    {
     "name": "stderr",
     "output_type": "stream",
     "text": [
      "\n",
      "  0%|          | 0/1000 [00:00<?, ?it/s]\u001b[A\n",
      " 10%|█         | 100/1000 [00:03<00:35, 25.18it/s]\u001b[A\n",
      " 20%|██        | 200/1000 [00:07<00:31, 25.19it/s]\u001b[A\n",
      " 30%|███       | 300/1000 [00:11<00:27, 25.21it/s]\u001b[A\n",
      " 40%|████      | 400/1000 [00:16<00:24, 24.11it/s]\u001b[A\n",
      " 50%|█████     | 500/1000 [00:21<00:21, 23.05it/s]\u001b[A\n",
      " 60%|██████    | 600/1000 [00:24<00:16, 23.74it/s]\u001b[A\n",
      " 70%|███████   | 700/1000 [00:28<00:12, 24.18it/s]\u001b[A\n",
      " 80%|████████  | 800/1000 [00:32<00:08, 24.51it/s]\u001b[A\n",
      " 90%|█████████ | 900/1000 [00:36<00:04, 24.73it/s]\u001b[A\n",
      "100%|██████████| 1000/1000 [00:40<00:00, 24.88it/s]\u001b[A\n",
      "                                                   \u001b[A"
     ]
    },
    {
     "name": "stdout",
     "output_type": "stream",
     "text": [
      "subsampling for dataset 05_campaign...\n",
      "current noise type: None\n",
      "{'Samples': 10000, 'Features': 62, 'Anomalies': 1103, 'Anomalies Ratio(%)': 11.03}\n",
      "Experimento para dados normais\n"
     ]
    },
    {
     "name": "stderr",
     "output_type": "stream",
     "text": [
      "\n",
      "  0%|          | 0/1000 [00:00<?, ?it/s]\u001b[A\n",
      " 10%|█         | 100/1000 [00:03<00:32, 27.95it/s]\u001b[A\n",
      " 20%|██        | 200/1000 [00:07<00:28, 28.00it/s]\u001b[A\n",
      " 30%|███       | 300/1000 [00:10<00:24, 28.00it/s]\u001b[A\n",
      " 40%|████      | 400/1000 [00:14<00:21, 28.02it/s]\u001b[A\n",
      " 50%|█████     | 500/1000 [00:17<00:17, 28.00it/s]\u001b[A\n",
      " 60%|██████    | 600/1000 [00:21<00:14, 28.01it/s]\u001b[A\n",
      " 70%|███████   | 700/1000 [00:24<00:10, 28.02it/s]\u001b[A\n",
      " 80%|████████  | 800/1000 [00:28<00:07, 27.99it/s]\u001b[A\n",
      " 90%|█████████ | 900/1000 [00:32<00:03, 28.01it/s]\u001b[A\n",
      "100%|██████████| 1000/1000 [00:35<00:00, 28.00it/s]\u001b[A\n",
      "                                                   \u001b[A"
     ]
    },
    {
     "name": "stdout",
     "output_type": "stream",
     "text": [
      "subsampling for dataset 05_campaign...\n",
      "current noise type: None\n",
      "{'Samples': 10000, 'Features': 62, 'Anomalies': 1103, 'Anomalies Ratio(%)': 11.03}\n",
      "Experimento para dados normais\n"
     ]
    },
    {
     "name": "stderr",
     "output_type": "stream",
     "text": [
      "\n",
      "  0%|          | 0/1000 [00:00<?, ?it/s]\u001b[A\n",
      " 10%|█         | 100/1000 [00:03<00:33, 27.15it/s]\u001b[A\n",
      " 20%|██        | 200/1000 [00:07<00:29, 27.15it/s]\u001b[A\n",
      " 30%|███       | 300/1000 [00:11<00:25, 27.15it/s]\u001b[A\n",
      " 40%|████      | 400/1000 [00:14<00:22, 27.16it/s]\u001b[A\n",
      " 50%|█████     | 500/1000 [00:18<00:18, 27.15it/s]\u001b[A\n",
      " 60%|██████    | 600/1000 [00:22<00:14, 27.14it/s]\u001b[A\n",
      " 70%|███████   | 700/1000 [00:25<00:11, 27.12it/s]\u001b[A\n",
      " 80%|████████  | 800/1000 [00:29<00:07, 27.13it/s]\u001b[A\n",
      " 90%|█████████ | 900/1000 [00:33<00:03, 27.14it/s]\u001b[A\n",
      "100%|██████████| 1000/1000 [00:36<00:00, 27.14it/s]\u001b[A\n",
      "                                                   \u001b[A"
     ]
    },
    {
     "name": "stdout",
     "output_type": "stream",
     "text": [
      "subsampling for dataset 05_campaign...\n",
      "current noise type: None\n",
      "{'Samples': 10000, 'Features': 62, 'Anomalies': 1103, 'Anomalies Ratio(%)': 11.03}\n",
      "Experimento para dados normais\n"
     ]
    },
    {
     "name": "stderr",
     "output_type": "stream",
     "text": [
      "\n",
      "  0%|          | 0/1000 [00:00<?, ?it/s]\u001b[A\n",
      " 10%|█         | 100/1000 [00:03<00:35, 25.19it/s]\u001b[A\n",
      " 20%|██        | 200/1000 [00:07<00:31, 25.20it/s]\u001b[A\n",
      " 30%|███       | 300/1000 [00:11<00:27, 25.19it/s]\u001b[A\n",
      " 40%|████      | 400/1000 [00:15<00:23, 25.19it/s]\u001b[A\n",
      " 50%|█████     | 500/1000 [00:19<00:19, 25.18it/s]\u001b[A\n",
      " 60%|██████    | 600/1000 [00:23<00:15, 25.18it/s]\u001b[A\n",
      " 70%|███████   | 700/1000 [00:27<00:11, 25.18it/s]\u001b[A\n",
      " 80%|████████  | 800/1000 [00:31<00:07, 25.16it/s]\u001b[A\n",
      " 90%|█████████ | 900/1000 [00:35<00:03, 25.16it/s]\u001b[A\n",
      "100%|██████████| 1000/1000 [00:39<00:00, 25.17it/s]\u001b[A\n",
      "                                                   \u001b[A"
     ]
    },
    {
     "name": "stdout",
     "output_type": "stream",
     "text": [
      "subsampling for dataset 05_campaign...\n",
      "current noise type: None\n",
      "{'Samples': 10000, 'Features': 62, 'Anomalies': 1103, 'Anomalies Ratio(%)': 11.03}\n",
      "Experimento para dados normais\n"
     ]
    },
    {
     "name": "stderr",
     "output_type": "stream",
     "text": [
      "\n",
      "  0%|          | 0/1000 [00:00<?, ?it/s]\u001b[A\n",
      " 10%|█         | 100/1000 [00:03<00:32, 28.00it/s]\u001b[A\n",
      " 20%|██        | 200/1000 [00:07<00:28, 27.95it/s]\u001b[A\n",
      " 30%|███       | 300/1000 [00:10<00:25, 27.92it/s]\u001b[A\n",
      " 40%|████      | 400/1000 [00:14<00:21, 27.96it/s]\u001b[A\n",
      " 50%|█████     | 500/1000 [00:17<00:17, 27.97it/s]\u001b[A\n",
      " 60%|██████    | 600/1000 [00:21<00:14, 27.98it/s]\u001b[A\n",
      " 70%|███████   | 700/1000 [00:25<00:10, 27.99it/s]\u001b[A\n",
      " 80%|████████  | 800/1000 [00:28<00:07, 27.99it/s]\u001b[A\n",
      " 90%|█████████ | 900/1000 [00:32<00:03, 28.00it/s]\u001b[A\n",
      "100%|██████████| 1000/1000 [00:36<00:00, 26.82it/s]\u001b[A\n",
      "                                                   \u001b[A"
     ]
    },
    {
     "name": "stdout",
     "output_type": "stream",
     "text": [
      "subsampling for dataset 05_campaign...\n",
      "current noise type: None\n",
      "{'Samples': 10000, 'Features': 62, 'Anomalies': 1103, 'Anomalies Ratio(%)': 11.03}\n",
      "Experimento para dados normais\n"
     ]
    },
    {
     "name": "stderr",
     "output_type": "stream",
     "text": [
      "\n",
      "  0%|          | 0/1000 [00:00<?, ?it/s]\u001b[A\n",
      " 10%|█         | 100/1000 [00:03<00:35, 25.59it/s]\u001b[A\n",
      " 20%|██        | 200/1000 [00:07<00:30, 26.49it/s]\u001b[A\n",
      " 30%|███       | 300/1000 [00:11<00:26, 26.78it/s]\u001b[A\n",
      " 40%|████      | 400/1000 [00:14<00:22, 26.92it/s]\u001b[A\n",
      " 50%|█████     | 500/1000 [00:18<00:18, 26.98it/s]\u001b[A\n",
      " 60%|██████    | 600/1000 [00:22<00:14, 27.03it/s]\u001b[A\n",
      " 70%|███████   | 700/1000 [00:26<00:11, 27.05it/s]\u001b[A\n",
      " 80%|████████  | 800/1000 [00:29<00:07, 27.07it/s]\u001b[A\n",
      " 90%|█████████ | 900/1000 [00:33<00:03, 27.10it/s]\u001b[A\n",
      "100%|██████████| 1000/1000 [00:37<00:00, 27.11it/s]\u001b[A\n",
      "                                                   \u001b[A"
     ]
    },
    {
     "name": "stdout",
     "output_type": "stream",
     "text": [
      "subsampling for dataset 05_campaign...\n",
      "current noise type: None\n",
      "{'Samples': 10000, 'Features': 62, 'Anomalies': 1103, 'Anomalies Ratio(%)': 11.03}\n",
      "Experimento para dados normais\n"
     ]
    },
    {
     "name": "stderr",
     "output_type": "stream",
     "text": [
      "\n",
      "  0%|          | 0/1000 [00:00<?, ?it/s]\u001b[A\n",
      " 10%|█         | 100/1000 [00:03<00:35, 25.19it/s]\u001b[A\n",
      " 20%|██        | 200/1000 [00:07<00:31, 25.19it/s]\u001b[A\n",
      " 30%|███       | 300/1000 [00:11<00:27, 25.19it/s]\u001b[A\n",
      " 40%|████      | 400/1000 [00:15<00:23, 25.19it/s]\u001b[A\n",
      " 50%|█████     | 500/1000 [00:19<00:19, 25.19it/s]\u001b[A\n",
      " 60%|██████    | 600/1000 [00:23<00:15, 25.18it/s]\u001b[A\n",
      " 70%|███████   | 700/1000 [00:27<00:11, 25.19it/s]\u001b[A\n",
      " 80%|████████  | 800/1000 [00:31<00:07, 25.17it/s]\u001b[A\n",
      " 90%|█████████ | 900/1000 [00:35<00:03, 25.12it/s]\u001b[A\n",
      "100%|██████████| 1000/1000 [00:39<00:00, 25.13it/s]\u001b[A\n",
      "                                                   \u001b[A"
     ]
    },
    {
     "name": "stdout",
     "output_type": "stream",
     "text": [
      "subsampling for dataset 05_campaign...\n",
      "current noise type: None\n",
      "{'Samples': 10000, 'Features': 62, 'Anomalies': 1103, 'Anomalies Ratio(%)': 11.03}\n",
      "Experimento para dados normais\n"
     ]
    },
    {
     "name": "stderr",
     "output_type": "stream",
     "text": [
      "\n",
      "  0%|          | 0/1000 [00:00<?, ?it/s]\u001b[A\n",
      " 10%|█         | 100/1000 [00:03<00:32, 27.57it/s]\u001b[A\n",
      " 20%|██        | 200/1000 [00:07<00:29, 27.48it/s]\u001b[A\n",
      " 30%|███       | 300/1000 [00:10<00:25, 27.51it/s]\u001b[A\n",
      " 40%|████      | 400/1000 [00:14<00:21, 27.53it/s]\u001b[A\n",
      " 50%|█████     | 500/1000 [00:18<00:18, 27.53it/s]\u001b[A\n",
      " 60%|██████    | 600/1000 [00:21<00:14, 27.53it/s]\u001b[A\n",
      " 70%|███████   | 700/1000 [00:25<00:10, 27.54it/s]\u001b[A\n",
      " 80%|████████  | 800/1000 [00:29<00:07, 27.55it/s]\u001b[A\n",
      " 90%|█████████ | 900/1000 [00:32<00:03, 27.56it/s]\u001b[A\n",
      "100%|██████████| 1000/1000 [00:36<00:00, 27.56it/s]\u001b[A\n",
      "                                                   \u001b[A"
     ]
    },
    {
     "name": "stdout",
     "output_type": "stream",
     "text": [
      "subsampling for dataset 05_campaign...\n",
      "current noise type: None\n",
      "{'Samples': 10000, 'Features': 62, 'Anomalies': 1103, 'Anomalies Ratio(%)': 11.03}\n",
      "Experimento para dados normais\n"
     ]
    },
    {
     "name": "stderr",
     "output_type": "stream",
     "text": [
      "\n",
      "  0%|          | 0/1000 [00:00<?, ?it/s]\u001b[A\n",
      " 10%|█         | 100/1000 [00:03<00:33, 26.63it/s]\u001b[A\n",
      " 20%|██        | 200/1000 [00:07<00:30, 26.61it/s]\u001b[A\n",
      " 30%|███       | 300/1000 [00:11<00:26, 26.60it/s]\u001b[A\n",
      " 40%|████      | 400/1000 [00:15<00:22, 26.60it/s]\u001b[A\n",
      " 50%|█████     | 500/1000 [00:18<00:18, 26.59it/s]\u001b[A\n",
      " 60%|██████    | 600/1000 [00:22<00:15, 26.55it/s]\u001b[A\n",
      " 70%|███████   | 700/1000 [00:26<00:11, 26.56it/s]\u001b[A\n",
      " 80%|████████  | 800/1000 [00:30<00:07, 26.54it/s]\u001b[A\n",
      " 90%|█████████ | 900/1000 [00:33<00:03, 26.56it/s]\u001b[A\n",
      "100%|██████████| 1000/1000 [00:37<00:00, 26.57it/s]\u001b[A\n",
      "                                                   \u001b[A"
     ]
    },
    {
     "name": "stdout",
     "output_type": "stream",
     "text": [
      "subsampling for dataset 05_campaign...\n",
      "current noise type: None\n",
      "{'Samples': 10000, 'Features': 62, 'Anomalies': 1103, 'Anomalies Ratio(%)': 11.03}\n",
      "Experimento para dados normais\n"
     ]
    },
    {
     "name": "stderr",
     "output_type": "stream",
     "text": [
      "\n",
      "  0%|          | 0/1000 [00:00<?, ?it/s]\u001b[A\n",
      " 10%|█         | 100/1000 [00:04<00:36, 24.79it/s]\u001b[A\n",
      " 20%|██        | 200/1000 [00:08<00:32, 24.77it/s]\u001b[A\n",
      " 30%|███       | 300/1000 [00:12<00:28, 24.77it/s]\u001b[A\n",
      " 40%|████      | 400/1000 [00:16<00:24, 24.75it/s]\u001b[A\n",
      " 50%|█████     | 500/1000 [00:20<00:21, 23.29it/s]\u001b[A\n",
      " 60%|██████    | 600/1000 [00:25<00:17, 22.69it/s]\u001b[A\n",
      " 70%|███████   | 700/1000 [00:29<00:12, 23.33it/s]\u001b[A\n",
      " 80%|████████  | 800/1000 [00:33<00:08, 23.77it/s]\u001b[A\n",
      " 90%|█████████ | 900/1000 [00:37<00:04, 24.05it/s]\u001b[A\n",
      "100%|██████████| 1000/1000 [00:41<00:00, 24.27it/s]\u001b[A\n",
      "                                                   \u001b[A"
     ]
    },
    {
     "name": "stdout",
     "output_type": "stream",
     "text": [
      "subsampling for dataset 05_campaign...\n",
      "current noise type: None\n",
      "{'Samples': 10000, 'Features': 62, 'Anomalies': 1103, 'Anomalies Ratio(%)': 11.03}\n",
      "Experimento para dados normais\n"
     ]
    },
    {
     "name": "stderr",
     "output_type": "stream",
     "text": [
      "\n",
      "  0%|          | 0/1000 [00:00<?, ?it/s]\u001b[A\n",
      " 10%|█         | 100/1000 [00:06<00:54, 16.45it/s]\u001b[A\n",
      " 20%|██        | 200/1000 [00:12<00:48, 16.48it/s]\u001b[A\n",
      " 30%|███       | 300/1000 [00:18<00:42, 16.50it/s]\u001b[A\n",
      " 40%|████      | 400/1000 [00:24<00:36, 16.51it/s]\u001b[A\n",
      " 50%|█████     | 500/1000 [00:30<00:30, 16.51it/s]\u001b[A\n",
      " 60%|██████    | 600/1000 [00:36<00:24, 16.51it/s]\u001b[A\n",
      " 70%|███████   | 700/1000 [00:42<00:18, 16.51it/s]\u001b[A\n",
      " 80%|████████  | 800/1000 [00:48<00:12, 16.51it/s]\u001b[A\n",
      " 90%|█████████ | 900/1000 [00:54<00:06, 16.51it/s]\u001b[A\n",
      "100%|██████████| 1000/1000 [01:00<00:00, 16.51it/s]\u001b[A\n",
      "                                                   \u001b[A"
     ]
    },
    {
     "name": "stdout",
     "output_type": "stream",
     "text": [
      "subsampling for dataset 05_campaign...\n",
      "current noise type: None\n",
      "{'Samples': 10000, 'Features': 62, 'Anomalies': 1103, 'Anomalies Ratio(%)': 11.03}\n",
      "Experimento para dados normais\n"
     ]
    },
    {
     "name": "stderr",
     "output_type": "stream",
     "text": [
      "\n",
      "  0%|          | 0/1000 [00:00<?, ?it/s]\u001b[A\n",
      " 10%|█         | 100/1000 [00:06<00:55, 16.15it/s]\u001b[A\n",
      " 20%|██        | 200/1000 [00:12<00:49, 16.19it/s]\u001b[A\n",
      " 30%|███       | 300/1000 [00:18<00:43, 16.20it/s]\u001b[A\n",
      " 40%|████      | 400/1000 [00:24<00:37, 16.20it/s]\u001b[A\n",
      " 50%|█████     | 500/1000 [00:30<00:30, 16.19it/s]\u001b[A\n",
      " 60%|██████    | 600/1000 [00:37<00:24, 16.19it/s]\u001b[A\n",
      " 70%|███████   | 700/1000 [00:43<00:18, 16.20it/s]\u001b[A\n",
      " 80%|████████  | 800/1000 [00:49<00:12, 16.20it/s]\u001b[A\n",
      " 90%|█████████ | 900/1000 [00:55<00:06, 16.16it/s]\u001b[A\n",
      "100%|██████████| 1000/1000 [01:01<00:00, 16.17it/s]\u001b[A\n",
      "                                                   \u001b[A"
     ]
    },
    {
     "name": "stdout",
     "output_type": "stream",
     "text": [
      "subsampling for dataset 05_campaign...\n",
      "current noise type: None\n",
      "{'Samples': 10000, 'Features': 62, 'Anomalies': 1103, 'Anomalies Ratio(%)': 11.03}\n",
      "Experimento para dados normais\n"
     ]
    },
    {
     "name": "stderr",
     "output_type": "stream",
     "text": [
      "\n",
      "  0%|          | 0/1000 [00:00<?, ?it/s]\u001b[A\n",
      " 10%|█         | 100/1000 [00:06<00:58, 15.43it/s]\u001b[A\n",
      " 20%|██        | 200/1000 [00:12<00:51, 15.47it/s]\u001b[A\n",
      " 30%|███       | 300/1000 [00:19<00:45, 15.48it/s]\u001b[A\n",
      " 40%|████      | 400/1000 [00:25<00:38, 15.49it/s]\u001b[A\n",
      " 50%|█████     | 500/1000 [00:32<00:33, 14.97it/s]\u001b[A\n",
      " 60%|██████    | 600/1000 [00:39<00:26, 15.06it/s]\u001b[A\n",
      " 70%|███████   | 700/1000 [00:45<00:19, 15.20it/s]\u001b[A\n",
      " 80%|████████  | 800/1000 [00:52<00:13, 15.30it/s]\u001b[A\n",
      " 90%|█████████ | 900/1000 [00:58<00:06, 15.36it/s]\u001b[A\n",
      "100%|██████████| 1000/1000 [01:05<00:00, 15.39it/s]\u001b[A\n",
      "                                                   \u001b[A"
     ]
    },
    {
     "name": "stdout",
     "output_type": "stream",
     "text": [
      "subsampling for dataset 05_campaign...\n",
      "current noise type: None\n",
      "{'Samples': 10000, 'Features': 62, 'Anomalies': 1103, 'Anomalies Ratio(%)': 11.03}\n",
      "Experimento para dados normais\n"
     ]
    },
    {
     "name": "stderr",
     "output_type": "stream",
     "text": [
      "\n",
      "  0%|          | 0/1000 [00:00<?, ?it/s]\u001b[A\n",
      " 10%|█         | 100/1000 [00:06<00:54, 16.47it/s]\u001b[A\n",
      " 20%|██        | 200/1000 [00:12<00:48, 16.48it/s]\u001b[A\n",
      " 30%|███       | 300/1000 [00:18<00:42, 16.48it/s]\u001b[A\n",
      " 40%|████      | 400/1000 [00:24<00:36, 16.49it/s]\u001b[A\n",
      " 50%|█████     | 500/1000 [00:30<00:30, 16.49it/s]\u001b[A\n",
      " 60%|██████    | 600/1000 [00:36<00:24, 16.49it/s]\u001b[A\n",
      " 70%|███████   | 700/1000 [00:42<00:18, 16.48it/s]\u001b[A\n",
      " 80%|████████  | 800/1000 [00:48<00:12, 16.48it/s]\u001b[A\n",
      " 90%|█████████ | 900/1000 [00:54<00:06, 16.47it/s]\u001b[A\n",
      "100%|██████████| 1000/1000 [01:00<00:00, 16.47it/s]\u001b[A\n",
      "                                                   \u001b[A"
     ]
    },
    {
     "name": "stdout",
     "output_type": "stream",
     "text": [
      "subsampling for dataset 05_campaign...\n",
      "current noise type: None\n",
      "{'Samples': 10000, 'Features': 62, 'Anomalies': 1103, 'Anomalies Ratio(%)': 11.03}\n",
      "Experimento para dados normais\n"
     ]
    },
    {
     "name": "stderr",
     "output_type": "stream",
     "text": [
      "\n",
      "  0%|          | 0/1000 [00:00<?, ?it/s]\u001b[A\n",
      " 10%|█         | 100/1000 [00:06<00:55, 16.14it/s]\u001b[A\n",
      " 20%|██        | 200/1000 [00:12<00:49, 16.15it/s]\u001b[A\n",
      " 30%|███       | 300/1000 [00:18<00:43, 16.16it/s]\u001b[A\n",
      " 40%|████      | 400/1000 [00:24<00:37, 16.15it/s]\u001b[A\n",
      " 50%|█████     | 500/1000 [00:30<00:30, 16.14it/s]\u001b[A\n",
      " 60%|██████    | 600/1000 [00:37<00:24, 16.15it/s]\u001b[A\n",
      " 70%|███████   | 700/1000 [00:43<00:18, 16.15it/s]\u001b[A\n",
      " 80%|████████  | 800/1000 [00:49<00:12, 16.15it/s]\u001b[A"
     ]
    }
   ],
   "source": [
    "EXPERIMENTS_FILE = \"experiments/refine/001_complete_normal_study.json\"\n",
    "OUTPUT_FILE = \"experiments/refine/001_complete_normal_study_results.json\"\n",
    "OUTPUT_FAIL_FILE = \"experiments/refine/001_complete_normal_study_failed.json\"\n",
    "with open(EXPERIMENTS_FILE) as file:\n",
    "    experiments = json.load(file)\n",
    "failed_experiments = []\n",
    "\n",
    "for experiment in tqdm_notebook(experiments):\n",
    "    Y_train, Y_test, lb_train, lb_test = create_dataframe(experiment)\n",
    "    n_train = len(Y_train)\n",
    "    data_dim = Y_train.shape[1]\n",
    "    kernel = experiment[\"kernel\"]\n",
    "    latent_dim = int(experiment[\"latent_dim\"])\n",
    "    nn_layers = tuple(map(int, experiment[\"layers\"].split(\",\")))\n",
    "    n_inducing = int(experiment[\"n_inducing\"])\n",
    "    n_epochs = int(experiment[\"n_epochs\"])\n",
    "    lr = float(experiment[\"learning_rate\"])\n",
    "    batch_size = int(experiment[\"batch_size\"])\n",
    "\n",
    "    try:\n",
    "        gplvm = AD_GPLVM(latent_dim, n_inducing, n_epochs, nn_layers, lr, batch_size)\n",
    "        \n",
    "        # Fitting the Model\n",
    "        train_start_time = time.time()\n",
    "        gplvm.fit(Y_train)\n",
    "        train_end_time = time.time()\n",
    "        \n",
    "        \n",
    "        # Validating the Model\n",
    "        validation_score = gplvm.calculate_train_elbo(Y_train)\n",
    "        \n",
    "        # Results\n",
    "        pred_start_time = time.time()\n",
    "        test_score = gplvm.predict_score(Y_test)\n",
    "        pred_end_time = time.time()\n",
    "        \n",
    "        #Save Metrics\n",
    "        metrics = utils.metric(y_true=lb_test, y_score=test_score)       \n",
    "        experiment[\"elbo\"] = validation_score\n",
    "        experiment[\"loss_list\"] = gplvm.loss_list\n",
    "        experiment[\"auc_roc\"] = metrics[\"aucroc\"]\n",
    "        experiment[\"auc_pr\"] = metrics[\"aucpr\"]\n",
    "        experiment[\"training_time\"] =  train_end_time -train_start_time\n",
    "        experiment[\"inference_time\"] =  pred_end_time - pred_start_time\n",
    "        \n",
    "        with open(OUTPUT_FILE, \"w\") as file:\n",
    "            json.dump(experiments, file)\n",
    "    \n",
    "    except:\n",
    "        experiment[\"auc_roc\"] = 0.0\n",
    "        experiment[\"auc_pr\"] = 0.0\n",
    "        failed_experiments.append(experiment)\n",
    "        with open(OUTPUT_FILE, \"w\") as file:\n",
    "            json.dump(failed_experiments, file)"
   ]
  },
  {
   "cell_type": "code",
   "execution_count": null,
   "id": "a4ae3e69-3be8-410e-b8d0-85c4b5a97a48",
   "metadata": {},
   "outputs": [],
   "source": []
  }
 ],
 "metadata": {
  "kernelspec": {
   "display_name": "conda_pytorch_p310",
   "language": "python",
   "name": "conda_pytorch_p310"
  },
  "language_info": {
   "codemirror_mode": {
    "name": "ipython",
    "version": 3
   },
   "file_extension": ".py",
   "mimetype": "text/x-python",
   "name": "python",
   "nbconvert_exporter": "python",
   "pygments_lexer": "ipython3",
   "version": "3.10.13"
  }
 },
 "nbformat": 4,
 "nbformat_minor": 5
}
